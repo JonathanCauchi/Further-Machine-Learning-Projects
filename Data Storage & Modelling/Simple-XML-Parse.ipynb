{
 "cells": [
  {
   "cell_type": "markdown",
   "metadata": {},
   "source": [
    "### Parsing Male XML files and Female XML files separately"
   ]
  },
  {
   "cell_type": "code",
   "execution_count": 173,
   "metadata": {},
   "outputs": [],
   "source": [
    "import glob\n",
    "path =r'/home/joncauchi/Desktop/NLP/blogs'  \n",
    "male = glob.glob(path+'/*.male.*')\n",
    "female = glob.glob(path+'/*.female.*')"
   ]
  },
  {
   "cell_type": "code",
   "execution_count": 174,
   "metadata": {},
   "outputs": [
    {
     "name": "stdout",
     "output_type": "stream",
     "text": [
      "1449\n",
      "1635\n"
     ]
    }
   ],
   "source": [
    "print(len(female))\n",
    "print(len(male))"
   ]
  },
  {
   "cell_type": "code",
   "execution_count": 175,
   "metadata": {},
   "outputs": [
    {
     "data": {
      "text/plain": [
       "'/home/joncauchi/Desktop/NLP/blogs/2895658.male.15.Government.Scorpio.xml'"
      ]
     },
     "execution_count": 175,
     "metadata": {},
     "output_type": "execute_result"
    }
   ],
   "source": [
    "male[0]"
   ]
  },
  {
   "cell_type": "code",
   "execution_count": 176,
   "metadata": {},
   "outputs": [
    {
     "data": {
      "text/plain": [
       "'/home/joncauchi/Desktop/NLP/blogs/2578102.female.15.Student.Capricorn.xml'"
      ]
     },
     "execution_count": 176,
     "metadata": {},
     "output_type": "execute_result"
    }
   ],
   "source": [
    "female[10]"
   ]
  },
  {
   "cell_type": "code",
   "execution_count": 177,
   "metadata": {},
   "outputs": [
    {
     "name": "stdout",
     "output_type": "stream",
     "text": [
      "/home/joncauchi/Desktop/NLP/blogs/2001020.female.24.Student.Libra.xml\n",
      "/home/joncauchi/Desktop/NLP/blogs/2577859.female.25.indUnk.Sagittarius.xml\n",
      "/home/joncauchi/Desktop/NLP/blogs/1657422.female.24.indUnk.Pisces.xml\n",
      "/home/joncauchi/Desktop/NLP/blogs/1756743.female.36.indUnk.Virgo.xml\n",
      "/home/joncauchi/Desktop/NLP/blogs/2190377.female.16.Student.Gemini.xml\n",
      "/home/joncauchi/Desktop/NLP/blogs/1278138.female.26.Education.Pisces.xml\n",
      "/home/joncauchi/Desktop/NLP/blogs/232317.female.25.Communications-Media.Virgo.xml\n",
      "/home/joncauchi/Desktop/NLP/blogs/1662996.female.17.Student.Gemini.xml\n",
      "/home/joncauchi/Desktop/NLP/blogs/2844168.female.27.Marketing.Aquarius.xml\n",
      "/home/joncauchi/Desktop/NLP/blogs/1703038.female.24.Student.Leo.xml\n"
     ]
    }
   ],
   "source": [
    "for i in range(10):\n",
    "    print(female[i])"
   ]
  }
 ],
 "metadata": {
  "kernelspec": {
   "display_name": "Python 3",
   "language": "python",
   "name": "python3"
  },
  "language_info": {
   "codemirror_mode": {
    "name": "ipython",
    "version": 3
   },
   "file_extension": ".py",
   "mimetype": "text/x-python",
   "name": "python",
   "nbconvert_exporter": "python",
   "pygments_lexer": "ipython3",
   "version": "3.7.3"
  }
 },
 "nbformat": 4,
 "nbformat_minor": 4
}

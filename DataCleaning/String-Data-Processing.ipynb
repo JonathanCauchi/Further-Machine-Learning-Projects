{
 "cells": [
  {
   "cell_type": "code",
   "execution_count": 1,
   "metadata": {},
   "outputs": [
    {
     "name": "stdout",
     "output_type": "stream",
     "text": [
      "3.4.5\n"
     ]
    }
   ],
   "source": [
    "# required for inlining images\n",
    "%matplotlib inline \n",
    "\n",
    "import matplotlib.pyplot as plt\n",
    "import numpy as np\n",
    "\n",
    "import nltk\n",
    "print(nltk.__version__)\n",
    "\n",
    "from nltk.tokenize import *\n",
    "from nltk.corpus import stopwords\n",
    "from nltk.stem.porter import PorterStemmer\n",
    "from nltk.stem.wordnet import WordNetLemmatizer\n",
    "from nltk.probability import FreqDist\n",
    "\n",
    "from IPython.display import HTML # inline display of foreign HTML"
   ]
  },
  {
   "cell_type": "code",
   "execution_count": 2,
   "metadata": {},
   "outputs": [],
   "source": [
    "# read whole file -- don't do this for big files\n",
    "f = open('clean')\n",
    "titles = f.read() # also we never close f -- bad"
   ]
  },
  {
   "cell_type": "code",
   "execution_count": 3,
   "metadata": {},
   "outputs": [
    {
     "data": {
      "text/plain": [
       "['MI5', \"'secretly\", 'collected', 'phone', 'data', \"'\", 'for']"
      ]
     },
     "execution_count": 3,
     "metadata": {},
     "output_type": "execute_result"
    }
   ],
   "source": [
    "word_tokenize(titles)[:7]"
   ]
  },
  {
   "cell_type": "code",
   "execution_count": 4,
   "metadata": {},
   "outputs": [
    {
     "name": "stdout",
     "output_type": "stream",
     "text": [
      "1620\n",
      "['mi5', 'secretly', 'collected', 'phone', 'data', 'for', 'decade']\n"
     ]
    }
   ],
   "source": [
    "tokenizer = RegexpTokenizer(r'\\w+')\n",
    "words = tokenizer.tokenize(titles.lower())\n",
    "print(len(words))\n",
    "print(words[:7])"
   ]
  },
  {
   "cell_type": "code",
   "execution_count": 5,
   "metadata": {},
   "outputs": [
    {
     "name": "stdout",
     "output_type": "stream",
     "text": [
      "['i', 'me', 'my', 'myself', 'we', 'our', 'ours', 'ourselves', 'you', \"you're\"]\n",
      "1174\n",
      "['mi5', 'secretly', 'collected', 'phone', 'data', 'decade', 'grsecurity']\n"
     ]
    }
   ],
   "source": [
    "filtered_words = [word for word in words if word not in stopwords.words('english')]\n",
    "print(stopwords.words('english')[:10])\n",
    "print(len(filtered_words))\n",
    "print(filtered_words[:7])"
   ]
  },
  {
   "cell_type": "code",
   "execution_count": 6,
   "metadata": {},
   "outputs": [
    {
     "name": "stdout",
     "output_type": "stream",
     "text": [
      "853   893\n"
     ]
    }
   ],
   "source": [
    "porter = PorterStemmer()\n",
    "wordnet = WordNetLemmatizer()\n",
    "\n",
    "stem_list = []\n",
    "lemma_list = []\n",
    "for w in filtered_words:\n",
    "    stem_list.append(porter.stem(w))\n",
    "    lemma_list.append(wordnet.lemmatize(w))\n",
    "print(len(set(stem_list)), \" \", len(set(lemma_list)))"
   ]
  },
  {
   "cell_type": "code",
   "execution_count": 7,
   "metadata": {},
   "outputs": [
    {
     "name": "stdout",
     "output_type": "stream",
     "text": [
      "are\n",
      "is\n",
      "be\n",
      "be\n"
     ]
    }
   ],
   "source": [
    "print(wordnet.lemmatize('are'))\n",
    "print(wordnet.lemmatize('is'))\n",
    "print(wordnet.lemmatize('are', 'v'))\n",
    "print(wordnet.lemmatize('is', 'v'))"
   ]
  },
  {
   "cell_type": "code",
   "execution_count": 8,
   "metadata": {},
   "outputs": [
    {
     "data": {
      "text/plain": [
       "[('Jean-Paul', 'NNP'),\n",
       " ('drives', 'VBZ'),\n",
       " ('a', 'DT'),\n",
       " ('black', 'JJ'),\n",
       " ('car', 'NN')]"
      ]
     },
     "execution_count": 8,
     "metadata": {},
     "output_type": "execute_result"
    }
   ],
   "source": [
    "text = word_tokenize(\"Jean-Paul drives a black car\")\n",
    "nltk.pos_tag(text)"
   ]
  },
  {
   "cell_type": "code",
   "execution_count": 9,
   "metadata": {},
   "outputs": [
    {
     "data": {
      "text/html": [
       "<html>\r\n",
       "<head>\r\n",
       "<title>Penn Treebank P.O.S. Tags</title>\r\n",
       "<meta http-equiv=\"Content-Type\" content=\"text/html; charset=iso-8859-1\">\r\n",
       "</head>\r\n",
       "\r\n",
       "<body bgcolor=\"#FFFFFF\">\r\n",
       "<h3>Alphabetical list of part-of-speech tags used in the Penn Treebank Project:</h3>\r\n",
       "<table cellpadding=\"2\" cellspacing=\"2\" border=\"0\">\r\n",
       "  <tr bgcolor=\"#DFDFFF\" align=\"none\"> \r\n",
       "    <td align=\"none\"> \r\n",
       "      <div align=\"left\">Number</div>\r\n",
       "    </td>\r\n",
       "    <td> \r\n",
       "      <div align=\"left\">Tag</div>\r\n",
       "    </td>\r\n",
       "    <td> \r\n",
       "      <div align=\"left\">Description</div>\r\n",
       "    </td>\r\n",
       "  </tr>\r\n",
       "  <tr bgcolor=\"#FFFFCA\"> \r\n",
       "    <td align=\"none\"> 1. </td>\r\n",
       "    <td>CC </td>\r\n",
       "    <td>Coordinating conjunction </td>\r\n",
       "  </tr>\r\n",
       "  <tr bgcolor=\"#FFFFCA\"> \r\n",
       "    <td align=\"none\"> 2. </td>\r\n",
       "    <td>CD </td>\r\n",
       "    <td>Cardinal number </td>\r\n",
       "  </tr>\r\n",
       "  <tr bgcolor=\"#FFFFCA\"> \r\n",
       "    <td align=\"none\"> 3. </td>\r\n",
       "    <td>DT </td>\r\n",
       "    <td>Determiner </td>\r\n",
       "  </tr>\r\n",
       "  <tr bgcolor=\"#FFFFCA\"> \r\n",
       "    <td align=\"none\"> 4. </td>\r\n",
       "    <td>EX </td>\r\n",
       "    <td>Existential <i>there<i> </i></i></td>\r\n",
       "  </tr>\r\n",
       "  <tr bgcolor=\"#FFFFCA\"> \r\n",
       "    <td align=\"none\"> 5. </td>\r\n",
       "    <td>FW </td>\r\n",
       "    <td>Foreign word </td>\r\n",
       "  </tr>\r\n",
       "  <tr bgcolor=\"#FFFFCA\"> \r\n",
       "    <td align=\"none\"> 6. </td>\r\n",
       "    <td>IN </td>\r\n",
       "    <td>Preposition or subordinating conjunction </td>\r\n",
       "  </tr>\r\n",
       "  <tr bgcolor=\"#FFFFCA\"> \r\n",
       "    <td align=\"none\"> 7. </td>\r\n",
       "    <td>JJ </td>\r\n",
       "    <td>Adjective </td>\r\n",
       "  </tr>\r\n",
       "  <tr bgcolor=\"#FFFFCA\"> \r\n",
       "    <td align=\"none\"> 8. </td>\r\n",
       "    <td>JJR </td>\r\n",
       "    <td>Adjective, comparative </td>\r\n",
       "  </tr>\r\n",
       "  <tr bgcolor=\"#FFFFCA\"> \r\n",
       "    <td align=\"none\"> 9. </td>\r\n",
       "    <td>JJS </td>\r\n",
       "    <td>Adjective, superlative </td>\r\n",
       "  </tr>\r\n",
       "  <tr bgcolor=\"#FFFFCA\"> \r\n",
       "    <td align=\"none\"> 10. </td>\r\n",
       "    <td>LS </td>\r\n",
       "    <td>List item marker </td>\r\n",
       "  </tr>\r\n",
       "  <tr bgcolor=\"#FFFFCA\"> \r\n",
       "    <td align=\"none\"> 11. </td>\r\n",
       "    <td>MD </td>\r\n",
       "    <td>Modal </td>\r\n",
       "  </tr>\r\n",
       "  <tr bgcolor=\"#FFFFCA\"> \r\n",
       "    <td align=\"none\"> 12. </td>\r\n",
       "    <td>NN </td>\r\n",
       "    <td>Noun, singular or mass </td>\r\n",
       "  </tr>\r\n",
       "  <tr bgcolor=\"#FFFFCA\"> \r\n",
       "    <td align=\"none\"> 13. </td>\r\n",
       "    <td>NNS </td>\r\n",
       "    <td>Noun, plural </td>\r\n",
       "  </tr>\r\n",
       "  <tr bgcolor=\"#FFFFCA\"> \r\n",
       "    <td align=\"none\"> 14. </td>\r\n",
       "    <td>NNP </td>\r\n",
       "    <td>Proper noun, singular </td>\r\n",
       "  </tr>\r\n",
       "  <tr bgcolor=\"#FFFFCA\"> \r\n",
       "    <td align=\"none\"> 15. </td>\r\n",
       "    <td>NNPS </td>\r\n",
       "    <td>Proper noun, plural </td>\r\n",
       "  </tr>\r\n",
       "  <tr bgcolor=\"#FFFFCA\"> \r\n",
       "    <td align=\"none\"> 16. </td>\r\n",
       "    <td>PDT </td>\r\n",
       "    <td>Predeterminer </td>\r\n",
       "  </tr>\r\n",
       "  <tr bgcolor=\"#FFFFCA\"> \r\n",
       "    <td align=\"none\"> 17. </td>\r\n",
       "    <td>POS </td>\r\n",
       "    <td>Possessive ending </td>\r\n",
       "  </tr>\r\n",
       "  <tr bgcolor=\"#FFFFCA\"> \r\n",
       "    <td align=\"none\"> 18. </td>\r\n",
       "    <td>PRP </td>\r\n",
       "    <td>Personal pronoun </td>\r\n",
       "  </tr>\r\n",
       "  <tr bgcolor=\"#FFFFCA\"> \r\n",
       "    <td align=\"none\"> 19. </td>\r\n",
       "    <td>PRP$ </td>\r\n",
       "    <td>Possessive pronoun </td>\r\n",
       "  </tr>\r\n",
       "  <tr bgcolor=\"#FFFFCA\"> \r\n",
       "    <td align=\"none\"> 20. </td>\r\n",
       "    <td>RB </td>\r\n",
       "    <td>Adverb </td>\r\n",
       "  </tr>\r\n",
       "  <tr bgcolor=\"#FFFFCA\"> \r\n",
       "    <td align=\"none\"> 21. </td>\r\n",
       "    <td>RBR </td>\r\n",
       "    <td>Adverb, comparative </td>\r\n",
       "  </tr>\r\n",
       "  <tr bgcolor=\"#FFFFCA\"> \r\n",
       "    <td align=\"none\"> 22. </td>\r\n",
       "    <td>RBS </td>\r\n",
       "    <td>Adverb, superlative </td>\r\n",
       "  </tr>\r\n",
       "  <tr bgcolor=\"#FFFFCA\"> \r\n",
       "    <td align=\"none\"> 23. </td>\r\n",
       "    <td>RP </td>\r\n",
       "    <td>Particle </td>\r\n",
       "  </tr>\r\n",
       "  <tr bgcolor=\"#FFFFCA\"> \r\n",
       "    <td align=\"none\"> 24. </td>\r\n",
       "    <td>SYM </td>\r\n",
       "    <td>Symbol </td>\r\n",
       "  </tr>\r\n",
       "  <tr bgcolor=\"#FFFFCA\"> \r\n",
       "    <td align=\"none\"> 25. </td>\r\n",
       "    <td>TO </td>\r\n",
       "    <td><i>to</i> </td>\r\n",
       "  </tr>\r\n",
       "  <tr bgcolor=\"#FFFFCA\"> \r\n",
       "    <td align=\"none\"> 26. </td>\r\n",
       "    <td>UH </td>\r\n",
       "    <td>Interjection </td>\r\n",
       "  </tr>\r\n",
       "  <tr bgcolor=\"#FFFFCA\"> \r\n",
       "    <td align=\"none\"> 27. </td>\r\n",
       "    <td>VB </td>\r\n",
       "    <td>Verb, base form </td>\r\n",
       "  </tr>\r\n",
       "  <tr bgcolor=\"#FFFFCA\"> \r\n",
       "    <td align=\"none\"> 28. </td>\r\n",
       "    <td>VBD </td>\r\n",
       "    <td>Verb, past tense </td>\r\n",
       "  </tr>\r\n",
       "  <tr bgcolor=\"#FFFFCA\"> \r\n",
       "    <td align=\"none\"> 29. </td>\r\n",
       "    <td>VBG </td>\r\n",
       "    <td>Verb, gerund or present participle </td>\r\n",
       "  </tr>\r\n",
       "  <tr bgcolor=\"#FFFFCA\"> \r\n",
       "    <td align=\"none\"> 30. </td>\r\n",
       "    <td>VBN </td>\r\n",
       "    <td>Verb, past participle </td>\r\n",
       "  </tr>\r\n",
       "  <tr bgcolor=\"#FFFFCA\"> \r\n",
       "    <td align=\"none\"> 31. </td>\r\n",
       "    <td>VBP </td>\r\n",
       "    <td>Verb, non-3rd person singular present </td>\r\n",
       "  </tr>\r\n",
       "  <tr bgcolor=\"#FFFFCA\"> \r\n",
       "    <td align=\"none\"> 32. </td>\r\n",
       "    <td>VBZ </td>\r\n",
       "    <td>Verb, 3rd person singular present </td>\r\n",
       "  </tr>\r\n",
       "  <tr bgcolor=\"#FFFFCA\"> \r\n",
       "    <td align=\"none\"> 33. </td>\r\n",
       "    <td>WDT </td>\r\n",
       "    <td>Wh-determiner </td>\r\n",
       "  </tr>\r\n",
       "  <tr bgcolor=\"#FFFFCA\"> \r\n",
       "    <td align=\"none\"> 34. </td>\r\n",
       "    <td>WP </td>\r\n",
       "    <td>Wh-pronoun </td>\r\n",
       "  </tr>\r\n",
       "  <tr bgcolor=\"#FFFFCA\"> \r\n",
       "    <td align=\"none\"> 35. </td>\r\n",
       "    <td>WP$ </td>\r\n",
       "    <td>Possessive wh-pronoun </td>\r\n",
       "  </tr>\r\n",
       "  <tr bgcolor=\"#FFFFCA\"> \r\n",
       "    <td align=\"none\"> 36. </td>\r\n",
       "    <td>WRB </td>\r\n",
       "    <td>Wh-adverb \r\n",
       "</table>\r\n",
       "\r\n",
       "\r\n",
       "</body>\r\n",
       "</html>\r\n"
      ],
      "text/plain": [
       "<IPython.core.display.HTML object>"
      ]
     },
     "execution_count": 9,
     "metadata": {},
     "output_type": "execute_result"
    }
   ],
   "source": [
    "HTML('https://www.ling.upenn.edu/courses/Fall_2003/ling001/penn_treebank_pos.html')"
   ]
  },
  {
   "cell_type": "code",
   "execution_count": 10,
   "metadata": {},
   "outputs": [
    {
     "data": {
      "text/plain": [
       "FreqDist({'show': 10, 'hn': 10, 'data': 7, 'open': 7, 'sourc': 7, 'new': 7, 'let': 6, 'help': 6, 'releas': 6, '2': 6, ...})"
      ]
     },
     "execution_count": 10,
     "metadata": {},
     "output_type": "execute_result"
    }
   ],
   "source": [
    "fdist = FreqDist(stem_list)\n",
    "fdist"
   ]
  },
  {
   "cell_type": "code",
   "execution_count": 11,
   "metadata": {},
   "outputs": [
    {
     "data": {
      "text/plain": [
       "{'data': 7,\n",
       " 'develop': 5,\n",
       " 'state': 4,\n",
       " 'linux': 4,\n",
       " 'framework': 4,\n",
       " 'googl': 4,\n",
       " 'open': 7,\n",
       " 'sourc': 7,\n",
       " 'year': 4,\n",
       " 'human': 4,\n",
       " 'let': 6,\n",
       " 'help': 6,\n",
       " 'show': 10,\n",
       " 'hn': 10,\n",
       " 'engin': 5,\n",
       " 'use': 5,\n",
       " 'releas': 6,\n",
       " 'u': 4,\n",
       " 'code': 5,\n",
       " 'app': 5,\n",
       " 'work': 5,\n",
       " 'big': 5,\n",
       " '2': 6,\n",
       " 'c': 4,\n",
       " 'new': 7,\n",
       " '1': 5,\n",
       " 'manag': 4,\n",
       " 'distribut': 4,\n",
       " 'set': 4,\n",
       " 'gener': 4,\n",
       " 'machin': 4,\n",
       " 'learn': 4}"
      ]
     },
     "execution_count": 11,
     "metadata": {},
     "output_type": "execute_result"
    }
   ],
   "source": [
    "d = {k: v for k, v in fdist.items() if v > 3}\n",
    "d"
   ]
  },
  {
   "cell_type": "code",
   "execution_count": 12,
   "metadata": {},
   "outputs": [
    {
     "data": {
      "text/plain": [
       "(2, 11)"
      ]
     },
     "execution_count": 12,
     "metadata": {},
     "output_type": "execute_result"
    },
    {
     "data": {
      "image/png": "[encoded data removed]",
      "text/plain": [
       "<Figure size 432x288 with 1 Axes>"
      ]
     },
     "metadata": {
      "needs_background": "light"
     },
     "output_type": "display_data"
    }
   ],
   "source": [
    "X = np.arange(len(d))\n",
    "Y = list(d.values()) # d.values returns an instance of dict_values which you cannot use for anything much\n",
    "plt.bar(X, Y, align='center', width=0.5)\n",
    "plt.xticks(X, d.keys(), rotation='vertical')\n",
    "ymax = max(Y) + 1\n",
    "plt.ylim(2, ymax)"
   ]
  },
  {
   "cell_type": "code",
   "execution_count": 18,
   "metadata": {},
   "outputs": [],
   "source": [
    "import pandas as pd\n",
    "df = pd.DataFrame({'x':[0,1,np.nan,np.nan,3,np.nan,6]})\n",
    "df.count()\n",
    "df['xi'] = df.x.interpolate() # a cool trick"
   ]
  },
  {
   "cell_type": "code",
   "execution_count": 19,
   "metadata": {},
   "outputs": [
    {
     "name": "stdout",
     "output_type": "stream",
     "text": [
      "0    0.000000\n",
      "1    1.000000\n",
      "2    1.666667\n",
      "3    2.333333\n",
      "4    3.000000\n",
      "5    4.500000\n",
      "6    6.000000\n",
      "Name: xi, dtype: float64\n"
     ]
    }
   ],
   "source": [
    "print(df['xi'])"
   ]
  },
  {
   "cell_type": "code",
   "execution_count": 21,
   "metadata": {},
   "outputs": [
    {
     "data": {
      "text/plain": [
       "<matplotlib.axes._subplots.AxesSubplot at 0x7fe7a928f450>"
      ]
     },
     "execution_count": 21,
     "metadata": {},
     "output_type": "execute_result"
    },
    {
     "data": {
      "image/png": "[encoded data removed]",
      "text/plain": [
       "<Figure size 432x288 with 1 Axes>"
      ]
     },
     "metadata": {
      "needs_background": "light"
     },
     "output_type": "display_data"
    }
   ],
   "source": [
    "df['xi'].plot()\n"
   ]
  },
  {
   "cell_type": "code",
   "execution_count": null,
   "metadata": {},
   "outputs": [],
   "source": []
  }
 ],
 "metadata": {
  "kernelspec": {
   "display_name": "Python 3",
   "language": "python",
   "name": "python3"
  },
  "language_info": {
   "codemirror_mode": {
    "name": "ipython",
    "version": 3
   },
   "file_extension": ".py",
   "mimetype": "text/x-python",
   "name": "python",
   "nbconvert_exporter": "python",
   "pygments_lexer": "ipython3",
   "version": "3.7.4"
  }
 },
 "nbformat": 4,
 "nbformat_minor": 4
}

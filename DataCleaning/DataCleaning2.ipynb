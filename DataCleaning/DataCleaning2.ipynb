{
 "cells": [
  {
   "cell_type": "code",
   "execution_count": 44,
   "metadata": {},
   "outputs": [],
   "source": [
    "import pandas as pd\n",
    "import numpy as np"
   ]
  },
  {
   "cell_type": "code",
   "execution_count": 45,
   "metadata": {},
   "outputs": [],
   "source": [
    "data = pd.read_csv('dirtyboi.csv')"
   ]
  },
  {
   "cell_type": "code",
   "execution_count": 46,
   "metadata": {},
   "outputs": [
    {
     "data": {
      "text/html": [
       "<div>\n",
       "<style scoped>\n",
       "    .dataframe tbody tr th:only-of-type {\n",
       "        vertical-align: middle;\n",
       "    }\n",
       "\n",
       "    .dataframe tbody tr th {\n",
       "        vertical-align: top;\n",
       "    }\n",
       "\n",
       "    .dataframe thead th {\n",
       "        text-align: right;\n",
       "    }\n",
       "</style>\n",
       "<table border=\"1\" class=\"dataframe\">\n",
       "  <thead>\n",
       "    <tr style=\"text-align: right;\">\n",
       "      <th></th>\n",
       "      <th>name</th>\n",
       "      <th>gender</th>\n",
       "      <th>height</th>\n",
       "      <th>weight</th>\n",
       "    </tr>\n",
       "  </thead>\n",
       "  <tbody>\n",
       "    <tr>\n",
       "      <th>JP</th>\n",
       "      <td>male</td>\n",
       "      <td>1.59m</td>\n",
       "      <td>10</td>\n",
       "      <td>NaN</td>\n",
       "    </tr>\n",
       "    <tr>\n",
       "      <th>Tony</th>\n",
       "      <td>M</td>\n",
       "      <td>180</td>\n",
       "      <td>74kg</td>\n",
       "      <td>NaN</td>\n",
       "    </tr>\n",
       "    <tr>\n",
       "      <th>`Roberta`</th>\n",
       "      <td>Female</td>\n",
       "      <td>168</td>\n",
       "      <td>64kg</td>\n",
       "      <td>NaN</td>\n",
       "    </tr>\n",
       "    <tr>\n",
       "      <th>Louise</th>\n",
       "      <td>F</td>\n",
       "      <td>1.73</td>\n",
       "      <td>65kg</td>\n",
       "      <td>NaN</td>\n",
       "    </tr>\n",
       "    <tr>\n",
       "      <th>Claire</th>\n",
       "      <td>F</td>\n",
       "      <td>1.60</td>\n",
       "      <td>61</td>\n",
       "      <td>NaN</td>\n",
       "    </tr>\n",
       "  </tbody>\n",
       "</table>\n",
       "</div>"
      ],
      "text/plain": [
       "             name gender height  weight\n",
       "JP           male  1.59m     10     NaN\n",
       "Tony            M    180   74kg     NaN\n",
       "`Roberta`  Female    168   64kg     NaN\n",
       "Louise          F   1.73   65kg     NaN\n",
       "Claire          F   1.60     61     NaN"
      ]
     },
     "execution_count": 46,
     "metadata": {},
     "output_type": "execute_result"
    }
   ],
   "source": [
    "data.head()"
   ]
  },
  {
   "cell_type": "code",
   "execution_count": 47,
   "metadata": {},
   "outputs": [
    {
     "name": "stdout",
     "output_type": "stream",
     "text": [
      "Index(['JP', 'Tony', '`Roberta`', 'Louise', 'Claire', 'Claire', ''Paul Pogba'',\n",
      "       'Alvaro', 'Leon', 'Zack', 'Kros', 'marie-curie', 'Pjanic', 'Brad',\n",
      "       'Joey', 'Michelle', 'Stephen', 'Brad', 'Jabba the Hutt'],\n",
      "      dtype='object')\n"
     ]
    },
    {
     "data": {
      "text/plain": [
       "19"
      ]
     },
     "execution_count": 47,
     "metadata": {},
     "output_type": "execute_result"
    }
   ],
   "source": [
    "print(data.index) \n",
    "len(data.index)"
   ]
  },
  {
   "cell_type": "code",
   "execution_count": 48,
   "metadata": {},
   "outputs": [],
   "source": [
    "data = data.reset_index()"
   ]
  },
  {
   "cell_type": "code",
   "execution_count": 49,
   "metadata": {},
   "outputs": [
    {
     "data": {
      "text/html": [
       "<div>\n",
       "<style scoped>\n",
       "    .dataframe tbody tr th:only-of-type {\n",
       "        vertical-align: middle;\n",
       "    }\n",
       "\n",
       "    .dataframe tbody tr th {\n",
       "        vertical-align: top;\n",
       "    }\n",
       "\n",
       "    .dataframe thead th {\n",
       "        text-align: right;\n",
       "    }\n",
       "</style>\n",
       "<table border=\"1\" class=\"dataframe\">\n",
       "  <thead>\n",
       "    <tr style=\"text-align: right;\">\n",
       "      <th></th>\n",
       "      <th>index</th>\n",
       "      <th>name</th>\n",
       "      <th>gender</th>\n",
       "      <th>height</th>\n",
       "      <th>weight</th>\n",
       "    </tr>\n",
       "  </thead>\n",
       "  <tbody>\n",
       "    <tr>\n",
       "      <th>0</th>\n",
       "      <td>JP</td>\n",
       "      <td>male</td>\n",
       "      <td>1.59m</td>\n",
       "      <td>10</td>\n",
       "      <td>NaN</td>\n",
       "    </tr>\n",
       "    <tr>\n",
       "      <th>1</th>\n",
       "      <td>Tony</td>\n",
       "      <td>M</td>\n",
       "      <td>180</td>\n",
       "      <td>74kg</td>\n",
       "      <td>NaN</td>\n",
       "    </tr>\n",
       "    <tr>\n",
       "      <th>2</th>\n",
       "      <td>`Roberta`</td>\n",
       "      <td>Female</td>\n",
       "      <td>168</td>\n",
       "      <td>64kg</td>\n",
       "      <td>NaN</td>\n",
       "    </tr>\n",
       "    <tr>\n",
       "      <th>3</th>\n",
       "      <td>Louise</td>\n",
       "      <td>F</td>\n",
       "      <td>1.73</td>\n",
       "      <td>65kg</td>\n",
       "      <td>NaN</td>\n",
       "    </tr>\n",
       "    <tr>\n",
       "      <th>4</th>\n",
       "      <td>Claire</td>\n",
       "      <td>F</td>\n",
       "      <td>1.60</td>\n",
       "      <td>61</td>\n",
       "      <td>NaN</td>\n",
       "    </tr>\n",
       "  </tbody>\n",
       "</table>\n",
       "</div>"
      ],
      "text/plain": [
       "       index    name gender height  weight\n",
       "0         JP    male  1.59m     10     NaN\n",
       "1       Tony       M    180   74kg     NaN\n",
       "2  `Roberta`  Female    168   64kg     NaN\n",
       "3     Louise       F   1.73   65kg     NaN\n",
       "4     Claire       F   1.60     61     NaN"
      ]
     },
     "execution_count": 49,
     "metadata": {},
     "output_type": "execute_result"
    }
   ],
   "source": [
    "data.head()"
   ]
  },
  {
   "cell_type": "code",
   "execution_count": 50,
   "metadata": {},
   "outputs": [],
   "source": [
    "data.columns = ['Name','Gender', 'Height','Weight','Dont know']"
   ]
  },
  {
   "cell_type": "code",
   "execution_count": 51,
   "metadata": {},
   "outputs": [
    {
     "data": {
      "text/plain": [
       "<bound method NDFrame.head of               Name     Gender Height  Weight  Dont know\n",
       "0               JP       male  1.59m      10        NaN\n",
       "1             Tony          M    180    74kg        NaN\n",
       "2        `Roberta`     Female    168    64kg        NaN\n",
       "3           Louise          F   1.73    65kg        NaN\n",
       "4           Claire          F   1.60      61        NaN\n",
       "5           Claire          F   1.60      61        NaN\n",
       "6     'Paul Pogba'        NaN   6'3\"    93kg        NaN\n",
       "7           Alvaro       male   1.65  62000g        NaN\n",
       "8             Leon       male   6'2\"      82        NaN\n",
       "9             Zack        NaN   male      68      170.0\n",
       "10            Kros   Mr. John   male   5\"10'       74.0\n",
       "11     marie-curie          F    NaN     155        NaN\n",
       "12          Pjanic          M    NaN     NaN        NaN\n",
       "13            Brad          M   1.83     NaN        NaN\n",
       "14            Joey       Male    NaN    77kg        NaN\n",
       "15        Michelle        NaN    177      73        NaN\n",
       "16         Stephen          M    .82      73        NaN\n",
       "17            Brad          m   1.83     NaN        NaN\n",
       "18  Jabba the Hutt          M   1.75     500        NaN>"
      ]
     },
     "execution_count": 51,
     "metadata": {},
     "output_type": "execute_result"
    }
   ],
   "source": [
    "data.head"
   ]
  },
  {
   "cell_type": "code",
   "execution_count": 52,
   "metadata": {},
   "outputs": [],
   "source": [
    "d = {'male': 1, 'm': 1, 'M': 1,'Male': 1 ,'F': 0, 'Female': 0}\n",
    "data['Gender'].replace(d,inplace = True)"
   ]
  },
  {
   "cell_type": "code",
   "execution_count": 53,
   "metadata": {},
   "outputs": [
    {
     "data": {
      "text/plain": [
       "<bound method NDFrame.head of               Name     Gender Height  Weight  Dont know\n",
       "0               JP          1  1.59m      10        NaN\n",
       "1             Tony          1    180    74kg        NaN\n",
       "2        `Roberta`          0    168    64kg        NaN\n",
       "3           Louise          0   1.73    65kg        NaN\n",
       "4           Claire          0   1.60      61        NaN\n",
       "5           Claire          0   1.60      61        NaN\n",
       "6     'Paul Pogba'        NaN   6'3\"    93kg        NaN\n",
       "7           Alvaro          1   1.65  62000g        NaN\n",
       "8             Leon          1   6'2\"      82        NaN\n",
       "9             Zack        NaN   male      68      170.0\n",
       "10            Kros   Mr. John   male   5\"10'       74.0\n",
       "11     marie-curie          0    NaN     155        NaN\n",
       "12          Pjanic          1    NaN     NaN        NaN\n",
       "13            Brad          1   1.83     NaN        NaN\n",
       "14            Joey          1    NaN    77kg        NaN\n",
       "15        Michelle        NaN    177      73        NaN\n",
       "16         Stephen          1    .82      73        NaN\n",
       "17            Brad          1   1.83     NaN        NaN\n",
       "18  Jabba the Hutt          1   1.75     500        NaN>"
      ]
     },
     "execution_count": 53,
     "metadata": {},
     "output_type": "execute_result"
    }
   ],
   "source": [
    "data.head"
   ]
  },
  {
   "cell_type": "code",
   "execution_count": 54,
   "metadata": {},
   "outputs": [],
   "source": [
    "data2 = pd.DataFrame()\n",
    "data2 = data2.fillna(0) # with 0s rather than NaNs\n",
    "\n",
    "\n",
    "data2['Gender'] = data['Gender']\n",
    "data2['Height'] = data['Height']\n",
    "data2['Weight'] = data['Weight']\n",
    "data2['Dont know'] = data['Dont know']"
   ]
  },
  {
   "cell_type": "code",
   "execution_count": 55,
   "metadata": {},
   "outputs": [
    {
     "data": {
      "text/plain": [
       "<bound method NDFrame.head of        Gender Height  Weight  Dont know\n",
       "0           1  1.59m      10        NaN\n",
       "1           1    180    74kg        NaN\n",
       "2           0    168    64kg        NaN\n",
       "3           0   1.73    65kg        NaN\n",
       "4           0   1.60      61        NaN\n",
       "5           0   1.60      61        NaN\n",
       "6         NaN   6'3\"    93kg        NaN\n",
       "7           1   1.65  62000g        NaN\n",
       "8           1   6'2\"      82        NaN\n",
       "9         NaN   male      68      170.0\n",
       "10   Mr. John   male   5\"10'       74.0\n",
       "11          0    NaN     155        NaN\n",
       "12          1    NaN     NaN        NaN\n",
       "13          1   1.83     NaN        NaN\n",
       "14          1    NaN    77kg        NaN\n",
       "15        NaN    177      73        NaN\n",
       "16          1    .82      73        NaN\n",
       "17          1   1.83     NaN        NaN\n",
       "18          1   1.75     500        NaN>"
      ]
     },
     "execution_count": 55,
     "metadata": {},
     "output_type": "execute_result"
    }
   ],
   "source": [
    "data2.head"
   ]
  },
  {
   "cell_type": "code",
   "execution_count": 56,
   "metadata": {},
   "outputs": [
    {
     "data": {
      "text/html": [
       "<div>\n",
       "<style scoped>\n",
       "    .dataframe tbody tr th:only-of-type {\n",
       "        vertical-align: middle;\n",
       "    }\n",
       "\n",
       "    .dataframe tbody tr th {\n",
       "        vertical-align: top;\n",
       "    }\n",
       "\n",
       "    .dataframe thead th {\n",
       "        text-align: right;\n",
       "    }\n",
       "</style>\n",
       "<table border=\"1\" class=\"dataframe\">\n",
       "  <thead>\n",
       "    <tr style=\"text-align: right;\">\n",
       "      <th></th>\n",
       "      <th>Gender</th>\n",
       "      <th>Height</th>\n",
       "      <th>Weight</th>\n",
       "      <th>Dont know</th>\n",
       "    </tr>\n",
       "  </thead>\n",
       "  <tbody>\n",
       "    <tr>\n",
       "      <th>9</th>\n",
       "      <td>NaN</td>\n",
       "      <td>male</td>\n",
       "      <td>68</td>\n",
       "      <td>170.0</td>\n",
       "    </tr>\n",
       "    <tr>\n",
       "      <th>10</th>\n",
       "      <td>Mr. John</td>\n",
       "      <td>male</td>\n",
       "      <td>5\"10'</td>\n",
       "      <td>74.0</td>\n",
       "    </tr>\n",
       "  </tbody>\n",
       "</table>\n",
       "</div>"
      ],
      "text/plain": [
       "       Gender Height Weight  Dont know\n",
       "9         NaN   male     68      170.0\n",
       "10   Mr. John   male  5\"10'       74.0"
      ]
     },
     "execution_count": 56,
     "metadata": {},
     "output_type": "execute_result"
    }
   ],
   "source": [
    "data2.loc[(data['Height'] == 'male')]\n",
    "          ## we will need to shift these rows once to the left"
   ]
  },
  {
   "cell_type": "code",
   "execution_count": 57,
   "metadata": {},
   "outputs": [],
   "source": [
    "data2.loc[(data['Height'] == 'male')] = data2.loc[(data['Height'] == 'male')].shift(-1,axis='columns') ## shifting the 2 rows to the left"
   ]
  },
  {
   "cell_type": "code",
   "execution_count": 58,
   "metadata": {},
   "outputs": [
    {
     "data": {
      "text/plain": [
       "<bound method NDFrame.head of    Gender Height  Weight  Dont know\n",
       "0       1  1.59m      10        NaN\n",
       "1       1    180    74kg        NaN\n",
       "2       0    168    64kg        NaN\n",
       "3       0   1.73    65kg        NaN\n",
       "4       0   1.60      61        NaN\n",
       "5       0   1.60      61        NaN\n",
       "6     NaN   6'3\"    93kg        NaN\n",
       "7       1   1.65  62000g        NaN\n",
       "8       1   6'2\"      82        NaN\n",
       "9    male     68     NaN        NaN\n",
       "10   male  5\"10'     NaN        NaN\n",
       "11      0    NaN     155        NaN\n",
       "12      1    NaN     NaN        NaN\n",
       "13      1   1.83     NaN        NaN\n",
       "14      1    NaN    77kg        NaN\n",
       "15    NaN    177      73        NaN\n",
       "16      1    .82      73        NaN\n",
       "17      1   1.83     NaN        NaN\n",
       "18      1   1.75     500        NaN>"
      ]
     },
     "execution_count": 58,
     "metadata": {},
     "output_type": "execute_result"
    }
   ],
   "source": [
    "data2.head"
   ]
  },
  {
   "cell_type": "code",
   "execution_count": 59,
   "metadata": {},
   "outputs": [],
   "source": [
    "d = {'male': 1}\n",
    "data2['Gender'].replace(d,inplace = True)"
   ]
  },
  {
   "cell_type": "code",
   "execution_count": 60,
   "metadata": {},
   "outputs": [
    {
     "data": {
      "text/plain": [
       "<bound method NDFrame.head of     Gender Height  Weight  Dont know\n",
       "0      1.0  1.59m      10        NaN\n",
       "1      1.0    180    74kg        NaN\n",
       "2      0.0    168    64kg        NaN\n",
       "3      0.0   1.73    65kg        NaN\n",
       "4      0.0   1.60      61        NaN\n",
       "5      0.0   1.60      61        NaN\n",
       "6      NaN   6'3\"    93kg        NaN\n",
       "7      1.0   1.65  62000g        NaN\n",
       "8      1.0   6'2\"      82        NaN\n",
       "9      1.0     68     NaN        NaN\n",
       "10     1.0  5\"10'     NaN        NaN\n",
       "11     0.0    NaN     155        NaN\n",
       "12     1.0    NaN     NaN        NaN\n",
       "13     1.0   1.83     NaN        NaN\n",
       "14     1.0    NaN    77kg        NaN\n",
       "15     NaN    177      73        NaN\n",
       "16     1.0    .82      73        NaN\n",
       "17     1.0   1.83     NaN        NaN\n",
       "18     1.0   1.75     500        NaN>"
      ]
     },
     "execution_count": 60,
     "metadata": {},
     "output_type": "execute_result"
    }
   ],
   "source": [
    "data2.head"
   ]
  },
  {
   "cell_type": "code",
   "execution_count": 61,
   "metadata": {},
   "outputs": [],
   "source": [
    "## clean the rest, drop the dont know column, merge back to original dataframe"
   ]
  },
  {
   "cell_type": "code",
   "execution_count": 62,
   "metadata": {},
   "outputs": [],
   "source": [
    "data2 = data2.drop(['Dont know'],axis=1)"
   ]
  },
  {
   "cell_type": "code",
   "execution_count": 63,
   "metadata": {},
   "outputs": [],
   "source": [
    "d = {'62000g': '62kg','500':'500kg','155':'155kg','82':'82kg','61':'61kg','73':'73kg'}\n",
    "data2['Weight'].replace(d,inplace = True)"
   ]
  },
  {
   "cell_type": "code",
   "execution_count": 64,
   "metadata": {},
   "outputs": [
    {
     "data": {
      "text/plain": [
       "<bound method NDFrame.head of     Gender Height Weight\n",
       "0      1.0  1.59m     10\n",
       "1      1.0    180   74kg\n",
       "2      0.0    168   64kg\n",
       "3      0.0   1.73   65kg\n",
       "4      0.0   1.60   61kg\n",
       "5      0.0   1.60   61kg\n",
       "6      NaN   6'3\"   93kg\n",
       "7      1.0   1.65   62kg\n",
       "8      1.0   6'2\"   82kg\n",
       "9      1.0     68    NaN\n",
       "10     1.0  5\"10'    NaN\n",
       "11     0.0    NaN  155kg\n",
       "12     1.0    NaN    NaN\n",
       "13     1.0   1.83    NaN\n",
       "14     1.0    NaN   77kg\n",
       "15     NaN    177   73kg\n",
       "16     1.0    .82   73kg\n",
       "17     1.0   1.83    NaN\n",
       "18     1.0   1.75  500kg>"
      ]
     },
     "execution_count": 64,
     "metadata": {},
     "output_type": "execute_result"
    }
   ],
   "source": [
    "data2.head"
   ]
  },
  {
   "cell_type": "code",
   "execution_count": 65,
   "metadata": {},
   "outputs": [],
   "source": [
    "foot_cm_ratio = 30.48 ## 1 foot = 30.48cm"
   ]
  },
  {
   "cell_type": "code",
   "execution_count": 66,
   "metadata": {},
   "outputs": [],
   "source": [
    "data = pd.merge(data, data2, left_index=True, right_index=True)"
   ]
  },
  {
   "cell_type": "code",
   "execution_count": 67,
   "metadata": {},
   "outputs": [
    {
     "data": {
      "text/html": [
       "<div>\n",
       "<style scoped>\n",
       "    .dataframe tbody tr th:only-of-type {\n",
       "        vertical-align: middle;\n",
       "    }\n",
       "\n",
       "    .dataframe tbody tr th {\n",
       "        vertical-align: top;\n",
       "    }\n",
       "\n",
       "    .dataframe thead th {\n",
       "        text-align: right;\n",
       "    }\n",
       "</style>\n",
       "<table border=\"1\" class=\"dataframe\">\n",
       "  <thead>\n",
       "    <tr style=\"text-align: right;\">\n",
       "      <th></th>\n",
       "      <th>Name</th>\n",
       "      <th>Gender_x</th>\n",
       "      <th>Height_x</th>\n",
       "      <th>Weight_x</th>\n",
       "      <th>Dont know</th>\n",
       "      <th>Gender_y</th>\n",
       "      <th>Height_y</th>\n",
       "      <th>Weight_y</th>\n",
       "    </tr>\n",
       "  </thead>\n",
       "  <tbody>\n",
       "    <tr>\n",
       "      <th>0</th>\n",
       "      <td>JP</td>\n",
       "      <td>1</td>\n",
       "      <td>1.59m</td>\n",
       "      <td>10</td>\n",
       "      <td>NaN</td>\n",
       "      <td>1.0</td>\n",
       "      <td>1.59m</td>\n",
       "      <td>10</td>\n",
       "    </tr>\n",
       "    <tr>\n",
       "      <th>1</th>\n",
       "      <td>Tony</td>\n",
       "      <td>1</td>\n",
       "      <td>180</td>\n",
       "      <td>74kg</td>\n",
       "      <td>NaN</td>\n",
       "      <td>1.0</td>\n",
       "      <td>180</td>\n",
       "      <td>74kg</td>\n",
       "    </tr>\n",
       "    <tr>\n",
       "      <th>2</th>\n",
       "      <td>`Roberta`</td>\n",
       "      <td>0</td>\n",
       "      <td>168</td>\n",
       "      <td>64kg</td>\n",
       "      <td>NaN</td>\n",
       "      <td>0.0</td>\n",
       "      <td>168</td>\n",
       "      <td>64kg</td>\n",
       "    </tr>\n",
       "    <tr>\n",
       "      <th>3</th>\n",
       "      <td>Louise</td>\n",
       "      <td>0</td>\n",
       "      <td>1.73</td>\n",
       "      <td>65kg</td>\n",
       "      <td>NaN</td>\n",
       "      <td>0.0</td>\n",
       "      <td>1.73</td>\n",
       "      <td>65kg</td>\n",
       "    </tr>\n",
       "    <tr>\n",
       "      <th>4</th>\n",
       "      <td>Claire</td>\n",
       "      <td>0</td>\n",
       "      <td>1.60</td>\n",
       "      <td>61</td>\n",
       "      <td>NaN</td>\n",
       "      <td>0.0</td>\n",
       "      <td>1.60</td>\n",
       "      <td>61kg</td>\n",
       "    </tr>\n",
       "  </tbody>\n",
       "</table>\n",
       "</div>"
      ],
      "text/plain": [
       "        Name Gender_x Height_x Weight_x  Dont know  Gender_y Height_y Weight_y\n",
       "0         JP        1    1.59m       10        NaN       1.0    1.59m       10\n",
       "1       Tony        1      180     74kg        NaN       1.0      180     74kg\n",
       "2  `Roberta`        0      168     64kg        NaN       0.0      168     64kg\n",
       "3     Louise        0     1.73     65kg        NaN       0.0     1.73     65kg\n",
       "4     Claire        0     1.60       61        NaN       0.0     1.60     61kg"
      ]
     },
     "execution_count": 67,
     "metadata": {},
     "output_type": "execute_result"
    }
   ],
   "source": [
    "data.head()"
   ]
  },
  {
   "cell_type": "code",
   "execution_count": 68,
   "metadata": {},
   "outputs": [],
   "source": [
    "data = data.drop(['Gender_x','Height_x','Weight_x','Dont know'],axis=1)"
   ]
  },
  {
   "cell_type": "code",
   "execution_count": 69,
   "metadata": {},
   "outputs": [
    {
     "data": {
      "text/plain": [
       "<bound method NDFrame.head of               Name  Gender_y Height_y Weight_y\n",
       "0               JP       1.0    1.59m       10\n",
       "1             Tony       1.0      180     74kg\n",
       "2        `Roberta`       0.0      168     64kg\n",
       "3           Louise       0.0     1.73     65kg\n",
       "4           Claire       0.0     1.60     61kg\n",
       "5           Claire       0.0     1.60     61kg\n",
       "6     'Paul Pogba'       NaN     6'3\"     93kg\n",
       "7           Alvaro       1.0     1.65     62kg\n",
       "8             Leon       1.0     6'2\"     82kg\n",
       "9             Zack       1.0       68      NaN\n",
       "10            Kros       1.0    5\"10'      NaN\n",
       "11     marie-curie       0.0      NaN    155kg\n",
       "12          Pjanic       1.0      NaN      NaN\n",
       "13            Brad       1.0     1.83      NaN\n",
       "14            Joey       1.0      NaN     77kg\n",
       "15        Michelle       NaN      177     73kg\n",
       "16         Stephen       1.0      .82     73kg\n",
       "17            Brad       1.0     1.83      NaN\n",
       "18  Jabba the Hutt       1.0     1.75    500kg>"
      ]
     },
     "execution_count": 69,
     "metadata": {},
     "output_type": "execute_result"
    }
   ],
   "source": [
    "data.head"
   ]
  },
  {
   "cell_type": "code",
   "execution_count": 70,
   "metadata": {},
   "outputs": [],
   "source": [
    "data['Name'] = data.Name.str.replace(\"[({':`-]\", \"\")  ## removing quotes from name column"
   ]
  },
  {
   "cell_type": "code",
   "execution_count": 71,
   "metadata": {},
   "outputs": [
    {
     "data": {
      "text/plain": [
       "<bound method NDFrame.head of               Name  Gender_y Height_y Weight_y\n",
       "0               JP       1.0    1.59m       10\n",
       "1             Tony       1.0      180     74kg\n",
       "2          Roberta       0.0      168     64kg\n",
       "3           Louise       0.0     1.73     65kg\n",
       "4           Claire       0.0     1.60     61kg\n",
       "5           Claire       0.0     1.60     61kg\n",
       "6       Paul Pogba       NaN     6'3\"     93kg\n",
       "7           Alvaro       1.0     1.65     62kg\n",
       "8             Leon       1.0     6'2\"     82kg\n",
       "9             Zack       1.0       68      NaN\n",
       "10            Kros       1.0    5\"10'      NaN\n",
       "11      mariecurie       0.0      NaN    155kg\n",
       "12          Pjanic       1.0      NaN      NaN\n",
       "13            Brad       1.0     1.83      NaN\n",
       "14            Joey       1.0      NaN     77kg\n",
       "15        Michelle       NaN      177     73kg\n",
       "16         Stephen       1.0      .82     73kg\n",
       "17            Brad       1.0     1.83      NaN\n",
       "18  Jabba the Hutt       1.0     1.75    500kg>"
      ]
     },
     "execution_count": 71,
     "metadata": {},
     "output_type": "execute_result"
    }
   ],
   "source": [
    "data.head"
   ]
  },
  {
   "cell_type": "code",
   "execution_count": 72,
   "metadata": {},
   "outputs": [
    {
     "name": "stderr",
     "output_type": "stream",
     "text": [
      "/home/joncauchi/anaconda3/lib/python3.7/site-packages/ipykernel_launcher.py:1: SettingWithCopyWarning: \n",
      "A value is trying to be set on a copy of a slice from a DataFrame\n",
      "\n",
      "See the caveats in the documentation: http://pandas.pydata.org/pandas-docs/stable/indexing.html#indexing-view-versus-copy\n",
      "  \"\"\"Entry point for launching an IPython kernel.\n",
      "/home/joncauchi/anaconda3/lib/python3.7/site-packages/ipykernel_launcher.py:2: SettingWithCopyWarning: \n",
      "A value is trying to be set on a copy of a slice from a DataFrame\n",
      "\n",
      "See the caveats in the documentation: http://pandas.pydata.org/pandas-docs/stable/indexing.html#indexing-view-versus-copy\n",
      "  \n"
     ]
    }
   ],
   "source": [
    "data['Gender_y'][6] = 1 # setting pogba to male 1\n",
    "data['Gender_y'][15] = 0 # setting michelle to female 0"
   ]
  },
  {
   "cell_type": "code",
   "execution_count": 73,
   "metadata": {},
   "outputs": [
    {
     "data": {
      "text/plain": [
       "<bound method NDFrame.head of               Name  Gender_y Height_y Weight_y\n",
       "0               JP       1.0    1.59m       10\n",
       "1             Tony       1.0      180     74kg\n",
       "2          Roberta       0.0      168     64kg\n",
       "3           Louise       0.0     1.73     65kg\n",
       "4           Claire       0.0     1.60     61kg\n",
       "5           Claire       0.0     1.60     61kg\n",
       "6       Paul Pogba       1.0     6'3\"     93kg\n",
       "7           Alvaro       1.0     1.65     62kg\n",
       "8             Leon       1.0     6'2\"     82kg\n",
       "9             Zack       1.0       68      NaN\n",
       "10            Kros       1.0    5\"10'      NaN\n",
       "11      mariecurie       0.0      NaN    155kg\n",
       "12          Pjanic       1.0      NaN      NaN\n",
       "13            Brad       1.0     1.83      NaN\n",
       "14            Joey       1.0      NaN     77kg\n",
       "15        Michelle       0.0      177     73kg\n",
       "16         Stephen       1.0      .82     73kg\n",
       "17            Brad       1.0     1.83      NaN\n",
       "18  Jabba the Hutt       1.0     1.75    500kg>"
      ]
     },
     "execution_count": 73,
     "metadata": {},
     "output_type": "execute_result"
    }
   ],
   "source": [
    "data.head"
   ]
  },
  {
   "cell_type": "code",
   "execution_count": 74,
   "metadata": {},
   "outputs": [
    {
     "name": "stderr",
     "output_type": "stream",
     "text": [
      "/home/joncauchi/anaconda3/lib/python3.7/site-packages/ipykernel_launcher.py:1: SettingWithCopyWarning: \n",
      "A value is trying to be set on a copy of a slice from a DataFrame\n",
      "\n",
      "See the caveats in the documentation: http://pandas.pydata.org/pandas-docs/stable/indexing.html#indexing-view-versus-copy\n",
      "  \"\"\"Entry point for launching an IPython kernel.\n"
     ]
    }
   ],
   "source": [
    "data['Height_y'][16] = 1.82"
   ]
  },
  {
   "cell_type": "code",
   "execution_count": 75,
   "metadata": {},
   "outputs": [
    {
     "data": {
      "text/plain": [
       "<bound method NDFrame.head of               Name  Gender_y Height_y Weight_y\n",
       "0               JP       1.0    1.59m       10\n",
       "1             Tony       1.0      180     74kg\n",
       "2          Roberta       0.0      168     64kg\n",
       "3           Louise       0.0     1.73     65kg\n",
       "4           Claire       0.0     1.60     61kg\n",
       "5           Claire       0.0     1.60     61kg\n",
       "6       Paul Pogba       1.0     6'3\"     93kg\n",
       "7           Alvaro       1.0     1.65     62kg\n",
       "8             Leon       1.0     6'2\"     82kg\n",
       "9             Zack       1.0       68      NaN\n",
       "10            Kros       1.0    5\"10'      NaN\n",
       "11      mariecurie       0.0      NaN    155kg\n",
       "12          Pjanic       1.0      NaN      NaN\n",
       "13            Brad       1.0     1.83      NaN\n",
       "14            Joey       1.0      NaN     77kg\n",
       "15        Michelle       0.0      177     73kg\n",
       "16         Stephen       1.0     1.82     73kg\n",
       "17            Brad       1.0     1.83      NaN\n",
       "18  Jabba the Hutt       1.0     1.75    500kg>"
      ]
     },
     "execution_count": 75,
     "metadata": {},
     "output_type": "execute_result"
    }
   ],
   "source": [
    "data.head"
   ]
  },
  {
   "cell_type": "code",
   "execution_count": 76,
   "metadata": {},
   "outputs": [],
   "source": [
    "data.drop_duplicates(subset =\"Name\",  ## remoce duplicates\n",
    "                     keep = False, inplace = True) "
   ]
  },
  {
   "cell_type": "code",
   "execution_count": 77,
   "metadata": {},
   "outputs": [
    {
     "data": {
      "text/plain": [
       "<bound method NDFrame.head of               Name  Gender_y Height_y Weight_y\n",
       "0               JP       1.0    1.59m       10\n",
       "1             Tony       1.0      180     74kg\n",
       "2          Roberta       0.0      168     64kg\n",
       "3           Louise       0.0     1.73     65kg\n",
       "6       Paul Pogba       1.0     6'3\"     93kg\n",
       "7           Alvaro       1.0     1.65     62kg\n",
       "8             Leon       1.0     6'2\"     82kg\n",
       "9             Zack       1.0       68      NaN\n",
       "10            Kros       1.0    5\"10'      NaN\n",
       "11      mariecurie       0.0      NaN    155kg\n",
       "12          Pjanic       1.0      NaN      NaN\n",
       "14            Joey       1.0      NaN     77kg\n",
       "15        Michelle       0.0      177     73kg\n",
       "16         Stephen       1.0     1.82     73kg\n",
       "18  Jabba the Hutt       1.0     1.75    500kg>"
      ]
     },
     "execution_count": 77,
     "metadata": {},
     "output_type": "execute_result"
    }
   ],
   "source": [
    "data.head"
   ]
  },
  {
   "cell_type": "markdown",
   "metadata": {},
   "source": [
    "1 stone = 6.35kg"
   ]
  },
  {
   "cell_type": "code",
   "execution_count": 80,
   "metadata": {},
   "outputs": [
    {
     "name": "stderr",
     "output_type": "stream",
     "text": [
      "/home/joncauchi/anaconda3/lib/python3.7/site-packages/ipykernel_launcher.py:1: SettingWithCopyWarning: \n",
      "A value is trying to be set on a copy of a slice from a DataFrame\n",
      "\n",
      "See the caveats in the documentation: http://pandas.pydata.org/pandas-docs/stable/indexing.html#indexing-view-versus-copy\n",
      "  \"\"\"Entry point for launching an IPython kernel.\n"
     ]
    }
   ],
   "source": [
    "data['Weight_y'][0]='63.5kg'"
   ]
  },
  {
   "cell_type": "code",
   "execution_count": 81,
   "metadata": {},
   "outputs": [
    {
     "data": {
      "text/plain": [
       "<bound method NDFrame.head of               Name  Gender_y Height_y Weight_y\n",
       "0               JP       1.0    1.59m   63.5kg\n",
       "1             Tony       1.0      180     74kg\n",
       "2          Roberta       0.0      168     64kg\n",
       "3           Louise       0.0     1.73     65kg\n",
       "6       Paul Pogba       1.0     6'3\"     93kg\n",
       "7           Alvaro       1.0     1.65     62kg\n",
       "8             Leon       1.0     6'2\"     82kg\n",
       "9             Zack       1.0       68      NaN\n",
       "10            Kros       1.0    5\"10'      NaN\n",
       "11      mariecurie       0.0      NaN    155kg\n",
       "12          Pjanic       1.0      NaN      NaN\n",
       "14            Joey       1.0      NaN     77kg\n",
       "15        Michelle       0.0      177     73kg\n",
       "16         Stephen       1.0     1.82     73kg\n",
       "18  Jabba the Hutt       1.0     1.75    500kg>"
      ]
     },
     "execution_count": 81,
     "metadata": {},
     "output_type": "execute_result"
    }
   ],
   "source": [
    "data.head"
   ]
  },
  {
   "cell_type": "markdown",
   "metadata": {},
   "source": [
    "'Jabba the Hutt' is an outlier. We can either remove this row of data or keep it but beware that this row of data will affect the mean in a negative way especially if youre trying to fill the missing data with the mean."
   ]
  },
  {
   "cell_type": "markdown",
   "metadata": {},
   "source": [
    "## A nice little exercise would be to continue doing the following:\n",
    "    - Convert the height measure from feet and inches to cm\n",
    "    - Convert the metre measurements to cm\n",
    "    - Rename the columns\n",
    "    - Research about proper data cleaning practices :)"
   ]
  }
 ],
 "metadata": {
  "kernelspec": {
   "display_name": "Python 3",
   "language": "python",
   "name": "python3"
  },
  "language_info": {
   "codemirror_mode": {
    "name": "ipython",
    "version": 3
   },
   "file_extension": ".py",
   "mimetype": "text/x-python",
   "name": "python",
   "nbconvert_exporter": "python",
   "pygments_lexer": "ipython3",
   "version": "3.7.3"
  }
 },
 "nbformat": 4,
 "nbformat_minor": 4
}

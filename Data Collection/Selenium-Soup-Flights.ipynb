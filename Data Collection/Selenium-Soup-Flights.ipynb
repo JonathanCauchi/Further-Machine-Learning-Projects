{
 "cells": [
  {
   "cell_type": "code",
   "execution_count": 1,
   "metadata": {},
   "outputs": [],
   "source": [
    "from bs4 import BeautifulSoup \n",
    "from urllib.request import urlopen\n",
    "from apscheduler.schedulers.blocking import BlockingScheduler\n",
    "import re\n",
    "import pandas as pd\n",
    "import numpy as np\n",
    "import schedule\n",
    "import datetime\n",
    "import time\n",
    "import requests\n"
   ]
  },
  {
   "cell_type": "code",
   "execution_count": 2,
   "metadata": {},
   "outputs": [],
   "source": [
    "origin = \"MLA\" # Malta Luqa\n",
    "destination = \"CTA\" # Catania Fontanrossa\n",
    "enddate = \"01-04-2020\""
   ]
  },
  {
   "cell_type": "code",
   "execution_count": 3,
   "metadata": {},
   "outputs": [
    {
     "data": {
      "text/plain": [
       "datetime.datetime(2019, 11, 23, 12, 57, 52, 315213)"
      ]
     },
     "execution_count": 3,
     "metadata": {},
     "output_type": "execute_result"
    }
   ],
   "source": [
    "import datetime\n",
    "\n",
    "datetime.datetime.now() + datetime.timedelta(days=1)"
   ]
  },
  {
   "cell_type": "code",
   "execution_count": 4,
   "metadata": {},
   "outputs": [
    {
     "data": {
      "text/plain": [
       "'11-22-2019'"
      ]
     },
     "execution_count": 4,
     "metadata": {},
     "output_type": "execute_result"
    }
   ],
   "source": [
    "Today = datetime.datetime.now()\n",
    "startdate = Today.strftime(\"%m-%d-%Y\")\n",
    "startdate"
   ]
  },
  {
   "cell_type": "code",
   "execution_count": 5,
   "metadata": {},
   "outputs": [],
   "source": [
    "Tomorrow = Today + datetime.timedelta(days=1)\n",
    "tomorrowdate = Tomorrow.strftime(\"%m-%d-%Y\")"
   ]
  },
  {
   "cell_type": "markdown",
   "metadata": {},
   "source": [
    "So we need to set a scheduler that will increment the 'Today' date and adjust the url accordingly"
   ]
  },
  {
   "cell_type": "markdown",
   "metadata": {},
   "source": [
    "adjust the date insertion into url accordingly, look how to do cronjob and export to some data format  ideally JSON"
   ]
  },
  {
   "cell_type": "code",
   "execution_count": 6,
   "metadata": {},
   "outputs": [],
   "source": [
    "from selenium import webdriver"
   ]
  },
  {
   "cell_type": "code",
   "execution_count": 7,
   "metadata": {},
   "outputs": [],
   "source": [
    "path = \"C:\\chromedriver_win32\\chromedriver.exe\""
   ]
  },
  {
   "cell_type": "code",
   "execution_count": 8,
   "metadata": {},
   "outputs": [],
   "source": [
    "driver = webdriver.Chrome(path)\n",
    "driver.get(\"https://www.kayak.co.uk/flights/MLA-FCO/2019-11-28?sort=bestflight_a&fs=cabin=-b;airlines=-flylocal,FR,AZ,IG;stops=0;baditin=baditin\")\n",
    "\n",
    "\n",
    "soup = BeautifulSoup(driver.page_source, 'lxml')"
   ]
  },
  {
   "cell_type": "code",
   "execution_count": 60,
   "metadata": {},
   "outputs": [],
   "source": [
    "depart_time = soup.find(\"span\",{\"class\":\"time-pair\"}).find(\"span\",{\"class\":\"depart-time base-time\"})\n",
    "#<span class=\"time-pair\">"
   ]
  },
  {
   "cell_type": "code",
   "execution_count": 61,
   "metadata": {},
   "outputs": [
    {
     "data": {
      "text/plain": [
       "<span class=\"depart-time base-time\">17:50</span>"
      ]
     },
     "execution_count": 61,
     "metadata": {},
     "output_type": "execute_result"
    }
   ],
   "source": [
    "depart_time"
   ]
  },
  {
   "cell_type": "code",
   "execution_count": 62,
   "metadata": {},
   "outputs": [],
   "source": [
    "flight_dur = soup.find(\"div\",{\"class\":\"section duration\"}).find(\"div\",{\"class\":\"top\"})\n",
    "#<span class=\"time-pair\">"
   ]
  },
  {
   "cell_type": "code",
   "execution_count": 63,
   "metadata": {},
   "outputs": [
    {
     "data": {
      "text/plain": [
       "<div class=\"top\">\n",
       "1h 25m </div>"
      ]
     },
     "execution_count": 63,
     "metadata": {},
     "output_type": "execute_result"
    }
   ],
   "source": [
    "flight_dur"
   ]
  },
  {
   "cell_type": "code",
   "execution_count": 72,
   "metadata": {},
   "outputs": [],
   "source": [
    "price = soup.find(\"div\",{\"class\":\"multibook-dropdown\"}).find(\"span\",{\"class\":\"price option-text\"}).find(\"span\",{\"class\":\"price-text\"})"
   ]
  },
  {
   "cell_type": "code",
   "execution_count": 73,
   "metadata": {},
   "outputs": [
    {
     "data": {
      "text/plain": [
       "<span class=\"price-text\" id=\"ZcLf-mb-aE-137d6eef7ab-price-text\">£99</span>"
      ]
     },
     "execution_count": 73,
     "metadata": {},
     "output_type": "execute_result"
    }
   ],
   "source": [
    "price"
   ]
  },
  {
   "cell_type": "code",
   "execution_count": 74,
   "metadata": {},
   "outputs": [],
   "source": [
    "#airline, airport, destinationairport, date"
   ]
  },
  {
   "cell_type": "code",
   "execution_count": 75,
   "metadata": {},
   "outputs": [],
   "source": [
    "airports = soup.find(\"div\",{\"class\":\"section duration\"}).findAll(\"div\",{\"class\":\"bottom-airport js-airport\"})\n"
   ]
  },
  {
   "cell_type": "code",
   "execution_count": 76,
   "metadata": {},
   "outputs": [
    {
     "name": "stdout",
     "output_type": "stream",
     "text": [
      "<div class=\"bottom-airport js-airport\" title=\"Luqa Malta Intl\">\n",
      "<span>MLA</span>\n",
      "</div>\n",
      "<div class=\"bottom-airport js-airport\" title=\"Rome Fiumicino\">\n",
      "<span>FCO</span>\n",
      "</div>\n"
     ]
    }
   ],
   "source": [
    "print(airports[0])\n",
    "print(airports[1])"
   ]
  },
  {
   "cell_type": "code",
   "execution_count": 77,
   "metadata": {},
   "outputs": [],
   "source": [
    "arrival_time = soup.find(\"div\",{\"class\":\"section times\"}).find(\"span\",{\"class\":\"arrival-time base-time\"})\n",
    "#<span class=\"time-pair\">"
   ]
  },
  {
   "cell_type": "code",
   "execution_count": 78,
   "metadata": {},
   "outputs": [
    {
     "data": {
      "text/plain": [
       "<span class=\"arrival-time base-time\">19:15</span>"
      ]
     },
     "execution_count": 78,
     "metadata": {},
     "output_type": "execute_result"
    }
   ],
   "source": [
    "arrival_time"
   ]
  },
  {
   "cell_type": "code",
   "execution_count": 79,
   "metadata": {},
   "outputs": [],
   "source": [
    "airline_service = soup.find(\"div\",{\"class\":\"section times\"}).find(\"div\",{\"class\":\"bottom\"})\n",
    "#<span class=\"time-pair\">"
   ]
  },
  {
   "cell_type": "code",
   "execution_count": 80,
   "metadata": {},
   "outputs": [
    {
     "data": {
      "text/plain": [
       "<div class=\"bottom\">\n",
       "Air Malta\n",
       "</div>"
      ]
     },
     "execution_count": 80,
     "metadata": {},
     "output_type": "execute_result"
    }
   ],
   "source": [
    "airline_service"
   ]
  },
  {
   "cell_type": "code",
   "execution_count": 81,
   "metadata": {},
   "outputs": [],
   "source": [
    "import json"
   ]
  },
  {
   "cell_type": "code",
   "execution_count": 82,
   "metadata": {},
   "outputs": [],
   "source": [
    "data = {}"
   ]
  },
  {
   "cell_type": "code",
   "execution_count": 84,
   "metadata": {},
   "outputs": [
    {
     "name": "stdout",
     "output_type": "stream",
     "text": [
      "Airline: \n",
      "Air Malta\n",
      "\n",
      "Airport Departure: \n",
      "MLA\n",
      "\n",
      "Airport Arrival: \n",
      "FCO\n",
      "\n",
      "Time of Departure 17:50\n",
      "Time of Arrival: 19:15\n",
      "Duration of Flight: \n",
      "1h 25m \n",
      "Price: £99\n"
     ]
    }
   ],
   "source": [
    "data['Airline'] = airline_service.text\n",
    "data['Airport Departure'] = airports[0].text\n",
    "data['Airport Arrival'] = airports[1].text\n",
    "data['Time of Departure'] = depart_time.text\n",
    "data['Time of Arrival'] = arrival_time.text\n",
    "data['Duration of Flight'] = flight_dur.text\n",
    "data['Price'] = price.text\n",
    "\n",
    "\n",
    "print(\"Airline: \" + data['Airline'])\n",
    "print(\"Airport Departure: \" + data['Airport Departure'])\n",
    "print(\"Airport Arrival: \" + data['Airport Arrival'])\n",
    "print(\"Time of Departure \" + data['Time of Departure'])\n",
    "print(\"Time of Arrival: \" + data['Time of Arrival'])\n",
    "print(\"Duration of Flight: \" + data['Duration of Flight'])\n",
    "print(\"Price: \" + data['Price'])\n",
    "\n",
    "with open(\"textbooks.json\", \"w\") as writeJSON:\n",
    "    json.dump(data, writeJSON, ensure_ascii=False)"
   ]
  },
  {
   "cell_type": "code",
   "execution_count": null,
   "metadata": {},
   "outputs": [],
   "source": []
  }
 ],
 "metadata": {
  "kernelspec": {
   "display_name": "Python 3",
   "language": "python",
   "name": "python3"
  },
  "language_info": {
   "codemirror_mode": {
    "name": "ipython",
    "version": 3
   },
   "file_extension": ".py",
   "mimetype": "text/x-python",
   "name": "python",
   "nbconvert_exporter": "python",
   "pygments_lexer": "ipython3",
   "version": "3.7.3"
  }
 },
 "nbformat": 4,
 "nbformat_minor": 2
}

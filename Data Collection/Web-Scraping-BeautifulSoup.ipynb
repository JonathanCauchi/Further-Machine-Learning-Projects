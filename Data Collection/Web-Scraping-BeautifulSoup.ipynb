{
 "cells": [
  {
   "cell_type": "code",
   "execution_count": 34,
   "metadata": {},
   "outputs": [],
   "source": [
    "from bs4 import BeautifulSoup as soup\n",
    "from urllib.request import urlopen"
   ]
  },
  {
   "cell_type": "code",
   "execution_count": 35,
   "metadata": {},
   "outputs": [],
   "source": [
    "url = \"https://news.ycombinator.com/\"\n",
    "\n",
    "client = urlopen(url) #opening connection"
   ]
  },
  {
   "cell_type": "code",
   "execution_count": 36,
   "metadata": {},
   "outputs": [],
   "source": [
    "page_read = client.read()"
   ]
  },
  {
   "cell_type": "code",
   "execution_count": 4,
   "metadata": {},
   "outputs": [],
   "source": [
    "client.close()"
   ]
  },
  {
   "cell_type": "code",
   "execution_count": 5,
   "metadata": {},
   "outputs": [],
   "source": [
    "page_soup = soup(page_read, \"html.parser\")"
   ]
  },
  {
   "cell_type": "code",
   "execution_count": 6,
   "metadata": {},
   "outputs": [
    {
     "data": {
      "text/plain": [
       "<body><center><table bgcolor=\"#f6f6ef\" border=\"0\" cellpadding=\"0\" cellspacing=\"0\" id=\"hnmain\" width=\"85%\">\n",
       "<tr><td bgcolor=\"#ff6600\"><table border=\"0\" cellpadding=\"0\" cellspacing=\"0\" style=\"padding:2px\" width=\"100%\"><tr><td style=\"width:18px;padding-right:4px\"><a href=\"https://news.ycombinator.com\"><img height=\"18\" src=\"y18.gif\" style=\"border:1px white solid;\" width=\"18\"/></a></td>\n",
       "<td style=\"line-height:12pt; height:10px;\"><span class=\"pagetop\"><b class=\"hnname\"><a href=\"news\">Hacker News</a></b>\n",
       "<a href=\"newest\">new</a> | <a href=\"front\">past</a> | <a href=\"newcomments\">comments</a> | <a href=\"ask\">ask</a> | <a href=\"show\">show</a> | <a href=\"jobs\">jobs</a> | <a href=\"submit\">submit</a> </span></td><td style=\"text-align:right;padding-right:4px;\"><span class=\"pagetop\">\n",
       "<a href=\"login?goto=news\">login</a>\n",
       "</span></td>\n",
       "</tr></table></td></tr>\n",
       "<tr id=\"pagespace\" style=\"height:10px\" title=\"\"></tr><tr><td><table border=\"0\" cellpadding=\"0\" cellspacing=\"0\" class=\"itemlist\">\n",
       "<tr class=\"athing\" id=\"21394678\">\n",
       "<td align=\"right\" class=\"title\" valign=\"top\"><span class=\"rank\">1.</span></td> <td class=\"votelinks\" valign=\"top\"><center><a href=\"vote?id=21394678&amp;how=up&amp;goto=news\" id=\"up_21394678\"><div class=\"votearrow\" title=\"upvote\"></div></a></center></td><td class=\"title\"><a class=\"storylink\" href=\"https://github.com/whitequark/unfork/blob/master/README.md\">Unfork()</a><span class=\"sitebit comhead\"> (<a href=\"from?site=github.com\"><span class=\"sitestr\">github.com</span></a>)</span></td></tr><tr><td colspan=\"2\"></td><td class=\"subtext\">\n",
       "<span class=\"score\" id=\"score_21394678\">191 points</span> by <a class=\"hnuser\" href=\"user?id=salgernon\">salgernon</a> <span class=\"age\"><a href=\"item?id=21394678\">3 hours ago</a></span> <span id=\"unv_21394678\"></span> | <a href=\"hide?id=21394678&amp;goto=news\">hide</a> | <a href=\"item?id=21394678\">31 comments</a> </td></tr>\n",
       "<tr class=\"spacer\" style=\"height:5px\"></tr>\n",
       "<tr class=\"athing\" id=\"21394290\">\n",
       "<td align=\"right\" class=\"title\" valign=\"top\"><span class=\"rank\">2.</span></td> <td class=\"votelinks\" valign=\"top\"><center><a href=\"vote?id=21394290&amp;how=up&amp;goto=news\" id=\"up_21394290\"><div class=\"votearrow\" title=\"upvote\"></div></a></center></td><td class=\"title\"><a class=\"storylink\" href=\"https://spaceweatherarchive.com/2019/10/25/close-encounter-with-a-gigantic-jet/\">Close Encounter with a Gigantic Jet</a><span class=\"sitebit comhead\"> (<a href=\"from?site=spaceweatherarchive.com\"><span class=\"sitestr\">spaceweatherarchive.com</span></a>)</span></td></tr><tr><td colspan=\"2\"></td><td class=\"subtext\">\n",
       "<span class=\"score\" id=\"score_21394290\">149 points</span> by <a class=\"hnuser\" href=\"user?id=nabilhat\">nabilhat</a> <span class=\"age\"><a href=\"item?id=21394290\">5 hours ago</a></span> <span id=\"unv_21394290\"></span> | <a href=\"hide?id=21394290&amp;goto=news\">hide</a> | <a href=\"item?id=21394290\">9 comments</a> </td></tr>\n",
       "<tr class=\"spacer\" style=\"height:5px\"></tr>\n",
       "<tr class=\"athing\" id=\"21392564\">\n",
       "<td align=\"right\" class=\"title\" valign=\"top\"><span class=\"rank\">3.</span></td> <td class=\"votelinks\" valign=\"top\"><center><a href=\"vote?id=21392564&amp;how=up&amp;goto=news\" id=\"up_21392564\"><div class=\"votearrow\" title=\"upvote\"></div></a></center></td><td class=\"title\"><a class=\"storylink\" href=\"https://www.reuters.com/article/us-facebook-cyber-whatsapp-nsogroup/whatsapp-sues-israels-nso-for-allegedly-helping-spies-hack-phones-around-the-world-idUSKBN1X82BE\">WhatsApp sues NSO Group for allegedly helping spies hack phones around the world</a><span class=\"sitebit comhead\"> (<a href=\"from?site=reuters.com\"><span class=\"sitestr\">reuters.com</span></a>)</span></td></tr><tr><td colspan=\"2\"></td><td class=\"subtext\">\n",
       "<span class=\"score\" id=\"score_21392564\">390 points</span> by <a class=\"hnuser\" href=\"user?id=adventured\">adventured</a> <span class=\"age\"><a href=\"item?id=21392564\">10 hours ago</a></span> <span id=\"unv_21392564\"></span> | <a href=\"hide?id=21392564&amp;goto=news\">hide</a> | <a href=\"item?id=21392564\">185 comments</a> </td></tr>\n",
       "<tr class=\"spacer\" style=\"height:5px\"></tr>\n",
       "<tr class=\"athing\" id=\"21394262\">\n",
       "<td align=\"right\" class=\"title\" valign=\"top\"><span class=\"rank\">4.</span></td> <td class=\"votelinks\" valign=\"top\"><center><a href=\"vote?id=21394262&amp;how=up&amp;goto=news\" id=\"up_21394262\"><div class=\"votearrow\" title=\"upvote\"></div></a></center></td><td class=\"title\"><a class=\"storylink\" href=\"https://www.buzzfeednews.com/article/stephaniemlee/juul-lawsuit-contaminated-pods\">Juul Shipped At Least 1M Contaminated Pods, New Lawsuit Says</a><span class=\"sitebit comhead\"> (<a href=\"from?site=buzzfeednews.com\"><span class=\"sitestr\">buzzfeednews.com</span></a>)</span></td></tr><tr><td colspan=\"2\"></td><td class=\"subtext\">\n",
       "<span class=\"score\" id=\"score_21394262\">134 points</span> by <a class=\"hnuser\" href=\"user?id=JumpCrisscross\">JumpCrisscross</a> <span class=\"age\"><a href=\"item?id=21394262\">5 hours ago</a></span> <span id=\"unv_21394262\"></span> | <a href=\"hide?id=21394262&amp;goto=news\">hide</a> | <a href=\"item?id=21394262\">65 comments</a> </td></tr>\n",
       "<tr class=\"spacer\" style=\"height:5px\"></tr>\n",
       "<tr class=\"athing\" id=\"21388790\">\n",
       "<td align=\"right\" class=\"title\" valign=\"top\"><span class=\"rank\">5.</span></td> <td class=\"votelinks\" valign=\"top\"><center><a href=\"vote?id=21388790&amp;how=up&amp;goto=news\" id=\"up_21388790\"><div class=\"votearrow\" title=\"upvote\"></div></a></center></td><td class=\"title\"><a class=\"storylink\" href=\"https://arstechnica.com/cars/2019/10/six-cars-that-could-prevent-you-from-hitting-a-pedestrian/\">Six cars aced new pedestrian detection tests</a><span class=\"sitebit comhead\"> (<a href=\"from?site=arstechnica.com\"><span class=\"sitestr\">arstechnica.com</span></a>)</span></td></tr><tr><td colspan=\"2\"></td><td class=\"subtext\">\n",
       "<span class=\"score\" id=\"score_21388790\">16 points</span> by <a class=\"hnuser\" href=\"user?id=Tomte\">Tomte</a> <span class=\"age\"><a href=\"item?id=21388790\">2 hours ago</a></span> <span id=\"unv_21388790\"></span> | <a href=\"hide?id=21388790&amp;goto=news\">hide</a> | <a href=\"item?id=21388790\">14 comments</a> </td></tr>\n",
       "<tr class=\"spacer\" style=\"height:5px\"></tr>\n",
       "<tr class=\"athing\" id=\"21383016\">\n",
       "<td align=\"right\" class=\"title\" valign=\"top\"><span class=\"rank\">6.</span></td> <td class=\"votelinks\" valign=\"top\"><center><a href=\"vote?id=21383016&amp;how=up&amp;goto=news\" id=\"up_21383016\"><div class=\"votearrow\" title=\"upvote\"></div></a></center></td><td class=\"title\"><a class=\"storylink\" href=\"https://en.wikipedia.org/wiki/Oberon_(operating_system)\">Oberon (Operating System)</a><span class=\"sitebit comhead\"> (<a href=\"from?site=wikipedia.org\"><span class=\"sitestr\">wikipedia.org</span></a>)</span></td></tr><tr><td colspan=\"2\"></td><td class=\"subtext\">\n",
       "<span class=\"score\" id=\"score_21383016\">51 points</span> by <a class=\"hnuser\" href=\"user?id=JNRowe\">JNRowe</a> <span class=\"age\"><a href=\"item?id=21383016\">4 hours ago</a></span> <span id=\"unv_21383016\"></span> | <a href=\"hide?id=21383016&amp;goto=news\">hide</a> | <a href=\"item?id=21383016\">10 comments</a> </td></tr>\n",
       "<tr class=\"spacer\" style=\"height:5px\"></tr>\n",
       "<tr class=\"athing\" id=\"21394764\">\n",
       "<td align=\"right\" class=\"title\" valign=\"top\"><span class=\"rank\">7.</span></td> <td class=\"votelinks\" valign=\"top\"><center><a href=\"vote?id=21394764&amp;how=up&amp;goto=news\" id=\"up_21394764\"><div class=\"votearrow\" title=\"upvote\"></div></a></center></td><td class=\"title\"><a class=\"storylink\" href=\"https://qz.com/1720214/how-nokias-collapse-turned-oulu-into-an-internet-wonderland/\">Nokia’s collapse turned a sleepy town in Finland into an internet wonderland</a><span class=\"sitebit comhead\"> (<a href=\"from?site=qz.com\"><span class=\"sitestr\">qz.com</span></a>)</span></td></tr><tr><td colspan=\"2\"></td><td class=\"subtext\">\n",
       "<span class=\"score\" id=\"score_21394764\">37 points</span> by <a class=\"hnuser\" href=\"user?id=lnguyen\">lnguyen</a> <span class=\"age\"><a href=\"item?id=21394764\">3 hours ago</a></span> <span id=\"unv_21394764\"></span> | <a href=\"hide?id=21394764&amp;goto=news\">hide</a> | <a href=\"item?id=21394764\">10 comments</a> </td></tr>\n",
       "<tr class=\"spacer\" style=\"height:5px\"></tr>\n",
       "<tr class=\"athing\" id=\"21395251\">\n",
       "<td align=\"right\" class=\"title\" valign=\"top\"><span class=\"rank\">8.</span></td> <td class=\"votelinks\" valign=\"top\"><center><a href=\"vote?id=21395251&amp;how=up&amp;goto=news\" id=\"up_21395251\"><div class=\"votearrow\" title=\"upvote\"></div></a></center></td><td class=\"title\"><a class=\"storylink\" href=\"https://github.com/notepad-plus-plus/notepad-plus-plus/issues\">Notepad++ issues attacked by Chinese commenters</a><span class=\"sitebit comhead\"> (<a href=\"from?site=github.com\"><span class=\"sitestr\">github.com</span></a>)</span></td></tr><tr><td colspan=\"2\"></td><td class=\"subtext\">\n",
       "<span class=\"score\" id=\"score_21395251\">70 points</span> by <a class=\"hnuser\" href=\"user?id=shp0ngle\">shp0ngle</a> <span class=\"age\"><a href=\"item?id=21395251\">1 hour ago</a></span> <span id=\"unv_21395251\"></span> | <a href=\"hide?id=21395251&amp;goto=news\">hide</a> | <a href=\"item?id=21395251\">36 comments</a> </td></tr>\n",
       "<tr class=\"spacer\" style=\"height:5px\"></tr>\n",
       "<tr class=\"athing\" id=\"21394352\">\n",
       "<td align=\"right\" class=\"title\" valign=\"top\"><span class=\"rank\">9.</span></td> <td class=\"votelinks\" valign=\"top\"><center><a href=\"vote?id=21394352&amp;how=up&amp;goto=news\" id=\"up_21394352\"><div class=\"votearrow\" title=\"upvote\"></div></a></center></td><td class=\"title\"><a class=\"storylink\" href=\"https://ocaml.xyz/chapter/neural.html\">Machine and Deep Learning with OCaml Natively</a><span class=\"sitebit comhead\"> (<a href=\"from?site=ocaml.xyz\"><span class=\"sitestr\">ocaml.xyz</span></a>)</span></td></tr><tr><td colspan=\"2\"></td><td class=\"subtext\">\n",
       "<span class=\"score\" id=\"score_21394352\">42 points</span> by <a class=\"hnuser\" href=\"user?id=xvilka\">xvilka</a> <span class=\"age\"><a href=\"item?id=21394352\">4 hours ago</a></span> <span id=\"unv_21394352\"></span> | <a href=\"hide?id=21394352&amp;goto=news\">hide</a> | <a href=\"item?id=21394352\">2 comments</a> </td></tr>\n",
       "<tr class=\"spacer\" style=\"height:5px\"></tr>\n",
       "<tr class=\"athing\" id=\"21393758\">\n",
       "<td align=\"right\" class=\"title\" valign=\"top\"><span class=\"rank\">10.</span></td> <td class=\"votelinks\" valign=\"top\"><center><a href=\"vote?id=21393758&amp;how=up&amp;goto=news\" id=\"up_21393758\"><div class=\"votearrow\" title=\"upvote\"></div></a></center></td><td class=\"title\"><a class=\"storylink\" href=\"https://www.propublica.org/article/the-irs-tried-to-hide-emails-that-show-tax-industry-influence-over-free-file-program#169990\">IRS Tried to Hide Emails That Show Tax Industry Influence over Free File Program</a><span class=\"sitebit comhead\"> (<a href=\"from?site=propublica.org\"><span class=\"sitestr\">propublica.org</span></a>)</span></td></tr><tr><td colspan=\"2\"></td><td class=\"subtext\">\n",
       "<span class=\"score\" id=\"score_21393758\">349 points</span> by <a class=\"hnuser\" href=\"user?id=foob4r\">foob4r</a> <span class=\"age\"><a href=\"item?id=21393758\">6 hours ago</a></span> <span id=\"unv_21393758\"></span> | <a href=\"hide?id=21393758&amp;goto=news\">hide</a> | <a href=\"item?id=21393758\">89 comments</a> </td></tr>\n",
       "<tr class=\"spacer\" style=\"height:5px\"></tr>\n",
       "<tr class=\"athing\" id=\"21392803\">\n",
       "<td align=\"right\" class=\"title\" valign=\"top\"><span class=\"rank\">11.</span></td> <td class=\"votelinks\" valign=\"top\"><center><a href=\"vote?id=21392803&amp;how=up&amp;goto=news\" id=\"up_21392803\"><div class=\"votearrow\" title=\"upvote\"></div></a></center></td><td class=\"title\"><a class=\"storylink\" href=\"https://www.junglecoder.com/blog/nim-early-report\">Nim: Scripting Ease in a Compiled Language</a><span class=\"sitebit comhead\"> (<a href=\"from?site=junglecoder.com\"><span class=\"sitestr\">junglecoder.com</span></a>)</span></td></tr><tr><td colspan=\"2\"></td><td class=\"subtext\">\n",
       "<span class=\"score\" id=\"score_21392803\">151 points</span> by <a class=\"hnuser\" href=\"user?id=charlieflowers\">charlieflowers</a> <span class=\"age\"><a href=\"item?id=21392803\">9 hours ago</a></span> <span id=\"unv_21392803\"></span> | <a href=\"hide?id=21392803&amp;goto=news\">hide</a> | <a href=\"item?id=21392803\">81 comments</a> </td></tr>\n",
       "<tr class=\"spacer\" style=\"height:5px\"></tr>\n",
       "<tr class=\"athing\" id=\"21393585\">\n",
       "<td align=\"right\" class=\"title\" valign=\"top\"><span class=\"rank\">12.</span></td> <td class=\"votelinks\" valign=\"top\"><center><a href=\"vote?id=21393585&amp;how=up&amp;goto=news\" id=\"up_21393585\"><div class=\"votearrow\" title=\"upvote\"></div></a></center></td><td class=\"title\"><a class=\"storylink\" href=\"https://learningtopredict.github.io\">Learning to Predict Without Looking Ahead: World Models Without Fwd Prediction</a><span class=\"sitebit comhead\"> (<a href=\"from?site=learningtopredict.github.io\"><span class=\"sitestr\">learningtopredict.github.io</span></a>)</span></td></tr><tr><td colspan=\"2\"></td><td class=\"subtext\">\n",
       "<span class=\"score\" id=\"score_21393585\">77 points</span> by <a class=\"hnuser\" href=\"user?id=hardmaru\">hardmaru</a> <span class=\"age\"><a href=\"item?id=21393585\">7 hours ago</a></span> <span id=\"unv_21393585\"></span> | <a href=\"hide?id=21393585&amp;goto=news\">hide</a> | <a href=\"item?id=21393585\">discuss</a> </td></tr>\n",
       "<tr class=\"spacer\" style=\"height:5px\"></tr>\n",
       "<tr class=\"athing\" id=\"21383765\">\n",
       "<td align=\"right\" class=\"title\" valign=\"top\"><span class=\"rank\">13.</span></td> <td class=\"votelinks\" valign=\"top\"><center><a href=\"vote?id=21383765&amp;how=up&amp;goto=news\" id=\"up_21383765\"><div class=\"votearrow\" title=\"upvote\"></div></a></center></td><td class=\"title\"><a class=\"storylink\" href=\"https://github.com/bryanpkc/corkscrew\">CorkScrew: A tool for tunneling SSH through HTTP proxies</a><span class=\"sitebit comhead\"> (<a href=\"from?site=github.com\"><span class=\"sitestr\">github.com</span></a>)</span></td></tr><tr><td colspan=\"2\"></td><td class=\"subtext\">\n",
       "<span class=\"score\" id=\"score_21383765\">90 points</span> by <a class=\"hnuser\" href=\"user?id=dedalus\">dedalus</a> <span class=\"age\"><a href=\"item?id=21383765\">8 hours ago</a></span> <span id=\"unv_21383765\"></span> | <a href=\"hide?id=21383765&amp;goto=news\">hide</a> | <a href=\"item?id=21383765\">34 comments</a> </td></tr>\n",
       "<tr class=\"spacer\" style=\"height:5px\"></tr>\n",
       "<tr class=\"athing\" id=\"21394291\">\n",
       "<td align=\"right\" class=\"title\" valign=\"top\"><span class=\"rank\">14.</span></td> <td class=\"votelinks\" valign=\"top\"><center><a href=\"vote?id=21394291&amp;how=up&amp;goto=news\" id=\"up_21394291\"><div class=\"votearrow\" title=\"upvote\"></div></a></center></td><td class=\"title\"><a class=\"storylink\" href=\"http://arxiv.org/abs/1910.13012\">Multiplayer AlphaZero</a><span class=\"sitebit comhead\"> (<a href=\"from?site=arxiv.org\"><span class=\"sitestr\">arxiv.org</span></a>)</span></td></tr><tr><td colspan=\"2\"></td><td class=\"subtext\">\n",
       "<span class=\"score\" id=\"score_21394291\">32 points</span> by <a class=\"hnuser\" href=\"user?id=hardmaru\">hardmaru</a> <span class=\"age\"><a href=\"item?id=21394291\">5 hours ago</a></span> <span id=\"unv_21394291\"></span> | <a href=\"hide?id=21394291&amp;goto=news\">hide</a> | <a href=\"item?id=21394291\">7 comments</a> </td></tr>\n",
       "<tr class=\"spacer\" style=\"height:5px\"></tr>\n",
       "<tr class=\"athing\" id=\"21392007\">\n",
       "<td align=\"right\" class=\"title\" valign=\"top\"><span class=\"rank\">15.</span></td> <td class=\"votelinks\" valign=\"top\"><center><a href=\"vote?id=21392007&amp;how=up&amp;goto=news\" id=\"up_21392007\"><div class=\"votearrow\" title=\"upvote\"></div></a></center></td><td class=\"title\"><a class=\"storylink\" href=\"https://blog.counter-strike.net/index.php/2019/10/26113/\">Key Change</a><span class=\"sitebit comhead\"> (<a href=\"from?site=counter-strike.net\"><span class=\"sitestr\">counter-strike.net</span></a>)</span></td></tr><tr><td colspan=\"2\"></td><td class=\"subtext\">\n",
       "<span class=\"score\" id=\"score_21392007\">145 points</span> by <a class=\"hnuser\" href=\"user?id=janvdberg\">janvdberg</a> <span class=\"age\"><a href=\"item?id=21392007\">11 hours ago</a></span> <span id=\"unv_21392007\"></span> | <a href=\"hide?id=21392007&amp;goto=news\">hide</a> | <a href=\"item?id=21392007\">108 comments</a> </td></tr>\n",
       "<tr class=\"spacer\" style=\"height:5px\"></tr>\n",
       "<tr class=\"athing\" id=\"21385549\">\n",
       "<td align=\"right\" class=\"title\" valign=\"top\"><span class=\"rank\">16.</span></td> <td class=\"votelinks\" valign=\"top\"><center><a href=\"vote?id=21385549&amp;how=up&amp;goto=news\" id=\"up_21385549\"><div class=\"votearrow\" title=\"upvote\"></div></a></center></td><td class=\"title\"><a class=\"storylink\" href=\"http://www.os2museum.com/wp/pc-keyboard-the-first-five-years/\">PC Keyboard: The First Five Years</a><span class=\"sitebit comhead\"> (<a href=\"from?site=os2museum.com\"><span class=\"sitestr\">os2museum.com</span></a>)</span></td></tr><tr><td colspan=\"2\"></td><td class=\"subtext\">\n",
       "<span class=\"score\" id=\"score_21385549\">32 points</span> by <a class=\"hnuser\" href=\"user?id=soheilpro\">soheilpro</a> <span class=\"age\"><a href=\"item?id=21385549\">5 hours ago</a></span> <span id=\"unv_21385549\"></span> | <a href=\"hide?id=21385549&amp;goto=news\">hide</a> | <a href=\"item?id=21385549\">12 comments</a> </td></tr>\n",
       "<tr class=\"spacer\" style=\"height:5px\"></tr>\n",
       "<tr class=\"athing\" id=\"21383889\">\n",
       "<td align=\"right\" class=\"title\" valign=\"top\"><span class=\"rank\">17.</span></td> <td class=\"votelinks\" valign=\"top\"><center><a href=\"vote?id=21383889&amp;how=up&amp;goto=news\" id=\"up_21383889\"><div class=\"votearrow\" title=\"upvote\"></div></a></center></td><td class=\"title\"><a class=\"storylink\" href=\"https://www.youtube.com/watch?v=6_CZpFqvDQo\">35 Year-Old C64 Easter Egg Hidden on Vinyl [video]</a><span class=\"sitebit comhead\"> (<a href=\"from?site=youtube.com\"><span class=\"sitestr\">youtube.com</span></a>)</span></td></tr><tr><td colspan=\"2\"></td><td class=\"subtext\">\n",
       "<span class=\"score\" id=\"score_21383889\">190 points</span> by <a class=\"hnuser\" href=\"user?id=modinfo\">modinfo</a> <span class=\"age\"><a href=\"item?id=21383889\">13 hours ago</a></span> <span id=\"unv_21383889\"></span> | <a href=\"hide?id=21383889&amp;goto=news\">hide</a> | <a href=\"item?id=21383889\">37 comments</a> </td></tr>\n",
       "<tr class=\"spacer\" style=\"height:5px\"></tr>\n",
       "<tr class=\"athing\" id=\"21394222\">\n",
       "<td align=\"right\" class=\"title\" valign=\"top\"><span class=\"rank\">18.</span></td> <td class=\"votelinks\" valign=\"top\"><center><a href=\"vote?id=21394222&amp;how=up&amp;goto=news\" id=\"up_21394222\"><div class=\"votearrow\" title=\"upvote\"></div></a></center></td><td class=\"title\"><a class=\"storylink\" href=\"https://www.karma.fm/p/edveCfb/an-algorithm-for-karmas-product-market-fit\">Show HN: I created an algorithm to help me achieve Product-Market Fit</a><span class=\"sitebit comhead\"> (<a href=\"from?site=karma.fm\"><span class=\"sitestr\">karma.fm</span></a>)</span></td></tr><tr><td colspan=\"2\"></td><td class=\"subtext\">\n",
       "<span class=\"score\" id=\"score_21394222\">62 points</span> by <a class=\"hnuser\" href=\"user?id=eveFromKarmaFm\">eveFromKarmaFm</a> <span class=\"age\"><a href=\"item?id=21394222\">5 hours ago</a></span> <span id=\"unv_21394222\"></span> | <a href=\"hide?id=21394222&amp;goto=news\">hide</a> | <a href=\"item?id=21394222\">14 comments</a> </td></tr>\n",
       "<tr class=\"spacer\" style=\"height:5px\"></tr>\n",
       "<tr class=\"athing\" id=\"21390563\">\n",
       "<td align=\"right\" class=\"title\" valign=\"top\"><span class=\"rank\">19.</span></td> <td class=\"votelinks\" valign=\"top\"><center><a href=\"vote?id=21390563&amp;how=up&amp;goto=news\" id=\"up_21390563\"><div class=\"votearrow\" title=\"upvote\"></div></a></center></td><td class=\"title\"><a class=\"storylink\" href=\"https://gitlab.com/gitlab-org/growth/product/issues/164\">Gitlab cancels plan on tracking user behaviour on GitLab.com</a><span class=\"sitebit comhead\"> (<a href=\"from?site=gitlab.com\"><span class=\"sitestr\">gitlab.com</span></a>)</span></td></tr><tr><td colspan=\"2\"></td><td class=\"subtext\">\n",
       "<span class=\"score\" id=\"score_21390563\">518 points</span> by <a class=\"hnuser\" href=\"user?id=tyteen4a03\">tyteen4a03</a> <span class=\"age\"><a href=\"item?id=21390563\">13 hours ago</a></span> <span id=\"unv_21390563\"></span> | <a href=\"hide?id=21390563&amp;goto=news\">hide</a> | <a href=\"item?id=21390563\">218 comments</a> </td></tr>\n",
       "<tr class=\"spacer\" style=\"height:5px\"></tr>\n",
       "<tr class=\"athing\" id=\"21384800\">\n",
       "<td align=\"right\" class=\"title\" valign=\"top\"><span class=\"rank\">20.</span></td> <td class=\"votelinks\" valign=\"top\"><center><a href=\"vote?id=21384800&amp;how=up&amp;goto=news\" id=\"up_21384800\"><div class=\"votearrow\" title=\"upvote\"></div></a></center></td><td class=\"title\"><a class=\"storylink\" href=\"https://phab.mercurial-scm.org/D6734\">Mercurial RFC of a new extension to directly operate on Git repositories</a><span class=\"sitebit comhead\"> (<a href=\"from?site=mercurial-scm.org\"><span class=\"sitestr\">mercurial-scm.org</span></a>)</span></td></tr><tr><td colspan=\"2\"></td><td class=\"subtext\">\n",
       "<span class=\"score\" id=\"score_21384800\">113 points</span> by <a class=\"hnuser\" href=\"user?id=luu\">luu</a> <span class=\"age\"><a href=\"item?id=21384800\">11 hours ago</a></span> <span id=\"unv_21384800\"></span> | <a href=\"hide?id=21384800&amp;goto=news\">hide</a> | <a href=\"item?id=21384800\">99 comments</a> </td></tr>\n",
       "<tr class=\"spacer\" style=\"height:5px\"></tr>\n",
       "<tr class=\"athing\" id=\"21384341\">\n",
       "<td align=\"right\" class=\"title\" valign=\"top\"><span class=\"rank\">21.</span></td> <td class=\"votelinks\" valign=\"top\"><center><a href=\"vote?id=21384341&amp;how=up&amp;goto=news\" id=\"up_21384341\"><div class=\"votearrow\" title=\"upvote\"></div></a></center></td><td class=\"title\"><a class=\"storylink\" href=\"https://www.theguardian.com/lifeandstyle/2019/jun/14/the-mindfulness-conspiracy-capitalist-spirituality\" rel=\"nofollow\">The Mindfulness Conspiracy</a><span class=\"sitebit comhead\"> (<a href=\"from?site=theguardian.com\"><span class=\"sitestr\">theguardian.com</span></a>)</span></td></tr><tr><td colspan=\"2\"></td><td class=\"subtext\">\n",
       "<span class=\"score\" id=\"score_21384341\">3 points</span> by <a class=\"hnuser\" href=\"user?id=acsillag\">acsillag</a> <span class=\"age\"><a href=\"item?id=21384341\">1 hour ago</a></span> <span id=\"unv_21384341\"></span> | <a href=\"hide?id=21384341&amp;goto=news\">hide</a> | <a href=\"item?id=21384341\">discuss</a> </td></tr>\n",
       "<tr class=\"spacer\" style=\"height:5px\"></tr>\n",
       "<tr class=\"athing\" id=\"21395015\">\n",
       "<td align=\"right\" class=\"title\" valign=\"top\"><span class=\"rank\">22.</span></td> <td></td><td class=\"title\"><a class=\"storylink\" href=\"https://www.tesorio.com/careers#job-openings\" rel=\"nofollow\">Tesorio (YC S15) Is Hiring a Head of Integrations</a><span class=\"sitebit comhead\"> (<a href=\"from?site=tesorio.com\"><span class=\"sitestr\">tesorio.com</span></a>)</span></td></tr><tr><td colspan=\"2\"></td><td class=\"subtext\">\n",
       "<span class=\"age\"><a href=\"item?id=21395015\">2 hours ago</a></span> | <a href=\"hide?id=21395015&amp;goto=news\">hide</a> </td></tr>\n",
       "<tr class=\"spacer\" style=\"height:5px\"></tr>\n",
       "<tr class=\"athing\" id=\"21384065\">\n",
       "<td align=\"right\" class=\"title\" valign=\"top\"><span class=\"rank\">23.</span></td> <td class=\"votelinks\" valign=\"top\"><center><a href=\"vote?id=21384065&amp;how=up&amp;goto=news\" id=\"up_21384065\"><div class=\"votearrow\" title=\"upvote\"></div></a></center></td><td class=\"title\"><a class=\"storylink\" href=\"https://www.smart-biology.com\">Cell and Molecular Biology Animated Textbooks</a><span class=\"sitebit comhead\"> (<a href=\"from?site=smart-biology.com\"><span class=\"sitestr\">smart-biology.com</span></a>)</span></td></tr><tr><td colspan=\"2\"></td><td class=\"subtext\">\n",
       "<span class=\"score\" id=\"score_21384065\">73 points</span> by <a class=\"hnuser\" href=\"user?id=snailletters\">snailletters</a> <span class=\"age\"><a href=\"item?id=21384065\">10 hours ago</a></span> <span id=\"unv_21384065\"></span> | <a href=\"hide?id=21384065&amp;goto=news\">hide</a> | <a href=\"item?id=21384065\">18 comments</a> </td></tr>\n",
       "<tr class=\"spacer\" style=\"height:5px\"></tr>\n",
       "<tr class=\"athing\" id=\"21384393\">\n",
       "<td align=\"right\" class=\"title\" valign=\"top\"><span class=\"rank\">24.</span></td> <td class=\"votelinks\" valign=\"top\"><center><a href=\"vote?id=21384393&amp;how=up&amp;goto=news\" id=\"up_21384393\"><div class=\"votearrow\" title=\"upvote\"></div></a></center></td><td class=\"title\"><a class=\"storylink\" href=\"https://www.cia.gov/library/center-for-the-study-of-intelligence/kent-csi/vol2no4/html/v02i4a11p_0001.htm\">The Mail from Budapest (1993)</a><span class=\"sitebit comhead\"> (<a href=\"from?site=cia.gov\"><span class=\"sitestr\">cia.gov</span></a>)</span></td></tr><tr><td colspan=\"2\"></td><td class=\"subtext\">\n",
       "<span class=\"score\" id=\"score_21384393\">12 points</span> by <a class=\"hnuser\" href=\"user?id=never-the-bride\">never-the-bride</a> <span class=\"age\"><a href=\"item?id=21384393\">3 hours ago</a></span> <span id=\"unv_21384393\"></span> | <a href=\"hide?id=21384393&amp;goto=news\">hide</a> | <a href=\"item?id=21384393\">discuss</a> </td></tr>\n",
       "<tr class=\"spacer\" style=\"height:5px\"></tr>\n",
       "<tr class=\"athing\" id=\"21384339\">\n",
       "<td align=\"right\" class=\"title\" valign=\"top\"><span class=\"rank\">25.</span></td> <td class=\"votelinks\" valign=\"top\"><center><a href=\"vote?id=21384339&amp;how=up&amp;goto=news\" id=\"up_21384339\"><div class=\"votearrow\" title=\"upvote\"></div></a></center></td><td class=\"title\"><a class=\"storylink\" href=\"https://www.nytimes.com/2019/03/11/upshot/a-diabetes-home-test-can-be-a-waste-of-time-of-money.html\">Routine glucose monitoring may be unnecessary for people with Type 2 diabetes</a><span class=\"sitebit comhead\"> (<a href=\"from?site=nytimes.com\"><span class=\"sitestr\">nytimes.com</span></a>)</span></td></tr><tr><td colspan=\"2\"></td><td class=\"subtext\">\n",
       "<span class=\"score\" id=\"score_21384339\">29 points</span> by <a class=\"hnuser\" href=\"user?id=signor_bosco\">signor_bosco</a> <span class=\"age\"><a href=\"item?id=21384339\">6 hours ago</a></span> <span id=\"unv_21384339\"></span> | <a href=\"hide?id=21384339&amp;goto=news\">hide</a> | <a href=\"item?id=21384339\">19 comments</a> </td></tr>\n",
       "<tr class=\"spacer\" style=\"height:5px\"></tr>\n",
       "<tr class=\"athing\" id=\"21391195\">\n",
       "<td align=\"right\" class=\"title\" valign=\"top\"><span class=\"rank\">26.</span></td> <td class=\"votelinks\" valign=\"top\"><center><a href=\"vote?id=21391195&amp;how=up&amp;goto=news\" id=\"up_21391195\"><div class=\"votearrow\" title=\"upvote\"></div></a></center></td><td class=\"title\"><a class=\"storylink\" href=\"https://dkthehuman.com/slowtube\">Show HN: SlowTube – Learn songs by ear by slowing them down</a><span class=\"sitebit comhead\"> (<a href=\"from?site=dkthehuman.com\"><span class=\"sitestr\">dkthehuman.com</span></a>)</span></td></tr><tr><td colspan=\"2\"></td><td class=\"subtext\">\n",
       "<span class=\"score\" id=\"score_21391195\">111 points</span> by <a class=\"hnuser\" href=\"user?id=dkthehuman\">dkthehuman</a> <span class=\"age\"><a href=\"item?id=21391195\">12 hours ago</a></span> <span id=\"unv_21391195\"></span> | <a href=\"hide?id=21391195&amp;goto=news\">hide</a> | <a href=\"item?id=21391195\">32 comments</a> </td></tr>\n",
       "<tr class=\"spacer\" style=\"height:5px\"></tr>\n",
       "<tr class=\"athing\" id=\"21384395\">\n",
       "<td align=\"right\" class=\"title\" valign=\"top\"><span class=\"rank\">27.</span></td> <td class=\"votelinks\" valign=\"top\"><center><a href=\"vote?id=21384395&amp;how=up&amp;goto=news\" id=\"up_21384395\"><div class=\"votearrow\" title=\"upvote\"></div></a></center></td><td class=\"title\"><a class=\"storylink\" href=\"https://www.theatlantic.com/science/archive/2019/10/search-dark-matter-depends-ancient-shipwrecks/600718/\">Physicists searching for dark matter using lead from the bottom of the sea</a><span class=\"sitebit comhead\"> (<a href=\"from?site=theatlantic.com\"><span class=\"sitestr\">theatlantic.com</span></a>)</span></td></tr><tr><td colspan=\"2\"></td><td class=\"subtext\">\n",
       "<span class=\"score\" id=\"score_21384395\">30 points</span> by <a class=\"hnuser\" href=\"user?id=sohkamyung\">sohkamyung</a> <span class=\"age\"><a href=\"item?id=21384395\">7 hours ago</a></span> <span id=\"unv_21384395\"></span> | <a href=\"hide?id=21384395&amp;goto=news\">hide</a> | <a href=\"item?id=21384395\">9 comments</a> </td></tr>\n",
       "<tr class=\"spacer\" style=\"height:5px\"></tr>\n",
       "<tr class=\"athing\" id=\"21392784\">\n",
       "<td align=\"right\" class=\"title\" valign=\"top\"><span class=\"rank\">28.</span></td> <td class=\"votelinks\" valign=\"top\"><center><a href=\"vote?id=21392784&amp;how=up&amp;goto=news\" id=\"up_21392784\"><div class=\"votearrow\" title=\"upvote\"></div></a></center></td><td class=\"title\"><a class=\"storylink\" href=\"https://alexdanco.com/2019/10/26/everything-is-amazing-but-nothing-is-ours/\">Everything is amazing, but nothing is ours</a><span class=\"sitebit comhead\"> (<a href=\"from?site=alexdanco.com\"><span class=\"sitestr\">alexdanco.com</span></a>)</span></td></tr><tr><td colspan=\"2\"></td><td class=\"subtext\">\n",
       "<span class=\"score\" id=\"score_21392784\">277 points</span> by <a class=\"hnuser\" href=\"user?id=yankcrime\">yankcrime</a> <span class=\"age\"><a href=\"item?id=21392784\">9 hours ago</a></span> <span id=\"unv_21392784\"></span> | <a href=\"hide?id=21392784&amp;goto=news\">hide</a> | <a href=\"item?id=21392784\">131 comments</a> </td></tr>\n",
       "<tr class=\"spacer\" style=\"height:5px\"></tr>\n",
       "<tr class=\"athing\" id=\"21392565\">\n",
       "<td align=\"right\" class=\"title\" valign=\"top\"><span class=\"rank\">29.</span></td> <td class=\"votelinks\" valign=\"top\"><center><a href=\"vote?id=21392565&amp;how=up&amp;goto=news\" id=\"up_21392565\"><div class=\"votearrow\" title=\"upvote\"></div></a></center></td><td class=\"title\"><a class=\"storylink\" href=\"https://krebsonsecurity.com/2019/10/takeaways-from-the-566m-briansclub-breach/\">Takeaways from the $566M BriansClub Breach</a><span class=\"sitebit comhead\"> (<a href=\"from?site=krebsonsecurity.com\"><span class=\"sitestr\">krebsonsecurity.com</span></a>)</span></td></tr><tr><td colspan=\"2\"></td><td class=\"subtext\">\n",
       "<span class=\"score\" id=\"score_21392565\">51 points</span> by <a class=\"hnuser\" href=\"user?id=QuitterStrip\">QuitterStrip</a> <span class=\"age\"><a href=\"item?id=21392565\">10 hours ago</a></span> <span id=\"unv_21392565\"></span> | <a href=\"hide?id=21392565&amp;goto=news\">hide</a> | <a href=\"item?id=21392565\">10 comments</a> </td></tr>\n",
       "<tr class=\"spacer\" style=\"height:5px\"></tr>\n",
       "<tr class=\"athing\" id=\"21389613\">\n",
       "<td align=\"right\" class=\"title\" valign=\"top\"><span class=\"rank\">30.</span></td> <td class=\"votelinks\" valign=\"top\"><center><a href=\"vote?id=21389613&amp;how=up&amp;goto=news\" id=\"up_21389613\"><div class=\"votearrow\" title=\"upvote\"></div></a></center></td><td class=\"title\"><a class=\"storylink\" href=\"https://ai.facebook.com/blog/pushing-state-of-the-art-in-3d-content-understanding/\">Recent advances in 3D content understanding</a><span class=\"sitebit comhead\"> (<a href=\"from?site=facebook.com\"><span class=\"sitestr\">facebook.com</span></a>)</span></td></tr><tr><td colspan=\"2\"></td><td class=\"subtext\">\n",
       "<span class=\"score\" id=\"score_21389613\">81 points</span> by <a class=\"hnuser\" href=\"user?id=jimarcey\">jimarcey</a> <span class=\"age\"><a href=\"item?id=21389613\">14 hours ago</a></span> <span id=\"unv_21389613\"></span> | <a href=\"hide?id=21389613&amp;goto=news\">hide</a> | <a href=\"item?id=21389613\">14 comments</a> </td></tr>\n",
       "<tr class=\"spacer\" style=\"height:5px\"></tr>\n",
       "<tr class=\"morespace\" style=\"height:10px\"></tr><tr><td colspan=\"2\"></td><td class=\"title\"><a class=\"morelink\" href=\"news?p=2\" rel=\"next\">More</a></td></tr>\n",
       "</table>\n",
       "</td></tr>\n",
       "<tr><td><img height=\"10\" src=\"s.gif\" width=\"0\"/><table cellpadding=\"1\" cellspacing=\"0\" width=\"100%\"><tr><td bgcolor=\"#ff6600\"></td></tr></table><br/><center><span class=\"yclinks\"><a href=\"newsguidelines.html\">Guidelines</a>\n",
       "        | <a href=\"newsfaq.html\">FAQ</a>\n",
       "        | <a href=\"mailto:hn@ycombinator.com\">Support</a>\n",
       "        | <a href=\"https://github.com/HackerNews/API\">API</a>\n",
       "        | <a href=\"security.html\">Security</a>\n",
       "        | <a href=\"lists\">Lists</a>\n",
       "        | <a href=\"bookmarklet.html\" rel=\"nofollow\">Bookmarklet</a>\n",
       "        | <a href=\"http://www.ycombinator.com/legal/\">Legal</a>\n",
       "        | <a href=\"http://www.ycombinator.com/apply/\">Apply to YC</a>\n",
       "        | <a href=\"mailto:hn@ycombinator.com\">Contact</a></span><br/><br/><form action=\"//hn.algolia.com/\" method=\"get\">Search:\n",
       "          <input autocapitalize=\"off\" autocomplete=\"false\" autocorrect=\"off\" name=\"q\" size=\"17\" spellcheck=\"false\" type=\"text\" value=\"\"/></form>\n",
       "</center></td></tr>\n",
       "</table></center></body>"
      ]
     },
     "execution_count": 6,
     "metadata": {},
     "output_type": "execute_result"
    }
   ],
   "source": [
    "page_soup.body"
   ]
  },
  {
   "cell_type": "code",
   "execution_count": 7,
   "metadata": {},
   "outputs": [
    {
     "data": {
      "text/plain": [
       "<title>Hacker News</title>"
      ]
     },
     "execution_count": 7,
     "metadata": {},
     "output_type": "execute_result"
    }
   ],
   "source": [
    "page_soup.title"
   ]
  },
  {
   "cell_type": "code",
   "execution_count": 8,
   "metadata": {},
   "outputs": [
    {
     "data": {
      "text/plain": [
       "<span class=\"pagetop\"><b class=\"hnname\"><a href=\"news\">Hacker News</a></b>\n",
       "<a href=\"newest\">new</a> | <a href=\"front\">past</a> | <a href=\"newcomments\">comments</a> | <a href=\"ask\">ask</a> | <a href=\"show\">show</a> | <a href=\"jobs\">jobs</a> | <a href=\"submit\">submit</a> </span>"
      ]
     },
     "execution_count": 8,
     "metadata": {},
     "output_type": "execute_result"
    }
   ],
   "source": [
    "page_soup.body.span"
   ]
  },
  {
   "cell_type": "code",
   "execution_count": 9,
   "metadata": {},
   "outputs": [
    {
     "data": {
      "text/plain": [
       "<a href=\"https://news.ycombinator.com\"><img height=\"18\" src=\"y18.gif\" style=\"border:1px white solid;\" width=\"18\"/></a>"
      ]
     },
     "execution_count": 9,
     "metadata": {},
     "output_type": "execute_result"
    }
   ],
   "source": [
    "page_soup.a"
   ]
  },
  {
   "cell_type": "code",
   "execution_count": 10,
   "metadata": {},
   "outputs": [
    {
     "data": {
      "text/plain": [
       "30"
      ]
     },
     "execution_count": 10,
     "metadata": {},
     "output_type": "execute_result"
    }
   ],
   "source": [
    "objects = page_soup.findAll(\"tr\",{\"class\":\"athing\"}) ## i would like to split the articles\n",
    "## from insepct, it seemed that the articles were split by <tr class = \"athing\"...\n",
    "len(objects)"
   ]
  },
  {
   "cell_type": "code",
   "execution_count": 11,
   "metadata": {},
   "outputs": [
    {
     "data": {
      "text/plain": [
       "<tr class=\"athing\" id=\"21394678\">\n",
       "<td align=\"right\" class=\"title\" valign=\"top\"><span class=\"rank\">1.</span></td> <td class=\"votelinks\" valign=\"top\"><center><a href=\"vote?id=21394678&amp;how=up&amp;goto=news\" id=\"up_21394678\"><div class=\"votearrow\" title=\"upvote\"></div></a></center></td><td class=\"title\"><a class=\"storylink\" href=\"https://github.com/whitequark/unfork/blob/master/README.md\">Unfork()</a><span class=\"sitebit comhead\"> (<a href=\"from?site=github.com\"><span class=\"sitestr\">github.com</span></a>)</span></td></tr>"
      ]
     },
     "execution_count": 11,
     "metadata": {},
     "output_type": "execute_result"
    }
   ],
   "source": [
    "objects[0]"
   ]
  },
  {
   "cell_type": "code",
   "execution_count": 12,
   "metadata": {},
   "outputs": [
    {
     "data": {
      "text/plain": [
       "'1.'"
      ]
     },
     "execution_count": 12,
     "metadata": {},
     "output_type": "execute_result"
    }
   ],
   "source": [
    "objects3 = page_soup.findAll(\"span\",{\"class\":\"rank\"})  ## < span class=\"rank\"> 1. < /span> </td>\n",
    "objects3[0].text ## we obtained the rank"
   ]
  },
  {
   "cell_type": "code",
   "execution_count": 14,
   "metadata": {},
   "outputs": [
    {
     "data": {
      "text/plain": [
       "'Unfork()'"
      ]
     },
     "execution_count": 14,
     "metadata": {},
     "output_type": "execute_result"
    }
   ],
   "source": [
    "objects4 = page_soup.findAll(\"a\",{\"class\":\"storylink\"})\n",
    "objects4[0].text ## we obtained the header title"
   ]
  },
  {
   "cell_type": "code",
   "execution_count": 15,
   "metadata": {},
   "outputs": [
    {
     "data": {
      "text/plain": [
       "'\\ntr class=\"athing\" id=\"21384158\">\\n    < td align=\"right\" class=\"title\" valign=\"top\">\\n        < span class=\"rank\"> 1. < /span> </td>\\n                < td class=\"votelinks\" valign=\"top\">\\n                    < center>\\n                        < a href=\"vote?id=21384158&amp;how=up&amp;goto=news\" id=\"up_21384158\">\\n                            < div class=\"votearrow\" title=\"upvote\">\\n                                < /div> </a>\\n                                    < /center> </td>\\n                                        < td class=\"title\">\\n                                            < a class=\"storylink\"      href=\"https://lord.io/blog/2019/text-editing-hates-you-too/\"> Text Editing Hates You Too < /a> <span class=\"sitebit comhead\"> (<a href=\"from?site=lord.io\"><span class=\"sitestr\">lord.io</span>\\n                                                        < /a>) </span>\\n                                                            < /td> </tr> '"
      ]
     },
     "execution_count": 15,
     "metadata": {},
     "output_type": "execute_result"
    }
   ],
   "source": [
    "'''\n",
    "tr class=\"athing\" id=\"21384158\">\n",
    "    < td align=\"right\" class=\"title\" valign=\"top\">\n",
    "        < span class=\"rank\"> 1. < /span> </td>\n",
    "                < td class=\"votelinks\" valign=\"top\">\n",
    "                    < center>\n",
    "                        < a href=\"vote?id=21384158&amp;how=up&amp;goto=news\" id=\"up_21384158\">\n",
    "                            < div class=\"votearrow\" title=\"upvote\">\n",
    "                                < /div> </a>\n",
    "                                    < /center> </td>\n",
    "                                        < td class=\"title\">\n",
    "                                            < a class=\"storylink\"      href=\"https://lord.io/blog/2019/text-editing-hates-you-too/\"> Text Editing Hates You Too < /a> <span class=\"sitebit comhead\"> (<a href=\"from?site=lord.io\"><span class=\"sitestr\">lord.io</span>\n",
    "                                                        < /a>) </span>\n",
    "                                                            < /td> </tr> '''\n",
    "\n",
    "# this is the html code for the athing class in organised structure ( used html beautifier )"
   ]
  },
  {
   "cell_type": "code",
   "execution_count": 17,
   "metadata": {},
   "outputs": [
    {
     "data": {
      "text/plain": [
       "'191 points'"
      ]
     },
     "execution_count": 17,
     "metadata": {},
     "output_type": "execute_result"
    }
   ],
   "source": [
    "## now we obtain user id\n",
    "\n",
    "objects5 = page_soup.findAll(\"span\",{\"class\":\"score\"})\n",
    "objects6 = page_soup.findAll(\"td\",{\"class\":\"subtext\"})\n",
    "objects7 = page_soup.findAll(\"span\",{\"class\":\"sitebit comhead\"})\n",
    "objects5[0].text ## we obtained the score of the article, whatever that means"
   ]
  },
  {
   "cell_type": "code",
   "execution_count": 119,
   "metadata": {},
   "outputs": [
    {
     "name": "stdout",
     "output_type": "stream",
     "text": [
      "https://www.reuters.com/article/us-facebook-cyber-whatsapp-nsogroup/whatsapp-sues-israels-nso-for-allegedly-helping-spies-hack-phones-around-the-world-idUSKBN1X82BE\n"
     ]
    }
   ],
   "source": [
    "import re\n",
    "\n",
    "links = []\n",
    "for link in page_soup.findAll('a', attrs={'href': re.compile(\"://\")}):\n",
    "        links.append(link.get('href'))\n",
    "\n",
    "\n",
    "print(links[3])\n",
    "\n",
    "## obtained all links\n",
    "\n",
    "\n"
   ]
  },
  {
   "cell_type": "code",
   "execution_count": 99,
   "metadata": {},
   "outputs": [
    {
     "data": {
      "text/plain": [
       "'https://www.smart-biology.com'"
      ]
     },
     "execution_count": 99,
     "metadata": {},
     "output_type": "execute_result"
    }
   ],
   "source": [
    "objects8 = page_soup.findAll('a', attrs={'href': re.compile(\".com\")})\n",
    "objects8[30].get('href')"
   ]
  },
  {
   "cell_type": "code",
   "execution_count": 48,
   "metadata": {},
   "outputs": [
    {
     "data": {
      "text/plain": [
       "'\\n191 points by salgernon 3 hours ago  | hide | 31\\xa0comments '"
      ]
     },
     "execution_count": 48,
     "metadata": {},
     "output_type": "execute_result"
    }
   ],
   "source": [
    "objects6[0].text ## the subtext of the article, this changes on a constant basis"
   ]
  },
  {
   "cell_type": "code",
   "execution_count": 19,
   "metadata": {},
   "outputs": [
    {
     "data": {
      "text/plain": [
       "' (github.com)'"
      ]
     },
     "execution_count": 19,
     "metadata": {},
     "output_type": "execute_result"
    }
   ],
   "source": [
    "objects7[0].text ## author of article"
   ]
  },
  {
   "cell_type": "code",
   "execution_count": 127,
   "metadata": {},
   "outputs": [
    {
     "name": "stdout",
     "output_type": "stream",
     "text": [
      "Rank: 1.\n",
      "Title: Unfork()\n",
      "Points: 191 points\n",
      "Subtext: \n",
      "191 points by salgernon 3 hours ago  | hide | 31 comments \n",
      "Author:  (github.com)\n",
      "Url: https://github.com/whitequark/unfork/blob/master/README.md\n",
      "\n",
      "\n",
      "Rank: 2.\n",
      "Title: Close Encounter with a Gigantic Jet\n",
      "Points: 149 points\n",
      "Subtext: \n",
      "149 points by nabilhat 5 hours ago  | hide | 9 comments \n",
      "Author:  (spaceweatherarchive.com)\n",
      "Url: https://spaceweatherarchive.com/2019/10/25/close-encounter-with-a-gigantic-jet/\n",
      "\n",
      "\n",
      "Rank: 3.\n",
      "Title: WhatsApp sues NSO Group for allegedly helping spies hack phones around the world\n",
      "Points: 390 points\n",
      "Subtext: \n",
      "390 points by adventured 10 hours ago  | hide | 185 comments \n",
      "Author:  (reuters.com)\n",
      "Url: https://www.reuters.com/article/us-facebook-cyber-whatsapp-nsogroup/whatsapp-sues-israels-nso-for-allegedly-helping-spies-hack-phones-around-the-world-idUSKBN1X82BE\n",
      "\n",
      "\n",
      "Rank: 4.\n",
      "Title: Juul Shipped At Least 1M Contaminated Pods, New Lawsuit Says\n",
      "Points: 134 points\n",
      "Subtext: \n",
      "134 points by JumpCrisscross 5 hours ago  | hide | 65 comments \n",
      "Author:  (buzzfeednews.com)\n",
      "Url: https://www.buzzfeednews.com/article/stephaniemlee/juul-lawsuit-contaminated-pods\n",
      "\n",
      "\n",
      "Rank: 5.\n",
      "Title: Six cars aced new pedestrian detection tests\n",
      "Points: 16 points\n",
      "Subtext: \n",
      "16 points by Tomte 2 hours ago  | hide | 14 comments \n",
      "Author:  (arstechnica.com)\n",
      "Url: https://arstechnica.com/cars/2019/10/six-cars-that-could-prevent-you-from-hitting-a-pedestrian/\n",
      "\n",
      "\n",
      "Rank: 6.\n",
      "Title: Oberon (Operating System)\n",
      "Points: 51 points\n",
      "Subtext: \n",
      "51 points by JNRowe 4 hours ago  | hide | 10 comments \n",
      "Author:  (wikipedia.org)\n",
      "Url: https://en.wikipedia.org/wiki/Oberon_(operating_system)\n",
      "\n",
      "\n",
      "Rank: 7.\n",
      "Title: Nokia’s collapse turned a sleepy town in Finland into an internet wonderland\n",
      "Points: 37 points\n",
      "Subtext: \n",
      "37 points by lnguyen 3 hours ago  | hide | 10 comments \n",
      "Author:  (qz.com)\n",
      "Url: https://qz.com/1720214/how-nokias-collapse-turned-oulu-into-an-internet-wonderland/\n",
      "\n",
      "\n",
      "Rank: 8.\n",
      "Title: Notepad++ issues attacked by Chinese commenters\n",
      "Points: 70 points\n",
      "Subtext: \n",
      "70 points by shp0ngle 1 hour ago  | hide | 36 comments \n",
      "Author:  (github.com)\n",
      "Url: https://github.com/notepad-plus-plus/notepad-plus-plus/issues\n",
      "\n",
      "\n",
      "Rank: 9.\n",
      "Title: Machine and Deep Learning with OCaml Natively\n",
      "Points: 42 points\n",
      "Subtext: \n",
      "42 points by xvilka 4 hours ago  | hide | 2 comments \n",
      "Author:  (ocaml.xyz)\n",
      "Url: https://ocaml.xyz/chapter/neural.html\n",
      "\n",
      "\n",
      "Rank: 10.\n",
      "Title: IRS Tried to Hide Emails That Show Tax Industry Influence over Free File Program\n",
      "Points: 349 points\n",
      "Subtext: \n",
      "349 points by foob4r 6 hours ago  | hide | 89 comments \n",
      "Author:  (propublica.org)\n",
      "Url: https://www.propublica.org/article/the-irs-tried-to-hide-emails-that-show-tax-industry-influence-over-free-file-program#169990\n",
      "\n",
      "\n",
      "Rank: 11.\n",
      "Title: Nim: Scripting Ease in a Compiled Language\n",
      "Points: 151 points\n",
      "Subtext: \n",
      "151 points by charlieflowers 9 hours ago  | hide | 81 comments \n",
      "Author:  (junglecoder.com)\n",
      "Url: https://www.junglecoder.com/blog/nim-early-report\n",
      "\n",
      "\n",
      "Rank: 12.\n",
      "Title: Learning to Predict Without Looking Ahead: World Models Without Fwd Prediction\n",
      "Points: 77 points\n",
      "Subtext: \n",
      "77 points by hardmaru 7 hours ago  | hide | discuss \n",
      "Author:  (learningtopredict.github.io)\n",
      "Url: https://learningtopredict.github.io\n",
      "\n",
      "\n",
      "Rank: 13.\n",
      "Title: CorkScrew: A tool for tunneling SSH through HTTP proxies\n",
      "Points: 90 points\n",
      "Subtext: \n",
      "90 points by dedalus 8 hours ago  | hide | 34 comments \n",
      "Author:  (github.com)\n",
      "Url: https://github.com/bryanpkc/corkscrew\n",
      "\n",
      "\n",
      "Rank: 14.\n",
      "Title: Multiplayer AlphaZero\n",
      "Points: 32 points\n",
      "Subtext: \n",
      "32 points by hardmaru 5 hours ago  | hide | 7 comments \n",
      "Author:  (arxiv.org)\n",
      "Url: http://arxiv.org/abs/1910.13012\n",
      "\n",
      "\n",
      "Rank: 15.\n",
      "Title: Key Change\n",
      "Points: 145 points\n",
      "Subtext: \n",
      "145 points by janvdberg 11 hours ago  | hide | 108 comments \n",
      "Author:  (counter-strike.net)\n",
      "Url: https://blog.counter-strike.net/index.php/2019/10/26113/\n",
      "\n",
      "\n",
      "Rank: 16.\n",
      "Title: PC Keyboard: The First Five Years\n",
      "Points: 32 points\n",
      "Subtext: \n",
      "32 points by soheilpro 5 hours ago  | hide | 12 comments \n",
      "Author:  (os2museum.com)\n",
      "Url: http://www.os2museum.com/wp/pc-keyboard-the-first-five-years/\n",
      "\n",
      "\n",
      "Rank: 17.\n",
      "Title: 35 Year-Old C64 Easter Egg Hidden on Vinyl [video]\n",
      "Points: 190 points\n",
      "Subtext: \n",
      "190 points by modinfo 13 hours ago  | hide | 37 comments \n",
      "Author:  (youtube.com)\n",
      "Url: https://www.youtube.com/watch?v=6_CZpFqvDQo\n",
      "\n",
      "\n",
      "Rank: 18.\n",
      "Title: Show HN: I created an algorithm to help me achieve Product-Market Fit\n",
      "Points: 62 points\n",
      "Subtext: \n",
      "62 points by eveFromKarmaFm 5 hours ago  | hide | 14 comments \n",
      "Author:  (karma.fm)\n",
      "Url: https://www.karma.fm/p/edveCfb/an-algorithm-for-karmas-product-market-fit\n",
      "\n",
      "\n",
      "Rank: 19.\n",
      "Title: Gitlab cancels plan on tracking user behaviour on GitLab.com\n",
      "Points: 518 points\n",
      "Subtext: \n",
      "518 points by tyteen4a03 13 hours ago  | hide | 218 comments \n",
      "Author:  (gitlab.com)\n",
      "Url: https://gitlab.com/gitlab-org/growth/product/issues/164\n",
      "\n",
      "\n",
      "Rank: 20.\n",
      "Title: Mercurial RFC of a new extension to directly operate on Git repositories\n",
      "Points: 113 points\n",
      "Subtext: \n",
      "113 points by luu 11 hours ago  | hide | 99 comments \n",
      "Author:  (mercurial-scm.org)\n",
      "Url: https://phab.mercurial-scm.org/D6734\n",
      "\n",
      "\n",
      "Rank: 21.\n",
      "Title: The Mindfulness Conspiracy\n",
      "Points: 3 points\n",
      "Subtext: \n",
      "3 points by acsillag 1 hour ago  | hide | discuss \n",
      "Author:  (theguardian.com)\n",
      "Url: https://www.theguardian.com/lifeandstyle/2019/jun/14/the-mindfulness-conspiracy-capitalist-spirituality\n",
      "\n",
      "\n",
      "Rank: 22.\n",
      "Title: Tesorio (YC S15) Is Hiring a Head of Integrations\n",
      "Points: 73 points\n",
      "Subtext: \n",
      "2 hours ago | hide \n",
      "Author:  (tesorio.com)\n",
      "Url: https://www.tesorio.com/careers#job-openings\n",
      "\n",
      "\n",
      "Rank: 23.\n",
      "Title: Cell and Molecular Biology Animated Textbooks\n",
      "Points: 12 points\n",
      "Subtext: \n",
      "73 points by snailletters 10 hours ago  | hide | 18 comments \n",
      "Author:  (smart-biology.com)\n",
      "Url: https://www.smart-biology.com\n",
      "\n",
      "\n",
      "Rank: 24.\n",
      "Title: The Mail from Budapest (1993)\n",
      "Points: 29 points\n",
      "Subtext: \n",
      "12 points by never-the-bride 3 hours ago  | hide | discuss \n",
      "Author:  (cia.gov)\n",
      "Url: https://www.cia.gov/library/center-for-the-study-of-intelligence/kent-csi/vol2no4/html/v02i4a11p_0001.htm\n",
      "\n",
      "\n",
      "Rank: 25.\n",
      "Title: Routine glucose monitoring may be unnecessary for people with Type 2 diabetes\n",
      "Points: 111 points\n",
      "Subtext: \n",
      "29 points by signor_bosco 6 hours ago  | hide | 19 comments \n",
      "Author:  (nytimes.com)\n",
      "Url: https://www.nytimes.com/2019/03/11/upshot/a-diabetes-home-test-can-be-a-waste-of-time-of-money.html\n",
      "\n",
      "\n",
      "Rank: 26.\n",
      "Title: Show HN: SlowTube – Learn songs by ear by slowing them down\n",
      "Points: 30 points\n",
      "Subtext: \n",
      "111 points by dkthehuman 12 hours ago  | hide | 32 comments \n",
      "Author:  (dkthehuman.com)\n",
      "Url: https://dkthehuman.com/slowtube\n",
      "\n",
      "\n",
      "Rank: 27.\n",
      "Title: Physicists searching for dark matter using lead from the bottom of the sea\n",
      "Points: 277 points\n",
      "Subtext: \n",
      "30 points by sohkamyung 7 hours ago  | hide | 9 comments \n",
      "Author:  (theatlantic.com)\n",
      "Url: https://www.theatlantic.com/science/archive/2019/10/search-dark-matter-depends-ancient-shipwrecks/600718/\n",
      "\n",
      "\n",
      "Rank: 28.\n",
      "Title: Everything is amazing, but nothing is ours\n",
      "Points: 51 points\n",
      "Subtext: \n",
      "277 points by yankcrime 9 hours ago  | hide | 131 comments \n",
      "Author:  (alexdanco.com)\n",
      "Url: https://alexdanco.com/2019/10/26/everything-is-amazing-but-nothing-is-ours/\n",
      "\n",
      "\n",
      "Rank: 29.\n",
      "Title: Takeaways from the $566M BriansClub Breach\n",
      "Points: 81 points\n",
      "Subtext: \n",
      "51 points by QuitterStrip 10 hours ago  | hide | 10 comments \n",
      "Author:  (krebsonsecurity.com)\n",
      "Url: https://krebsonsecurity.com/2019/10/takeaways-from-the-566m-briansclub-breach/\n",
      "\n",
      "\n"
     ]
    }
   ],
   "source": [
    "## now we need to interate through our data and list it accordingly\n",
    "\n",
    "filename = \"soppasabiha.txt\"\n",
    "f = open(filename,\"w\")\n",
    "headers = \"Rank, Title, Points, Subtext, Author, Url\\n\"\n",
    "f.write(headers)\n",
    "\n",
    "for i in range(len(objects)-1):  \n",
    "    objects3 = page_soup.findAll(\"span\",{\"class\":\"rank\"})  ## < span class=\"rank\"> 1. < /span> </td>\n",
    "    rank = objects3[i].text ## we obtained the rank\n",
    "    \n",
    "    objects4 = page_soup.findAll(\"a\",{\"class\":\"storylink\"})\n",
    "    title = objects4[i].text ## we obtained the header title\n",
    "    \n",
    "    objects5 = page_soup.findAll(\"span\",{\"class\":\"score\"})\n",
    "    points = objects5[i].text\n",
    "    objects6 = page_soup.findAll(\"td\",{\"class\":\"subtext\"})\n",
    "    subtext = objects6[i].text\n",
    "    objects7 = page_soup.findAll(\"span\",{\"class\":\"sitebit comhead\"})\n",
    "    author = objects7[i].text\n",
    "    objects8 = page_soup.findAll('a', attrs={'href': re.compile(\"://\")})\n",
    "    url = objects8[i+1].get('href')\n",
    "    \n",
    "    print(\"Rank: \" + rank  )\n",
    "    print(\"Title: \" + title   )\n",
    "    print(\"Points: \" + points   )\n",
    "    print(\"Subtext: \" + subtext  )\n",
    "    print(\"Author: \" + author )\n",
    "    print(\"Url: \" + url   )\n",
    "    print(\"\\n\")\n",
    "    \n",
    "    f.write(rank + \"\\n\" + title + \"\\n\" + points + \"\\n\" + subtext + \"\\n\" + author + \"\\n\" + url + \"\\n\") ## writing to text file, also can be done to csv files\n",
    "\n",
    "f.close()\n"
   ]
  },
  {
   "cell_type": "code",
   "execution_count": null,
   "metadata": {},
   "outputs": [],
   "source": []
  }
 ],
 "metadata": {
  "kernelspec": {
   "display_name": "Python 3",
   "language": "python",
   "name": "python3"
  },
  "language_info": {
   "codemirror_mode": {
    "name": "ipython",
    "version": 3
   },
   "file_extension": ".py",
   "mimetype": "text/x-python",
   "name": "python",
   "nbconvert_exporter": "python",
   "pygments_lexer": "ipython3",
   "version": "3.7.3"
  }
 },
 "nbformat": 4,
 "nbformat_minor": 2
}

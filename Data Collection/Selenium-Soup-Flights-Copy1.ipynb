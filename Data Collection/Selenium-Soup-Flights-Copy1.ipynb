{
 "cells": [
  {
   "cell_type": "code",
   "execution_count": 1,
   "metadata": {},
   "outputs": [],
   "source": [
    "from bs4 import BeautifulSoup as Soup\n",
    "from urllib.request import urlopen\n",
    "import re\n",
    "import pandas as pd\n",
    "import numpy as np\n",
    "import datetime\n",
    "import time\n",
    "import requests\n"
   ]
  },
  {
   "cell_type": "code",
   "execution_count": 89,
   "metadata": {},
   "outputs": [],
   "source": [
    "Today = datetime.datetime.now()\n",
    "startdate = Today.strftime(\"%m-%d-%Y\")\n",
    "\n",
    "Tomorrow = Today + datetime.timedelta(days=1)\n",
    "tomorrowdate = Tomorrow.strftime(\"%m-%d-%Y\")\n",
    "\n",
    "tom_month = Tomorrow.strftime(\"%m\")\n",
    "\n",
    "tom_day = Tomorrow.strftime(\"%d\")\n",
    "\n",
    "year = Tomorrow.strftime(\"%y\")"
   ]
  },
  {
   "cell_type": "code",
   "execution_count": 90,
   "metadata": {},
   "outputs": [
    {
     "data": {
      "text/plain": [
       "\"\\ndef main():\\n    .....code\\n\\nif __name__ == '__main__':\\n    main()\\n    \""
      ]
     },
     "execution_count": 90,
     "metadata": {},
     "output_type": "execute_result"
    }
   ],
   "source": [
    "\"\"\"\n",
    "def main():\n",
    "    .....code\n",
    "\n",
    "if __name__ == '__main__':\n",
    "    main()\n",
    "    \"\"\""
   ]
  },
  {
   "cell_type": "markdown",
   "metadata": {},
   "source": [
    "### RyanAir service (Ryanair.com)"
   ]
  },
  {
   "cell_type": "code",
   "execution_count": 97,
   "metadata": {},
   "outputs": [],
   "source": [
    "from selenium import webdriver\n",
    "\n",
    "driver = webdriver.Chrome(\"/usr/lib/chromium-browser/chromedriver\")\n",
    "driver.implicitly_wait(30)\n",
    "driver.get(\"https://www.ryanair.com/mt/en/trip/flights/select?ADT=1&CHD=0&DateOut=20\"+year+\"-\"+tom_month+\"-\"+tom_day+\"&Destination=CTA&FlexDaysIn=6&FlexDaysOut=6&INF=0&Origin=MLA&RoundTrip=false&TEEN=0&domestic=false&isConnectedFlight=false&isSpanishDiscount=false&promoCode=&tpAdults=1&tpChildren=0&tpDestinationIata=CTA&tpDiscount=0&tpEndDate=&tpInfants=0&tpIsConnectedFlight=false&tpIsReturn=false&tpOriginIata=MLA&tpPromoCode=&tpStartDate=20\"+year+\"-\"+tom_month+\"-\"+tom_day+\"&tpTeens=0\")\n",
    "\n",
    "soup = Soup(driver.page_source, 'lxml')"
   ]
  },
  {
   "cell_type": "code",
   "execution_count": 98,
   "metadata": {},
   "outputs": [],
   "source": [
    "price =  soup.find(\"div\",{\"_ngcontent-hwg-c21\":\"\",\"class\":\"price-wrapper\"}).find(\"span\",{\"_ngcontent-hwg-\":\"\",\"class\":\"price-value h1 text-700\",\"data-e2e\":\"flight-card-price\"})"
   ]
  },
  {
   "cell_type": "code",
   "execution_count": 103,
   "metadata": {},
   "outputs": [],
   "source": [
    "price = price.text"
   ]
  },
  {
   "cell_type": "code",
   "execution_count": 102,
   "metadata": {},
   "outputs": [],
   "source": [
    "airline1 = 'RyanAir' \n",
    "route = 'FR2537'"
   ]
  },
  {
   "cell_type": "markdown",
   "metadata": {},
   "source": [
    "# AirMalta Airline from euro.expedia.net"
   ]
  },
  {
   "cell_type": "markdown",
   "metadata": {},
   "source": [
    "We will be not acquiring the flight information of a particular day from that day but the day before. This is to guarantee data acquisition"
   ]
  },
  {
   "cell_type": "markdown",
   "metadata": {},
   "source": [
    "### There are 2 Air Malta routes, KM640 & KM642. Times are 05:00 & 20:50\n"
   ]
  },
  {
   "cell_type": "code",
   "execution_count": 51,
   "metadata": {},
   "outputs": [],
   "source": [
    "driver2 = webdriver.Chrome(\"/usr/lib/chromium-browser/chromedriver\")\n",
    "driver2.implicitly_wait(30)\n",
    "driver2.get(\"https://euro.expedia.net/Flights-Search?trip=oneway&leg1=from%3ALuqa%2C%20Malta%20(MLA)%2Cto%3ACatania%2C%20Italy%20(CTA)%2Cdeparture%3A\"+tom_day+\"%2F\"+tom_month+\"%2F\"+year+\"TANYT&passengers=adults%3A1%2Cchildren%3A0%2Cseniors%3A0%2Cinfantinlap%3AY&options=cabinclass%3Aeconomy%2Cmaxhops%3A0&mode=search&origref=euro.expedia.net\")\n",
    "soup2 = Soup(driver2.page_source, 'lxml')"
   ]
  },
  {
   "cell_type": "code",
   "execution_count": 100,
   "metadata": {},
   "outputs": [],
   "source": [
    "airline2 = \"AirMalta\""
   ]
  },
  {
   "cell_type": "code",
   "execution_count": 47,
   "metadata": {},
   "outputs": [],
   "source": [
    "Airmalta1 = 'KM642'"
   ]
  },
  {
   "cell_type": "code",
   "execution_count": 52,
   "metadata": {},
   "outputs": [],
   "source": [
    "KM642_price = soup2.find(\"li\",{\"data-test-id\":\"offer-listing\",\"id\":\"flight-module-20\"+year+\"-\"+tom_month+\"-\"+tom_day+\"t20:50:00+01:00-coach-mla-cta-km-642_\"}).find(\"span\",{\"class\":\"full-bold no-wrap\",\"data-test-id\":\"listing-price-dollars\"})"
   ]
  },
  {
   "cell_type": "code",
   "execution_count": 105,
   "metadata": {},
   "outputs": [],
   "source": [
    "KM642_price = KM642_price.text"
   ]
  },
  {
   "cell_type": "code",
   "execution_count": 67,
   "metadata": {},
   "outputs": [],
   "source": [
    "AirMalta2 = 'KM640'"
   ]
  },
  {
   "cell_type": "code",
   "execution_count": 64,
   "metadata": {},
   "outputs": [],
   "source": [
    "KM640_price = soup2.find(\"li\",{\"data-test-id\":\"offer-listing\",\"id\":\"flight-module-20\"+year+\"-\"+tom_month+\"-\"+tom_day+\"t05:00:00+01:00-coach-mla-cta-km-640_\"}).find(\"span\",{\"class\":\"full-bold no-wrap\",\"data-test-id\":\"listing-price-dollars\"})"
   ]
  },
  {
   "cell_type": "code",
   "execution_count": 106,
   "metadata": {},
   "outputs": [],
   "source": [
    "KM640_price = KM640_price.text"
   ]
  },
  {
   "cell_type": "markdown",
   "metadata": {},
   "source": [
    "# Alitalia Airline from euro.expedia.net"
   ]
  },
  {
   "cell_type": "markdown",
   "metadata": {},
   "source": [
    "Two routes are AZ 7919 & AZ 7921, at 05:00 & 20:50"
   ]
  },
  {
   "cell_type": "code",
   "execution_count": 80,
   "metadata": {},
   "outputs": [],
   "source": [
    "airline3 = 'Alitalia'"
   ]
  },
  {
   "cell_type": "code",
   "execution_count": 81,
   "metadata": {},
   "outputs": [],
   "source": [
    "az7919_price =  soup2.find(\"li\",{\"data-test-id\":\"offer-listing\",\"id\":\"flight-module-20\"+year+\"-\"+tom_month+\"-\"+tom_day+\"t05:00:00+01:00-coach-mla-cta-az-7919_\"}).find(\"span\",{\"class\":\"full-bold no-wrap\",\"data-test-id\":\"listing-price-dollars\"})"
   ]
  },
  {
   "cell_type": "code",
   "execution_count": 82,
   "metadata": {},
   "outputs": [
    {
     "data": {
      "text/plain": [
       "'€215'"
      ]
     },
     "execution_count": 82,
     "metadata": {},
     "output_type": "execute_result"
    }
   ],
   "source": [
    "az7919_price.text"
   ]
  },
  {
   "cell_type": "code",
   "execution_count": 84,
   "metadata": {},
   "outputs": [],
   "source": [
    "az7921_price =  soup2.find(\"li\",{\"data-test-id\":\"offer-listing\",\"id\":\"flight-module-20\"+year+\"-\"+tom_month+\"-\"+tom_day+\"t20:50:00+01:00-coach-mla-cta-az-7921_\"}).find(\"span\",{\"class\":\"full-bold no-wrap\",\"data-test-id\":\"listing-price-dollars\"})"
   ]
  },
  {
   "cell_type": "code",
   "execution_count": 85,
   "metadata": {},
   "outputs": [
    {
     "data": {
      "text/plain": [
       "'€215'"
      ]
     },
     "execution_count": 85,
     "metadata": {},
     "output_type": "execute_result"
    }
   ],
   "source": [
    "az7921_price.text"
   ]
  },
  {
   "cell_type": "markdown",
   "metadata": {},
   "source": [
    "# Setting data to textfile"
   ]
  },
  {
   "cell_type": "code",
   "execution_count": null,
   "metadata": {},
   "outputs": [],
   "source": [
    "filename = \"flightdata-\"+tom_day+\"-\"+tom_month\".txt\"\n",
    "f = open(filename,\"w\")\n",
    "headers = \"Date, Airline, Route, Price\\n\"\n",
    "f.write(headers)\n",
    "\n",
    "f.write(rank + \"\\n\" + title + \"\\n\" + points + \"\\n\" + subtext + \"\\n\" + author + \"\\n\" + url + \"\\n\") ## writing to text file, also can be done to csv files\n",
    "f.close()\n"
   ]
  },
  {
   "cell_type": "code",
   "execution_count": null,
   "metadata": {},
   "outputs": [],
   "source": []
  }
 ],
 "metadata": {
  "kernelspec": {
   "display_name": "Python 3",
   "language": "python",
   "name": "python3"
  },
  "language_info": {
   "codemirror_mode": {
    "name": "ipython",
    "version": 3
   },
   "file_extension": ".py",
   "mimetype": "text/x-python",
   "name": "python",
   "nbconvert_exporter": "python",
   "pygments_lexer": "ipython3",
   "version": "3.7.3"
  }
 },
 "nbformat": 4,
 "nbformat_minor": 4
}

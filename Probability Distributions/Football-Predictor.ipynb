{
 "cells": [
  {
   "cell_type": "code",
   "execution_count": 37,
   "metadata": {},
   "outputs": [],
   "source": [
    "import pandas as pd\n",
    "import numpy as np\n",
    "import matplotlib.pyplot as plt"
   ]
  },
  {
   "cell_type": "code",
   "execution_count": 38,
   "metadata": {},
   "outputs": [],
   "source": [
    "data = pd.read_csv('data.csv')"
   ]
  },
  {
   "cell_type": "code",
   "execution_count": 39,
   "metadata": {},
   "outputs": [
    {
     "data": {
      "text/html": [
       "<div>\n",
       "<style scoped>\n",
       "    .dataframe tbody tr th:only-of-type {\n",
       "        vertical-align: middle;\n",
       "    }\n",
       "\n",
       "    .dataframe tbody tr th {\n",
       "        vertical-align: top;\n",
       "    }\n",
       "\n",
       "    .dataframe thead th {\n",
       "        text-align: right;\n",
       "    }\n",
       "</style>\n",
       "<table border=\"1\" class=\"dataframe\">\n",
       "  <thead>\n",
       "    <tr style=\"text-align: right;\">\n",
       "      <th></th>\n",
       "      <th>Div</th>\n",
       "      <th>Date</th>\n",
       "      <th>Time</th>\n",
       "      <th>HomeTeam</th>\n",
       "      <th>AwayTeam</th>\n",
       "      <th>FTHG</th>\n",
       "      <th>FTAG</th>\n",
       "      <th>FTR</th>\n",
       "      <th>HTHG</th>\n",
       "      <th>HTAG</th>\n",
       "      <th>...</th>\n",
       "      <th>AvgC&lt;2.5</th>\n",
       "      <th>AHCh</th>\n",
       "      <th>B365CAHH</th>\n",
       "      <th>B365CAHA</th>\n",
       "      <th>PCAHH</th>\n",
       "      <th>PCAHA</th>\n",
       "      <th>MaxCAHH</th>\n",
       "      <th>MaxCAHA</th>\n",
       "      <th>AvgCAHH</th>\n",
       "      <th>AvgCAHA</th>\n",
       "    </tr>\n",
       "  </thead>\n",
       "  <tbody>\n",
       "    <tr>\n",
       "      <th>0</th>\n",
       "      <td>I1</td>\n",
       "      <td>24/08/2019</td>\n",
       "      <td>17:00</td>\n",
       "      <td>Parma</td>\n",
       "      <td>Juventus</td>\n",
       "      <td>0</td>\n",
       "      <td>1</td>\n",
       "      <td>A</td>\n",
       "      <td>0</td>\n",
       "      <td>1</td>\n",
       "      <td>...</td>\n",
       "      <td>2.15</td>\n",
       "      <td>1.50</td>\n",
       "      <td>1.77</td>\n",
       "      <td>2.02</td>\n",
       "      <td>1.81</td>\n",
       "      <td>2.11</td>\n",
       "      <td>1.93</td>\n",
       "      <td>2.12</td>\n",
       "      <td>1.83</td>\n",
       "      <td>2.04</td>\n",
       "    </tr>\n",
       "    <tr>\n",
       "      <th>1</th>\n",
       "      <td>I1</td>\n",
       "      <td>24/08/2019</td>\n",
       "      <td>19:45</td>\n",
       "      <td>Fiorentina</td>\n",
       "      <td>Napoli</td>\n",
       "      <td>3</td>\n",
       "      <td>4</td>\n",
       "      <td>A</td>\n",
       "      <td>1</td>\n",
       "      <td>2</td>\n",
       "      <td>...</td>\n",
       "      <td>2.15</td>\n",
       "      <td>0.75</td>\n",
       "      <td>1.75</td>\n",
       "      <td>2.05</td>\n",
       "      <td>1.81</td>\n",
       "      <td>2.11</td>\n",
       "      <td>1.94</td>\n",
       "      <td>2.14</td>\n",
       "      <td>1.80</td>\n",
       "      <td>2.09</td>\n",
       "    </tr>\n",
       "    <tr>\n",
       "      <th>2</th>\n",
       "      <td>I1</td>\n",
       "      <td>25/08/2019</td>\n",
       "      <td>17:00</td>\n",
       "      <td>Udinese</td>\n",
       "      <td>Milan</td>\n",
       "      <td>1</td>\n",
       "      <td>0</td>\n",
       "      <td>H</td>\n",
       "      <td>0</td>\n",
       "      <td>0</td>\n",
       "      <td>...</td>\n",
       "      <td>1.78</td>\n",
       "      <td>0.50</td>\n",
       "      <td>1.86</td>\n",
       "      <td>2.07</td>\n",
       "      <td>1.88</td>\n",
       "      <td>2.04</td>\n",
       "      <td>1.91</td>\n",
       "      <td>2.09</td>\n",
       "      <td>1.85</td>\n",
       "      <td>2.04</td>\n",
       "    </tr>\n",
       "    <tr>\n",
       "      <th>3</th>\n",
       "      <td>I1</td>\n",
       "      <td>25/08/2019</td>\n",
       "      <td>19:45</td>\n",
       "      <td>Cagliari</td>\n",
       "      <td>Brescia</td>\n",
       "      <td>0</td>\n",
       "      <td>1</td>\n",
       "      <td>A</td>\n",
       "      <td>0</td>\n",
       "      <td>0</td>\n",
       "      <td>...</td>\n",
       "      <td>1.83</td>\n",
       "      <td>-0.75</td>\n",
       "      <td>2.10</td>\n",
       "      <td>1.83</td>\n",
       "      <td>2.11</td>\n",
       "      <td>1.82</td>\n",
       "      <td>2.12</td>\n",
       "      <td>1.85</td>\n",
       "      <td>2.08</td>\n",
       "      <td>1.82</td>\n",
       "    </tr>\n",
       "    <tr>\n",
       "      <th>4</th>\n",
       "      <td>I1</td>\n",
       "      <td>25/08/2019</td>\n",
       "      <td>19:45</td>\n",
       "      <td>Roma</td>\n",
       "      <td>Genoa</td>\n",
       "      <td>3</td>\n",
       "      <td>3</td>\n",
       "      <td>D</td>\n",
       "      <td>2</td>\n",
       "      <td>2</td>\n",
       "      <td>...</td>\n",
       "      <td>2.23</td>\n",
       "      <td>-0.75</td>\n",
       "      <td>1.97</td>\n",
       "      <td>1.96</td>\n",
       "      <td>1.98</td>\n",
       "      <td>1.94</td>\n",
       "      <td>1.99</td>\n",
       "      <td>2.20</td>\n",
       "      <td>1.92</td>\n",
       "      <td>1.97</td>\n",
       "    </tr>\n",
       "  </tbody>\n",
       "</table>\n",
       "<p>5 rows × 105 columns</p>\n",
       "</div>"
      ],
      "text/plain": [
       "  Div        Date   Time    HomeTeam  AwayTeam  FTHG  FTAG FTR  HTHG  HTAG  \\\n",
       "0  I1  24/08/2019  17:00       Parma  Juventus     0     1   A     0     1   \n",
       "1  I1  24/08/2019  19:45  Fiorentina    Napoli     3     4   A     1     2   \n",
       "2  I1  25/08/2019  17:00     Udinese     Milan     1     0   H     0     0   \n",
       "3  I1  25/08/2019  19:45    Cagliari   Brescia     0     1   A     0     0   \n",
       "4  I1  25/08/2019  19:45        Roma     Genoa     3     3   D     2     2   \n",
       "\n",
       "   ... AvgC<2.5  AHCh  B365CAHH  B365CAHA  PCAHH  PCAHA  MaxCAHH  MaxCAHA  \\\n",
       "0  ...     2.15  1.50      1.77      2.02   1.81   2.11     1.93     2.12   \n",
       "1  ...     2.15  0.75      1.75      2.05   1.81   2.11     1.94     2.14   \n",
       "2  ...     1.78  0.50      1.86      2.07   1.88   2.04     1.91     2.09   \n",
       "3  ...     1.83 -0.75      2.10      1.83   2.11   1.82     2.12     1.85   \n",
       "4  ...     2.23 -0.75      1.97      1.96   1.98   1.94     1.99     2.20   \n",
       "\n",
       "   AvgCAHH  AvgCAHA  \n",
       "0     1.83     2.04  \n",
       "1     1.80     2.09  \n",
       "2     1.85     2.04  \n",
       "3     2.08     1.82  \n",
       "4     1.92     1.97  \n",
       "\n",
       "[5 rows x 105 columns]"
      ]
     },
     "execution_count": 39,
     "metadata": {},
     "output_type": "execute_result"
    }
   ],
   "source": [
    "data.head()"
   ]
  },
  {
   "cell_type": "code",
   "execution_count": 40,
   "metadata": {},
   "outputs": [],
   "source": [
    "data2 = data[['HomeTeam','AwayTeam','FTHG','FTAG']]"
   ]
  },
  {
   "cell_type": "code",
   "execution_count": 41,
   "metadata": {},
   "outputs": [
    {
     "data": {
      "text/html": [
       "<div>\n",
       "<style scoped>\n",
       "    .dataframe tbody tr th:only-of-type {\n",
       "        vertical-align: middle;\n",
       "    }\n",
       "\n",
       "    .dataframe tbody tr th {\n",
       "        vertical-align: top;\n",
       "    }\n",
       "\n",
       "    .dataframe thead th {\n",
       "        text-align: right;\n",
       "    }\n",
       "</style>\n",
       "<table border=\"1\" class=\"dataframe\">\n",
       "  <thead>\n",
       "    <tr style=\"text-align: right;\">\n",
       "      <th></th>\n",
       "      <th>HomeTeam</th>\n",
       "      <th>AwayTeam</th>\n",
       "      <th>FTHG</th>\n",
       "      <th>FTAG</th>\n",
       "    </tr>\n",
       "  </thead>\n",
       "  <tbody>\n",
       "    <tr>\n",
       "      <th>0</th>\n",
       "      <td>Parma</td>\n",
       "      <td>Juventus</td>\n",
       "      <td>0</td>\n",
       "      <td>1</td>\n",
       "    </tr>\n",
       "    <tr>\n",
       "      <th>1</th>\n",
       "      <td>Fiorentina</td>\n",
       "      <td>Napoli</td>\n",
       "      <td>3</td>\n",
       "      <td>4</td>\n",
       "    </tr>\n",
       "    <tr>\n",
       "      <th>2</th>\n",
       "      <td>Udinese</td>\n",
       "      <td>Milan</td>\n",
       "      <td>1</td>\n",
       "      <td>0</td>\n",
       "    </tr>\n",
       "    <tr>\n",
       "      <th>3</th>\n",
       "      <td>Cagliari</td>\n",
       "      <td>Brescia</td>\n",
       "      <td>0</td>\n",
       "      <td>1</td>\n",
       "    </tr>\n",
       "    <tr>\n",
       "      <th>4</th>\n",
       "      <td>Roma</td>\n",
       "      <td>Genoa</td>\n",
       "      <td>3</td>\n",
       "      <td>3</td>\n",
       "    </tr>\n",
       "  </tbody>\n",
       "</table>\n",
       "</div>"
      ],
      "text/plain": [
       "     HomeTeam  AwayTeam  FTHG  FTAG\n",
       "0       Parma  Juventus     0     1\n",
       "1  Fiorentina    Napoli     3     4\n",
       "2     Udinese     Milan     1     0\n",
       "3    Cagliari   Brescia     0     1\n",
       "4        Roma     Genoa     3     3"
      ]
     },
     "execution_count": 41,
     "metadata": {},
     "output_type": "execute_result"
    }
   ],
   "source": [
    "data2.head()"
   ]
  },
  {
   "cell_type": "code",
   "execution_count": 42,
   "metadata": {},
   "outputs": [
    {
     "data": {
      "text/html": [
       "<div>\n",
       "<style scoped>\n",
       "    .dataframe tbody tr th:only-of-type {\n",
       "        vertical-align: middle;\n",
       "    }\n",
       "\n",
       "    .dataframe tbody tr th {\n",
       "        vertical-align: top;\n",
       "    }\n",
       "\n",
       "    .dataframe thead th {\n",
       "        text-align: right;\n",
       "    }\n",
       "</style>\n",
       "<table border=\"1\" class=\"dataframe\">\n",
       "  <thead>\n",
       "    <tr style=\"text-align: right;\">\n",
       "      <th></th>\n",
       "      <th>FTHG</th>\n",
       "      <th>FTAG</th>\n",
       "    </tr>\n",
       "  </thead>\n",
       "  <tbody>\n",
       "    <tr>\n",
       "      <th>count</th>\n",
       "      <td>69.000000</td>\n",
       "      <td>69.000000</td>\n",
       "    </tr>\n",
       "    <tr>\n",
       "      <th>mean</th>\n",
       "      <td>1.434783</td>\n",
       "      <td>1.347826</td>\n",
       "    </tr>\n",
       "    <tr>\n",
       "      <th>std</th>\n",
       "      <td>1.143759</td>\n",
       "      <td>1.222655</td>\n",
       "    </tr>\n",
       "    <tr>\n",
       "      <th>min</th>\n",
       "      <td>0.000000</td>\n",
       "      <td>0.000000</td>\n",
       "    </tr>\n",
       "    <tr>\n",
       "      <th>25%</th>\n",
       "      <td>1.000000</td>\n",
       "      <td>0.000000</td>\n",
       "    </tr>\n",
       "    <tr>\n",
       "      <th>50%</th>\n",
       "      <td>1.000000</td>\n",
       "      <td>1.000000</td>\n",
       "    </tr>\n",
       "    <tr>\n",
       "      <th>75%</th>\n",
       "      <td>2.000000</td>\n",
       "      <td>2.000000</td>\n",
       "    </tr>\n",
       "    <tr>\n",
       "      <th>max</th>\n",
       "      <td>4.000000</td>\n",
       "      <td>4.000000</td>\n",
       "    </tr>\n",
       "  </tbody>\n",
       "</table>\n",
       "</div>"
      ],
      "text/plain": [
       "            FTHG       FTAG\n",
       "count  69.000000  69.000000\n",
       "mean    1.434783   1.347826\n",
       "std     1.143759   1.222655\n",
       "min     0.000000   0.000000\n",
       "25%     1.000000   0.000000\n",
       "50%     1.000000   1.000000\n",
       "75%     2.000000   2.000000\n",
       "max     4.000000   4.000000"
      ]
     },
     "execution_count": 42,
     "metadata": {},
     "output_type": "execute_result"
    }
   ],
   "source": [
    "data2.describe()"
   ]
  },
  {
   "cell_type": "code",
   "execution_count": 44,
   "metadata": {},
   "outputs": [
    {
     "name": "stdout",
     "output_type": "stream",
     "text": [
      "['A', 'A', 'H', 'A', 'D', 'A', 'A', 'H', 'D', 'H', 'H', 'H', 'H', 'D', 'A', 'A', 'H', 'A', 'H', 'A', 'D', 'H', 'H', 'A', 'A', 'A', 'H', 'H', 'A', 'A', 'H', 'A', 'H', 'A', 'H', 'A', 'A', 'H', 'D', 'H', 'D', 'A', 'A', 'H', 'D', 'H', 'A', 'H', 'A', 'H', 'H', 'A', 'A', 'H', 'H', 'A', 'H', 'D', 'A', 'H', 'H', 'H', 'A', 'H', 'H', 'D', 'D', 'D', 'A']\n"
     ]
    }
   ],
   "source": [
    "# Results = []\n",
    "\n",
    "##for i in range (0, 69):\n",
    "   ## if data2['FTHG'].iloc[i] > data2['FTAG'].iloc[i]:\n",
    "    ##    result = 'H'\n",
    "    ##    Results.append(result)\n",
    "    ##elif data2['FTHG'].iloc[i] < data2['FTAG'].iloc[i]:\n",
    "     #   result = 'A'\n",
    "     #   Results.append(result)\n",
    "    #else:\n",
    "    #    result ='D'\n",
    "     #   Results.append(result)\n",
    "        \n",
    "# print ( Results)"
   ]
  },
  {
   "cell_type": "code",
   "execution_count": 51,
   "metadata": {},
   "outputs": [],
   "source": [
    "from scipy.stats import poisson\n",
    "import statsmodels.api as sm\n",
    "import statsmodels.formula.api as smf"
   ]
  },
  {
   "cell_type": "code",
   "execution_count": 53,
   "metadata": {},
   "outputs": [
    {
     "data": {
      "text/html": [
       "<table class=\"simpletable\">\n",
       "<caption>Generalized Linear Model Regression Results</caption>\n",
       "<tr>\n",
       "  <th>Dep. Variable:</th>         <td>goals</td>      <th>  No. Observations:  </th>  <td>   138</td> \n",
       "</tr>\n",
       "<tr>\n",
       "  <th>Model:</th>                  <td>GLM</td>       <th>  Df Residuals:      </th>  <td>    98</td> \n",
       "</tr>\n",
       "<tr>\n",
       "  <th>Model Family:</th>         <td>Poisson</td>     <th>  Df Model:          </th>  <td>    39</td> \n",
       "</tr>\n",
       "<tr>\n",
       "  <th>Link Function:</th>          <td>log</td>       <th>  Scale:             </th> <td>  1.0000</td>\n",
       "</tr>\n",
       "<tr>\n",
       "  <th>Method:</th>                <td>IRLS</td>       <th>  Log-Likelihood:    </th> <td> -183.57</td>\n",
       "</tr>\n",
       "<tr>\n",
       "  <th>Date:</th>            <td>Mon, 14 Oct 2019</td> <th>  Deviance:          </th> <td>  115.71</td>\n",
       "</tr>\n",
       "<tr>\n",
       "  <th>Time:</th>                <td>14:10:24</td>     <th>  Pearson chi2:      </th>  <td>  95.1</td> \n",
       "</tr>\n",
       "<tr>\n",
       "  <th>No. Iterations:</th>          <td>5</td>        <th>                     </th>     <td> </td>   \n",
       "</tr>\n",
       "<tr>\n",
       "  <th>Covariance Type:</th>     <td>nonrobust</td>    <th>                     </th>     <td> </td>   \n",
       "</tr>\n",
       "</table>\n",
       "<table class=\"simpletable\">\n",
       "<tr>\n",
       "             <td></td>               <th>coef</th>     <th>std err</th>      <th>z</th>      <th>P>|z|</th>  <th>[0.025</th>    <th>0.975]</th>  \n",
       "</tr>\n",
       "<tr>\n",
       "  <th>Intercept</th>              <td>    0.8000</td> <td>    0.433</td> <td>    1.846</td> <td> 0.065</td> <td>   -0.049</td> <td>    1.649</td>\n",
       "</tr>\n",
       "<tr>\n",
       "  <th>team[T.Bologna]</th>        <td>   -0.4088</td> <td>    0.433</td> <td>   -0.945</td> <td> 0.345</td> <td>   -1.257</td> <td>    0.439</td>\n",
       "</tr>\n",
       "<tr>\n",
       "  <th>team[T.Brescia]</th>        <td>   -0.4062</td> <td>    0.496</td> <td>   -0.819</td> <td> 0.413</td> <td>   -1.378</td> <td>    0.565</td>\n",
       "</tr>\n",
       "<tr>\n",
       "  <th>team[T.Cagliari]</th>       <td>   -0.3404</td> <td>    0.429</td> <td>   -0.793</td> <td> 0.428</td> <td>   -1.182</td> <td>    0.501</td>\n",
       "</tr>\n",
       "<tr>\n",
       "  <th>team[T.Fiorentina]</th>     <td>   -0.2283</td> <td>    0.411</td> <td>   -0.555</td> <td> 0.579</td> <td>   -1.034</td> <td>    0.577</td>\n",
       "</tr>\n",
       "<tr>\n",
       "  <th>team[T.Genoa]</th>          <td>   -0.5655</td> <td>    0.458</td> <td>   -1.234</td> <td> 0.217</td> <td>   -1.463</td> <td>    0.332</td>\n",
       "</tr>\n",
       "<tr>\n",
       "  <th>team[T.Inter]</th>          <td>    0.0466</td> <td>    0.401</td> <td>    0.116</td> <td> 0.907</td> <td>   -0.739</td> <td>    0.832</td>\n",
       "</tr>\n",
       "<tr>\n",
       "  <th>team[T.Juventus]</th>       <td>   -0.0531</td> <td>    0.401</td> <td>   -0.132</td> <td> 0.895</td> <td>   -0.840</td> <td>    0.733</td>\n",
       "</tr>\n",
       "<tr>\n",
       "  <th>team[T.Lazio]</th>          <td>   -0.2089</td> <td>    0.391</td> <td>   -0.535</td> <td> 0.593</td> <td>   -0.975</td> <td>    0.557</td>\n",
       "</tr>\n",
       "<tr>\n",
       "  <th>team[T.Lecce]</th>          <td>   -0.6480</td> <td>    0.470</td> <td>   -1.380</td> <td> 0.168</td> <td>   -1.568</td> <td>    0.272</td>\n",
       "</tr>\n",
       "<tr>\n",
       "  <th>team[T.Milan]</th>          <td>   -0.7814</td> <td>    0.493</td> <td>   -1.585</td> <td> 0.113</td> <td>   -1.747</td> <td>    0.185</td>\n",
       "</tr>\n",
       "<tr>\n",
       "  <th>team[T.Napoli]</th>         <td>   -0.0057</td> <td>    0.375</td> <td>   -0.015</td> <td> 0.988</td> <td>   -0.741</td> <td>    0.730</td>\n",
       "</tr>\n",
       "<tr>\n",
       "  <th>team[T.Parma]</th>          <td>   -0.5228</td> <td>    0.444</td> <td>   -1.177</td> <td> 0.239</td> <td>   -1.393</td> <td>    0.348</td>\n",
       "</tr>\n",
       "<tr>\n",
       "  <th>team[T.Roma]</th>           <td>   -0.3449</td> <td>    0.394</td> <td>   -0.875</td> <td> 0.382</td> <td>   -1.117</td> <td>    0.428</td>\n",
       "</tr>\n",
       "<tr>\n",
       "  <th>team[T.Sampdoria]</th>      <td>   -1.2215</td> <td>    0.567</td> <td>   -2.153</td> <td> 0.031</td> <td>   -2.334</td> <td>   -0.109</td>\n",
       "</tr>\n",
       "<tr>\n",
       "  <th>team[T.Sassuolo]</th>       <td>   -0.2619</td> <td>    0.409</td> <td>   -0.640</td> <td> 0.522</td> <td>   -1.064</td> <td>    0.540</td>\n",
       "</tr>\n",
       "<tr>\n",
       "  <th>team[T.Spal]</th>           <td>   -0.9860</td> <td>    0.493</td> <td>   -1.998</td> <td> 0.046</td> <td>   -1.953</td> <td>   -0.019</td>\n",
       "</tr>\n",
       "<tr>\n",
       "  <th>team[T.Torino]</th>         <td>   -0.6107</td> <td>    0.419</td> <td>   -1.457</td> <td> 0.145</td> <td>   -1.432</td> <td>    0.211</td>\n",
       "</tr>\n",
       "<tr>\n",
       "  <th>team[T.Udinese]</th>        <td>   -1.5289</td> <td>    0.651</td> <td>   -2.349</td> <td> 0.019</td> <td>   -2.805</td> <td>   -0.253</td>\n",
       "</tr>\n",
       "<tr>\n",
       "  <th>team[T.Verona]</th>         <td>   -0.8806</td> <td>    0.507</td> <td>   -1.736</td> <td> 0.082</td> <td>   -1.875</td> <td>    0.113</td>\n",
       "</tr>\n",
       "<tr>\n",
       "  <th>opponent[T.Bologna]</th>    <td>    0.0306</td> <td>    0.485</td> <td>    0.063</td> <td> 0.950</td> <td>   -0.921</td> <td>    0.982</td>\n",
       "</tr>\n",
       "<tr>\n",
       "  <th>opponent[T.Brescia]</th>    <td>   -0.0383</td> <td>    0.507</td> <td>   -0.076</td> <td> 0.940</td> <td>   -1.032</td> <td>    0.955</td>\n",
       "</tr>\n",
       "<tr>\n",
       "  <th>opponent[T.Cagliari]</th>   <td>   -0.5015</td> <td>    0.520</td> <td>   -0.964</td> <td> 0.335</td> <td>   -1.521</td> <td>    0.518</td>\n",
       "</tr>\n",
       "<tr>\n",
       "  <th>opponent[T.Fiorentina]</th> <td>   -0.0359</td> <td>    0.483</td> <td>   -0.074</td> <td> 0.941</td> <td>   -0.982</td> <td>    0.911</td>\n",
       "</tr>\n",
       "<tr>\n",
       "  <th>opponent[T.Genoa]</th>      <td>    0.2318</td> <td>    0.437</td> <td>    0.531</td> <td> 0.596</td> <td>   -0.625</td> <td>    1.088</td>\n",
       "</tr>\n",
       "<tr>\n",
       "  <th>opponent[T.Inter]</th>      <td>   -0.8228</td> <td>    0.625</td> <td>   -1.316</td> <td> 0.188</td> <td>   -2.048</td> <td>    0.402</td>\n",
       "</tr>\n",
       "<tr>\n",
       "  <th>opponent[T.Juventus]</th>   <td>   -0.6485</td> <td>    0.545</td> <td>   -1.190</td> <td> 0.234</td> <td>   -1.716</td> <td>    0.419</td>\n",
       "</tr>\n",
       "<tr>\n",
       "  <th>opponent[T.Lazio]</th>      <td>   -0.5030</td> <td>    0.539</td> <td>   -0.933</td> <td> 0.351</td> <td>   -1.560</td> <td>    0.554</td>\n",
       "</tr>\n",
       "<tr>\n",
       "  <th>opponent[T.Lecce]</th>      <td>    0.2327</td> <td>    0.436</td> <td>    0.533</td> <td> 0.594</td> <td>   -0.623</td> <td>    1.088</td>\n",
       "</tr>\n",
       "<tr>\n",
       "  <th>opponent[T.Milan]</th>      <td>   -0.0855</td> <td>    0.486</td> <td>   -0.176</td> <td> 0.860</td> <td>   -1.038</td> <td>    0.867</td>\n",
       "</tr>\n",
       "<tr>\n",
       "  <th>opponent[T.Napoli]</th>     <td>   -0.0512</td> <td>    0.474</td> <td>   -0.108</td> <td> 0.914</td> <td>   -0.981</td> <td>    0.878</td>\n",
       "</tr>\n",
       "<tr>\n",
       "  <th>opponent[T.Parma]</th>      <td>   -0.0007</td> <td>    0.475</td> <td>   -0.002</td> <td> 0.999</td> <td>   -0.932</td> <td>    0.931</td>\n",
       "</tr>\n",
       "<tr>\n",
       "  <th>opponent[T.Roma]</th>       <td>   -0.1506</td> <td>    0.471</td> <td>   -0.320</td> <td> 0.749</td> <td>   -1.073</td> <td>    0.772</td>\n",
       "</tr>\n",
       "<tr>\n",
       "  <th>opponent[T.Sampdoria]</th>  <td>    0.2432</td> <td>    0.426</td> <td>    0.570</td> <td> 0.569</td> <td>   -0.593</td> <td>    1.079</td>\n",
       "</tr>\n",
       "<tr>\n",
       "  <th>opponent[T.Sassuolo]</th>   <td>    0.3837</td> <td>    0.456</td> <td>    0.842</td> <td> 0.400</td> <td>   -0.510</td> <td>    1.277</td>\n",
       "</tr>\n",
       "<tr>\n",
       "  <th>opponent[T.Spal]</th>       <td>    0.0568</td> <td>    0.451</td> <td>    0.126</td> <td> 0.900</td> <td>   -0.826</td> <td>    0.940</td>\n",
       "</tr>\n",
       "<tr>\n",
       "  <th>opponent[T.Torino]</th>     <td>   -0.0656</td> <td>    0.476</td> <td>   -0.138</td> <td> 0.890</td> <td>   -0.999</td> <td>    0.868</td>\n",
       "</tr>\n",
       "<tr>\n",
       "  <th>opponent[T.Udinese]</th>    <td>   -0.5847</td> <td>    0.547</td> <td>   -1.070</td> <td> 0.285</td> <td>   -1.656</td> <td>    0.487</td>\n",
       "</tr>\n",
       "<tr>\n",
       "  <th>opponent[T.Verona]</th>     <td>   -0.5789</td> <td>    0.586</td> <td>   -0.987</td> <td> 0.324</td> <td>   -1.728</td> <td>    0.571</td>\n",
       "</tr>\n",
       "<tr>\n",
       "  <th>home</th>                   <td>    0.0841</td> <td>    0.149</td> <td>    0.563</td> <td> 0.573</td> <td>   -0.208</td> <td>    0.377</td>\n",
       "</tr>\n",
       "</table>"
      ],
      "text/plain": [
       "<class 'statsmodels.iolib.summary.Summary'>\n",
       "\"\"\"\n",
       "                 Generalized Linear Model Regression Results                  \n",
       "==============================================================================\n",
       "Dep. Variable:                  goals   No. Observations:                  138\n",
       "Model:                            GLM   Df Residuals:                       98\n",
       "Model Family:                 Poisson   Df Model:                           39\n",
       "Link Function:                    log   Scale:                          1.0000\n",
       "Method:                          IRLS   Log-Likelihood:                -183.57\n",
       "Date:                Mon, 14 Oct 2019   Deviance:                       115.71\n",
       "Time:                        14:10:24   Pearson chi2:                     95.1\n",
       "No. Iterations:                     5                                         \n",
       "Covariance Type:            nonrobust                                         \n",
       "==========================================================================================\n",
       "                             coef    std err          z      P>|z|      [0.025      0.975]\n",
       "------------------------------------------------------------------------------------------\n",
       "Intercept                  0.8000      0.433      1.846      0.065      -0.049       1.649\n",
       "team[T.Bologna]           -0.4088      0.433     -0.945      0.345      -1.257       0.439\n",
       "team[T.Brescia]           -0.4062      0.496     -0.819      0.413      -1.378       0.565\n",
       "team[T.Cagliari]          -0.3404      0.429     -0.793      0.428      -1.182       0.501\n",
       "team[T.Fiorentina]        -0.2283      0.411     -0.555      0.579      -1.034       0.577\n",
       "team[T.Genoa]             -0.5655      0.458     -1.234      0.217      -1.463       0.332\n",
       "team[T.Inter]              0.0466      0.401      0.116      0.907      -0.739       0.832\n",
       "team[T.Juventus]          -0.0531      0.401     -0.132      0.895      -0.840       0.733\n",
       "team[T.Lazio]             -0.2089      0.391     -0.535      0.593      -0.975       0.557\n",
       "team[T.Lecce]             -0.6480      0.470     -1.380      0.168      -1.568       0.272\n",
       "team[T.Milan]             -0.7814      0.493     -1.585      0.113      -1.747       0.185\n",
       "team[T.Napoli]            -0.0057      0.375     -0.015      0.988      -0.741       0.730\n",
       "team[T.Parma]             -0.5228      0.444     -1.177      0.239      -1.393       0.348\n",
       "team[T.Roma]              -0.3449      0.394     -0.875      0.382      -1.117       0.428\n",
       "team[T.Sampdoria]         -1.2215      0.567     -2.153      0.031      -2.334      -0.109\n",
       "team[T.Sassuolo]          -0.2619      0.409     -0.640      0.522      -1.064       0.540\n",
       "team[T.Spal]              -0.9860      0.493     -1.998      0.046      -1.953      -0.019\n",
       "team[T.Torino]            -0.6107      0.419     -1.457      0.145      -1.432       0.211\n",
       "team[T.Udinese]           -1.5289      0.651     -2.349      0.019      -2.805      -0.253\n",
       "team[T.Verona]            -0.8806      0.507     -1.736      0.082      -1.875       0.113\n",
       "opponent[T.Bologna]        0.0306      0.485      0.063      0.950      -0.921       0.982\n",
       "opponent[T.Brescia]       -0.0383      0.507     -0.076      0.940      -1.032       0.955\n",
       "opponent[T.Cagliari]      -0.5015      0.520     -0.964      0.335      -1.521       0.518\n",
       "opponent[T.Fiorentina]    -0.0359      0.483     -0.074      0.941      -0.982       0.911\n",
       "opponent[T.Genoa]          0.2318      0.437      0.531      0.596      -0.625       1.088\n",
       "opponent[T.Inter]         -0.8228      0.625     -1.316      0.188      -2.048       0.402\n",
       "opponent[T.Juventus]      -0.6485      0.545     -1.190      0.234      -1.716       0.419\n",
       "opponent[T.Lazio]         -0.5030      0.539     -0.933      0.351      -1.560       0.554\n",
       "opponent[T.Lecce]          0.2327      0.436      0.533      0.594      -0.623       1.088\n",
       "opponent[T.Milan]         -0.0855      0.486     -0.176      0.860      -1.038       0.867\n",
       "opponent[T.Napoli]        -0.0512      0.474     -0.108      0.914      -0.981       0.878\n",
       "opponent[T.Parma]         -0.0007      0.475     -0.002      0.999      -0.932       0.931\n",
       "opponent[T.Roma]          -0.1506      0.471     -0.320      0.749      -1.073       0.772\n",
       "opponent[T.Sampdoria]      0.2432      0.426      0.570      0.569      -0.593       1.079\n",
       "opponent[T.Sassuolo]       0.3837      0.456      0.842      0.400      -0.510       1.277\n",
       "opponent[T.Spal]           0.0568      0.451      0.126      0.900      -0.826       0.940\n",
       "opponent[T.Torino]        -0.0656      0.476     -0.138      0.890      -0.999       0.868\n",
       "opponent[T.Udinese]       -0.5847      0.547     -1.070      0.285      -1.656       0.487\n",
       "opponent[T.Verona]        -0.5789      0.586     -0.987      0.324      -1.728       0.571\n",
       "home                       0.0841      0.149      0.563      0.573      -0.208       0.377\n",
       "==========================================================================================\n",
       "\"\"\""
      ]
     },
     "execution_count": 53,
     "metadata": {},
     "output_type": "execute_result"
    }
   ],
   "source": [
    "final_data = pd.concat([data[['HomeTeam','AwayTeam','FTHG']].assign(home=1).rename(\n",
    "            columns={'HomeTeam':'team', 'AwayTeam':'opponent','FTHG':'goals'}),\n",
    "           data[['AwayTeam','HomeTeam','FTAG']].assign(home=0).rename(\n",
    "            columns={'AwayTeam':'team', 'HomeTeam':'opponent','FTAG':'goals'})])\n",
    "\n",
    "poisson_model = smf.glm(formula=\"goals ~ home + team + opponent\", data=final_data, \n",
    "                        family=sm.families.Poisson()).fit()\n",
    "poisson_model.summary()"
   ]
  },
  {
   "cell_type": "code",
   "execution_count": 57,
   "metadata": {},
   "outputs": [],
   "source": [
    "from IPython.display import Image"
   ]
  },
  {
   "cell_type": "markdown",
   "metadata": {},
   "source": [
    "![title](image.png)"
   ]
  },
  {
   "cell_type": "markdown",
   "metadata": {},
   "source": [
    "#### Juventus vs Bologna"
   ]
  },
  {
   "cell_type": "code",
   "execution_count": 59,
   "metadata": {},
   "outputs": [
    {
     "data": {
      "text/plain": [
       "1    2.366771\n",
       "dtype: float64"
      ]
     },
     "execution_count": 59,
     "metadata": {},
     "output_type": "execute_result"
    }
   ],
   "source": [
    "poisson_model.predict(pd.DataFrame(data={'team': 'Juventus', 'opponent': 'Bologna',\n",
    "                                       'home':1},index=[1]))\n"
   ]
  },
  {
   "cell_type": "code",
   "execution_count": 73,
   "metadata": {},
   "outputs": [
    {
     "data": {
      "text/plain": [
       "1    0.773163\n",
       "dtype: float64"
      ]
     },
     "execution_count": 73,
     "metadata": {},
     "output_type": "execute_result"
    }
   ],
   "source": [
    "poisson_model.predict(pd.DataFrame(data={'team': 'Bologna', 'opponent': 'Juventus',\n",
    "                                       'home':0},index=[1]))\n"
   ]
  },
  {
   "cell_type": "markdown",
   "metadata": {},
   "source": [
    "### Home win for Juventus"
   ]
  },
  {
   "cell_type": "markdown",
   "metadata": {},
   "source": [
    "#### Lazio vs Atalanta"
   ]
  },
  {
   "cell_type": "code",
   "execution_count": 60,
   "metadata": {},
   "outputs": [
    {
     "data": {
      "text/plain": [
       "1    1.964448\n",
       "dtype: float64"
      ]
     },
     "execution_count": 60,
     "metadata": {},
     "output_type": "execute_result"
    }
   ],
   "source": [
    "poisson_model.predict(pd.DataFrame(data={'team': 'Lazio', 'opponent': 'Atalanta',\n",
    "                                       'home':1},index=[1]))\n"
   ]
  },
  {
   "cell_type": "code",
   "execution_count": 74,
   "metadata": {},
   "outputs": [
    {
     "data": {
      "text/plain": [
       "1    1.345906\n",
       "dtype: float64"
      ]
     },
     "execution_count": 74,
     "metadata": {},
     "output_type": "execute_result"
    }
   ],
   "source": [
    "poisson_model.predict(pd.DataFrame(data={'team': 'Atalanta', 'opponent': 'Lazio',\n",
    "                                       'home':0},index=[1]))"
   ]
  },
  {
   "cell_type": "markdown",
   "metadata": {},
   "source": [
    "### Draw"
   ]
  },
  {
   "cell_type": "markdown",
   "metadata": {},
   "source": [
    "#### Napoli vs Verona"
   ]
  },
  {
   "cell_type": "code",
   "execution_count": 61,
   "metadata": {},
   "outputs": [
    {
     "data": {
      "text/plain": [
       "1    1.349106\n",
       "dtype: float64"
      ]
     },
     "execution_count": 61,
     "metadata": {},
     "output_type": "execute_result"
    }
   ],
   "source": [
    "poisson_model.predict(pd.DataFrame(data={'team': 'Napoli', 'opponent': 'Verona',\n",
    "                                       'home':1},index=[1]))\n"
   ]
  },
  {
   "cell_type": "code",
   "execution_count": 75,
   "metadata": {},
   "outputs": [
    {
     "data": {
      "text/plain": [
       "1    0.876536\n",
       "dtype: float64"
      ]
     },
     "execution_count": 75,
     "metadata": {},
     "output_type": "execute_result"
    }
   ],
   "source": [
    "poisson_model.predict(pd.DataFrame(data={'team': 'Verona', 'opponent': 'Napoli',\n",
    "                                       'home':0},index=[1]))"
   ]
  },
  {
   "cell_type": "markdown",
   "metadata": {},
   "source": [
    "### Home win for Napoli"
   ]
  },
  {
   "cell_type": "markdown",
   "metadata": {},
   "source": [
    "#### Sassuolo vs Inter"
   ]
  },
  {
   "cell_type": "code",
   "execution_count": 64,
   "metadata": {},
   "outputs": [
    {
     "data": {
      "text/plain": [
       "1    0.818287\n",
       "dtype: float64"
      ]
     },
     "execution_count": 64,
     "metadata": {},
     "output_type": "execute_result"
    }
   ],
   "source": [
    "poisson_model.predict(pd.DataFrame(data={'team': 'Sassuolo', 'opponent': 'Inter',\n",
    "                                       'home':1},index=[1]))\n"
   ]
  },
  {
   "cell_type": "code",
   "execution_count": 76,
   "metadata": {},
   "outputs": [
    {
     "data": {
      "text/plain": [
       "1    3.422214\n",
       "dtype: float64"
      ]
     },
     "execution_count": 76,
     "metadata": {},
     "output_type": "execute_result"
    }
   ],
   "source": [
    "poisson_model.predict(pd.DataFrame(data={'team': 'Inter', 'opponent': 'Sassuolo',\n",
    "                                       'home':0},index=[1]))"
   ]
  },
  {
   "cell_type": "markdown",
   "metadata": {},
   "source": [
    "### Away win for Inter"
   ]
  },
  {
   "cell_type": "markdown",
   "metadata": {},
   "source": [
    "#### Udinese vs Torino"
   ]
  },
  {
   "cell_type": "code",
   "execution_count": 65,
   "metadata": {},
   "outputs": [
    {
     "data": {
      "text/plain": [
       "1    0.491431\n",
       "dtype: float64"
      ]
     },
     "execution_count": 65,
     "metadata": {},
     "output_type": "execute_result"
    }
   ],
   "source": [
    "poisson_model.predict(pd.DataFrame(data={'team': 'Udinese', 'opponent': 'Torino',\n",
    "                                       'home':1},index=[1]))"
   ]
  },
  {
   "cell_type": "code",
   "execution_count": 77,
   "metadata": {},
   "outputs": [
    {
     "data": {
      "text/plain": [
       "1    0.67343\n",
       "dtype: float64"
      ]
     },
     "execution_count": 77,
     "metadata": {},
     "output_type": "execute_result"
    }
   ],
   "source": [
    "poisson_model.predict(pd.DataFrame(data={'team': 'Torino', 'opponent': 'Udinese',\n",
    "                                       'home':0},index=[1]))"
   ]
  },
  {
   "cell_type": "markdown",
   "metadata": {},
   "source": [
    "### Draw"
   ]
  },
  {
   "cell_type": "markdown",
   "metadata": {},
   "source": [
    "#### Sampdoria vs Roma"
   ]
  },
  {
   "cell_type": "code",
   "execution_count": 66,
   "metadata": {},
   "outputs": [
    {
     "data": {
      "text/plain": [
       "1    0.613801\n",
       "dtype: float64"
      ]
     },
     "execution_count": 66,
     "metadata": {},
     "output_type": "execute_result"
    }
   ],
   "source": [
    "poisson_model.predict(pd.DataFrame(data={'team': 'Sampdoria', 'opponent': 'Roma',\n",
    "                                       'home':1},index=[1]))\n"
   ]
  },
  {
   "cell_type": "code",
   "execution_count": 81,
   "metadata": {},
   "outputs": [
    {
     "data": {
      "text/plain": [
       "1    2.010404\n",
       "dtype: float64"
      ]
     },
     "execution_count": 81,
     "metadata": {},
     "output_type": "execute_result"
    }
   ],
   "source": [
    "poisson_model.predict(pd.DataFrame(data={'team': 'Roma', 'opponent': 'Sampdoria',\n",
    "                                       'home':0},index=[1]))"
   ]
  },
  {
   "cell_type": "markdown",
   "metadata": {},
   "source": [
    "### Away win for Roma"
   ]
  },
  {
   "cell_type": "markdown",
   "metadata": {},
   "source": [
    "#### Cagliari vs SPAL\n"
   ]
  },
  {
   "cell_type": "code",
   "execution_count": 67,
   "metadata": {},
   "outputs": [
    {
     "data": {
      "text/plain": [
       "1    1.822938\n",
       "dtype: float64"
      ]
     },
     "execution_count": 67,
     "metadata": {},
     "output_type": "execute_result"
    }
   ],
   "source": [
    "poisson_model.predict(pd.DataFrame(data={'team': 'Cagliari', 'opponent': 'Spal',\n",
    "                                       'home':1},index=[1]))\n"
   ]
  },
  {
   "cell_type": "code",
   "execution_count": 82,
   "metadata": {},
   "outputs": [
    {
     "data": {
      "text/plain": [
       "1    0.546941\n",
       "dtype: float64"
      ]
     },
     "execution_count": 82,
     "metadata": {},
     "output_type": "execute_result"
    }
   ],
   "source": [
    "poisson_model.predict(pd.DataFrame(data={'team': 'Spal', 'opponent': 'Cagliari',\n",
    "                                       'home':1},index=[1]))"
   ]
  },
  {
   "cell_type": "markdown",
   "metadata": {},
   "source": [
    "### Home win for Cagliari"
   ]
  },
  {
   "cell_type": "markdown",
   "metadata": {},
   "source": [
    "#### Parma vs Genoa"
   ]
  },
  {
   "cell_type": "code",
   "execution_count": 68,
   "metadata": {},
   "outputs": [
    {
     "data": {
      "text/plain": [
       "1    1.809687\n",
       "dtype: float64"
      ]
     },
     "execution_count": 68,
     "metadata": {},
     "output_type": "execute_result"
    }
   ],
   "source": [
    "poisson_model.predict(pd.DataFrame(data={'team': 'Parma', 'opponent': 'Genoa',\n",
    "                                       'home':1},index=[1]))"
   ]
  },
  {
   "cell_type": "code",
   "execution_count": 83,
   "metadata": {},
   "outputs": [
    {
     "data": {
      "text/plain": [
       "1    1.263373\n",
       "dtype: float64"
      ]
     },
     "execution_count": 83,
     "metadata": {},
     "output_type": "execute_result"
    }
   ],
   "source": [
    "poisson_model.predict(pd.DataFrame(data={'team': 'Genoa', 'opponent': 'Parma',\n",
    "                                       'home':0},index=[1]))"
   ]
  },
  {
   "cell_type": "markdown",
   "metadata": {},
   "source": [
    "### Home win or draw"
   ]
  },
  {
   "cell_type": "markdown",
   "metadata": {},
   "source": [
    "#### Milan vs Lecce"
   ]
  },
  {
   "cell_type": "code",
   "execution_count": 69,
   "metadata": {},
   "outputs": [
    {
     "data": {
      "text/plain": [
       "1    1.398487\n",
       "dtype: float64"
      ]
     },
     "execution_count": 69,
     "metadata": {},
     "output_type": "execute_result"
    }
   ],
   "source": [
    "poisson_model.predict(pd.DataFrame(data={'team': 'Milan', 'opponent': 'Lecce',\n",
    "                                       'home':1},index=[1]))"
   ]
  },
  {
   "cell_type": "code",
   "execution_count": 85,
   "metadata": {},
   "outputs": [
    {
     "data": {
      "text/plain": [
       "1    1.06876\n",
       "dtype: float64"
      ]
     },
     "execution_count": 85,
     "metadata": {},
     "output_type": "execute_result"
    }
   ],
   "source": [
    "poisson_model.predict(pd.DataFrame(data={'team': 'Lecce', 'opponent': 'Milan',\n",
    "                                       'home':0},index=[1]))"
   ]
  },
  {
   "cell_type": "markdown",
   "metadata": {},
   "source": [
    "### Draw"
   ]
  },
  {
   "cell_type": "markdown",
   "metadata": {},
   "source": [
    "#### Brescia vs Fiorentina"
   ]
  },
  {
   "cell_type": "code",
   "execution_count": 72,
   "metadata": {},
   "outputs": [
    {
     "data": {
      "text/plain": [
       "1    1.555757\n",
       "dtype: float64"
      ]
     },
     "execution_count": 72,
     "metadata": {},
     "output_type": "execute_result"
    }
   ],
   "source": [
    "poisson_model.predict(pd.DataFrame(data={'team': 'Brescia', 'opponent': 'Fiorentina',\n",
    "                                       'home':1},index=[1]))"
   ]
  },
  {
   "cell_type": "code",
   "execution_count": 86,
   "metadata": {},
   "outputs": [
    {
     "data": {
      "text/plain": [
       "1    1.704833\n",
       "dtype: float64"
      ]
     },
     "execution_count": 86,
     "metadata": {},
     "output_type": "execute_result"
    }
   ],
   "source": [
    "poisson_model.predict(pd.DataFrame(data={'team': 'Fiorentina', 'opponent': 'Brescia',\n",
    "                                       'home':0},index=[1]))"
   ]
  },
  {
   "cell_type": "markdown",
   "metadata": {},
   "source": [
    "### Draw"
   ]
  },
  {
   "cell_type": "markdown",
   "metadata": {},
   "source": [
    "## Check WilliamHill odds: https://sports.williamhill.com/betting/en-gb/football/competitions/OB_TY321/Italian-Serie-A/matches/OB_MGMB/Match-Betting"
   ]
  },
  {
   "cell_type": "markdown",
   "metadata": {},
   "source": [
    "### Reference: https://dashee87.github.io/football/python/predicting-football-results-with-statistical-modelling/"
   ]
  }
 ],
 "metadata": {
  "kernelspec": {
   "display_name": "Python 3",
   "language": "python",
   "name": "python3"
  },
  "language_info": {
   "codemirror_mode": {
    "name": "ipython",
    "version": 3
   },
   "file_extension": ".py",
   "mimetype": "text/x-python",
   "name": "python",
   "nbconvert_exporter": "python",
   "pygments_lexer": "ipython3",
   "version": "3.7.3"
  }
 },
 "nbformat": 4,
 "nbformat_minor": 4
}

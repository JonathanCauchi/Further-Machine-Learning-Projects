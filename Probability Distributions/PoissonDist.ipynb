{
 "cells": [
  {
   "cell_type": "code",
   "execution_count": 51,
   "metadata": {},
   "outputs": [],
   "source": [
    "import numpy as np\n",
    "import matplotlib.pyplot as plt"
   ]
  },
  {
   "cell_type": "markdown",
   "metadata": {},
   "source": [
    "## Exercise:\n",
    "### The average number of serious traffic accidents in Malta between 7.30am and 8.00am is 3, calculate the probability we get exactly 1 traffic accident in this time period tomorrow. Plot a graph of the probabilities using the Poisson Distribution with from 0 to 10 accidents. "
   ]
  },
  {
   "cell_type": "markdown",
   "metadata": {},
   "source": [
    "### P(x; μ) = (e-μ) (μ^x) / x! where x is the actual number of successes that result from the experiment, and e is approximately equal to 2.71828. The Poisson distribution has the following properties: The mean of the distribution is equal to μ ."
   ]
  },
  {
   "cell_type": "code",
   "execution_count": 43,
   "metadata": {},
   "outputs": [],
   "source": [
    "list = []\n",
    "## purpose of the list above is to store the different poisson dist values for all different target values\n",
    "\n",
    "def factorial(n):\n",
    "    if n == 0:\n",
    "        return 1\n",
    "    else:\n",
    "        return n * factorial(n-1)\n",
    "\n",
    "def poissondist(n):\n",
    "    result = (np.exp(-3)*(3**n))/factorial(n)\n",
    "    return result"
   ]
  },
  {
   "cell_type": "code",
   "execution_count": 44,
   "metadata": {},
   "outputs": [
    {
     "name": "stdout",
     "output_type": "stream",
     "text": [
      "0.049787068367863944\n",
      "0.14936120510359183\n",
      "0.22404180765538775\n",
      "0.22404180765538775\n",
      "0.16803135574154082\n",
      "0.10081881344492448\n",
      "0.05040940672246225\n",
      "0.02160403145248382\n",
      "0.008101511794681432\n",
      "0.002700503931560477\n"
     ]
    }
   ],
   "source": [
    "for i in range (0,10):\n",
    "    print(poissondist(i)) ## printing poisson dist values of all values of 'x'\n",
    "    a = poissondist(i)\n",
    "    list.append(a) ## allocating values to list"
   ]
  },
  {
   "cell_type": "code",
   "execution_count": 45,
   "metadata": {},
   "outputs": [
    {
     "name": "stdout",
     "output_type": "stream",
     "text": [
      "[0.049787068367863944, 0.14936120510359183, 0.22404180765538775, 0.22404180765538775, 0.16803135574154082, 0.10081881344492448, 0.05040940672246225, 0.02160403145248382, 0.008101511794681432, 0.002700503931560477]\n"
     ]
    }
   ],
   "source": [
    "print (list) ## making sure values have been allocated"
   ]
  },
  {
   "cell_type": "markdown",
   "metadata": {},
   "source": [
    "### Time to plot the chart"
   ]
  },
  {
   "cell_type": "code",
   "execution_count": 46,
   "metadata": {},
   "outputs": [],
   "source": [
    "k = []\n",
    "for x in range(0, 10):\n",
    "    k.append(x)"
   ]
  },
  {
   "cell_type": "code",
   "execution_count": 52,
   "metadata": {},
   "outputs": [
    {
     "data": {
      "image/png": "[encoded data removed]",
      "text/plain": [
       "<Figure size 432x288 with 1 Axes>"
      ]
     },
     "metadata": {
      "needs_background": "light"
     },
     "output_type": "display_data"
    }
   ],
   "source": [
    "plt.plot(k, list)\n",
    "plt.xlabel('Target X value')\n",
    "plt.ylabel('Poisson Distribution Value P(X=x)')\n",
    "plt.show()\n"
   ]
  }
 ],
 "metadata": {
  "kernelspec": {
   "display_name": "Python 3",
   "language": "python",
   "name": "python3"
  },
  "language_info": {
   "codemirror_mode": {
    "name": "ipython",
    "version": 3
   },
   "file_extension": ".py",
   "mimetype": "text/x-python",
   "name": "python",
   "nbconvert_exporter": "python",
   "pygments_lexer": "ipython3",
   "version": "3.7.3"
  }
 },
 "nbformat": 4,
 "nbformat_minor": 2
}

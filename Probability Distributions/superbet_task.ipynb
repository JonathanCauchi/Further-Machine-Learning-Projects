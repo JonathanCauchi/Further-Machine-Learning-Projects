{
  "cells": [
    {
      "cell_type": "code",
      "source": [
        "import pandas as pd\n",
        "import numpy as np\n",
        "import random\n",
        "import matplotlib.pyplot as plt\n",
        "import seaborn as sns\n",
        "from scipy.stats import poisson\n",
        "import statsmodels.api as sm\n",
        "import statsmodels.formula.api as smf"
      ],
      "metadata": {
        "id": "liImLuInIhTM"
      },
      "id": "liImLuInIhTM",
      "execution_count": 108,
      "outputs": []
    },
    {
      "cell_type": "markdown",
      "source": [
        "https://towardsdatascience.com/predicting-premier-league-standings-putting-that-math-to-some-use-e8de64938d7"
      ],
      "metadata": {
        "id": "0AoE8x5TPMu8"
      },
      "id": "0AoE8x5TPMu8"
    },
    {
      "cell_type": "markdown",
      "source": [
        "## **Construct the current League Table - ordered by points (3 for a win, 1 for a draw), goal difference and then goals scored and output as a csv – called league_table.csv**"
      ],
      "metadata": {
        "id": "jFSxPtCuDOu9"
      },
      "id": "jFSxPtCuDOu9"
    },
    {
      "cell_type": "code",
      "execution_count": 109,
      "id": "10ff8c31-f3f7-43d6-b4cc-aa36824f284c",
      "metadata": {
        "colab": {
          "base_uri": "https://localhost:8080/",
          "height": 423
        },
        "id": "10ff8c31-f3f7-43d6-b4cc-aa36824f284c",
        "outputId": "931657f0-4812-4c38-f9fd-7123e2584c1f"
      },
      "outputs": [
        {
          "output_type": "execute_result",
          "data": {
            "text/html": [
              "\n",
              "  <div id=\"df-30e05407-843e-4646-b370-433238cc958c\">\n",
              "    <div class=\"colab-df-container\">\n",
              "      <div>\n",
              "<style scoped>\n",
              "    .dataframe tbody tr th:only-of-type {\n",
              "        vertical-align: middle;\n",
              "    }\n",
              "\n",
              "    .dataframe tbody tr th {\n",
              "        vertical-align: top;\n",
              "    }\n",
              "\n",
              "    .dataframe thead th {\n",
              "        text-align: right;\n",
              "    }\n",
              "</style>\n",
              "<table border=\"1\" class=\"dataframe\">\n",
              "  <thead>\n",
              "    <tr style=\"text-align: right;\">\n",
              "      <th></th>\n",
              "      <th>Match ID</th>\n",
              "      <th>Home ID</th>\n",
              "      <th>Away ID</th>\n",
              "      <th>1</th>\n",
              "      <th>X</th>\n",
              "      <th>2</th>\n",
              "      <th>Score</th>\n",
              "    </tr>\n",
              "  </thead>\n",
              "  <tbody>\n",
              "    <tr>\n",
              "      <th>0</th>\n",
              "      <td>1</td>\n",
              "      <td>5</td>\n",
              "      <td>17</td>\n",
              "      <td>3.28</td>\n",
              "      <td>3.20</td>\n",
              "      <td>2.39</td>\n",
              "      <td>1:1</td>\n",
              "    </tr>\n",
              "    <tr>\n",
              "      <th>1</th>\n",
              "      <td>2</td>\n",
              "      <td>6</td>\n",
              "      <td>18</td>\n",
              "      <td>2.35</td>\n",
              "      <td>3.45</td>\n",
              "      <td>3.07</td>\n",
              "      <td>3:1</td>\n",
              "    </tr>\n",
              "    <tr>\n",
              "      <th>2</th>\n",
              "      <td>3</td>\n",
              "      <td>10</td>\n",
              "      <td>8</td>\n",
              "      <td>1.22</td>\n",
              "      <td>6.54</td>\n",
              "      <td>16.16</td>\n",
              "      <td>2:0</td>\n",
              "    </tr>\n",
              "    <tr>\n",
              "      <th>3</th>\n",
              "      <td>4</td>\n",
              "      <td>14</td>\n",
              "      <td>11</td>\n",
              "      <td>3.33</td>\n",
              "      <td>3.57</td>\n",
              "      <td>2.20</td>\n",
              "      <td>1:3</td>\n",
              "    </tr>\n",
              "    <tr>\n",
              "      <th>4</th>\n",
              "      <td>5</td>\n",
              "      <td>16</td>\n",
              "      <td>15</td>\n",
              "      <td>3.06</td>\n",
              "      <td>3.55</td>\n",
              "      <td>2.33</td>\n",
              "      <td>2:2</td>\n",
              "    </tr>\n",
              "    <tr>\n",
              "      <th>...</th>\n",
              "      <td>...</td>\n",
              "      <td>...</td>\n",
              "      <td>...</td>\n",
              "      <td>...</td>\n",
              "      <td>...</td>\n",
              "      <td>...</td>\n",
              "      <td>...</td>\n",
              "    </tr>\n",
              "    <tr>\n",
              "      <th>155</th>\n",
              "      <td>156</td>\n",
              "      <td>18</td>\n",
              "      <td>10</td>\n",
              "      <td>7.05</td>\n",
              "      <td>4.08</td>\n",
              "      <td>1.54</td>\n",
              "      <td>2:2</td>\n",
              "    </tr>\n",
              "    <tr>\n",
              "      <th>156</th>\n",
              "      <td>157</td>\n",
              "      <td>6</td>\n",
              "      <td>11</td>\n",
              "      <td>4.15</td>\n",
              "      <td>3.83</td>\n",
              "      <td>1.88</td>\n",
              "      <td>1:3</td>\n",
              "    </tr>\n",
              "    <tr>\n",
              "      <th>157</th>\n",
              "      <td>158</td>\n",
              "      <td>17</td>\n",
              "      <td>3</td>\n",
              "      <td>6.38</td>\n",
              "      <td>4.53</td>\n",
              "      <td>1.52</td>\n",
              "      <td>1:2</td>\n",
              "    </tr>\n",
              "    <tr>\n",
              "      <th>158</th>\n",
              "      <td>159</td>\n",
              "      <td>9</td>\n",
              "      <td>8</td>\n",
              "      <td>1.31</td>\n",
              "      <td>5.66</td>\n",
              "      <td>10.94</td>\n",
              "      <td>4:0</td>\n",
              "    </tr>\n",
              "    <tr>\n",
              "      <th>159</th>\n",
              "      <td>160</td>\n",
              "      <td>20</td>\n",
              "      <td>15</td>\n",
              "      <td>2.59</td>\n",
              "      <td>3.45</td>\n",
              "      <td>2.79</td>\n",
              "      <td>2:3</td>\n",
              "    </tr>\n",
              "  </tbody>\n",
              "</table>\n",
              "<p>160 rows × 7 columns</p>\n",
              "</div>\n",
              "      <button class=\"colab-df-convert\" onclick=\"convertToInteractive('df-30e05407-843e-4646-b370-433238cc958c')\"\n",
              "              title=\"Convert this dataframe to an interactive table.\"\n",
              "              style=\"display:none;\">\n",
              "        \n",
              "  <svg xmlns=\"http://www.w3.org/2000/svg\" height=\"24px\"viewBox=\"0 0 24 24\"\n",
              "       width=\"24px\">\n",
              "    <path d=\"M0 0h24v24H0V0z\" fill=\"none\"/>\n",
              "    <path d=\"M18.56 5.44l.94 2.06.94-2.06 2.06-.94-2.06-.94-.94-2.06-.94 2.06-2.06.94zm-11 1L8.5 8.5l.94-2.06 2.06-.94-2.06-.94L8.5 2.5l-.94 2.06-2.06.94zm10 10l.94 2.06.94-2.06 2.06-.94-2.06-.94-.94-2.06-.94 2.06-2.06.94z\"/><path d=\"M17.41 7.96l-1.37-1.37c-.4-.4-.92-.59-1.43-.59-.52 0-1.04.2-1.43.59L10.3 9.45l-7.72 7.72c-.78.78-.78 2.05 0 2.83L4 21.41c.39.39.9.59 1.41.59.51 0 1.02-.2 1.41-.59l7.78-7.78 2.81-2.81c.8-.78.8-2.07 0-2.86zM5.41 20L4 18.59l7.72-7.72 1.47 1.35L5.41 20z\"/>\n",
              "  </svg>\n",
              "      </button>\n",
              "      \n",
              "  <style>\n",
              "    .colab-df-container {\n",
              "      display:flex;\n",
              "      flex-wrap:wrap;\n",
              "      gap: 12px;\n",
              "    }\n",
              "\n",
              "    .colab-df-convert {\n",
              "      background-color: #E8F0FE;\n",
              "      border: none;\n",
              "      border-radius: 50%;\n",
              "      cursor: pointer;\n",
              "      display: none;\n",
              "      fill: #1967D2;\n",
              "      height: 32px;\n",
              "      padding: 0 0 0 0;\n",
              "      width: 32px;\n",
              "    }\n",
              "\n",
              "    .colab-df-convert:hover {\n",
              "      background-color: #E2EBFA;\n",
              "      box-shadow: 0px 1px 2px rgba(60, 64, 67, 0.3), 0px 1px 3px 1px rgba(60, 64, 67, 0.15);\n",
              "      fill: #174EA6;\n",
              "    }\n",
              "\n",
              "    [theme=dark] .colab-df-convert {\n",
              "      background-color: #3B4455;\n",
              "      fill: #D2E3FC;\n",
              "    }\n",
              "\n",
              "    [theme=dark] .colab-df-convert:hover {\n",
              "      background-color: #434B5C;\n",
              "      box-shadow: 0px 1px 3px 1px rgba(0, 0, 0, 0.15);\n",
              "      filter: drop-shadow(0px 1px 2px rgba(0, 0, 0, 0.3));\n",
              "      fill: #FFFFFF;\n",
              "    }\n",
              "  </style>\n",
              "\n",
              "      <script>\n",
              "        const buttonEl =\n",
              "          document.querySelector('#df-30e05407-843e-4646-b370-433238cc958c button.colab-df-convert');\n",
              "        buttonEl.style.display =\n",
              "          google.colab.kernel.accessAllowed ? 'block' : 'none';\n",
              "\n",
              "        async function convertToInteractive(key) {\n",
              "          const element = document.querySelector('#df-30e05407-843e-4646-b370-433238cc958c');\n",
              "          const dataTable =\n",
              "            await google.colab.kernel.invokeFunction('convertToInteractive',\n",
              "                                                     [key], {});\n",
              "          if (!dataTable) return;\n",
              "\n",
              "          const docLinkHtml = 'Like what you see? Visit the ' +\n",
              "            '<a target=\"_blank\" href=https://colab.research.google.com/notebooks/data_table.ipynb>data table notebook</a>'\n",
              "            + ' to learn more about interactive tables.';\n",
              "          element.innerHTML = '';\n",
              "          dataTable['output_type'] = 'display_data';\n",
              "          await google.colab.output.renderOutput(dataTable, element);\n",
              "          const docLink = document.createElement('div');\n",
              "          docLink.innerHTML = docLinkHtml;\n",
              "          element.appendChild(docLink);\n",
              "        }\n",
              "      </script>\n",
              "    </div>\n",
              "  </div>\n",
              "  "
            ],
            "text/plain": [
              "     Match ID  Home ID  Away ID     1     X      2 Score\n",
              "0           1        5       17  3.28  3.20   2.39   1:1\n",
              "1           2        6       18  2.35  3.45   3.07   3:1\n",
              "2           3       10        8  1.22  6.54  16.16   2:0\n",
              "3           4       14       11  3.33  3.57   2.20   1:3\n",
              "4           5       16       15  3.06  3.55   2.33   2:2\n",
              "..        ...      ...      ...   ...   ...    ...   ...\n",
              "155       156       18       10  7.05  4.08   1.54   2:2\n",
              "156       157        6       11  4.15  3.83   1.88   1:3\n",
              "157       158       17        3  6.38  4.53   1.52   1:2\n",
              "158       159        9        8  1.31  5.66  10.94   4:0\n",
              "159       160       20       15  2.59  3.45   2.79   2:3\n",
              "\n",
              "[160 rows x 7 columns]"
            ]
          },
          "metadata": {},
          "execution_count": 109
        }
      ],
      "source": [
        "df = pd.read_csv('sample_data.csv')\n",
        "df"
      ]
    },
    {
      "cell_type": "code",
      "source": [
        "display(df['Home ID'].value_counts())\n",
        "display(df['Away ID'].value_counts())"
      ],
      "metadata": {
        "colab": {
          "base_uri": "https://localhost:8080/",
          "height": 746
        },
        "id": "IAcKgq7mpDYd",
        "outputId": "4c8b8a03-c448-40a9-96a1-c487539e78b6"
      },
      "id": "IAcKgq7mpDYd",
      "execution_count": 110,
      "outputs": [
        {
          "output_type": "display_data",
          "data": {
            "text/plain": [
              "5     9\n",
              "6     9\n",
              "14    9\n",
              "4     9\n",
              "3     8\n",
              "20    8\n",
              "13    8\n",
              "15    8\n",
              "17    8\n",
              "11    8\n",
              "1     8\n",
              "2     8\n",
              "12    8\n",
              "16    8\n",
              "10    8\n",
              "18    8\n",
              "8     7\n",
              "9     7\n",
              "19    7\n",
              "7     7\n",
              "Name: Home ID, dtype: int64"
            ]
          },
          "metadata": {}
        },
        {
          "output_type": "display_data",
          "data": {
            "text/plain": [
              "9     9\n",
              "8     9\n",
              "7     9\n",
              "19    9\n",
              "18    8\n",
              "10    8\n",
              "16    8\n",
              "2     8\n",
              "12    8\n",
              "1     8\n",
              "17    8\n",
              "13    8\n",
              "3     8\n",
              "20    8\n",
              "15    8\n",
              "11    8\n",
              "14    7\n",
              "6     7\n",
              "5     7\n",
              "4     7\n",
              "Name: Away ID, dtype: int64"
            ]
          },
          "metadata": {}
        }
      ]
    },
    {
      "cell_type": "markdown",
      "source": [
        "## Constructing a Python dictionary"
      ],
      "metadata": {
        "id": "r_G3ri2vjsnS"
      },
      "id": "r_G3ri2vjsnS"
    },
    {
      "cell_type": "markdown",
      "source": [
        "Given we will be looping through the dataset in order to obtain information regarding some index (Team ID), a Python Dictionary is appropriate as they are very fast when accessing data, in addition to being intuitive.\n",
        "\n",
        "The average case complexity for delete and update operations are O(1) and O(n) for construction of new keys"
      ],
      "metadata": {
        "id": "CRcLLl6lk9rR"
      },
      "id": "CRcLLl6lk9rR"
    },
    {
      "cell_type": "code",
      "source": [
        "# define dictionary\n",
        "league_table_dict = {}\n",
        "# iterate through Home or Away ID column to obtain unique keys\n",
        "for index in df['Home ID'].values:\n",
        "    if index in league_table_dict:\n",
        "       pass\n",
        "    else:\n",
        "       # define a sub_dict for each key which will include all other variables. Others may prefer tuples or lists\n",
        "       league_table_dict[index] = {'Wins':0,'Draws':0,'Losses':0,'Points':0, 'GD':0, 'GS':0} \n",
        "\n",
        "for index, row in df.iterrows(): \n",
        "    # for each match, obtain Team IDs and the number of goals per team\n",
        "    home_id = row['Home ID']\n",
        "    away_id = row['Away ID']\n",
        "    home_score = int(row['Score'].split(':')[0])\n",
        "    away_score = int(row['Score'].split(':')[1])\n",
        "    home_GD = home_score - away_score\n",
        "    away_GD = away_score - home_score\n",
        "\n",
        "    # for each match, update GD & GS for each team\n",
        "    league_table_dict[home_id]['GS'] += home_score\n",
        "    league_table_dict[away_id]['GS'] += away_score\n",
        "    league_table_dict[home_id]['GD'] += home_GD\n",
        "    league_table_dict[away_id]['GD'] += away_GD\n",
        "\n",
        "    # in case of home team win\n",
        "    if home_score > away_score:\n",
        "       league_table_dict[home_id]['Points'] += 3\n",
        "       league_table_dict[home_id]['Wins'] += 1\n",
        "       league_table_dict[away_id]['Losses'] += 1\n",
        "    # in case of away team win\n",
        "    elif home_score < away_score:\n",
        "       league_table_dict[away_id]['Points'] += 3\n",
        "       league_table_dict[away_id]['Wins'] += 1\n",
        "       league_table_dict[home_id]['Losses'] += 1\n",
        "    # in case of a draw\n",
        "    else:\n",
        "       league_table_dict[home_id]['Points'] += 1\n",
        "       league_table_dict[away_id]['Points'] += 1\n",
        "       league_table_dict[away_id]['Draws'] += 1\n",
        "       league_table_dict[home_id]['Draws'] += 1\n"
      ],
      "metadata": {
        "id": "jU8btONHi1AR"
      },
      "id": "jU8btONHi1AR",
      "execution_count": 111,
      "outputs": []
    },
    {
      "cell_type": "markdown",
      "source": [
        "### Task 1 Results"
      ],
      "metadata": {
        "id": "lyVeAphrsS5Q"
      },
      "id": "lyVeAphrsS5Q"
    },
    {
      "cell_type": "code",
      "source": [
        "league_table_dict"
      ],
      "metadata": {
        "colab": {
          "base_uri": "https://localhost:8080/"
        },
        "id": "pQrn9qYLo1BC",
        "outputId": "f8f16e4d-7504-4ba9-f4ff-44e528a11808"
      },
      "id": "pQrn9qYLo1BC",
      "execution_count": 112,
      "outputs": [
        {
          "output_type": "execute_result",
          "data": {
            "text/plain": [
              "{1: {'Draws': 2, 'GD': 17, 'GS': 35, 'Losses': 2, 'Points': 38, 'Wins': 12},\n",
              " 2: {'Draws': 1, 'GD': 5, 'GS': 24, 'Losses': 7, 'Points': 25, 'Wins': 8},\n",
              " 3: {'Draws': 4, 'GD': 16, 'GS': 35, 'Losses': 2, 'Points': 34, 'Wins': 10},\n",
              " 4: {'Draws': 3, 'GD': -4, 'GS': 23, 'Losses': 6, 'Points': 24, 'Wins': 7},\n",
              " 5: {'Draws': 7, 'GD': -13, 'GS': 17, 'Losses': 8, 'Points': 10, 'Wins': 1},\n",
              " 6: {'Draws': 2, 'GD': -3, 'GS': 26, 'Losses': 7, 'Points': 23, 'Wins': 7},\n",
              " 7: {'Draws': 0, 'GD': 5, 'GS': 27, 'Losses': 7, 'Points': 27, 'Wins': 9},\n",
              " 8: {'Draws': 7, 'GD': -14, 'GS': 17, 'Losses': 8, 'Points': 10, 'Wins': 1},\n",
              " 9: {'Draws': 4, 'GD': 24, 'GS': 39, 'Losses': 1, 'Points': 37, 'Wins': 11},\n",
              " 10: {'Draws': 3, 'GD': 6, 'GS': 22, 'Losses': 5, 'Points': 27, 'Wins': 8},\n",
              " 11: {'Draws': 4, 'GD': 2, 'GS': 32, 'Losses': 5, 'Points': 25, 'Wins': 7},\n",
              " 12: {'Draws': 3, 'GD': 22, 'GS': 34, 'Losses': 2, 'Points': 36, 'Wins': 11},\n",
              " 13: {'Draws': 2, 'GD': -22, 'GS': 11, 'Losses': 12, 'Points': 8, 'Wins': 2},\n",
              " 14: {'Draws': 3, 'GD': -10, 'GS': 22, 'Losses': 9, 'Points': 15, 'Wins': 4},\n",
              " 15: {'Draws': 5, 'GD': 1, 'GS': 26, 'Losses': 6, 'Points': 20, 'Wins': 5},\n",
              " 16: {'Draws': 3, 'GD': -19, 'GS': 17, 'Losses': 10, 'Points': 12, 'Wins': 3},\n",
              " 17: {'Draws': 4, 'GD': 3, 'GS': 20, 'Losses': 7, 'Points': 19, 'Wins': 5},\n",
              " 18: {'Draws': 7, 'GD': -6, 'GS': 21, 'Losses': 6, 'Points': 16, 'Wins': 3},\n",
              " 19: {'Draws': 3, 'GD': -14, 'GS': 15, 'Losses': 9, 'Points': 15, 'Wins': 4},\n",
              " 20: {'Draws': 5, 'GD': 4, 'GS': 32, 'Losses': 5, 'Points': 23, 'Wins': 6}}"
            ]
          },
          "metadata": {},
          "execution_count": 112
        }
      ]
    },
    {
      "cell_type": "code",
      "source": [
        "# define column names \n",
        "column_names = ['TeamID','W','D','L','GD','GF','Points']\n",
        "\n",
        "# instantiate new pandas dataframe\n",
        "league_table_df = pd.DataFrame(columns=column_names)\n",
        "\n",
        "# append all key-value pairs as df rows\n",
        "for key in league_table_dict:\n",
        "    league_table_df = league_table_df.append({'TeamID':key,'W':league_table_dict[key]['Wins'],'D':league_table_dict[key]['Draws'],\n",
        "                                              'L':league_table_dict[key]['Losses'],'GD':league_table_dict[key]['GD'],\n",
        "                                              'GF':league_table_dict[key]['GS'],'Points':league_table_dict[key]['Points']}, ignore_index=True)\n",
        "\n",
        "# sort descending order (points)\n",
        "league_table_df = league_table_df.sort_values(by='Points',ascending=False)\n",
        "league_table_df = league_table_df.reset_index()\n",
        "league_table_df = league_table_df.drop(['index'],axis=1)"
      ],
      "metadata": {
        "id": "KtUx_OswmoY0"
      },
      "id": "KtUx_OswmoY0",
      "execution_count": 113,
      "outputs": []
    },
    {
      "cell_type": "code",
      "source": [
        "league_table_df.to_csv('league_table.csv')\n",
        "display(league_table_df.head(20))"
      ],
      "metadata": {
        "colab": {
          "base_uri": "https://localhost:8080/",
          "height": 676
        },
        "id": "MB0g7FyLsbSP",
        "outputId": "6409b62a-8668-4f76-b133-760ad8af5b24"
      },
      "id": "MB0g7FyLsbSP",
      "execution_count": 114,
      "outputs": [
        {
          "output_type": "display_data",
          "data": {
            "text/html": [
              "\n",
              "  <div id=\"df-5838bee0-1657-47a0-8c4c-1ab9b8b5ec4a\">\n",
              "    <div class=\"colab-df-container\">\n",
              "      <div>\n",
              "<style scoped>\n",
              "    .dataframe tbody tr th:only-of-type {\n",
              "        vertical-align: middle;\n",
              "    }\n",
              "\n",
              "    .dataframe tbody tr th {\n",
              "        vertical-align: top;\n",
              "    }\n",
              "\n",
              "    .dataframe thead th {\n",
              "        text-align: right;\n",
              "    }\n",
              "</style>\n",
              "<table border=\"1\" class=\"dataframe\">\n",
              "  <thead>\n",
              "    <tr style=\"text-align: right;\">\n",
              "      <th></th>\n",
              "      <th>TeamID</th>\n",
              "      <th>W</th>\n",
              "      <th>D</th>\n",
              "      <th>L</th>\n",
              "      <th>GD</th>\n",
              "      <th>GF</th>\n",
              "      <th>Points</th>\n",
              "    </tr>\n",
              "  </thead>\n",
              "  <tbody>\n",
              "    <tr>\n",
              "      <th>0</th>\n",
              "      <td>1</td>\n",
              "      <td>12</td>\n",
              "      <td>2</td>\n",
              "      <td>2</td>\n",
              "      <td>17</td>\n",
              "      <td>35</td>\n",
              "      <td>38</td>\n",
              "    </tr>\n",
              "    <tr>\n",
              "      <th>1</th>\n",
              "      <td>9</td>\n",
              "      <td>11</td>\n",
              "      <td>4</td>\n",
              "      <td>1</td>\n",
              "      <td>24</td>\n",
              "      <td>39</td>\n",
              "      <td>37</td>\n",
              "    </tr>\n",
              "    <tr>\n",
              "      <th>2</th>\n",
              "      <td>12</td>\n",
              "      <td>11</td>\n",
              "      <td>3</td>\n",
              "      <td>2</td>\n",
              "      <td>22</td>\n",
              "      <td>34</td>\n",
              "      <td>36</td>\n",
              "    </tr>\n",
              "    <tr>\n",
              "      <th>3</th>\n",
              "      <td>3</td>\n",
              "      <td>10</td>\n",
              "      <td>4</td>\n",
              "      <td>2</td>\n",
              "      <td>16</td>\n",
              "      <td>35</td>\n",
              "      <td>34</td>\n",
              "    </tr>\n",
              "    <tr>\n",
              "      <th>4</th>\n",
              "      <td>10</td>\n",
              "      <td>8</td>\n",
              "      <td>3</td>\n",
              "      <td>5</td>\n",
              "      <td>6</td>\n",
              "      <td>22</td>\n",
              "      <td>27</td>\n",
              "    </tr>\n",
              "    <tr>\n",
              "      <th>5</th>\n",
              "      <td>7</td>\n",
              "      <td>9</td>\n",
              "      <td>0</td>\n",
              "      <td>7</td>\n",
              "      <td>5</td>\n",
              "      <td>27</td>\n",
              "      <td>27</td>\n",
              "    </tr>\n",
              "    <tr>\n",
              "      <th>6</th>\n",
              "      <td>11</td>\n",
              "      <td>7</td>\n",
              "      <td>4</td>\n",
              "      <td>5</td>\n",
              "      <td>2</td>\n",
              "      <td>32</td>\n",
              "      <td>25</td>\n",
              "    </tr>\n",
              "    <tr>\n",
              "      <th>7</th>\n",
              "      <td>2</td>\n",
              "      <td>8</td>\n",
              "      <td>1</td>\n",
              "      <td>7</td>\n",
              "      <td>5</td>\n",
              "      <td>24</td>\n",
              "      <td>25</td>\n",
              "    </tr>\n",
              "    <tr>\n",
              "      <th>8</th>\n",
              "      <td>4</td>\n",
              "      <td>7</td>\n",
              "      <td>3</td>\n",
              "      <td>6</td>\n",
              "      <td>-4</td>\n",
              "      <td>23</td>\n",
              "      <td>24</td>\n",
              "    </tr>\n",
              "    <tr>\n",
              "      <th>9</th>\n",
              "      <td>20</td>\n",
              "      <td>6</td>\n",
              "      <td>5</td>\n",
              "      <td>5</td>\n",
              "      <td>4</td>\n",
              "      <td>32</td>\n",
              "      <td>23</td>\n",
              "    </tr>\n",
              "    <tr>\n",
              "      <th>10</th>\n",
              "      <td>6</td>\n",
              "      <td>7</td>\n",
              "      <td>2</td>\n",
              "      <td>7</td>\n",
              "      <td>-3</td>\n",
              "      <td>26</td>\n",
              "      <td>23</td>\n",
              "    </tr>\n",
              "    <tr>\n",
              "      <th>11</th>\n",
              "      <td>15</td>\n",
              "      <td>5</td>\n",
              "      <td>5</td>\n",
              "      <td>6</td>\n",
              "      <td>1</td>\n",
              "      <td>26</td>\n",
              "      <td>20</td>\n",
              "    </tr>\n",
              "    <tr>\n",
              "      <th>12</th>\n",
              "      <td>17</td>\n",
              "      <td>5</td>\n",
              "      <td>4</td>\n",
              "      <td>7</td>\n",
              "      <td>3</td>\n",
              "      <td>20</td>\n",
              "      <td>19</td>\n",
              "    </tr>\n",
              "    <tr>\n",
              "      <th>13</th>\n",
              "      <td>18</td>\n",
              "      <td>3</td>\n",
              "      <td>7</td>\n",
              "      <td>6</td>\n",
              "      <td>-6</td>\n",
              "      <td>21</td>\n",
              "      <td>16</td>\n",
              "    </tr>\n",
              "    <tr>\n",
              "      <th>14</th>\n",
              "      <td>19</td>\n",
              "      <td>4</td>\n",
              "      <td>3</td>\n",
              "      <td>9</td>\n",
              "      <td>-14</td>\n",
              "      <td>15</td>\n",
              "      <td>15</td>\n",
              "    </tr>\n",
              "    <tr>\n",
              "      <th>15</th>\n",
              "      <td>14</td>\n",
              "      <td>4</td>\n",
              "      <td>3</td>\n",
              "      <td>9</td>\n",
              "      <td>-10</td>\n",
              "      <td>22</td>\n",
              "      <td>15</td>\n",
              "    </tr>\n",
              "    <tr>\n",
              "      <th>16</th>\n",
              "      <td>16</td>\n",
              "      <td>3</td>\n",
              "      <td>3</td>\n",
              "      <td>10</td>\n",
              "      <td>-19</td>\n",
              "      <td>17</td>\n",
              "      <td>12</td>\n",
              "    </tr>\n",
              "    <tr>\n",
              "      <th>17</th>\n",
              "      <td>8</td>\n",
              "      <td>1</td>\n",
              "      <td>7</td>\n",
              "      <td>8</td>\n",
              "      <td>-14</td>\n",
              "      <td>17</td>\n",
              "      <td>10</td>\n",
              "    </tr>\n",
              "    <tr>\n",
              "      <th>18</th>\n",
              "      <td>5</td>\n",
              "      <td>1</td>\n",
              "      <td>7</td>\n",
              "      <td>8</td>\n",
              "      <td>-13</td>\n",
              "      <td>17</td>\n",
              "      <td>10</td>\n",
              "    </tr>\n",
              "    <tr>\n",
              "      <th>19</th>\n",
              "      <td>13</td>\n",
              "      <td>2</td>\n",
              "      <td>2</td>\n",
              "      <td>12</td>\n",
              "      <td>-22</td>\n",
              "      <td>11</td>\n",
              "      <td>8</td>\n",
              "    </tr>\n",
              "  </tbody>\n",
              "</table>\n",
              "</div>\n",
              "      <button class=\"colab-df-convert\" onclick=\"convertToInteractive('df-5838bee0-1657-47a0-8c4c-1ab9b8b5ec4a')\"\n",
              "              title=\"Convert this dataframe to an interactive table.\"\n",
              "              style=\"display:none;\">\n",
              "        \n",
              "  <svg xmlns=\"http://www.w3.org/2000/svg\" height=\"24px\"viewBox=\"0 0 24 24\"\n",
              "       width=\"24px\">\n",
              "    <path d=\"M0 0h24v24H0V0z\" fill=\"none\"/>\n",
              "    <path d=\"M18.56 5.44l.94 2.06.94-2.06 2.06-.94-2.06-.94-.94-2.06-.94 2.06-2.06.94zm-11 1L8.5 8.5l.94-2.06 2.06-.94-2.06-.94L8.5 2.5l-.94 2.06-2.06.94zm10 10l.94 2.06.94-2.06 2.06-.94-2.06-.94-.94-2.06-.94 2.06-2.06.94z\"/><path d=\"M17.41 7.96l-1.37-1.37c-.4-.4-.92-.59-1.43-.59-.52 0-1.04.2-1.43.59L10.3 9.45l-7.72 7.72c-.78.78-.78 2.05 0 2.83L4 21.41c.39.39.9.59 1.41.59.51 0 1.02-.2 1.41-.59l7.78-7.78 2.81-2.81c.8-.78.8-2.07 0-2.86zM5.41 20L4 18.59l7.72-7.72 1.47 1.35L5.41 20z\"/>\n",
              "  </svg>\n",
              "      </button>\n",
              "      \n",
              "  <style>\n",
              "    .colab-df-container {\n",
              "      display:flex;\n",
              "      flex-wrap:wrap;\n",
              "      gap: 12px;\n",
              "    }\n",
              "\n",
              "    .colab-df-convert {\n",
              "      background-color: #E8F0FE;\n",
              "      border: none;\n",
              "      border-radius: 50%;\n",
              "      cursor: pointer;\n",
              "      display: none;\n",
              "      fill: #1967D2;\n",
              "      height: 32px;\n",
              "      padding: 0 0 0 0;\n",
              "      width: 32px;\n",
              "    }\n",
              "\n",
              "    .colab-df-convert:hover {\n",
              "      background-color: #E2EBFA;\n",
              "      box-shadow: 0px 1px 2px rgba(60, 64, 67, 0.3), 0px 1px 3px 1px rgba(60, 64, 67, 0.15);\n",
              "      fill: #174EA6;\n",
              "    }\n",
              "\n",
              "    [theme=dark] .colab-df-convert {\n",
              "      background-color: #3B4455;\n",
              "      fill: #D2E3FC;\n",
              "    }\n",
              "\n",
              "    [theme=dark] .colab-df-convert:hover {\n",
              "      background-color: #434B5C;\n",
              "      box-shadow: 0px 1px 3px 1px rgba(0, 0, 0, 0.15);\n",
              "      filter: drop-shadow(0px 1px 2px rgba(0, 0, 0, 0.3));\n",
              "      fill: #FFFFFF;\n",
              "    }\n",
              "  </style>\n",
              "\n",
              "      <script>\n",
              "        const buttonEl =\n",
              "          document.querySelector('#df-5838bee0-1657-47a0-8c4c-1ab9b8b5ec4a button.colab-df-convert');\n",
              "        buttonEl.style.display =\n",
              "          google.colab.kernel.accessAllowed ? 'block' : 'none';\n",
              "\n",
              "        async function convertToInteractive(key) {\n",
              "          const element = document.querySelector('#df-5838bee0-1657-47a0-8c4c-1ab9b8b5ec4a');\n",
              "          const dataTable =\n",
              "            await google.colab.kernel.invokeFunction('convertToInteractive',\n",
              "                                                     [key], {});\n",
              "          if (!dataTable) return;\n",
              "\n",
              "          const docLinkHtml = 'Like what you see? Visit the ' +\n",
              "            '<a target=\"_blank\" href=https://colab.research.google.com/notebooks/data_table.ipynb>data table notebook</a>'\n",
              "            + ' to learn more about interactive tables.';\n",
              "          element.innerHTML = '';\n",
              "          dataTable['output_type'] = 'display_data';\n",
              "          await google.colab.output.renderOutput(dataTable, element);\n",
              "          const docLink = document.createElement('div');\n",
              "          docLink.innerHTML = docLinkHtml;\n",
              "          element.appendChild(docLink);\n",
              "        }\n",
              "      </script>\n",
              "    </div>\n",
              "  </div>\n",
              "  "
            ],
            "text/plain": [
              "   TeamID   W  D   L   GD  GF Points\n",
              "0       1  12  2   2   17  35     38\n",
              "1       9  11  4   1   24  39     37\n",
              "2      12  11  3   2   22  34     36\n",
              "3       3  10  4   2   16  35     34\n",
              "4      10   8  3   5    6  22     27\n",
              "5       7   9  0   7    5  27     27\n",
              "6      11   7  4   5    2  32     25\n",
              "7       2   8  1   7    5  24     25\n",
              "8       4   7  3   6   -4  23     24\n",
              "9      20   6  5   5    4  32     23\n",
              "10      6   7  2   7   -3  26     23\n",
              "11     15   5  5   6    1  26     20\n",
              "12     17   5  4   7    3  20     19\n",
              "13     18   3  7   6   -6  21     16\n",
              "14     19   4  3   9  -14  15     15\n",
              "15     14   4  3   9  -10  22     15\n",
              "16     16   3  3  10  -19  17     12\n",
              "17      8   1  7   8  -14  17     10\n",
              "18      5   1  7   8  -13  17     10\n",
              "19     13   2  2  12  -22  11      8"
            ]
          },
          "metadata": {}
        }
      ]
    },
    {
      "cell_type": "markdown",
      "source": [
        "## **TASK 2: Produce prices (without margin) for the upcoming fixtures, replacing the ?s with probabilities in the file upcoming_fixtures.csv -- Poisson Distribution for predicting football match outcomes**"
      ],
      "metadata": {
        "id": "7ecSp5glRudg"
      },
      "id": "7ecSp5glRudg"
    },
    {
      "cell_type": "markdown",
      "source": [
        "The **Poisson Distribution** is a discrete probability distribution that estimates the probability of some events/states (HT win, draw, etc) occurring in a fixed interval of time and independent of the last event. "
      ],
      "metadata": {
        "id": "TLQKITvcvgl6"
      },
      "id": "TLQKITvcvgl6"
    },
    {
      "cell_type": "code",
      "source": [
        "HG_list = []\n",
        "AG_list = []\n",
        "for index, row in df.iterrows():\n",
        "    HG = row['Score'].split(':')[0]\n",
        "    AG = row['Score'].split(':')[1]\n",
        "    HG_list.append(HG)\n",
        "    AG_list.append(AG)\n",
        "  \n",
        "df['HomeGoals'] = HG_list\n",
        "df['AwayGoals'] = AG_list"
      ],
      "metadata": {
        "id": "YJ9oyTWQR1hC"
      },
      "id": "YJ9oyTWQR1hC",
      "execution_count": 115,
      "outputs": []
    },
    {
      "cell_type": "code",
      "source": [
        "df = df.drop(['1','X','2','Score','Match ID'],axis=1)\n",
        "df = df.rename(columns={'Home ID': 'HomeTeam', 'Away ID': 'AwayTeam'})\n"
      ],
      "metadata": {
        "id": "-xMGIsp5TAu-"
      },
      "id": "-xMGIsp5TAu-",
      "execution_count": 116,
      "outputs": []
    },
    {
      "cell_type": "code",
      "source": [
        "df['HomeGoals'] = pd.to_numeric(df['HomeGoals'])\n",
        "df['AwayGoals'] = pd.to_numeric(df['AwayGoals'])"
      ],
      "metadata": {
        "id": "39jBHnLNo02p"
      },
      "id": "39jBHnLNo02p",
      "execution_count": 117,
      "outputs": []
    },
    {
      "cell_type": "code",
      "source": [
        "df[['HomeGoals','AwayGoals']].mean()"
      ],
      "metadata": {
        "colab": {
          "base_uri": "https://localhost:8080/"
        },
        "id": "uTUh8Q2sof6m",
        "outputId": "77007d45-caa8-4906-b569-c2bb1c7a2d70"
      },
      "id": "uTUh8Q2sof6m",
      "execution_count": 118,
      "outputs": [
        {
          "output_type": "execute_result",
          "data": {
            "text/plain": [
              "HomeGoals    1.67500\n",
              "AwayGoals    1.41875\n",
              "dtype: float64"
            ]
          },
          "metadata": {},
          "execution_count": 118
        }
      ]
    },
    {
      "cell_type": "markdown",
      "source": [
        "On average, the home team scores around a quarter of a goal more than the away team average. Therefore, the model will need to handle the home advantage."
      ],
      "metadata": {
        "id": "k7aRdTQ9pU8k"
      },
      "id": "k7aRdTQ9pU8k"
    },
    {
      "cell_type": "code",
      "source": [
        "df.head()"
      ],
      "metadata": {
        "colab": {
          "base_uri": "https://localhost:8080/",
          "height": 206
        },
        "id": "AUn9d3FRXdMX",
        "outputId": "fee62863-5982-4c6c-d28e-01c8209099c6"
      },
      "id": "AUn9d3FRXdMX",
      "execution_count": 119,
      "outputs": [
        {
          "output_type": "execute_result",
          "data": {
            "text/html": [
              "\n",
              "  <div id=\"df-e0795053-4a8e-4be1-a94c-4a0e1f6744ec\">\n",
              "    <div class=\"colab-df-container\">\n",
              "      <div>\n",
              "<style scoped>\n",
              "    .dataframe tbody tr th:only-of-type {\n",
              "        vertical-align: middle;\n",
              "    }\n",
              "\n",
              "    .dataframe tbody tr th {\n",
              "        vertical-align: top;\n",
              "    }\n",
              "\n",
              "    .dataframe thead th {\n",
              "        text-align: right;\n",
              "    }\n",
              "</style>\n",
              "<table border=\"1\" class=\"dataframe\">\n",
              "  <thead>\n",
              "    <tr style=\"text-align: right;\">\n",
              "      <th></th>\n",
              "      <th>HomeTeam</th>\n",
              "      <th>AwayTeam</th>\n",
              "      <th>HomeGoals</th>\n",
              "      <th>AwayGoals</th>\n",
              "    </tr>\n",
              "  </thead>\n",
              "  <tbody>\n",
              "    <tr>\n",
              "      <th>0</th>\n",
              "      <td>5</td>\n",
              "      <td>17</td>\n",
              "      <td>1</td>\n",
              "      <td>1</td>\n",
              "    </tr>\n",
              "    <tr>\n",
              "      <th>1</th>\n",
              "      <td>6</td>\n",
              "      <td>18</td>\n",
              "      <td>3</td>\n",
              "      <td>1</td>\n",
              "    </tr>\n",
              "    <tr>\n",
              "      <th>2</th>\n",
              "      <td>10</td>\n",
              "      <td>8</td>\n",
              "      <td>2</td>\n",
              "      <td>0</td>\n",
              "    </tr>\n",
              "    <tr>\n",
              "      <th>3</th>\n",
              "      <td>14</td>\n",
              "      <td>11</td>\n",
              "      <td>1</td>\n",
              "      <td>3</td>\n",
              "    </tr>\n",
              "    <tr>\n",
              "      <th>4</th>\n",
              "      <td>16</td>\n",
              "      <td>15</td>\n",
              "      <td>2</td>\n",
              "      <td>2</td>\n",
              "    </tr>\n",
              "  </tbody>\n",
              "</table>\n",
              "</div>\n",
              "      <button class=\"colab-df-convert\" onclick=\"convertToInteractive('df-e0795053-4a8e-4be1-a94c-4a0e1f6744ec')\"\n",
              "              title=\"Convert this dataframe to an interactive table.\"\n",
              "              style=\"display:none;\">\n",
              "        \n",
              "  <svg xmlns=\"http://www.w3.org/2000/svg\" height=\"24px\"viewBox=\"0 0 24 24\"\n",
              "       width=\"24px\">\n",
              "    <path d=\"M0 0h24v24H0V0z\" fill=\"none\"/>\n",
              "    <path d=\"M18.56 5.44l.94 2.06.94-2.06 2.06-.94-2.06-.94-.94-2.06-.94 2.06-2.06.94zm-11 1L8.5 8.5l.94-2.06 2.06-.94-2.06-.94L8.5 2.5l-.94 2.06-2.06.94zm10 10l.94 2.06.94-2.06 2.06-.94-2.06-.94-.94-2.06-.94 2.06-2.06.94z\"/><path d=\"M17.41 7.96l-1.37-1.37c-.4-.4-.92-.59-1.43-.59-.52 0-1.04.2-1.43.59L10.3 9.45l-7.72 7.72c-.78.78-.78 2.05 0 2.83L4 21.41c.39.39.9.59 1.41.59.51 0 1.02-.2 1.41-.59l7.78-7.78 2.81-2.81c.8-.78.8-2.07 0-2.86zM5.41 20L4 18.59l7.72-7.72 1.47 1.35L5.41 20z\"/>\n",
              "  </svg>\n",
              "      </button>\n",
              "      \n",
              "  <style>\n",
              "    .colab-df-container {\n",
              "      display:flex;\n",
              "      flex-wrap:wrap;\n",
              "      gap: 12px;\n",
              "    }\n",
              "\n",
              "    .colab-df-convert {\n",
              "      background-color: #E8F0FE;\n",
              "      border: none;\n",
              "      border-radius: 50%;\n",
              "      cursor: pointer;\n",
              "      display: none;\n",
              "      fill: #1967D2;\n",
              "      height: 32px;\n",
              "      padding: 0 0 0 0;\n",
              "      width: 32px;\n",
              "    }\n",
              "\n",
              "    .colab-df-convert:hover {\n",
              "      background-color: #E2EBFA;\n",
              "      box-shadow: 0px 1px 2px rgba(60, 64, 67, 0.3), 0px 1px 3px 1px rgba(60, 64, 67, 0.15);\n",
              "      fill: #174EA6;\n",
              "    }\n",
              "\n",
              "    [theme=dark] .colab-df-convert {\n",
              "      background-color: #3B4455;\n",
              "      fill: #D2E3FC;\n",
              "    }\n",
              "\n",
              "    [theme=dark] .colab-df-convert:hover {\n",
              "      background-color: #434B5C;\n",
              "      box-shadow: 0px 1px 3px 1px rgba(0, 0, 0, 0.15);\n",
              "      filter: drop-shadow(0px 1px 2px rgba(0, 0, 0, 0.3));\n",
              "      fill: #FFFFFF;\n",
              "    }\n",
              "  </style>\n",
              "\n",
              "      <script>\n",
              "        const buttonEl =\n",
              "          document.querySelector('#df-e0795053-4a8e-4be1-a94c-4a0e1f6744ec button.colab-df-convert');\n",
              "        buttonEl.style.display =\n",
              "          google.colab.kernel.accessAllowed ? 'block' : 'none';\n",
              "\n",
              "        async function convertToInteractive(key) {\n",
              "          const element = document.querySelector('#df-e0795053-4a8e-4be1-a94c-4a0e1f6744ec');\n",
              "          const dataTable =\n",
              "            await google.colab.kernel.invokeFunction('convertToInteractive',\n",
              "                                                     [key], {});\n",
              "          if (!dataTable) return;\n",
              "\n",
              "          const docLinkHtml = 'Like what you see? Visit the ' +\n",
              "            '<a target=\"_blank\" href=https://colab.research.google.com/notebooks/data_table.ipynb>data table notebook</a>'\n",
              "            + ' to learn more about interactive tables.';\n",
              "          element.innerHTML = '';\n",
              "          dataTable['output_type'] = 'display_data';\n",
              "          await google.colab.output.renderOutput(dataTable, element);\n",
              "          const docLink = document.createElement('div');\n",
              "          docLink.innerHTML = docLinkHtml;\n",
              "          element.appendChild(docLink);\n",
              "        }\n",
              "      </script>\n",
              "    </div>\n",
              "  </div>\n",
              "  "
            ],
            "text/plain": [
              "   HomeTeam  AwayTeam  HomeGoals  AwayGoals\n",
              "0         5        17          1          1\n",
              "1         6        18          3          1\n",
              "2        10         8          2          0\n",
              "3        14        11          1          3\n",
              "4        16        15          2          2"
            ]
          },
          "metadata": {},
          "execution_count": 119
        }
      ]
    },
    {
      "cell_type": "code",
      "source": [
        "sns.set()\n",
        "\n",
        "max_goals = 8\n",
        "plt.hist(\n",
        "    df[[\"HomeGoals\", \"AwayGoals\"]].values, range(max_goals), label=[\"Home\", \"Away\"], density=True\n",
        ")\n",
        "plt.xticks([i + 0.5 for i in range(max_goals)], [i for i in range(max_goals)])\n",
        "plt.xlabel(\"Goals\")\n",
        "plt.ylabel(\"% of matches\")\n",
        "plt.legend(loc=\"upper right\", fontsize=13)\n",
        "plt.title(\"Number of Goals Scored\", size=14, fontweight=\"bold\")"
      ],
      "metadata": {
        "colab": {
          "base_uri": "https://localhost:8080/",
          "height": 318
        },
        "id": "DMqrLHr4pQtB",
        "outputId": "49b309a0-7a79-4025-bae3-c945886030ff"
      },
      "id": "DMqrLHr4pQtB",
      "execution_count": 120,
      "outputs": [
        {
          "output_type": "execute_result",
          "data": {
            "text/plain": [
              "Text(0.5, 1.0, 'Number of Goals Scored')"
            ]
          },
          "metadata": {},
          "execution_count": 120
        },
        {
          "output_type": "display_data",
          "data": {
            "image/png": "[encoded data removed]",
            "text/plain": [
              "<Figure size 432x288 with 1 Axes>"
            ]
          },
          "metadata": {}
        }
      ]
    },
    {
      "cell_type": "markdown",
      "source": [
        "The barchart above show some similarity to the Poisson Distribution (shown below)"
      ],
      "metadata": {
        "id": "zouOK9Dpu7td"
      },
      "id": "zouOK9Dpu7td"
    },
    {
      "cell_type": "code",
      "source": [
        "x = poisson.rvs(mu=3, size=10000)\n",
        "plt.hist(x, density=True, edgecolor='black')"
      ],
      "metadata": {
        "colab": {
          "base_uri": "https://localhost:8080/",
          "height": 337
        },
        "id": "iWUeoX0i9Y_B",
        "outputId": "77c3f8c5-4567-47c9-8445-b4c5d841f533"
      },
      "id": "iWUeoX0i9Y_B",
      "execution_count": 121,
      "outputs": [
        {
          "output_type": "execute_result",
          "data": {
            "text/plain": [
              "(array([0.16591667, 0.18816667, 0.18641667, 0.13808333, 0.08616667,\n",
              "        0.05825   , 0.00691667, 0.00225   , 0.00058333, 0.00058333]),\n",
              " array([ 0. ,  1.2,  2.4,  3.6,  4.8,  6. ,  7.2,  8.4,  9.6, 10.8, 12. ]),\n",
              " <a list of 10 Patch objects>)"
            ]
          },
          "metadata": {},
          "execution_count": 121
        },
        {
          "output_type": "display_data",
          "data": {
            "image/png": "[encoded data removed]",
            "text/plain": [
              "<Figure size 432x288 with 1 Axes>"
            ]
          },
          "metadata": {}
        }
      ]
    },
    {
      "cell_type": "code",
      "source": [
        "goal_model_data = pd.concat([df[['HomeTeam','AwayTeam','HomeGoals']].assign(home=1).rename(\n",
        "            columns={'HomeTeam':'team', 'AwayTeam':'opponent','HomeGoals':'goals'}),\n",
        "           df[['AwayTeam','HomeTeam','AwayGoals']].assign(home=0).rename(\n",
        "            columns={'AwayTeam':'team', 'HomeTeam':'opponent','AwayGoals':'goals'})])\n",
        "\n",
        "poisson_model = smf.glm(formula=\"goals ~ home + team + opponent\", data=goal_model_data, \n",
        "                        family=sm.families.Poisson()).fit()\n",
        "poisson_model.summary()"
      ],
      "metadata": {
        "colab": {
          "base_uri": "https://localhost:8080/",
          "height": 325
        },
        "id": "qLUPpWcUuIE3",
        "outputId": "60343fe5-51c5-465d-eb62-59381e32ca1b"
      },
      "id": "qLUPpWcUuIE3",
      "execution_count": 122,
      "outputs": [
        {
          "output_type": "execute_result",
          "data": {
            "text/html": [
              "<table class=\"simpletable\">\n",
              "<caption>Generalized Linear Model Regression Results</caption>\n",
              "<tr>\n",
              "  <th>Dep. Variable:</th>         <td>goals</td>      <th>  No. Observations:  </th>  <td>   320</td> \n",
              "</tr>\n",
              "<tr>\n",
              "  <th>Model:</th>                  <td>GLM</td>       <th>  Df Residuals:      </th>  <td>   316</td> \n",
              "</tr>\n",
              "<tr>\n",
              "  <th>Model Family:</th>         <td>Poisson</td>     <th>  Df Model:          </th>  <td>     3</td> \n",
              "</tr>\n",
              "<tr>\n",
              "  <th>Link Function:</th>          <td>log</td>       <th>  Scale:             </th> <td>  1.0000</td>\n",
              "</tr>\n",
              "<tr>\n",
              "  <th>Method:</th>                <td>IRLS</td>       <th>  Log-Likelihood:    </th> <td> -490.16</td>\n",
              "</tr>\n",
              "<tr>\n",
              "  <th>Date:</th>            <td>Tue, 08 Mar 2022</td> <th>  Deviance:          </th> <td>  355.87</td>\n",
              "</tr>\n",
              "<tr>\n",
              "  <th>Time:</th>                <td>17:30:00</td>     <th>  Pearson chi2:      </th>  <td>  296.</td> \n",
              "</tr>\n",
              "<tr>\n",
              "  <th>No. Iterations:</th>          <td>4</td>        <th>                     </th>     <td> </td>   \n",
              "</tr>\n",
              "<tr>\n",
              "  <th>Covariance Type:</th>     <td>nonrobust</td>    <th>                     </th>     <td> </td>   \n",
              "</tr>\n",
              "</table>\n",
              "<table class=\"simpletable\">\n",
              "<tr>\n",
              "      <td></td>         <th>coef</th>     <th>std err</th>      <th>z</th>      <th>P>|z|</th>  <th>[0.025</th>    <th>0.975]</th>  \n",
              "</tr>\n",
              "<tr>\n",
              "  <th>Intercept</th> <td>    0.3661</td> <td>    0.135</td> <td>    2.717</td> <td> 0.007</td> <td>    0.102</td> <td>    0.630</td>\n",
              "</tr>\n",
              "<tr>\n",
              "  <th>home</th>      <td>    0.1609</td> <td>    0.090</td> <td>    1.783</td> <td> 0.075</td> <td>   -0.016</td> <td>    0.338</td>\n",
              "</tr>\n",
              "<tr>\n",
              "  <th>team</th>      <td>   -0.0155</td> <td>    0.008</td> <td>   -1.987</td> <td> 0.047</td> <td>   -0.031</td> <td>   -0.000</td>\n",
              "</tr>\n",
              "<tr>\n",
              "  <th>opponent</th>  <td>    0.0135</td> <td>    0.008</td> <td>    1.732</td> <td> 0.083</td> <td>   -0.002</td> <td>    0.029</td>\n",
              "</tr>\n",
              "</table>"
            ],
            "text/plain": [
              "<class 'statsmodels.iolib.summary.Summary'>\n",
              "\"\"\"\n",
              "                 Generalized Linear Model Regression Results                  \n",
              "==============================================================================\n",
              "Dep. Variable:                  goals   No. Observations:                  320\n",
              "Model:                            GLM   Df Residuals:                      316\n",
              "Model Family:                 Poisson   Df Model:                            3\n",
              "Link Function:                    log   Scale:                          1.0000\n",
              "Method:                          IRLS   Log-Likelihood:                -490.16\n",
              "Date:                Tue, 08 Mar 2022   Deviance:                       355.87\n",
              "Time:                        17:30:00   Pearson chi2:                     296.\n",
              "No. Iterations:                     4                                         \n",
              "Covariance Type:            nonrobust                                         \n",
              "==============================================================================\n",
              "                 coef    std err          z      P>|z|      [0.025      0.975]\n",
              "------------------------------------------------------------------------------\n",
              "Intercept      0.3661      0.135      2.717      0.007       0.102       0.630\n",
              "home           0.1609      0.090      1.783      0.075      -0.016       0.338\n",
              "team          -0.0155      0.008     -1.987      0.047      -0.031      -0.000\n",
              "opponent       0.0135      0.008      1.732      0.083      -0.002       0.029\n",
              "==============================================================================\n",
              "\"\"\""
            ]
          },
          "metadata": {},
          "execution_count": 122
        }
      ]
    },
    {
      "cell_type": "code",
      "source": [
        "def simulate_match(foot_model, homeTeam, awayTeam, max_goals=6):\n",
        "    home_goals_avg = foot_model.predict(pd.DataFrame(data={'team': homeTeam, \n",
        "                                                            'opponent': awayTeam,'home':1},\n",
        "                                                      index=[1])).values[0]\n",
        "    away_goals_avg = foot_model.predict(pd.DataFrame(data={'team': awayTeam, \n",
        "                                                            'opponent': homeTeam,'home':0},\n",
        "                                                      index=[1])).values[0]\n",
        "\n",
        "    team_pred = [[poisson.pmf(i, team_avg) for i in range(0, max_goals+1)] for team_avg in [home_goals_avg, away_goals_avg]]\n",
        "    return(np.outer(np.array(team_pred[0]), np.array(team_pred[1])))\n",
        "\n",
        "a = simulate_match(poisson_model, 1, 6, max_goals=6)"
      ],
      "metadata": {
        "id": "eqjiLOun2i3h"
      },
      "id": "eqjiLOun2i3h",
      "execution_count": 123,
      "outputs": []
    },
    {
      "cell_type": "code",
      "source": [
        "print(a)"
      ],
      "metadata": {
        "colab": {
          "base_uri": "https://localhost:8080/"
        },
        "id": "zYngMsDnMJLp",
        "outputId": "2d4afe1a-0dd9-4acc-9bce-ef580edd9b68"
      },
      "id": "zYngMsDnMJLp",
      "execution_count": 124,
      "outputs": [
        {
          "output_type": "stream",
          "name": "stdout",
          "text": [
            "[[4.32647182e-02 5.76148588e-02 3.83623434e-02 1.70288177e-02\n",
            "  5.66924371e-03 1.50992628e-03 3.35123680e-04]\n",
            " [7.82544323e-02 1.04210041e-01 6.93873329e-02 3.08006273e-02\n",
            "  1.02541624e-02 2.73105729e-03 6.06150102e-04]\n",
            " [7.07707854e-02 9.42442012e-02 6.27516666e-02 2.78550942e-02\n",
            "  9.27353388e-03 2.46988016e-03 5.48182608e-04]\n",
            " [4.26685443e-02 5.68209446e-02 3.78337226e-02 1.67941661e-02\n",
            "  5.59112336e-03 1.48911998e-03 3.30505784e-04]\n",
            " [1.92940279e-02 2.56935151e-02 1.71077994e-02 7.59405114e-03\n",
            "  2.52821584e-03 6.73356050e-04 1.49449387e-04]\n",
            " [6.97955868e-03 9.29455464e-03 6.18869688e-03 2.74712600e-03\n",
            "  9.14574757e-04 2.43584600e-04 5.40628828e-05]\n",
            " [2.10402927e-03 2.80189851e-03 1.86561931e-03 8.28137393e-04\n",
            "  2.75703974e-04 7.34300195e-05 1.62975760e-05]]\n"
          ]
        }
      ]
    },
    {
      "cell_type": "markdown",
      "source": [
        "### Test run"
      ],
      "metadata": {
        "id": "C1tYcm3MDXiT"
      },
      "id": "C1tYcm3MDXiT"
    },
    {
      "cell_type": "code",
      "source": [
        "# win for home team / loss for away team\n",
        "print(np.sum(np.tril(a, -1)))\n",
        "# draw\n",
        "print(np.sum(np.diag(a)))\n",
        "# win for away team / loss for home team\n",
        "print(np.sum(np.triu(a, 1)))"
      ],
      "metadata": {
        "colab": {
          "base_uri": "https://localhost:8080/"
        },
        "id": "vbK73BWu2skS",
        "outputId": "5a2821f2-69b2-41f7-c498-b107f1a234de"
      },
      "id": "vbK73BWu2skS",
      "execution_count": 125,
      "outputs": [
        {
          "output_type": "stream",
          "name": "stdout",
          "text": [
            "0.48435535331617624\n",
            "0.22980869002664092\n",
            "0.28273395182904293\n"
          ]
        }
      ]
    },
    {
      "cell_type": "code",
      "source": [
        "upcoming_df = pd.read_csv('/content/upcoming_fixtures.csv')\n",
        "upcoming_df.head()"
      ],
      "metadata": {
        "id": "DZBm4AEiSc4q",
        "colab": {
          "base_uri": "https://localhost:8080/",
          "height": 206
        },
        "outputId": "a59c3b95-ce56-4eba-fd2c-3aa006eb91bb"
      },
      "id": "DZBm4AEiSc4q",
      "execution_count": 126,
      "outputs": [
        {
          "output_type": "execute_result",
          "data": {
            "text/html": [
              "\n",
              "  <div id=\"df-0e8baf6a-7f09-40a8-b536-bb2b71a4b2f5\">\n",
              "    <div class=\"colab-df-container\">\n",
              "      <div>\n",
              "<style scoped>\n",
              "    .dataframe tbody tr th:only-of-type {\n",
              "        vertical-align: middle;\n",
              "    }\n",
              "\n",
              "    .dataframe tbody tr th {\n",
              "        vertical-align: top;\n",
              "    }\n",
              "\n",
              "    .dataframe thead th {\n",
              "        text-align: right;\n",
              "    }\n",
              "</style>\n",
              "<table border=\"1\" class=\"dataframe\">\n",
              "  <thead>\n",
              "    <tr style=\"text-align: right;\">\n",
              "      <th></th>\n",
              "      <th>Unnamed: 0</th>\n",
              "      <th>Match ID</th>\n",
              "      <th>Home ID</th>\n",
              "      <th>Away ID</th>\n",
              "      <th>1</th>\n",
              "      <th>X</th>\n",
              "      <th>2</th>\n",
              "    </tr>\n",
              "  </thead>\n",
              "  <tbody>\n",
              "    <tr>\n",
              "      <th>0</th>\n",
              "      <td>0</td>\n",
              "      <td>161</td>\n",
              "      <td>8</td>\n",
              "      <td>14</td>\n",
              "      <td>0.493</td>\n",
              "      <td>0.230</td>\n",
              "      <td>0.274</td>\n",
              "    </tr>\n",
              "    <tr>\n",
              "      <th>1</th>\n",
              "      <td>1</td>\n",
              "      <td>162</td>\n",
              "      <td>7</td>\n",
              "      <td>13</td>\n",
              "      <td>0.493</td>\n",
              "      <td>0.230</td>\n",
              "      <td>0.274</td>\n",
              "    </tr>\n",
              "    <tr>\n",
              "      <th>2</th>\n",
              "      <td>2</td>\n",
              "      <td>163</td>\n",
              "      <td>19</td>\n",
              "      <td>10</td>\n",
              "      <td>0.346</td>\n",
              "      <td>0.240</td>\n",
              "      <td>0.412</td>\n",
              "    </tr>\n",
              "    <tr>\n",
              "      <th>3</th>\n",
              "      <td>3</td>\n",
              "      <td>164</td>\n",
              "      <td>18</td>\n",
              "      <td>1</td>\n",
              "      <td>0.275</td>\n",
              "      <td>0.230</td>\n",
              "      <td>0.492</td>\n",
              "    </tr>\n",
              "    <tr>\n",
              "      <th>4</th>\n",
              "      <td>4</td>\n",
              "      <td>165</td>\n",
              "      <td>17</td>\n",
              "      <td>4</td>\n",
              "      <td>0.309</td>\n",
              "      <td>0.236</td>\n",
              "      <td>0.452</td>\n",
              "    </tr>\n",
              "  </tbody>\n",
              "</table>\n",
              "</div>\n",
              "      <button class=\"colab-df-convert\" onclick=\"convertToInteractive('df-0e8baf6a-7f09-40a8-b536-bb2b71a4b2f5')\"\n",
              "              title=\"Convert this dataframe to an interactive table.\"\n",
              "              style=\"display:none;\">\n",
              "        \n",
              "  <svg xmlns=\"http://www.w3.org/2000/svg\" height=\"24px\"viewBox=\"0 0 24 24\"\n",
              "       width=\"24px\">\n",
              "    <path d=\"M0 0h24v24H0V0z\" fill=\"none\"/>\n",
              "    <path d=\"M18.56 5.44l.94 2.06.94-2.06 2.06-.94-2.06-.94-.94-2.06-.94 2.06-2.06.94zm-11 1L8.5 8.5l.94-2.06 2.06-.94-2.06-.94L8.5 2.5l-.94 2.06-2.06.94zm10 10l.94 2.06.94-2.06 2.06-.94-2.06-.94-.94-2.06-.94 2.06-2.06.94z\"/><path d=\"M17.41 7.96l-1.37-1.37c-.4-.4-.92-.59-1.43-.59-.52 0-1.04.2-1.43.59L10.3 9.45l-7.72 7.72c-.78.78-.78 2.05 0 2.83L4 21.41c.39.39.9.59 1.41.59.51 0 1.02-.2 1.41-.59l7.78-7.78 2.81-2.81c.8-.78.8-2.07 0-2.86zM5.41 20L4 18.59l7.72-7.72 1.47 1.35L5.41 20z\"/>\n",
              "  </svg>\n",
              "      </button>\n",
              "      \n",
              "  <style>\n",
              "    .colab-df-container {\n",
              "      display:flex;\n",
              "      flex-wrap:wrap;\n",
              "      gap: 12px;\n",
              "    }\n",
              "\n",
              "    .colab-df-convert {\n",
              "      background-color: #E8F0FE;\n",
              "      border: none;\n",
              "      border-radius: 50%;\n",
              "      cursor: pointer;\n",
              "      display: none;\n",
              "      fill: #1967D2;\n",
              "      height: 32px;\n",
              "      padding: 0 0 0 0;\n",
              "      width: 32px;\n",
              "    }\n",
              "\n",
              "    .colab-df-convert:hover {\n",
              "      background-color: #E2EBFA;\n",
              "      box-shadow: 0px 1px 2px rgba(60, 64, 67, 0.3), 0px 1px 3px 1px rgba(60, 64, 67, 0.15);\n",
              "      fill: #174EA6;\n",
              "    }\n",
              "\n",
              "    [theme=dark] .colab-df-convert {\n",
              "      background-color: #3B4455;\n",
              "      fill: #D2E3FC;\n",
              "    }\n",
              "\n",
              "    [theme=dark] .colab-df-convert:hover {\n",
              "      background-color: #434B5C;\n",
              "      box-shadow: 0px 1px 3px 1px rgba(0, 0, 0, 0.15);\n",
              "      filter: drop-shadow(0px 1px 2px rgba(0, 0, 0, 0.3));\n",
              "      fill: #FFFFFF;\n",
              "    }\n",
              "  </style>\n",
              "\n",
              "      <script>\n",
              "        const buttonEl =\n",
              "          document.querySelector('#df-0e8baf6a-7f09-40a8-b536-bb2b71a4b2f5 button.colab-df-convert');\n",
              "        buttonEl.style.display =\n",
              "          google.colab.kernel.accessAllowed ? 'block' : 'none';\n",
              "\n",
              "        async function convertToInteractive(key) {\n",
              "          const element = document.querySelector('#df-0e8baf6a-7f09-40a8-b536-bb2b71a4b2f5');\n",
              "          const dataTable =\n",
              "            await google.colab.kernel.invokeFunction('convertToInteractive',\n",
              "                                                     [key], {});\n",
              "          if (!dataTable) return;\n",
              "\n",
              "          const docLinkHtml = 'Like what you see? Visit the ' +\n",
              "            '<a target=\"_blank\" href=https://colab.research.google.com/notebooks/data_table.ipynb>data table notebook</a>'\n",
              "            + ' to learn more about interactive tables.';\n",
              "          element.innerHTML = '';\n",
              "          dataTable['output_type'] = 'display_data';\n",
              "          await google.colab.output.renderOutput(dataTable, element);\n",
              "          const docLink = document.createElement('div');\n",
              "          docLink.innerHTML = docLinkHtml;\n",
              "          element.appendChild(docLink);\n",
              "        }\n",
              "      </script>\n",
              "    </div>\n",
              "  </div>\n",
              "  "
            ],
            "text/plain": [
              "   Unnamed: 0  Match ID  Home ID  Away ID      1      X      2\n",
              "0           0       161        8       14  0.493  0.230  0.274\n",
              "1           1       162        7       13  0.493  0.230  0.274\n",
              "2           2       163       19       10  0.346  0.240  0.412\n",
              "3           3       164       18        1  0.275  0.230  0.492\n",
              "4           4       165       17        4  0.309  0.236  0.452"
            ]
          },
          "metadata": {},
          "execution_count": 126
        }
      ]
    },
    {
      "cell_type": "code",
      "source": [
        "def obtain_probabilities(df):\n",
        "    win_list = []\n",
        "    draw_list = []\n",
        "    loss_list = []\n",
        "\n",
        "    for index, match in df.iterrows():\n",
        "\n",
        "        home_team = match['Home ID']\n",
        "        away_team = match['Away ID']\n",
        "        a = simulate_match(poisson_model, home_team, away_team, max_goals=6)\n",
        "\n",
        "        # win for home team / loss for away team\n",
        "        win_prob = round(np.sum(np.tril(a, -1)),3)\n",
        "        # draw\n",
        "        draw_prob = round(np.sum(np.diag(a)),3)\n",
        "        # win for away team / loss for home team\n",
        "        loss_prob = round(np.sum(np.triu(a, 1)),3)\n",
        "\n",
        "        # append to lists\n",
        "        win_list.append(win_prob)\n",
        "        draw_list.append(draw_prob)\n",
        "        loss_list.append(loss_prob)\n",
        "\n",
        "    # append to dataframe\n",
        "    df['1'] = win_list\n",
        "    df['X'] = draw_list\n",
        "    df['2'] = loss_list\n",
        "\n",
        "    return df"
      ],
      "metadata": {
        "id": "TjHggPUi9uUX"
      },
      "id": "TjHggPUi9uUX",
      "execution_count": 127,
      "outputs": []
    },
    {
      "cell_type": "code",
      "source": [
        "upcoming_df = obtain_probabilities(upcoming_df)\n",
        "display(upcoming_df.head())\n",
        "upcoming_df.to_csv('upcoming_fixtures.csv')"
      ],
      "metadata": {
        "colab": {
          "base_uri": "https://localhost:8080/",
          "height": 206
        },
        "id": "XhwFG-UQ92-W",
        "outputId": "5507bc57-7341-4fba-b5c0-f9a181dec94d"
      },
      "id": "XhwFG-UQ92-W",
      "execution_count": 128,
      "outputs": [
        {
          "output_type": "display_data",
          "data": {
            "text/html": [
              "\n",
              "  <div id=\"df-680bc9e5-675e-4c69-bb4d-072e1988beab\">\n",
              "    <div class=\"colab-df-container\">\n",
              "      <div>\n",
              "<style scoped>\n",
              "    .dataframe tbody tr th:only-of-type {\n",
              "        vertical-align: middle;\n",
              "    }\n",
              "\n",
              "    .dataframe tbody tr th {\n",
              "        vertical-align: top;\n",
              "    }\n",
              "\n",
              "    .dataframe thead th {\n",
              "        text-align: right;\n",
              "    }\n",
              "</style>\n",
              "<table border=\"1\" class=\"dataframe\">\n",
              "  <thead>\n",
              "    <tr style=\"text-align: right;\">\n",
              "      <th></th>\n",
              "      <th>Unnamed: 0</th>\n",
              "      <th>Match ID</th>\n",
              "      <th>Home ID</th>\n",
              "      <th>Away ID</th>\n",
              "      <th>1</th>\n",
              "      <th>X</th>\n",
              "      <th>2</th>\n",
              "    </tr>\n",
              "  </thead>\n",
              "  <tbody>\n",
              "    <tr>\n",
              "      <th>0</th>\n",
              "      <td>0</td>\n",
              "      <td>161</td>\n",
              "      <td>8</td>\n",
              "      <td>14</td>\n",
              "      <td>0.493</td>\n",
              "      <td>0.230</td>\n",
              "      <td>0.274</td>\n",
              "    </tr>\n",
              "    <tr>\n",
              "      <th>1</th>\n",
              "      <td>1</td>\n",
              "      <td>162</td>\n",
              "      <td>7</td>\n",
              "      <td>13</td>\n",
              "      <td>0.493</td>\n",
              "      <td>0.230</td>\n",
              "      <td>0.274</td>\n",
              "    </tr>\n",
              "    <tr>\n",
              "      <th>2</th>\n",
              "      <td>2</td>\n",
              "      <td>163</td>\n",
              "      <td>19</td>\n",
              "      <td>10</td>\n",
              "      <td>0.346</td>\n",
              "      <td>0.240</td>\n",
              "      <td>0.412</td>\n",
              "    </tr>\n",
              "    <tr>\n",
              "      <th>3</th>\n",
              "      <td>3</td>\n",
              "      <td>164</td>\n",
              "      <td>18</td>\n",
              "      <td>1</td>\n",
              "      <td>0.275</td>\n",
              "      <td>0.230</td>\n",
              "      <td>0.492</td>\n",
              "    </tr>\n",
              "    <tr>\n",
              "      <th>4</th>\n",
              "      <td>4</td>\n",
              "      <td>165</td>\n",
              "      <td>17</td>\n",
              "      <td>4</td>\n",
              "      <td>0.309</td>\n",
              "      <td>0.236</td>\n",
              "      <td>0.452</td>\n",
              "    </tr>\n",
              "  </tbody>\n",
              "</table>\n",
              "</div>\n",
              "      <button class=\"colab-df-convert\" onclick=\"convertToInteractive('df-680bc9e5-675e-4c69-bb4d-072e1988beab')\"\n",
              "              title=\"Convert this dataframe to an interactive table.\"\n",
              "              style=\"display:none;\">\n",
              "        \n",
              "  <svg xmlns=\"http://www.w3.org/2000/svg\" height=\"24px\"viewBox=\"0 0 24 24\"\n",
              "       width=\"24px\">\n",
              "    <path d=\"M0 0h24v24H0V0z\" fill=\"none\"/>\n",
              "    <path d=\"M18.56 5.44l.94 2.06.94-2.06 2.06-.94-2.06-.94-.94-2.06-.94 2.06-2.06.94zm-11 1L8.5 8.5l.94-2.06 2.06-.94-2.06-.94L8.5 2.5l-.94 2.06-2.06.94zm10 10l.94 2.06.94-2.06 2.06-.94-2.06-.94-.94-2.06-.94 2.06-2.06.94z\"/><path d=\"M17.41 7.96l-1.37-1.37c-.4-.4-.92-.59-1.43-.59-.52 0-1.04.2-1.43.59L10.3 9.45l-7.72 7.72c-.78.78-.78 2.05 0 2.83L4 21.41c.39.39.9.59 1.41.59.51 0 1.02-.2 1.41-.59l7.78-7.78 2.81-2.81c.8-.78.8-2.07 0-2.86zM5.41 20L4 18.59l7.72-7.72 1.47 1.35L5.41 20z\"/>\n",
              "  </svg>\n",
              "      </button>\n",
              "      \n",
              "  <style>\n",
              "    .colab-df-container {\n",
              "      display:flex;\n",
              "      flex-wrap:wrap;\n",
              "      gap: 12px;\n",
              "    }\n",
              "\n",
              "    .colab-df-convert {\n",
              "      background-color: #E8F0FE;\n",
              "      border: none;\n",
              "      border-radius: 50%;\n",
              "      cursor: pointer;\n",
              "      display: none;\n",
              "      fill: #1967D2;\n",
              "      height: 32px;\n",
              "      padding: 0 0 0 0;\n",
              "      width: 32px;\n",
              "    }\n",
              "\n",
              "    .colab-df-convert:hover {\n",
              "      background-color: #E2EBFA;\n",
              "      box-shadow: 0px 1px 2px rgba(60, 64, 67, 0.3), 0px 1px 3px 1px rgba(60, 64, 67, 0.15);\n",
              "      fill: #174EA6;\n",
              "    }\n",
              "\n",
              "    [theme=dark] .colab-df-convert {\n",
              "      background-color: #3B4455;\n",
              "      fill: #D2E3FC;\n",
              "    }\n",
              "\n",
              "    [theme=dark] .colab-df-convert:hover {\n",
              "      background-color: #434B5C;\n",
              "      box-shadow: 0px 1px 3px 1px rgba(0, 0, 0, 0.15);\n",
              "      filter: drop-shadow(0px 1px 2px rgba(0, 0, 0, 0.3));\n",
              "      fill: #FFFFFF;\n",
              "    }\n",
              "  </style>\n",
              "\n",
              "      <script>\n",
              "        const buttonEl =\n",
              "          document.querySelector('#df-680bc9e5-675e-4c69-bb4d-072e1988beab button.colab-df-convert');\n",
              "        buttonEl.style.display =\n",
              "          google.colab.kernel.accessAllowed ? 'block' : 'none';\n",
              "\n",
              "        async function convertToInteractive(key) {\n",
              "          const element = document.querySelector('#df-680bc9e5-675e-4c69-bb4d-072e1988beab');\n",
              "          const dataTable =\n",
              "            await google.colab.kernel.invokeFunction('convertToInteractive',\n",
              "                                                     [key], {});\n",
              "          if (!dataTable) return;\n",
              "\n",
              "          const docLinkHtml = 'Like what you see? Visit the ' +\n",
              "            '<a target=\"_blank\" href=https://colab.research.google.com/notebooks/data_table.ipynb>data table notebook</a>'\n",
              "            + ' to learn more about interactive tables.';\n",
              "          element.innerHTML = '';\n",
              "          dataTable['output_type'] = 'display_data';\n",
              "          await google.colab.output.renderOutput(dataTable, element);\n",
              "          const docLink = document.createElement('div');\n",
              "          docLink.innerHTML = docLinkHtml;\n",
              "          element.appendChild(docLink);\n",
              "        }\n",
              "      </script>\n",
              "    </div>\n",
              "  </div>\n",
              "  "
            ],
            "text/plain": [
              "   Unnamed: 0  Match ID  Home ID  Away ID      1      X      2\n",
              "0           0       161        8       14  0.493  0.230  0.274\n",
              "1           1       162        7       13  0.493  0.230  0.274\n",
              "2           2       163       19       10  0.346  0.240  0.412\n",
              "3           3       164       18        1  0.275  0.230  0.492\n",
              "4           4       165       17        4  0.309  0.236  0.452"
            ]
          },
          "metadata": {}
        }
      ]
    },
    {
      "cell_type": "markdown",
      "source": [
        "## **Task 3: Finally calculate the probability of each team winning the league, finishing in the top 4 and being relegated (bottom 3) and output as a csv. (Every team plays everyone else, home and away.)**"
      ],
      "metadata": {
        "id": "sta0m1mhC-kH"
      },
      "id": "sta0m1mhC-kH"
    },
    {
      "cell_type": "markdown",
      "source": [
        "**The number of possible league table outcomes is too high. Therefore, implementing a brute-force approach which multiples the probability sequences of all possible outcomes will not solve the problem at hand as it would take too long**"
      ],
      "metadata": {
        "id": "gIxlws3EP_IN"
      },
      "id": "gIxlws3EP_IN"
    },
    {
      "cell_type": "markdown",
      "source": [
        "Algorithm:\n",
        "\n",
        "\n",
        "1.   Start with a league table with matches played so far \n",
        "2.   Use the match result probabilities (W/D/L) to randomly choose results of all remaining matches (using weights)\n",
        "3.   Calculate the final league table and note down the results\n",
        "4.   Repeat as many times as necessary"
      ],
      "metadata": {
        "id": "kLeZ-eucPNPX"
      },
      "id": "kLeZ-eucPNPX"
    },
    {
      "cell_type": "markdown",
      "source": [
        "**The probabilities for rest_of_season matches are obtained as shown below**"
      ],
      "metadata": {
        "id": "15eAywoBn-fj"
      },
      "id": "15eAywoBn-fj"
    },
    {
      "cell_type": "code",
      "source": [
        "rest_season_df = pd.read_csv('/content/rest_of_season.csv')\n",
        "rest_season_df = obtain_probabilities(rest_season_df)\n",
        "display(rest_season_df.head())\n"
      ],
      "metadata": {
        "colab": {
          "base_uri": "https://localhost:8080/",
          "height": 206
        },
        "id": "dUi4LpSrTNMB",
        "outputId": "2a113f53-f48b-432e-b700-a3aedd4e09f9"
      },
      "id": "dUi4LpSrTNMB",
      "execution_count": 129,
      "outputs": [
        {
          "output_type": "display_data",
          "data": {
            "text/html": [
              "\n",
              "  <div id=\"df-7aabc21b-5bbc-46dd-b1fd-6598c401e623\">\n",
              "    <div class=\"colab-df-container\">\n",
              "      <div>\n",
              "<style scoped>\n",
              "    .dataframe tbody tr th:only-of-type {\n",
              "        vertical-align: middle;\n",
              "    }\n",
              "\n",
              "    .dataframe tbody tr th {\n",
              "        vertical-align: top;\n",
              "    }\n",
              "\n",
              "    .dataframe thead th {\n",
              "        text-align: right;\n",
              "    }\n",
              "</style>\n",
              "<table border=\"1\" class=\"dataframe\">\n",
              "  <thead>\n",
              "    <tr style=\"text-align: right;\">\n",
              "      <th></th>\n",
              "      <th>Match ID</th>\n",
              "      <th>Home ID</th>\n",
              "      <th>Away ID</th>\n",
              "      <th>1</th>\n",
              "      <th>X</th>\n",
              "      <th>2</th>\n",
              "    </tr>\n",
              "  </thead>\n",
              "  <tbody>\n",
              "    <tr>\n",
              "      <th>0</th>\n",
              "      <td>181</td>\n",
              "      <td>1</td>\n",
              "      <td>6</td>\n",
              "      <td>0.484</td>\n",
              "      <td>0.230</td>\n",
              "      <td>0.283</td>\n",
              "    </tr>\n",
              "    <tr>\n",
              "      <th>1</th>\n",
              "      <td>182</td>\n",
              "      <td>2</td>\n",
              "      <td>14</td>\n",
              "      <td>0.553</td>\n",
              "      <td>0.217</td>\n",
              "      <td>0.226</td>\n",
              "    </tr>\n",
              "    <tr>\n",
              "      <th>2</th>\n",
              "      <td>183</td>\n",
              "      <td>3</td>\n",
              "      <td>8</td>\n",
              "      <td>0.484</td>\n",
              "      <td>0.230</td>\n",
              "      <td>0.283</td>\n",
              "    </tr>\n",
              "    <tr>\n",
              "      <th>3</th>\n",
              "      <td>184</td>\n",
              "      <td>4</td>\n",
              "      <td>15</td>\n",
              "      <td>0.543</td>\n",
              "      <td>0.220</td>\n",
              "      <td>0.233</td>\n",
              "    </tr>\n",
              "    <tr>\n",
              "      <th>4</th>\n",
              "      <td>185</td>\n",
              "      <td>5</td>\n",
              "      <td>10</td>\n",
              "      <td>0.483</td>\n",
              "      <td>0.231</td>\n",
              "      <td>0.283</td>\n",
              "    </tr>\n",
              "  </tbody>\n",
              "</table>\n",
              "</div>\n",
              "      <button class=\"colab-df-convert\" onclick=\"convertToInteractive('df-7aabc21b-5bbc-46dd-b1fd-6598c401e623')\"\n",
              "              title=\"Convert this dataframe to an interactive table.\"\n",
              "              style=\"display:none;\">\n",
              "        \n",
              "  <svg xmlns=\"http://www.w3.org/2000/svg\" height=\"24px\"viewBox=\"0 0 24 24\"\n",
              "       width=\"24px\">\n",
              "    <path d=\"M0 0h24v24H0V0z\" fill=\"none\"/>\n",
              "    <path d=\"M18.56 5.44l.94 2.06.94-2.06 2.06-.94-2.06-.94-.94-2.06-.94 2.06-2.06.94zm-11 1L8.5 8.5l.94-2.06 2.06-.94-2.06-.94L8.5 2.5l-.94 2.06-2.06.94zm10 10l.94 2.06.94-2.06 2.06-.94-2.06-.94-.94-2.06-.94 2.06-2.06.94z\"/><path d=\"M17.41 7.96l-1.37-1.37c-.4-.4-.92-.59-1.43-.59-.52 0-1.04.2-1.43.59L10.3 9.45l-7.72 7.72c-.78.78-.78 2.05 0 2.83L4 21.41c.39.39.9.59 1.41.59.51 0 1.02-.2 1.41-.59l7.78-7.78 2.81-2.81c.8-.78.8-2.07 0-2.86zM5.41 20L4 18.59l7.72-7.72 1.47 1.35L5.41 20z\"/>\n",
              "  </svg>\n",
              "      </button>\n",
              "      \n",
              "  <style>\n",
              "    .colab-df-container {\n",
              "      display:flex;\n",
              "      flex-wrap:wrap;\n",
              "      gap: 12px;\n",
              "    }\n",
              "\n",
              "    .colab-df-convert {\n",
              "      background-color: #E8F0FE;\n",
              "      border: none;\n",
              "      border-radius: 50%;\n",
              "      cursor: pointer;\n",
              "      display: none;\n",
              "      fill: #1967D2;\n",
              "      height: 32px;\n",
              "      padding: 0 0 0 0;\n",
              "      width: 32px;\n",
              "    }\n",
              "\n",
              "    .colab-df-convert:hover {\n",
              "      background-color: #E2EBFA;\n",
              "      box-shadow: 0px 1px 2px rgba(60, 64, 67, 0.3), 0px 1px 3px 1px rgba(60, 64, 67, 0.15);\n",
              "      fill: #174EA6;\n",
              "    }\n",
              "\n",
              "    [theme=dark] .colab-df-convert {\n",
              "      background-color: #3B4455;\n",
              "      fill: #D2E3FC;\n",
              "    }\n",
              "\n",
              "    [theme=dark] .colab-df-convert:hover {\n",
              "      background-color: #434B5C;\n",
              "      box-shadow: 0px 1px 3px 1px rgba(0, 0, 0, 0.15);\n",
              "      filter: drop-shadow(0px 1px 2px rgba(0, 0, 0, 0.3));\n",
              "      fill: #FFFFFF;\n",
              "    }\n",
              "  </style>\n",
              "\n",
              "      <script>\n",
              "        const buttonEl =\n",
              "          document.querySelector('#df-7aabc21b-5bbc-46dd-b1fd-6598c401e623 button.colab-df-convert');\n",
              "        buttonEl.style.display =\n",
              "          google.colab.kernel.accessAllowed ? 'block' : 'none';\n",
              "\n",
              "        async function convertToInteractive(key) {\n",
              "          const element = document.querySelector('#df-7aabc21b-5bbc-46dd-b1fd-6598c401e623');\n",
              "          const dataTable =\n",
              "            await google.colab.kernel.invokeFunction('convertToInteractive',\n",
              "                                                     [key], {});\n",
              "          if (!dataTable) return;\n",
              "\n",
              "          const docLinkHtml = 'Like what you see? Visit the ' +\n",
              "            '<a target=\"_blank\" href=https://colab.research.google.com/notebooks/data_table.ipynb>data table notebook</a>'\n",
              "            + ' to learn more about interactive tables.';\n",
              "          element.innerHTML = '';\n",
              "          dataTable['output_type'] = 'display_data';\n",
              "          await google.colab.output.renderOutput(dataTable, element);\n",
              "          const docLink = document.createElement('div');\n",
              "          docLink.innerHTML = docLinkHtml;\n",
              "          element.appendChild(docLink);\n",
              "        }\n",
              "      </script>\n",
              "    </div>\n",
              "  </div>\n",
              "  "
            ],
            "text/plain": [
              "   Match ID  Home ID  Away ID      1      X      2\n",
              "0       181        1        6  0.484  0.230  0.283\n",
              "1       182        2       14  0.553  0.217  0.226\n",
              "2       183        3        8  0.484  0.230  0.283\n",
              "3       184        4       15  0.543  0.220  0.233\n",
              "4       185        5       10  0.483  0.231  0.283"
            ]
          },
          "metadata": {}
        }
      ]
    },
    {
      "cell_type": "markdown",
      "source": [
        "**The upcoming_fixtures and rest_of_season datasets are concatonated onto one dataframe**"
      ],
      "metadata": {
        "id": "tvet1Mtkn0qk"
      },
      "id": "tvet1Mtkn0qk"
    },
    {
      "cell_type": "code",
      "source": [
        "final_df = pd.concat([upcoming_df,rest_season_df],axis=0)"
      ],
      "metadata": {
        "id": "HvRKLY8hBUWa"
      },
      "id": "HvRKLY8hBUWa",
      "execution_count": 130,
      "outputs": []
    },
    {
      "cell_type": "markdown",
      "source": [
        "**WARNING: The following cell will take a while to run (20 mins)**. Instead take a look at the **final_probabilities** csv file or decrease the **no_of_simulations** value\n",
        "\n",
        "---\n",
        "\n"
      ],
      "metadata": {
        "id": "xfjWRqODmxnW"
      },
      "id": "xfjWRqODmxnW"
    },
    {
      "cell_type": "code",
      "source": [
        "# obtain current league table\n",
        "league_table = pd.read_csv('/content/league_table.csv')\n",
        "league_table = league_table.drop(['Unnamed: 0','GD','GF'],axis=1)\n",
        "league_table = league_table.set_index('TeamID')\n",
        "\n",
        "# dictionary\n",
        "\n",
        "results_dict = {}\n",
        "\n",
        "# monte carlo simulation (random walk)\n",
        "\n",
        "no_of_simulations = 10000\n",
        "\n",
        "for i in range(no_of_simulations):\n",
        "    league_table_df = league_table.copy()\n",
        "    for index, match in final_df.iterrows(): \n",
        "        home_id = match['Home ID']\n",
        "        away_id = match['Away ID']\n",
        "\n",
        "        if home_id not in results_dict:\n",
        "           results_dict[int(home_id)] = {'Champion':0,'Top4':0,'Bottom3':0}\n",
        "        \n",
        "        resultList = ['1','X','2']\n",
        "\n",
        "        outcome = random.choices(resultList, weights=(match['1'],match['X'],match['2']))[0]\n",
        "\n",
        "        # win for home team\n",
        "        if outcome == '1':\n",
        "          league_table_df.loc[home_id]['W'] += 1\n",
        "          league_table_df.loc[away_id]['L'] += 1\n",
        "          league_table_df.loc[home_id]['Points'] += 3\n",
        "        # draw   \n",
        "        elif outcome == 'X':\n",
        "          league_table_df.loc[home_id]['D'] += 1\n",
        "          league_table_df.loc[away_id]['D'] += 1\n",
        "          league_table_df.loc[home_id]['Points'] += 1\n",
        "          league_table_df.loc[away_id]['Points'] += 1\n",
        "        # loss\n",
        "        else:\n",
        "          league_table_df.loc[home_id]['L'] += 1\n",
        "          league_table_df.loc[away_id]['W'] += 1\n",
        "          league_table_df.loc[away_id]['Points'] += 3\n",
        "\n",
        "    league_table_df = league_table_df.sort_values(by='Points',ascending=False)\n",
        "    league_table_df = league_table_df.reset_index()\n",
        "    #display(league_table_df)\n",
        "\n",
        "    # iterate through dictionary, get ranking of each team and update dict values\n",
        "    for key in results_dict:\n",
        "        position = league_table_df.index[league_table_df['TeamID']==key].tolist()[0]\n",
        "\n",
        "        if position >= 0 and position <= 3:\n",
        "           results_dict[key]['Top4'] += 1\n",
        "           if position == 0:\n",
        "              results_dict[key]['Champion'] += 1\n",
        "        elif position >= 17 and position <= 19:\n",
        "           results_dict[key]['Bottom3'] += 1\n",
        "        else:\n",
        "           pass "
      ],
      "metadata": {
        "id": "iqLLN-vATzS0"
      },
      "id": "iqLLN-vATzS0",
      "execution_count": 131,
      "outputs": []
    },
    {
      "cell_type": "markdown",
      "source": [
        "**Test**"
      ],
      "metadata": {
        "id": "PC7zawRGiC3N"
      },
      "id": "PC7zawRGiC3N"
    },
    {
      "cell_type": "code",
      "source": [
        "sum = 0\n",
        "for key in results_dict:\n",
        "    sum += results_dict[key]['Champion']\n",
        "\n",
        "print(sum)"
      ],
      "metadata": {
        "colab": {
          "base_uri": "https://localhost:8080/"
        },
        "id": "81CHSdWdVmNz",
        "outputId": "f166555c-8c4c-4cf9-a502-30d2d1b5ef40"
      },
      "id": "81CHSdWdVmNz",
      "execution_count": 132,
      "outputs": [
        {
          "output_type": "stream",
          "name": "stdout",
          "text": [
            "10000\n"
          ]
        }
      ]
    },
    {
      "cell_type": "markdown",
      "source": [
        "**Convert count to probability for each outcome and save to csv**"
      ],
      "metadata": {
        "id": "szwLmT-NiJws"
      },
      "id": "szwLmT-NiJws"
    },
    {
      "cell_type": "code",
      "source": [
        "for key, value in results_dict.items():\n",
        "    value['Champion'] = value['Champion']/no_of_simulations\n",
        "    value['Top4'] = value['Top4']/no_of_simulations\n",
        "    value['Bottom3'] = value['Bottom3']/no_of_simulations"
      ],
      "metadata": {
        "id": "HhKRMUD3giVi"
      },
      "id": "HhKRMUD3giVi",
      "execution_count": 133,
      "outputs": []
    },
    {
      "cell_type": "code",
      "source": [
        "results_dict"
      ],
      "metadata": {
        "colab": {
          "base_uri": "https://localhost:8080/"
        },
        "id": "oMWPpVuhiTL_",
        "outputId": "153337c7-199d-4947-dc86-54da6053608e"
      },
      "id": "oMWPpVuhiTL_",
      "execution_count": 134,
      "outputs": [
        {
          "output_type": "execute_result",
          "data": {
            "text/plain": [
              "{1: {'Bottom3': 0.0, 'Champion': 0.5763, 'Top4': 0.9517},\n",
              " 2: {'Bottom3': 0.0, 'Champion': 0.0144, 'Top4': 0.2781},\n",
              " 3: {'Bottom3': 0.0, 'Champion': 0.1706, 'Top4': 0.7817},\n",
              " 4: {'Bottom3': 0.0002, 'Champion': 0.0065, 'Top4': 0.1673},\n",
              " 5: {'Bottom3': 0.2245, 'Champion': 0.0, 'Top4': 0.0005},\n",
              " 6: {'Bottom3': 0.0038, 'Champion': 0.0032, 'Top4': 0.0815},\n",
              " 7: {'Bottom3': 0.0004, 'Champion': 0.0117, 'Top4': 0.2402},\n",
              " 8: {'Bottom3': 0.3053, 'Champion': 0.0, 'Top4': 0.0001},\n",
              " 9: {'Bottom3': 0.0, 'Champion': 0.1477, 'Top4': 0.7495},\n",
              " 10: {'Bottom3': 0.0016, 'Champion': 0.005, 'Top4': 0.1263},\n",
              " 11: {'Bottom3': 0.0032, 'Champion': 0.0014, 'Top4': 0.0713},\n",
              " 12: {'Bottom3': 0.0, 'Champion': 0.0632, 'Top4': 0.5425},\n",
              " 13: {'Bottom3': 0.6587, 'Champion': 0.0, 'Top4': 0.0},\n",
              " 14: {'Bottom3': 0.2572, 'Champion': 0.0, 'Top4': 0.0005},\n",
              " 15: {'Bottom3': 0.0744, 'Champion': 0.0, 'Top4': 0.0041},\n",
              " 16: {'Bottom3': 0.5327, 'Champion': 0.0, 'Top4': 0.0},\n",
              " 17: {'Bottom3': 0.1335, 'Champion': 0.0, 'Top4': 0.0015},\n",
              " 18: {'Bottom3': 0.3328, 'Champion': 0.0, 'Top4': 0.0002},\n",
              " 19: {'Bottom3': 0.4035, 'Champion': 0.0, 'Top4': 0.0},\n",
              " 20: {'Bottom3': 0.0682, 'Champion': 0.0, 'Top4': 0.003}}"
            ]
          },
          "metadata": {},
          "execution_count": 134
        }
      ]
    },
    {
      "cell_type": "code",
      "source": [
        "# define column names \n",
        "column_names = ['TeamID','Bottom3','Champion','Top4']\n",
        "\n",
        "# instantiate new pandas dataframe\n",
        "final_prob_df = pd.DataFrame(columns=column_names)\n",
        "\n",
        "# append all key-value pairs as df rows\n",
        "for key in results_dict:\n",
        "    final_prob_df = final_prob_df.append({'TeamID':int(key),'Bottom3':results_dict[key]['Bottom3'],'Champion':results_dict[key]['Champion'],\n",
        "                                          'Top4':results_dict[key]['Top4']},ignore_index=True)\n",
        "\n",
        "# Sort dataframe by team index and save to csv\n",
        "final_prob_df = final_prob_df.sort_values(by='TeamID',ascending=True)\n",
        "final_prob_df = final_prob_df.reset_index()\n",
        "final_prob_df = final_prob_df.drop(['index'],axis=1)\n",
        "final_prob_df.to_csv('final_probabilities.csv')"
      ],
      "metadata": {
        "id": "QSgkkTIWjgvY"
      },
      "id": "QSgkkTIWjgvY",
      "execution_count": 135,
      "outputs": []
    },
    {
      "cell_type": "markdown",
      "source": [
        "## **FUTURE WORK**"
      ],
      "metadata": {
        "id": "dWFLhu6vpIqB"
      },
      "id": "dWFLhu6vpIqB"
    },
    {
      "cell_type": "markdown",
      "source": [
        "#### One thing to consider is that for TASK 3, there is the possibility to have two teams with the same number of points. Therefore it would be interesting to apply a monte carlo simulation for different score results in order to obtain Goal Difference estimates. Maybe its not a good idea but just a thought that I had\n",
        "\n"
      ],
      "metadata": {
        "id": "0rnQa7k6pLYr"
      },
      "id": "0rnQa7k6pLYr"
    },
    {
      "cell_type": "markdown",
      "source": [
        "#### Experiment with different distributions and techniques. It would be interesting to try out machine learning approaches for match result predictions"
      ],
      "metadata": {
        "id": "BHd-aHKMpk1D"
      },
      "id": "BHd-aHKMpk1D"
    },
    {
      "cell_type": "markdown",
      "source": [
        "#### Obtain as much relevant data as possible (as well through feature engineering) and try to build a model as accurate as possible whilst keeping in mind the trade offs between accuracy and computational cost."
      ],
      "metadata": {
        "id": "V-gSvzYEqccv"
      },
      "id": "V-gSvzYEqccv"
    },
    {
      "cell_type": "markdown",
      "source": [
        "# **END**"
      ],
      "metadata": {
        "id": "s5E_Z-Dfk8XG"
      },
      "id": "s5E_Z-Dfk8XG"
    }
  ],
  "metadata": {
    "kernelspec": {
      "display_name": "Python 3",
      "language": "python",
      "name": "python3"
    },
    "language_info": {
      "codemirror_mode": {
        "name": "ipython",
        "version": 3
      },
      "file_extension": ".py",
      "mimetype": "text/x-python",
      "name": "python",
      "nbconvert_exporter": "python",
      "pygments_lexer": "ipython3",
      "version": "3.7.8"
    },
    "colab": {
      "name": "superbet_task.ipynb",
      "provenance": [],
      "collapsed_sections": []
    }
  },
  "nbformat": 4,
  "nbformat_minor": 5
}
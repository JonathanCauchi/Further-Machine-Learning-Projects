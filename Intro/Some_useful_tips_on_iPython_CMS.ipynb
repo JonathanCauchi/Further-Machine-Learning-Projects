{
 "cells": [
  {
   "cell_type": "markdown",
   "metadata": {
    "collapsed": false
   },
   "source": [
    "# Some useful tips in iPython for CMS \n"
   ]
  },
  {
   "cell_type": "markdown",
   "metadata": {},
   "source": [
    "We first import three useful libraries\n",
    "1. numpy (matrix algebra and more):  we use np as a shortcut\n",
    "2. plyplot from matplotlib: useful for plotting charts: we use plt as a shortcut\n",
    "3. scipy.stats for statistical tools"
   ]
  },
  {
   "cell_type": "code",
   "execution_count": 1,
   "metadata": {
    "collapsed": true
   },
   "outputs": [],
   "source": [
    "import numpy as np\n",
    "import matplotlib.pyplot as plt\n",
    "import scipy.stats as stats"
   ]
  },
  {
   "cell_type": "code",
   "execution_count": 2,
   "metadata": {
    "collapsed": true
   },
   "outputs": [],
   "source": [
    "# this line plots graphs in line\n",
    "%matplotlib inline"
   ]
  },
  {
   "cell_type": "markdown",
   "metadata": {},
   "source": [
    "we now create a vector manually"
   ]
  },
  {
   "cell_type": "code",
   "execution_count": 3,
   "metadata": {
    "collapsed": false
   },
   "outputs": [
    {
     "name": "stdout",
     "output_type": "stream",
     "text": [
      "[0 1 2 3 4 5]\n"
     ]
    }
   ],
   "source": [
    "x=np.array([0,1,2,3,4,5])\n",
    "print x"
   ]
  },
  {
   "cell_type": "markdown",
   "metadata": {},
   "source": [
    "we can also use arange"
   ]
  },
  {
   "cell_type": "code",
   "execution_count": 4,
   "metadata": {
    "collapsed": false
   },
   "outputs": [
    {
     "name": "stdout",
     "output_type": "stream",
     "text": [
      "[ 0.   0.2  0.4  0.6  0.8  1.   1.2  1.4  1.6  1.8  2.   2.2  2.4  2.6  2.8]\n"
     ]
    }
   ],
   "source": [
    "xx=np.arange(0,3,.2)\n",
    "print xx"
   ]
  },
  {
   "cell_type": "markdown",
   "metadata": {
    "collapsed": true
   },
   "source": [
    "print shape of vector"
   ]
  },
  {
   "cell_type": "code",
   "execution_count": 5,
   "metadata": {
    "collapsed": false
   },
   "outputs": [
    {
     "data": {
      "text/plain": [
       "(6,)"
      ]
     },
     "execution_count": 5,
     "metadata": {},
     "output_type": "execute_result"
    }
   ],
   "source": [
    "x.shape"
   ]
  },
  {
   "cell_type": "markdown",
   "metadata": {
    "collapsed": false
   },
   "source": [
    "we now define $y$ as a function of $x$, \n",
    "$$y(x)=x^2$$ "
   ]
  },
  {
   "cell_type": "code",
   "execution_count": 6,
   "metadata": {
    "collapsed": false
   },
   "outputs": [
    {
     "name": "stdout",
     "output_type": "stream",
     "text": [
      "[ 0  1  4  9 16 25]\n"
     ]
    }
   ],
   "source": [
    "y = x**2\n",
    "print y"
   ]
  },
  {
   "cell_type": "code",
   "execution_count": 7,
   "metadata": {
    "collapsed": false
   },
   "outputs": [
    {
     "data": {
      "image/png": "[encoded data removed]",
      "text/plain": [
       "<matplotlib.figure.Figure at 0x10d21ce50>"
      ]
     },
     "metadata": {},
     "output_type": "display_data"
    }
   ],
   "source": [
    "plt.figure()\n",
    "plt.plot(x,y,'r')\n",
    "plt.show()"
   ]
  },
  {
   "cell_type": "code",
   "execution_count": 8,
   "metadata": {
    "collapsed": false
   },
   "outputs": [
    {
     "data": {
      "image/png": "[encoded data removed]",
      "text/plain": [
       "<matplotlib.figure.Figure at 0x10f6a5b90>"
      ]
     },
     "metadata": {},
     "output_type": "display_data"
    }
   ],
   "source": [
    "fig, ax = plt.subplots()\n",
    "ax.plot(x, y,'k')\n",
    "ax.set_xlim((0,6))\n",
    "ax.set_ylim((0,35))\n",
    "x0,x1 = ax.get_xlim()\n",
    "y0,y1 = ax.get_ylim()\n",
    "#ax.set_aspect(1.0)\n",
    "ax.grid(b=True, which='major', linestyle='--')\n",
    "plt.show()"
   ]
  },
  {
   "cell_type": "code",
   "execution_count": 9,
   "metadata": {
    "collapsed": false
   },
   "outputs": [
    {
     "name": "stdout",
     "output_type": "stream",
     "text": [
      "40.6\n"
     ]
    }
   ],
   "source": [
    "yy=np.dot(xx,xx)\n",
    "print yy"
   ]
  },
  {
   "cell_type": "code",
   "execution_count": 10,
   "metadata": {
    "collapsed": false
   },
   "outputs": [
    {
     "data": {
      "text/plain": [
       "55"
      ]
     },
     "execution_count": 10,
     "metadata": {},
     "output_type": "execute_result"
    }
   ],
   "source": [
    "np.dot(x,x)"
   ]
  },
  {
   "cell_type": "code",
   "execution_count": 11,
   "metadata": {
    "collapsed": false
   },
   "outputs": [
    {
     "data": {
      "text/plain": [
       "55"
      ]
     },
     "execution_count": 11,
     "metadata": {},
     "output_type": "execute_result"
    }
   ],
   "source": [
    "np.sum(y)\n"
   ]
  },
  {
   "cell_type": "markdown",
   "metadata": {
    "collapsed": true
   },
   "source": [
    "## Matrices and Linear Algebra"
   ]
  },
  {
   "cell_type": "code",
   "execution_count": 12,
   "metadata": {
    "collapsed": false
   },
   "outputs": [],
   "source": [
    "X=np.matrix([2,3])\n",
    "W=np.matrix([1,2])"
   ]
  },
  {
   "cell_type": "code",
   "execution_count": 13,
   "metadata": {
    "collapsed": false
   },
   "outputs": [
    {
     "data": {
      "text/plain": [
       "matrix([[13]])"
      ]
     },
     "execution_count": 13,
     "metadata": {},
     "output_type": "execute_result"
    }
   ],
   "source": [
    "X*X.T\n"
   ]
  },
  {
   "cell_type": "code",
   "execution_count": 14,
   "metadata": {
    "collapsed": false
   },
   "outputs": [
    {
     "data": {
      "text/plain": [
       "matrix([[4, 6],\n",
       "        [6, 9]])"
      ]
     },
     "execution_count": 14,
     "metadata": {},
     "output_type": "execute_result"
    }
   ],
   "source": [
    "np.dot(X.T,X)"
   ]
  },
  {
   "cell_type": "markdown",
   "metadata": {},
   "source": [
    "## Pearson correlation"
   ]
  },
  {
   "cell_type": "code",
   "execution_count": 15,
   "metadata": {
    "collapsed": false
   },
   "outputs": [
    {
     "data": {
      "text/plain": [
       "(0.99962228516121843, 0.017498096813278487)"
      ]
     },
     "execution_count": 15,
     "metadata": {},
     "output_type": "execute_result"
    }
   ],
   "source": [
    "# example 1\n",
    "stats.pearsonr([1,2,3],[1,2,3.1])"
   ]
  },
  {
   "cell_type": "code",
   "execution_count": 16,
   "metadata": {
    "collapsed": false
   },
   "outputs": [
    {
     "data": {
      "text/plain": [
       "(0.90886906843896254, 0.012078855823236475)"
      ]
     },
     "execution_count": 16,
     "metadata": {},
     "output_type": "execute_result"
    }
   ],
   "source": [
    "#example 2\n",
    "stats.pearsonr([1,2,3,4,5,6],[2,4,10,8,10,12])"
   ]
  },
  {
   "cell_type": "code",
   "execution_count": 17,
   "metadata": {
    "collapsed": false
   },
   "outputs": [
    {
     "data": {
      "text/plain": [
       "(-1.0, 0.0)"
      ]
     },
     "execution_count": 17,
     "metadata": {},
     "output_type": "execute_result"
    }
   ],
   "source": [
    "#example 3\n",
    "stats.pearsonr([1,2,3,4,5,6],[6,5,4,3,2,1])"
   ]
  },
  {
   "cell_type": "code",
   "execution_count": 18,
   "metadata": {
    "collapsed": false
   },
   "outputs": [
    {
     "data": {
      "text/plain": [
       "(0.0, 1.0)"
      ]
     },
     "execution_count": 18,
     "metadata": {},
     "output_type": "execute_result"
    }
   ],
   "source": [
    "#example 4\n",
    "stats.pearsonr([1,2,3,4,5,6],[1,2,3,3,2,1])"
   ]
  },
  {
   "cell_type": "markdown",
   "metadata": {},
   "source": [
    "## Random Variables that are linearly related"
   ]
  },
  {
   "cell_type": "code",
   "execution_count": 19,
   "metadata": {
    "collapsed": false
   },
   "outputs": [
    {
     "name": "stdout",
     "output_type": "stream",
     "text": [
      "Pearson Coefficient =  (0.97640667778136792, 4.7860960691644082e-67)\n"
     ]
    },
    {
     "data": {
      "image/png": "[encoded data removed]",
      "text/plain": [
       "<matplotlib.figure.Figure at 0x10fc76810>"
      ]
     },
     "metadata": {},
     "output_type": "display_data"
    }
   ],
   "source": [
    "# we first produce some data whose scatter plot \n",
    "# exhibits a linear relationship\n",
    "# y = mx + c or y = x\n",
    "N=100\n",
    "y_sigma=.25   # variance for y feature\n",
    "x_sigma=np.sqrt(5.0)   # variance for X feature\n",
    "#x = (np.random.rand(N)-0.5)*10\n",
    "x = np.random.randn(N)*x_sigma+5   #Gaussian and shift\n",
    "#x = np.arange(0,10,.02)\n",
    "N=len(x)\n",
    "y = np.copy(x)/2.0+np.random.randn(N)*y_sigma # line equation + gaussian noise\n",
    "print 'Pearson Coefficient = ',stats.pearsonr(x,y) \n",
    "fig, ax = plt.subplots()\n",
    "ax.plot(x, y,'k.')\n",
    "ax.set_xlim((-2,12))\n",
    "ax.set_ylim((-2,7))\n",
    "x0,x1 = ax.get_xlim()\n",
    "y0,y1 = ax.get_ylim()\n",
    "ax.set_aspect(1.0)\n",
    "ax.grid(b=True, which='major', linestyle='--')\n",
    "plt.show()"
   ]
  },
  {
   "cell_type": "markdown",
   "metadata": {},
   "source": [
    "## Random Variables that are non-linearly related"
   ]
  },
  {
   "cell_type": "code",
   "execution_count": 20,
   "metadata": {
    "collapsed": false
   },
   "outputs": [
    {
     "name": "stdout",
     "output_type": "stream",
     "text": [
      "Pearson Coefficient =  (0.12693164513503377, 5.6176480107482992e-23)\n"
     ]
    },
    {
     "data": {
      "image/png": "[encoded data removed]",
      "text/plain": [
       "<matplotlib.figure.Figure at 0x10f76af50>"
      ]
     },
     "metadata": {},
     "output_type": "display_data"
    }
   ],
   "source": [
    "# we first produce some data whose scatter plot lies on a straight line\n",
    "# y = mx + c or y = x\n",
    "y_sigma=0.05\n",
    "x = np.random.randn(N)*x_sigma\n",
    "x = np.arange(-3,3,.001)\n",
    "N=len(x)\n",
    "y= 0.5*x*x + 0.1*x + 1 + np.random.randn(N)*y_sigma\n",
    "#y = np.copy(x)/2.0+np.random.randn(N)*y_sigma\n",
    "print 'Pearson Coefficient = ',stats.pearsonr(x,y) \n",
    "fig, ax = plt.subplots()\n",
    "ax.plot(x, y,'k.')\n",
    "ax.set_xlim((-6,6))\n",
    "ax.set_ylim((0,6))\n",
    "x0,x1 = ax.get_xlim()\n",
    "y0,y1 = ax.get_ylim()\n",
    "ax.set_aspect(1.0)\n",
    "ax.grid(b=True, which='major', linestyle='--')\n",
    "plt.show()"
   ]
  },
  {
   "cell_type": "markdown",
   "metadata": {},
   "source": [
    "## Distributions and Histograms"
   ]
  },
  {
   "cell_type": "code",
   "execution_count": 21,
   "metadata": {
    "collapsed": false
   },
   "outputs": [
    {
     "data": {
      "image/png": "[encoded data removed]",
      "text/plain": [
       "<matplotlib.figure.Figure at 0x10f6bf150>"
      ]
     },
     "metadata": {},
     "output_type": "display_data"
    }
   ],
   "source": [
    "# generate numbers guassian distributed, centred at zero\n",
    "sigma=0.3450  #standard deviation\n",
    "np.random.seed(1)\n",
    "X1=np.random.randn(10000)*sigma\n",
    "# generate histogram\n",
    "x_bin=np.arange(-4.0*sigma,3.5*sigma,sigma/3.0)+sigma/2.0\n",
    "h,b=np.histogram(X1,bins=x_bin)\n",
    "#print h,b\n",
    "plt.bar(b[:-1],h,width=sigma/4.0)\n",
    "plt.show()\n",
    "#print x_bin"
   ]
  },
  {
   "cell_type": "code",
   "execution_count": 22,
   "metadata": {
    "collapsed": false
   },
   "outputs": [
    {
     "name": "stdout",
     "output_type": "stream",
     "text": [
      "Mean= 0.00337156656119\n",
      "variance =  0.118736145554\n",
      "standard deviation =  0.344581116072\n"
     ]
    }
   ],
   "source": [
    "# calculate mean and sigma\n",
    "print 'Mean=',np.mean(X1)\n",
    "print 'variance = ',np.std(X1)**2.0\n",
    "print 'standard deviation = ',np.std(X1)"
   ]
  },
  {
   "cell_type": "code",
   "execution_count": 23,
   "metadata": {
    "collapsed": false
   },
   "outputs": [
    {
     "name": "stdout",
     "output_type": "stream",
     "text": [
      "Mean= 0.00112914225612\n",
      "variance =  0.11860792853\n",
      "standard deviation =  0.344395018155\n",
      "variance =  0.11860792853\n"
     ]
    }
   ],
   "source": [
    "X2=np.random.normal(loc=0.0,scale=0.345,size=100000)  # scale is standard deviation\n",
    "print 'Mean=',np.mean(X2)\n",
    "print 'variance = ',np.std(X2)**2.0\n",
    "print 'standard deviation = ',np.std(X2)\n",
    "print 'variance = ',np.var(X2)"
   ]
  },
  {
   "cell_type": "markdown",
   "metadata": {},
   "source": [
    "## Chi-Square goodness-of-fit"
   ]
  },
  {
   "cell_type": "code",
   "execution_count": 24,
   "metadata": {
    "collapsed": false
   },
   "outputs": [
    {
     "name": "stdout",
     "output_type": "stream",
     "text": [
      "Critical value\n",
      "(1, array([ 6.6348966 ,  3.84145882]))\n",
      "(2, array([ 9.21034037,  5.99146455]))\n",
      "(3, array([ 11.34486673,   7.8147279 ]))\n",
      "(4, array([ 13.27670414,   9.48772904]))\n",
      "(5, array([ 15.08627247,  11.07049769]))\n",
      "(6, array([ 16.81189383,  12.59158724]))\n",
      "(7, array([ 18.47530691,  14.06714045]))\n",
      "(8, array([ 20.09023503,  15.50731306]))\n",
      "(9, array([ 21.66599433,  16.9189776 ]))\n",
      "(10, array([ 23.20925116,  18.30703805]))\n"
     ]
    }
   ],
   "source": [
    "# Table for chi-square\n",
    "print(\"Critical value\")\n",
    "\n",
    "for k in range(1,11):\n",
    "    crit = stats.chi2.ppf(q = 1.0-np.array([0.01, .05]), # Find the critical value for 99% and 95% confidence*\n",
    "                          df = k)   # Df = number of variable categories - 1\n",
    "\n",
    "    print(k, crit)\n"
   ]
  },
  {
   "cell_type": "code",
   "execution_count": 25,
   "metadata": {
    "collapsed": false
   },
   "outputs": [
    {
     "name": "stdout",
     "output_type": "stream",
     "text": [
      "chi_2_obt= 14.5983263598\n",
      "chi_2 from table =  16.9189776046\n",
      "We assume that the distributions are similar with a confidence of 95%\n"
     ]
    }
   ],
   "source": [
    "f_observed=np.array([30,20,35,36,17,14,29,20,18,31],dtype=float)  # reject\n",
    "f_observed=np.array([30,25,25,30,17,14,29,20,18,31],dtype=float)  # assume similar\n",
    "\n",
    "N=len(f_observed)\n",
    "f_expected = np.full_like(f_observed,np.sum(f_observed)/N)\n",
    "#\n",
    "chi_2_obt = np.sum(((f_expected-f_observed)*(f_expected-f_observed))/f_expected)\n",
    "print 'chi_2_obt=',chi_2_obt\n",
    "#\n",
    "chi_2=stats.chi2.ppf(q=1.0-.05,df=N-1)\n",
    "print 'chi_2 from table = ', chi_2\n",
    "#\n",
    "if chi_2_obt>chi_2:\n",
    "    print \"We reject the hypothesis that the two distributions are similar with a confidence of 95%\"\n",
    "else:\n",
    "    print \"We assume that the distributions are similar with a confidence of 95%\""
   ]
  },
  {
   "cell_type": "markdown",
   "metadata": {},
   "source": [
    "# t-Test"
   ]
  },
  {
   "cell_type": "code",
   "execution_count": 26,
   "metadata": {
    "collapsed": false
   },
   "outputs": [
    {
     "data": {
      "text/plain": [
       "1.9610428730457048"
      ]
     },
     "execution_count": 26,
     "metadata": {},
     "output_type": "execute_result"
    }
   ],
   "source": [
    "stats.t.ppf(q=1-0.025,  # Quantile to check\n",
    "            df=2200)  # Degrees of freedom"
   ]
  },
  {
   "cell_type": "code",
   "execution_count": 27,
   "metadata": {
    "collapsed": false
   },
   "outputs": [
    {
     "data": {
      "text/plain": [
       "Ttest_1sampResult(statistic=-3.6147844564602538, pvalue=0.0068340802114004407)"
      ]
     },
     "execution_count": 27,
     "metadata": {},
     "output_type": "execute_result"
    }
   ],
   "source": [
    "stats.ttest_1samp(a= [50,75,65,72,68,65,73,59,64], popmean= 75.0)"
   ]
  },
  {
   "cell_type": "markdown",
   "metadata": {},
   "source": [
    "# One-way ANOVA"
   ]
  },
  {
   "cell_type": "markdown",
   "metadata": {},
   "source": [
    "## Anova - Manual"
   ]
  },
  {
   "cell_type": "code",
   "execution_count": 28,
   "metadata": {
    "collapsed": false
   },
   "outputs": [],
   "source": [
    "# A study on Perceived difficulty [from Heiman-92]\n",
    "# We told three samples of five subjects each that some\n",
    "# math problems were easy (A1), of medum difficulty (A2), or difficult (A3)\n",
    "# we measured the number of problems they correctly solved\n",
    "# we want to check for significant difference between these groups"
   ]
  },
  {
   "cell_type": "code",
   "execution_count": 29,
   "metadata": {
    "collapsed": false
   },
   "outputs": [],
   "source": [
    "# measurements(scores obtained) are given below for the three samples\n",
    "A1 = np.array([9,12,4,8,7],dtype=float)\n",
    "A2 = np.array([4,6,8,2,10],dtype=float)\n",
    "A3 = np.array([1,3,4,5,2],dtype=float)"
   ]
  },
  {
   "cell_type": "code",
   "execution_count": null,
   "metadata": {
    "collapsed": true
   },
   "outputs": [],
   "source": []
  },
  {
   "cell_type": "code",
   "execution_count": null,
   "metadata": {
    "collapsed": true
   },
   "outputs": [],
   "source": []
  },
  {
   "cell_type": "markdown",
   "metadata": {},
   "source": [
    "## Anova - Python Library"
   ]
  },
  {
   "cell_type": "code",
   "execution_count": 30,
   "metadata": {
    "collapsed": false
   },
   "outputs": [
    {
     "name": "stdout",
     "output_type": "stream",
     "text": [
      "F_onewayResult(statistic=4.5238095238095228, pvalue=0.034345483028682462)\n"
     ]
    }
   ],
   "source": [
    "print stats.f_oneway(A1,A2,A3)"
   ]
  },
  {
   "cell_type": "code",
   "execution_count": 31,
   "metadata": {
    "collapsed": false
   },
   "outputs": [
    {
     "data": {
      "text/plain": [
       "0.034420174155648145"
      ]
     },
     "execution_count": 31,
     "metadata": {},
     "output_type": "execute_result"
    }
   ],
   "source": [
    "stats.f.sf(4.52, dfn=2, dfd=12, loc=0, scale=1)"
   ]
  },
  {
   "cell_type": "code",
   "execution_count": 32,
   "metadata": {
    "collapsed": false
   },
   "outputs": [],
   "source": [
    "# calculating f_critical\n",
    "def get_f_crit(alpha,n,d):\n",
    "    #rv=stats.f(n,d)\n",
    "    x=1.0\n",
    "    while (stats.f.sf(x,n,d)>alpha) and x<10.0:\n",
    "        x+=0.001\n",
    "    return x"
   ]
  },
  {
   "cell_type": "code",
   "execution_count": 33,
   "metadata": {
    "collapsed": false
   },
   "outputs": [
    {
     "name": "stdout",
     "output_type": "stream",
     "text": [
      "2.262\n"
     ]
    }
   ],
   "source": [
    "print get_f_crit(0.05,100,13)"
   ]
  },
  {
   "cell_type": "code",
   "execution_count": 34,
   "metadata": {
    "collapsed": false
   },
   "outputs": [
    {
     "data": {
      "text/plain": [
       "0.034420174155648145"
      ]
     },
     "execution_count": 34,
     "metadata": {},
     "output_type": "execute_result"
    }
   ],
   "source": [
    "rv=stats.f(2,12)\n",
    "rv.sf(4.52)"
   ]
  },
  {
   "cell_type": "markdown",
   "metadata": {},
   "source": [
    "## Calculator - use this space for arbitrary computations"
   ]
  },
  {
   "cell_type": "code",
   "execution_count": 35,
   "metadata": {
    "collapsed": false
   },
   "outputs": [
    {
     "data": {
      "text/plain": [
       "74.844"
      ]
     },
     "execution_count": 35,
     "metadata": {},
     "output_type": "execute_result"
    }
   ],
   "source": [
    "5.67*13.2"
   ]
  },
  {
   "cell_type": "markdown",
   "metadata": {},
   "source": [
    "## More Help"
   ]
  },
  {
   "cell_type": "markdown",
   "metadata": {
    "collapsed": false
   },
   "source": [
    "<http://bebi103.caltech.edu.s3-website-us-east-1.amazonaws.com/2015/tutorials/t0b_intro_to_jupyter_notebooks.html>\n",
    "\n",
    "<http://jupyter-notebook.readthedocs.io/en/stable/examples/Notebook/Working%20With%20Markdown%20Cells.html>\n",
    "\n",
    "<http://docs.mathjax.org/en/latest/index.html>\n",
    "\n",
    "<https://github.com/adam-p/markdown-here/wiki/Markdown-Cheatsheet>\n",
    "\n",
    "<http://hamelg.appspot.com>"
   ]
  },
  {
   "cell_type": "code",
   "execution_count": null,
   "metadata": {
    "collapsed": true
   },
   "outputs": [],
   "source": []
  }
 ],
 "metadata": {
  "kernelspec": {
   "display_name": "Python 2",
   "language": "python",
   "name": "python2"
  },
  "language_info": {
   "codemirror_mode": {
    "name": "ipython",
    "version": 2
   },
   "file_extension": ".py",
   "mimetype": "text/x-python",
   "name": "python",
   "nbconvert_exporter": "python",
   "pygments_lexer": "ipython2",
   "version": "2.7.12"
  }
 },
 "nbformat": 4,
 "nbformat_minor": 0
}

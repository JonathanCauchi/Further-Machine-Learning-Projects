{
  "nbformat": 4,
  "nbformat_minor": 0,
  "metadata": {
    "colab": {
      "name": "CS5062_Assessment1Q1_Cauchi_Jonathan_52197870.ipynb",
      "provenance": [],
      "collapsed_sections": []
    },
    "kernelspec": {
      "name": "python3",
      "display_name": "Python 3"
    },
    "language_info": {
      "name": "python"
    }
  },
  "cells": [
    {
      "cell_type": "markdown",
      "metadata": {
        "id": "ux1Dah5grjQr"
      },
      "source": [
        "# **CS5062 – Machine Learning - Assessment 1**"
      ]
    },
    {
      "cell_type": "markdown",
      "metadata": {
        "id": "C46BuGBlrxs2"
      },
      "source": [
        "**Import libraries**"
      ]
    },
    {
      "cell_type": "code",
      "metadata": {
        "id": "_e1RRcDjrjXu"
      },
      "source": [
        "import pandas as pd\n",
        "import math\n",
        "import numpy as np\n",
        "import seaborn as sns\n",
        "from matplotlib import pyplot\n",
        "from sklearn.model_selection import train_test_split, GridSearchCV\n",
        "from sklearn.preprocessing import MinMaxScaler, StandardScaler\n",
        "from sklearn.linear_model import LinearRegression, Ridge, Lasso\n",
        "from sklearn.metrics import mean_squared_error, mean_absolute_error, r2_score"
      ],
      "execution_count": null,
      "outputs": []
    },
    {
      "cell_type": "markdown",
      "metadata": {
        "id": "x2mVfhEPr0JG"
      },
      "source": [
        "**Import data using pandas**"
      ]
    },
    {
      "cell_type": "code",
      "metadata": {
        "colab": {
          "base_uri": "https://localhost:8080/",
          "height": 362
        },
        "id": "GhKR6l3ZRQip",
        "outputId": "12a88112-67b2-4b8e-eb15-d46c05ee41fd"
      },
      "source": [
        "data = pd.read_csv(\"/content/soybean_tabular.csv\")\n",
        "data.head(10)"
      ],
      "execution_count": null,
      "outputs": [
        {
          "output_type": "execute_result",
          "data": {
            "text/html": [
              "<div>\n",
              "<style scoped>\n",
              "    .dataframe tbody tr th:only-of-type {\n",
              "        vertical-align: middle;\n",
              "    }\n",
              "\n",
              "    .dataframe tbody tr th {\n",
              "        vertical-align: top;\n",
              "    }\n",
              "\n",
              "    .dataframe thead th {\n",
              "        text-align: right;\n",
              "    }\n",
              "</style>\n",
              "<table border=\"1\" class=\"dataframe\">\n",
              "  <thead>\n",
              "    <tr style=\"text-align: right;\">\n",
              "      <th></th>\n",
              "      <th>Variety</th>\n",
              "      <th>S_1</th>\n",
              "      <th>S_2</th>\n",
              "      <th>S_3</th>\n",
              "      <th>S_4</th>\n",
              "      <th>M_1</th>\n",
              "      <th>M_2</th>\n",
              "      <th>M_3</th>\n",
              "      <th>W_1</th>\n",
              "      <th>W_2</th>\n",
              "      <th>W_3</th>\n",
              "      <th>W_4</th>\n",
              "      <th>Yield</th>\n",
              "    </tr>\n",
              "  </thead>\n",
              "  <tbody>\n",
              "    <tr>\n",
              "      <th>0</th>\n",
              "      <td>1</td>\n",
              "      <td>4.0900</td>\n",
              "      <td>15.3</td>\n",
              "      <td>396.90</td>\n",
              "      <td>4.98</td>\n",
              "      <td>0.00632</td>\n",
              "      <td>18.0</td>\n",
              "      <td>6.575</td>\n",
              "      <td>2.381979</td>\n",
              "      <td>0.475522</td>\n",
              "      <td>65.2</td>\n",
              "      <td>296.350195</td>\n",
              "      <td>24.0</td>\n",
              "    </tr>\n",
              "    <tr>\n",
              "      <th>1</th>\n",
              "      <td>2</td>\n",
              "      <td>4.9671</td>\n",
              "      <td>17.8</td>\n",
              "      <td>396.90</td>\n",
              "      <td>9.14</td>\n",
              "      <td>0.02731</td>\n",
              "      <td>0.0</td>\n",
              "      <td>6.421</td>\n",
              "      <td>7.071148</td>\n",
              "      <td>0.509165</td>\n",
              "      <td>78.9</td>\n",
              "      <td>241.620198</td>\n",
              "      <td>21.6</td>\n",
              "    </tr>\n",
              "    <tr>\n",
              "      <th>2</th>\n",
              "      <td>2</td>\n",
              "      <td>4.9671</td>\n",
              "      <td>17.8</td>\n",
              "      <td>392.83</td>\n",
              "      <td>4.03</td>\n",
              "      <td>0.02729</td>\n",
              "      <td>0.0</td>\n",
              "      <td>7.185</td>\n",
              "      <td>6.896941</td>\n",
              "      <td>0.580673</td>\n",
              "      <td>61.1</td>\n",
              "      <td>241.551476</td>\n",
              "      <td>34.7</td>\n",
              "    </tr>\n",
              "    <tr>\n",
              "      <th>3</th>\n",
              "      <td>3</td>\n",
              "      <td>6.0622</td>\n",
              "      <td>18.7</td>\n",
              "      <td>394.63</td>\n",
              "      <td>2.94</td>\n",
              "      <td>0.03237</td>\n",
              "      <td>0.0</td>\n",
              "      <td>6.998</td>\n",
              "      <td>2.237817</td>\n",
              "      <td>0.491539</td>\n",
              "      <td>45.8</td>\n",
              "      <td>222.023994</td>\n",
              "      <td>33.4</td>\n",
              "    </tr>\n",
              "    <tr>\n",
              "      <th>4</th>\n",
              "      <td>3</td>\n",
              "      <td>6.0622</td>\n",
              "      <td>18.7</td>\n",
              "      <td>396.90</td>\n",
              "      <td>5.33</td>\n",
              "      <td>0.06905</td>\n",
              "      <td>0.0</td>\n",
              "      <td>7.147</td>\n",
              "      <td>1.979327</td>\n",
              "      <td>0.103660</td>\n",
              "      <td>54.2</td>\n",
              "      <td>221.723972</td>\n",
              "      <td>36.2</td>\n",
              "    </tr>\n",
              "    <tr>\n",
              "      <th>5</th>\n",
              "      <td>3</td>\n",
              "      <td>6.0622</td>\n",
              "      <td>18.7</td>\n",
              "      <td>394.12</td>\n",
              "      <td>5.21</td>\n",
              "      <td>0.02985</td>\n",
              "      <td>0.0</td>\n",
              "      <td>6.430</td>\n",
              "      <td>2.277990</td>\n",
              "      <td>0.440205</td>\n",
              "      <td>58.7</td>\n",
              "      <td>222.397094</td>\n",
              "      <td>28.7</td>\n",
              "    </tr>\n",
              "    <tr>\n",
              "      <th>6</th>\n",
              "      <td>5</td>\n",
              "      <td>5.5605</td>\n",
              "      <td>15.2</td>\n",
              "      <td>395.60</td>\n",
              "      <td>12.43</td>\n",
              "      <td>0.08829</td>\n",
              "      <td>12.5</td>\n",
              "      <td>6.012</td>\n",
              "      <td>7.890084</td>\n",
              "      <td>0.488405</td>\n",
              "      <td>66.6</td>\n",
              "      <td>311.698716</td>\n",
              "      <td>22.9</td>\n",
              "    </tr>\n",
              "    <tr>\n",
              "      <th>7</th>\n",
              "      <td>5</td>\n",
              "      <td>5.9505</td>\n",
              "      <td>15.2</td>\n",
              "      <td>396.90</td>\n",
              "      <td>19.15</td>\n",
              "      <td>0.14455</td>\n",
              "      <td>12.5</td>\n",
              "      <td>6.172</td>\n",
              "      <td>7.853717</td>\n",
              "      <td>0.525266</td>\n",
              "      <td>96.1</td>\n",
              "      <td>311.820462</td>\n",
              "      <td>27.1</td>\n",
              "    </tr>\n",
              "    <tr>\n",
              "      <th>8</th>\n",
              "      <td>5</td>\n",
              "      <td>6.0821</td>\n",
              "      <td>15.2</td>\n",
              "      <td>386.63</td>\n",
              "      <td>29.93</td>\n",
              "      <td>0.21124</td>\n",
              "      <td>12.5</td>\n",
              "      <td>5.631</td>\n",
              "      <td>7.825090</td>\n",
              "      <td>0.502674</td>\n",
              "      <td>100.0</td>\n",
              "      <td>311.276986</td>\n",
              "      <td>16.5</td>\n",
              "    </tr>\n",
              "    <tr>\n",
              "      <th>9</th>\n",
              "      <td>5</td>\n",
              "      <td>6.5921</td>\n",
              "      <td>15.2</td>\n",
              "      <td>386.71</td>\n",
              "      <td>17.10</td>\n",
              "      <td>0.17004</td>\n",
              "      <td>12.5</td>\n",
              "      <td>6.004</td>\n",
              "      <td>7.907141</td>\n",
              "      <td>0.460825</td>\n",
              "      <td>85.9</td>\n",
              "      <td>310.985228</td>\n",
              "      <td>18.9</td>\n",
              "    </tr>\n",
              "  </tbody>\n",
              "</table>\n",
              "</div>"
            ],
            "text/plain": [
              "   Variety     S_1   S_2     S_3  ...       W_2    W_3         W_4  Yield\n",
              "0        1  4.0900  15.3  396.90  ...  0.475522   65.2  296.350195   24.0\n",
              "1        2  4.9671  17.8  396.90  ...  0.509165   78.9  241.620198   21.6\n",
              "2        2  4.9671  17.8  392.83  ...  0.580673   61.1  241.551476   34.7\n",
              "3        3  6.0622  18.7  394.63  ...  0.491539   45.8  222.023994   33.4\n",
              "4        3  6.0622  18.7  396.90  ...  0.103660   54.2  221.723972   36.2\n",
              "5        3  6.0622  18.7  394.12  ...  0.440205   58.7  222.397094   28.7\n",
              "6        5  5.5605  15.2  395.60  ...  0.488405   66.6  311.698716   22.9\n",
              "7        5  5.9505  15.2  396.90  ...  0.525266   96.1  311.820462   27.1\n",
              "8        5  6.0821  15.2  386.63  ...  0.502674  100.0  311.276986   16.5\n",
              "9        5  6.5921  15.2  386.71  ...  0.460825   85.9  310.985228   18.9\n",
              "\n",
              "[10 rows x 13 columns]"
            ]
          },
          "metadata": {},
          "execution_count": 12
        }
      ]
    },
    {
      "cell_type": "markdown",
      "metadata": {
        "id": "9GzXSQ82r6gz"
      },
      "source": [
        "**Descriptive Statistics**"
      ]
    },
    {
      "cell_type": "markdown",
      "metadata": {
        "id": "wX2G5WUWs2eH"
      },
      "source": [
        "The range is equivalent to (min,max) and the median is equivalent to the 50% percentile"
      ]
    },
    {
      "cell_type": "code",
      "metadata": {
        "colab": {
          "base_uri": "https://localhost:8080/",
          "height": 300
        },
        "id": "X62JBVlnRYC0",
        "outputId": "aa694827-f3e3-4aa0-abd7-637605f37f94"
      },
      "source": [
        "data.describe()"
      ],
      "execution_count": null,
      "outputs": [
        {
          "output_type": "execute_result",
          "data": {
            "text/html": [
              "<div>\n",
              "<style scoped>\n",
              "    .dataframe tbody tr th:only-of-type {\n",
              "        vertical-align: middle;\n",
              "    }\n",
              "\n",
              "    .dataframe tbody tr th {\n",
              "        vertical-align: top;\n",
              "    }\n",
              "\n",
              "    .dataframe thead th {\n",
              "        text-align: right;\n",
              "    }\n",
              "</style>\n",
              "<table border=\"1\" class=\"dataframe\">\n",
              "  <thead>\n",
              "    <tr style=\"text-align: right;\">\n",
              "      <th></th>\n",
              "      <th>Variety</th>\n",
              "      <th>S_1</th>\n",
              "      <th>S_2</th>\n",
              "      <th>S_3</th>\n",
              "      <th>S_4</th>\n",
              "      <th>M_1</th>\n",
              "      <th>M_2</th>\n",
              "      <th>M_3</th>\n",
              "      <th>W_1</th>\n",
              "      <th>W_2</th>\n",
              "      <th>W_3</th>\n",
              "      <th>W_4</th>\n",
              "      <th>Yield</th>\n",
              "    </tr>\n",
              "  </thead>\n",
              "  <tbody>\n",
              "    <tr>\n",
              "      <th>count</th>\n",
              "      <td>506.000000</td>\n",
              "      <td>506.000000</td>\n",
              "      <td>506.000000</td>\n",
              "      <td>506.000000</td>\n",
              "      <td>506.000000</td>\n",
              "      <td>506.000000</td>\n",
              "      <td>506.000000</td>\n",
              "      <td>506.000000</td>\n",
              "      <td>506.000000</td>\n",
              "      <td>506.000000</td>\n",
              "      <td>506.000000</td>\n",
              "      <td>506.000000</td>\n",
              "      <td>506.000000</td>\n",
              "    </tr>\n",
              "    <tr>\n",
              "      <th>mean</th>\n",
              "      <td>9.549407</td>\n",
              "      <td>3.795043</td>\n",
              "      <td>18.455534</td>\n",
              "      <td>356.674032</td>\n",
              "      <td>12.653063</td>\n",
              "      <td>3.613524</td>\n",
              "      <td>11.363636</td>\n",
              "      <td>6.284634</td>\n",
              "      <td>11.131488</td>\n",
              "      <td>0.551258</td>\n",
              "      <td>68.574901</td>\n",
              "      <td>408.252839</td>\n",
              "      <td>22.532806</td>\n",
              "    </tr>\n",
              "    <tr>\n",
              "      <th>std</th>\n",
              "      <td>8.707259</td>\n",
              "      <td>2.105710</td>\n",
              "      <td>2.164946</td>\n",
              "      <td>91.294864</td>\n",
              "      <td>7.141062</td>\n",
              "      <td>8.601545</td>\n",
              "      <td>23.322453</td>\n",
              "      <td>0.702617</td>\n",
              "      <td>6.868654</td>\n",
              "      <td>0.181693</td>\n",
              "      <td>28.148861</td>\n",
              "      <td>168.530578</td>\n",
              "      <td>9.197104</td>\n",
              "    </tr>\n",
              "    <tr>\n",
              "      <th>min</th>\n",
              "      <td>1.000000</td>\n",
              "      <td>1.129600</td>\n",
              "      <td>12.600000</td>\n",
              "      <td>0.320000</td>\n",
              "      <td>1.730000</td>\n",
              "      <td>0.006320</td>\n",
              "      <td>0.000000</td>\n",
              "      <td>3.561000</td>\n",
              "      <td>0.472905</td>\n",
              "      <td>0.103660</td>\n",
              "      <td>2.900000</td>\n",
              "      <td>186.765075</td>\n",
              "      <td>5.000000</td>\n",
              "    </tr>\n",
              "    <tr>\n",
              "      <th>25%</th>\n",
              "      <td>4.000000</td>\n",
              "      <td>2.100175</td>\n",
              "      <td>17.400000</td>\n",
              "      <td>375.377500</td>\n",
              "      <td>6.950000</td>\n",
              "      <td>0.082045</td>\n",
              "      <td>0.000000</td>\n",
              "      <td>5.885500</td>\n",
              "      <td>5.149096</td>\n",
              "      <td>0.422286</td>\n",
              "      <td>45.025000</td>\n",
              "      <td>278.745884</td>\n",
              "      <td>17.025000</td>\n",
              "    </tr>\n",
              "    <tr>\n",
              "      <th>50%</th>\n",
              "      <td>5.000000</td>\n",
              "      <td>3.207450</td>\n",
              "      <td>19.050000</td>\n",
              "      <td>391.440000</td>\n",
              "      <td>11.360000</td>\n",
              "      <td>0.256510</td>\n",
              "      <td>0.000000</td>\n",
              "      <td>6.208500</td>\n",
              "      <td>9.588040</td>\n",
              "      <td>0.528133</td>\n",
              "      <td>77.500000</td>\n",
              "      <td>330.467783</td>\n",
              "      <td>21.200000</td>\n",
              "    </tr>\n",
              "    <tr>\n",
              "      <th>75%</th>\n",
              "      <td>24.000000</td>\n",
              "      <td>5.188425</td>\n",
              "      <td>20.200000</td>\n",
              "      <td>396.225000</td>\n",
              "      <td>16.955000</td>\n",
              "      <td>3.677082</td>\n",
              "      <td>12.500000</td>\n",
              "      <td>6.623500</td>\n",
              "      <td>18.094315</td>\n",
              "      <td>0.668573</td>\n",
              "      <td>94.075000</td>\n",
              "      <td>665.354401</td>\n",
              "      <td>25.000000</td>\n",
              "    </tr>\n",
              "    <tr>\n",
              "      <th>max</th>\n",
              "      <td>24.000000</td>\n",
              "      <td>12.126500</td>\n",
              "      <td>22.000000</td>\n",
              "      <td>396.900000</td>\n",
              "      <td>37.970000</td>\n",
              "      <td>88.976200</td>\n",
              "      <td>100.000000</td>\n",
              "      <td>8.780000</td>\n",
              "      <td>28.074197</td>\n",
              "      <td>1.158538</td>\n",
              "      <td>100.000000</td>\n",
              "      <td>711.210992</td>\n",
              "      <td>50.000000</td>\n",
              "    </tr>\n",
              "  </tbody>\n",
              "</table>\n",
              "</div>"
            ],
            "text/plain": [
              "          Variety         S_1         S_2  ...         W_3         W_4       Yield\n",
              "count  506.000000  506.000000  506.000000  ...  506.000000  506.000000  506.000000\n",
              "mean     9.549407    3.795043   18.455534  ...   68.574901  408.252839   22.532806\n",
              "std      8.707259    2.105710    2.164946  ...   28.148861  168.530578    9.197104\n",
              "min      1.000000    1.129600   12.600000  ...    2.900000  186.765075    5.000000\n",
              "25%      4.000000    2.100175   17.400000  ...   45.025000  278.745884   17.025000\n",
              "50%      5.000000    3.207450   19.050000  ...   77.500000  330.467783   21.200000\n",
              "75%     24.000000    5.188425   20.200000  ...   94.075000  665.354401   25.000000\n",
              "max     24.000000   12.126500   22.000000  ...  100.000000  711.210992   50.000000\n",
              "\n",
              "[8 rows x 13 columns]"
            ]
          },
          "metadata": {},
          "execution_count": 13
        }
      ]
    },
    {
      "cell_type": "code",
      "metadata": {
        "colab": {
          "base_uri": "https://localhost:8080/",
          "height": 1000
        },
        "id": "gKFlmatNNP1_",
        "outputId": "e890e58e-8d74-4f29-c109-441f6e2c9dad"
      },
      "source": [
        "for column in data.columns:\n",
        "    if column != 'Yield':\n",
        "       pyplot.scatter(data[column],data['Yield'])\n",
        "       pyplot.xlabel(column) #x label\n",
        "       pyplot.ylabel('Yield') #y label\n",
        "       pyplot.show()"
      ],
      "execution_count": null,
      "outputs": [
        {
          "output_type": "display_data",
          "data": {
            "image/png": "[encoded data removed]",
            "text/plain": [
              "<Figure size 432x288 with 1 Axes>"
            ]
          },
          "metadata": {
            "needs_background": "light"
          }
        },
        {
          "output_type": "display_data",
          "data": {
            "image/png": "[encoded data removed]",
            "text/plain": [
              "<Figure size 432x288 with 1 Axes>"
            ]
          },
          "metadata": {
            "needs_background": "light"
          }
        },
        {
          "output_type": "display_data",
          "data": {
            "image/png": "[encoded data removed]",
            "text/plain": [
              "<Figure size 432x288 with 1 Axes>"
            ]
          },
          "metadata": {
            "needs_background": "light"
          }
        },
        {
          "output_type": "display_data",
          "data": {
            "image/png": "[encoded data removed]",
            "text/plain": [
              "<Figure size 432x288 with 1 Axes>"
            ]
          },
          "metadata": {
            "needs_background": "light"
          }
        },
        {
          "output_type": "display_data",
          "data": {
            "image/png": "[encoded data removed]",
            "text/plain": [
              "<Figure size 432x288 with 1 Axes>"
            ]
          },
          "metadata": {
            "needs_background": "light"
          }
        },
        {
          "output_type": "display_data",
          "data": {
            "image/png": "[encoded data removed]",
            "text/plain": [
              "<Figure size 432x288 with 1 Axes>"
            ]
          },
          "metadata": {
            "needs_background": "light"
          }
        },
        {
          "output_type": "display_data",
          "data": {
            "image/png": "[encoded data removed]",
            "text/plain": [
              "<Figure size 432x288 with 1 Axes>"
            ]
          },
          "metadata": {
            "needs_background": "light"
          }
        },
        {
          "output_type": "display_data",
          "data": {
            "image/png": "[encoded data removed]",
            "text/plain": [
              "<Figure size 432x288 with 1 Axes>"
            ]
          },
          "metadata": {
            "needs_background": "light"
          }
        },
        {
          "output_type": "display_data",
          "data": {
            "image/png": "[encoded data removed]",
            "text/plain": [
              "<Figure size 432x288 with 1 Axes>"
            ]
          },
          "metadata": {
            "needs_background": "light"
          }
        },
        {
          "output_type": "display_data",
          "data": {
            "image/png": "[encoded data removed]",
            "text/plain": [
              "<Figure size 432x288 with 1 Axes>"
            ]
          },
          "metadata": {
            "needs_background": "light"
          }
        },
        {
          "output_type": "display_data",
          "data": {
            "image/png": "[encoded data removed]",
            "text/plain": [
              "<Figure size 432x288 with 1 Axes>"
            ]
          },
          "metadata": {
            "needs_background": "light"
          }
        },
        {
          "output_type": "display_data",
          "data": {
            "image/png": "[encoded data removed]",
            "text/plain": [
              "<Figure size 432x288 with 1 Axes>"
            ]
          },
          "metadata": {
            "needs_background": "light"
          }
        }
      ]
    },
    {
      "cell_type": "markdown",
      "metadata": {
        "id": "llrXhNXPsf86"
      },
      "source": [
        "**Checking for missing values**"
      ]
    },
    {
      "cell_type": "code",
      "metadata": {
        "colab": {
          "base_uri": "https://localhost:8080/"
        },
        "id": "Ux_LD-wBsKBO",
        "outputId": "ac49d29a-9142-48ae-eaa5-c05b1eb04154"
      },
      "source": [
        "data.isnull().sum()"
      ],
      "execution_count": null,
      "outputs": [
        {
          "output_type": "execute_result",
          "data": {
            "text/plain": [
              "Variety    0\n",
              "S_1        0\n",
              "S_2        0\n",
              "S_3        0\n",
              "S_4        0\n",
              "M_1        0\n",
              "M_2        0\n",
              "M_3        0\n",
              "W_1        0\n",
              "W_2        0\n",
              "W_3        0\n",
              "W_4        0\n",
              "Yield      0\n",
              "dtype: int64"
            ]
          },
          "metadata": {},
          "execution_count": 15
        }
      ]
    },
    {
      "cell_type": "code",
      "metadata": {
        "colab": {
          "base_uri": "https://localhost:8080/",
          "height": 266
        },
        "id": "c0y8mLYKVHV8",
        "outputId": "192d5802-9712-4e37-9ff2-e2eb1dfad734"
      },
      "source": [
        "pyplot.hist(data['Yield'])\n",
        "pyplot.show()"
      ],
      "execution_count": null,
      "outputs": [
        {
          "output_type": "display_data",
          "data": {
            "image/png": "[encoded data removed]",
            "text/plain": [
              "<Figure size 432x288 with 1 Axes>"
            ]
          },
          "metadata": {
            "needs_background": "light"
          }
        }
      ]
    },
    {
      "cell_type": "markdown",
      "metadata": {
        "id": "NAremc_Mgnf2"
      },
      "source": [
        "**Split data into X and y**"
      ]
    },
    {
      "cell_type": "code",
      "metadata": {
        "id": "hvPO8JoQgl6P"
      },
      "source": [
        "len_columns = len(data.columns)\n",
        "# input features\n",
        "X = data.iloc[:,0:len_columns-1]\n",
        "# target feature\n",
        "y = data.iloc[:,len_columns-1:]"
      ],
      "execution_count": null,
      "outputs": []
    },
    {
      "cell_type": "markdown",
      "metadata": {
        "id": "dRYlEhk3q1zO"
      },
      "source": [
        "# **Baseline Model - Linear Regression**"
      ]
    },
    {
      "cell_type": "markdown",
      "metadata": {
        "id": "BXnCRjCNTFKY"
      },
      "source": [
        "**Split unscaled data into train and test**"
      ]
    },
    {
      "cell_type": "code",
      "metadata": {
        "id": "hu2JDUniRp57"
      },
      "source": [
        "X_train, X_test, y_train, y_test = train_test_split(X,y,test_size=0.2,random_state=0)"
      ],
      "execution_count": null,
      "outputs": []
    },
    {
      "cell_type": "markdown",
      "metadata": {
        "id": "_0ATz7rph4X3"
      },
      "source": [
        "**Fitting model to data**"
      ]
    },
    {
      "cell_type": "code",
      "metadata": {
        "colab": {
          "base_uri": "https://localhost:8080/"
        },
        "id": "Oug3MWRrrVdp",
        "outputId": "058f312d-4221-442f-e5d3-57d4d0b02162"
      },
      "source": [
        "# init model\n",
        "lr = LinearRegression()\n",
        "# fit train data to model\n",
        "lr.fit(X_train, y_train)\n",
        "# obtain predictions for test data\n",
        "predictions = lr.predict(X_test)\n",
        "# obtain metrics for regression model\n",
        "print(\"MSE: {}\".format(mean_squared_error(predictions,y_test)))\n",
        "print(\"MAE: {}\".format(mean_absolute_error(predictions,y_test)))\n",
        "print(\"R Score: {}\".format(r2_score(predictions,y_test)))"
      ],
      "execution_count": null,
      "outputs": [
        {
          "output_type": "stream",
          "name": "stdout",
          "text": [
            "MSE: 36.3327343494191\n",
            "MAE: 3.914244939109405\n",
            "R Score: 0.2968046787034483\n"
          ]
        }
      ]
    },
    {
      "cell_type": "markdown",
      "metadata": {
        "id": "MVxYXcL4hzSC"
      },
      "source": [
        "# **Lasso & Ridge Regression**"
      ]
    },
    {
      "cell_type": "markdown",
      "metadata": {
        "id": "HoKUljkqhvEh"
      },
      "source": [
        "**Normalization & Standardization**"
      ]
    },
    {
      "cell_type": "code",
      "metadata": {
        "colab": {
          "base_uri": "https://localhost:8080/",
          "height": 284
        },
        "id": "UrJljEep7IEw",
        "outputId": "0f3407cd-bee6-4b05-a2c5-e3e6dde31674"
      },
      "source": [
        "sample = data.filter(['S_1','M_2','W_1'], axis=1)\n",
        "sample.plot(kind='box')"
      ],
      "execution_count": null,
      "outputs": [
        {
          "output_type": "execute_result",
          "data": {
            "text/plain": [
              "<matplotlib.axes._subplots.AxesSubplot at 0x7f53ea824b50>"
            ]
          },
          "metadata": {},
          "execution_count": 20
        },
        {
          "output_type": "display_data",
          "data": {
            "image/png": "[encoded data removed]",
            "text/plain": [
              "<Figure size 432x288 with 1 Axes>"
            ]
          },
          "metadata": {
            "needs_background": "light"
          }
        }
      ]
    },
    {
      "cell_type": "code",
      "metadata": {
        "colab": {
          "base_uri": "https://localhost:8080/",
          "height": 284
        },
        "id": "bIph7LXlhvMj",
        "outputId": "81b8d651-0eab-450e-fc5a-35c13ee0342b"
      },
      "source": [
        "# normalize data\n",
        "norm_scaler = MinMaxScaler()\n",
        "X = norm_scaler.fit_transform(X)\n",
        "\n",
        "# convert numpy array X to dataframe\n",
        "sample2 = pd.DataFrame(X,columns=['Variety', 'S_1', 'S_2', 'S_3', 'S_4', 'M_1', 'M_2', 'M_3', 'W_1','W_2', 'W_3', 'W_4'])\n",
        "# example columns\n",
        "sample2 = sample2.filter(['S_1','M_2','W_1'],axis=1)\n",
        "# visualize box plot of scaled data\n",
        "sample2.plot(kind='box')"
      ],
      "execution_count": null,
      "outputs": [
        {
          "output_type": "execute_result",
          "data": {
            "text/plain": [
              "<matplotlib.axes._subplots.AxesSubplot at 0x7f53e87010d0>"
            ]
          },
          "metadata": {},
          "execution_count": 21
        },
        {
          "output_type": "display_data",
          "data": {
            "image/png": "[encoded data removed]",
            "text/plain": [
              "<Figure size 432x288 with 1 Axes>"
            ]
          },
          "metadata": {
            "needs_background": "light"
          }
        }
      ]
    },
    {
      "cell_type": "markdown",
      "metadata": {
        "id": "-FnG7SDF_gFg"
      },
      "source": [
        "https://scikit-learn.org/stable/auto_examples/preprocessing/plot_all_scaling.html"
      ]
    },
    {
      "cell_type": "markdown",
      "metadata": {
        "id": "W5bZhk29iJbA"
      },
      "source": [
        "**Split scaled data into train and test**"
      ]
    },
    {
      "cell_type": "code",
      "metadata": {
        "id": "QqOAfY03iHVt"
      },
      "source": [
        "X_train, X_test, y_train, y_test = train_test_split(X,y,test_size=0.2,random_state=0)"
      ],
      "execution_count": null,
      "outputs": []
    },
    {
      "cell_type": "markdown",
      "metadata": {
        "id": "5F-JKXJ9-Xw-"
      },
      "source": [
        "**Split scaled train dataset into train & validation sets**"
      ]
    },
    {
      "cell_type": "code",
      "metadata": {
        "id": "Se2Fx82o8nuN"
      },
      "source": [
        "X_train, X_val, y_train, y_val = train_test_split(X_train,y_train,test_size=0.25,random_state=0)"
      ],
      "execution_count": null,
      "outputs": []
    },
    {
      "cell_type": "markdown",
      "metadata": {
        "id": "2yVk7WGMnyd_"
      },
      "source": [
        "**Lasso & Ridge parameter sets**"
      ]
    },
    {
      "cell_type": "markdown",
      "metadata": {
        "id": "N8ETp07F6uWs"
      },
      "source": [
        "alpha is lambda"
      ]
    },
    {
      "cell_type": "code",
      "metadata": {
        "id": "EYP9vk9inBSP"
      },
      "source": [
        "lasso_params = {'alpha':[0.005,0.01,0.02, 0.024, 0.025, 0.026, 0.03]}\n",
        "ridge_params = {'alpha':[0.5,1,2,5,7.5,10,20]}"
      ],
      "execution_count": null,
      "outputs": []
    },
    {
      "cell_type": "markdown",
      "metadata": {
        "id": "9-mZY6aBiTG4"
      },
      "source": [
        "**Ridge Regression Model**"
      ]
    },
    {
      "cell_type": "code",
      "metadata": {
        "colab": {
          "base_uri": "https://localhost:8080/"
        },
        "id": "fOa6IehU8_Oi",
        "outputId": "11fb880b-82fc-4db0-faad-28a767c15e07"
      },
      "source": [
        "!pip install hypopt"
      ],
      "execution_count": null,
      "outputs": [
        {
          "output_type": "stream",
          "name": "stdout",
          "text": [
            "Collecting hypopt\n",
            "  Downloading hypopt-1.0.9-py2.py3-none-any.whl (13 kB)\n",
            "Requirement already satisfied: numpy>=1.11.3 in /usr/local/lib/python3.7/dist-packages (from hypopt) (1.19.5)\n",
            "Requirement already satisfied: scikit-learn>=0.18 in /usr/local/lib/python3.7/dist-packages (from hypopt) (0.22.2.post1)\n",
            "Requirement already satisfied: scipy>=0.17.0 in /usr/local/lib/python3.7/dist-packages (from scikit-learn>=0.18->hypopt) (1.4.1)\n",
            "Requirement already satisfied: joblib>=0.11 in /usr/local/lib/python3.7/dist-packages (from scikit-learn>=0.18->hypopt) (1.0.1)\n",
            "Installing collected packages: hypopt\n",
            "Successfully installed hypopt-1.0.9\n"
          ]
        }
      ]
    },
    {
      "cell_type": "code",
      "metadata": {
        "colab": {
          "base_uri": "https://localhost:8080/"
        },
        "id": "tJiSQkPQ8zNV",
        "outputId": "d5eaeeb6-031a-4c5f-d7b8-8a2e0e507ba6"
      },
      "source": [
        "from hypopt import GridSearch\n",
        "\n",
        "ridge = GridSearch(model = Ridge(), param_grid = ridge_params)\n",
        "ridge.fit(X_train, y_train, X_val, y_val)\n",
        "\n",
        "#best estimator\n",
        "print(ridge.best_estimator_)\n",
        "\n",
        "# best model\n",
        "best_model = ridge.best_estimator_\n",
        "best_model.fit(X_train,y_train)\n",
        "\n",
        "ridge_predict = best_model.predict(X_val)\n",
        "mse = mean_squared_error(ridge_predict,y_val)\n",
        "rmse = np.sqrt(mse)\n",
        "\n",
        "print(\"MSE: {}\".format(mse))\n",
        "print(\"RMSE: {}\".format(rmse))\n",
        "print(\"MAE: {}\".format(mean_absolute_error(ridge_predict,y_val)))\n",
        "print(\"Normalized RMSE: {}\".format(rmse/(min(data['Yield']) + max(data['Yield']))))"
      ],
      "execution_count": null,
      "outputs": [
        {
          "output_type": "stream",
          "name": "stderr",
          "text": [
            "100%|██████████| 7/7 [00:00<00:00, 188.70it/s]"
          ]
        },
        {
          "output_type": "stream",
          "name": "stdout",
          "text": [
            "Ridge(alpha=1, copy_X=True, fit_intercept=True, max_iter=None, normalize=False,\n",
            "      random_state=0, solver='auto', tol=0.001)\n",
            "MSE: 18.969179640760185\n",
            "RMSE: 4.355362171020934\n",
            "MAE: 3.3510871096039585\n"
          ]
        },
        {
          "output_type": "stream",
          "name": "stderr",
          "text": [
            "\n"
          ]
        }
      ]
    },
    {
      "cell_type": "code",
      "metadata": {
        "colab": {
          "base_uri": "https://localhost:8080/"
        },
        "id": "oRGUdLDznKSq",
        "outputId": "a07224d3-7e4b-4459-b00e-cd381656367e"
      },
      "source": [
        "min(data['Yield'])"
      ],
      "execution_count": null,
      "outputs": [
        {
          "output_type": "execute_result",
          "data": {
            "text/plain": [
              "5.0"
            ]
          },
          "metadata": {},
          "execution_count": 31
        }
      ]
    },
    {
      "cell_type": "markdown",
      "metadata": {
        "id": "IPd4e5TR_Kvu"
      },
      "source": [
        "**Ridge Regression Predictions on Test Set**"
      ]
    },
    {
      "cell_type": "code",
      "metadata": {
        "colab": {
          "base_uri": "https://localhost:8080/"
        },
        "id": "0i24MMGr-tZG",
        "outputId": "32c10b20-3693-427f-e600-c8ce4b29d042"
      },
      "source": [
        "ridge_predict = best_model.predict(X_test)\n",
        "mse = mean_squared_error(ridge_predict,y_test)\n",
        "rmse = np.sqrt(mse)\n",
        "\n",
        "print(\"MSE: {}\".format(mse))\n",
        "print(\"RMSE: {}\".format(rmse))\n",
        "print(\"MAE: {}\".format(mean_absolute_error(ridge_predict,y_test)))\n",
        "print(\"Normalized RMSE: {}\".format(rmse/(min(data['Yield']) + max(data['Yield']))))"
      ],
      "execution_count": null,
      "outputs": [
        {
          "output_type": "stream",
          "name": "stdout",
          "text": [
            "MSE: 36.88790746639661\n",
            "RMSE: 6.073541591723614\n",
            "MAE: 3.8869424877106646\n",
            "Normalized RMSE: 0.11042802894042934\n"
          ]
        }
      ]
    },
    {
      "cell_type": "markdown",
      "metadata": {
        "id": "E-I6l4TjiyqY"
      },
      "source": [
        " **Lasso Regression**"
      ]
    },
    {
      "cell_type": "code",
      "metadata": {
        "colab": {
          "base_uri": "https://localhost:8080/"
        },
        "id": "a-_iA6_Jgbwu",
        "outputId": "689514b1-84a0-4721-b6c1-b188247fe537"
      },
      "source": [
        "lasso = GridSearch(model = Lasso(), param_grid = lasso_params)\n",
        "lasso.fit(X_train, y_train, X_val, y_val)\n",
        "\n",
        "#best estimator\n",
        "print(lasso.best_estimator_)\n",
        "\n",
        "# best model\n",
        "best_lasso = lasso.best_estimator_\n",
        "best_lasso.fit(X_train,y_train)\n",
        "\n",
        "lasso_predict = best_lasso.predict(X_val)\n",
        "mse = mean_squared_error(lasso_predict,y_val)\n",
        "rmse = np.sqrt(mse)\n",
        "\n",
        "print(\"MSE: {}\".format(mse))\n",
        "print(\"RMSE: {}\".format(rmse))\n",
        "print(\"MAE: {}\".format(mean_absolute_error(lasso_predict,y_val)))\n",
        "print(\"Normalized RMSE: {}\".format(rmse/(min(data['Yield']) + max(data['Yield']))))"
      ],
      "execution_count": null,
      "outputs": [
        {
          "output_type": "stream",
          "name": "stderr",
          "text": [
            "100%|██████████| 7/7 [00:00<00:00, 186.38it/s]"
          ]
        },
        {
          "output_type": "stream",
          "name": "stdout",
          "text": [
            "Lasso(alpha=0.03, copy_X=True, fit_intercept=True, max_iter=1000,\n",
            "      normalize=False, positive=False, precompute=False, random_state=0,\n",
            "      selection='cyclic', tol=0.0001, warm_start=False)\n",
            "MSE: 18.899366615560186\n",
            "RMSE: 4.347340177115219\n",
            "MAE: 3.3514337381091064\n",
            "Normalized RMSE: 0.07904254867482217\n"
          ]
        },
        {
          "output_type": "stream",
          "name": "stderr",
          "text": [
            "\n"
          ]
        }
      ]
    },
    {
      "cell_type": "markdown",
      "metadata": {
        "id": "CR5HpKMk_EZK"
      },
      "source": [
        "**Lasso Regression Predictions on Test Set**"
      ]
    },
    {
      "cell_type": "code",
      "metadata": {
        "colab": {
          "base_uri": "https://localhost:8080/"
        },
        "id": "LXeV3yUb-2kG",
        "outputId": "d7082a87-c543-4437-ca26-f12b6a962f3a"
      },
      "source": [
        "lasso_predict = best_lasso.predict(X_test)\n",
        "mse = mean_squared_error(lasso_predict,y_test)\n",
        "rmse = np.sqrt(mse)\n",
        "\n",
        "print(\"MSE: {}\".format(mse))\n",
        "print(\"RMSE: {}\".format(rmse))\n",
        "print(\"MAE: {}\".format(mean_absolute_error(lasso_predict,y_test)))\n",
        "print(\"Normalized RMSE: {}\".format(rmse/(min(data['Yield']) + max(data['Yield']))))"
      ],
      "execution_count": null,
      "outputs": [
        {
          "output_type": "stream",
          "name": "stdout",
          "text": [
            "MSE: 36.17198336576552\n",
            "RMSE: 6.014314870853164\n",
            "MAE: 3.8574737439396487\n",
            "Normalized RMSE: 0.10935117947005754\n"
          ]
        }
      ]
    },
    {
      "cell_type": "markdown",
      "metadata": {
        "id": "iUzMfZ62kJwu"
      },
      "source": [
        "## **Model Coefficients Interpretation**"
      ]
    },
    {
      "cell_type": "markdown",
      "metadata": {
        "id": "DnJ3Jngr_TQ1"
      },
      "source": [
        "**Ridge Model**"
      ]
    },
    {
      "cell_type": "code",
      "metadata": {
        "id": "dnD_yof6jK-S",
        "colab": {
          "base_uri": "https://localhost:8080/"
        },
        "outputId": "d629a296-bde9-4f72-e4f3-7927ba98afec"
      },
      "source": [
        "# ridge coeff in a list\n",
        "importance = best_model.coef_\n",
        "\n",
        "for element in importance:\n",
        "  for i,v in enumerate(element):\n",
        "     print(\"Feature: {}, Score: {}\".format(i,v))"
      ],
      "execution_count": null,
      "outputs": [
        {
          "output_type": "stream",
          "name": "stdout",
          "text": [
            "Feature: 0, Score: 4.3294689699310895\n",
            "Feature: 1, Score: -12.2300397917707\n",
            "Feature: 2, Score: -7.419235824176125\n",
            "Feature: 3, Score: 3.8524252786445277\n",
            "Feature: 4, Score: -18.91981642089639\n",
            "Feature: 5, Score: -7.545333719402083\n",
            "Feature: 6, Score: 4.31224825828231\n",
            "Feature: 7, Score: 16.593798082118603\n",
            "Feature: 8, Score: -2.975163805397643\n",
            "Feature: 9, Score: -2.902276669431088\n",
            "Feature: 10, Score: -1.7486394103612237\n",
            "Feature: 11, Score: -5.377475341450986\n"
          ]
        }
      ]
    },
    {
      "cell_type": "markdown",
      "metadata": {
        "id": "b2OXr7Ia_V2u"
      },
      "source": [
        "**Lasso Model**"
      ]
    },
    {
      "cell_type": "code",
      "metadata": {
        "colab": {
          "base_uri": "https://localhost:8080/"
        },
        "id": "gVK57D7J-Hwm",
        "outputId": "31c067cb-dcf1-4050-cfd0-38d201c23922"
      },
      "source": [
        "# lasso coeff in a list\n",
        "importance = best_lasso.coef_\n",
        "\n",
        "i = 0\n",
        "for element in importance:\n",
        "  print(\"Feature: {}, Score: {}\".format(i,element))\n",
        "  i += 1"
      ],
      "execution_count": null,
      "outputs": [
        {
          "output_type": "stream",
          "name": "stdout",
          "text": [
            "Feature: 0, Score: 2.5715515581340496\n",
            "Feature: 1, Score: -11.562085252895447\n",
            "Feature: 2, Score: -6.808196788068245\n",
            "Feature: 3, Score: 3.1831627919889067\n",
            "Feature: 4, Score: -21.123516577760284\n",
            "Feature: 5, Score: -5.588107843407929\n",
            "Feature: 6, Score: 3.972855705512531\n",
            "Feature: 7, Score: 18.142633889760813\n",
            "Feature: 8, Score: -2.357345734875172\n",
            "Feature: 9, Score: -2.194646810082585\n",
            "Feature: 10, Score: -0.9261906001647643\n",
            "Feature: 11, Score: -3.9590764681628436\n"
          ]
        }
      ]
    },
    {
      "cell_type": "markdown",
      "metadata": {
        "id": "jgtm8ayyCLBu"
      },
      "source": [
        "**The model found four positive-correlated features with the 'Yield', with Feature 7 (i.e, M_2) being the most important. Feature 4 (i.e, S_3) has the most negative correlation, whilst Feature 10 (i.e, W_2) has the most neutral relationship**"
      ]
    }
  ]
}
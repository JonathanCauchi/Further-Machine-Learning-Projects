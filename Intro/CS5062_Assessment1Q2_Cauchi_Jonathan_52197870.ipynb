{
  "nbformat": 4,
  "nbformat_minor": 0,
  "metadata": {
    "colab": {
      "name": "CS5062_Assessment1Q2_Cauchi_Jonathan_52197870.ipynb",
      "provenance": [],
      "collapsed_sections": []
    },
    "kernelspec": {
      "name": "python3",
      "display_name": "Python 3"
    },
    "language_info": {
      "name": "python"
    },
    "accelerator": "GPU"
  },
  "cells": [
    {
      "cell_type": "code",
      "metadata": {
        "id": "V-440aL1lj_u",
        "colab": {
          "base_uri": "https://localhost:8080/"
        },
        "outputId": "e57a850f-08c2-4e76-c38a-c15032eb32f6"
      },
      "source": [
        "import numpy as np\n",
        "import matplotlib.pyplot as plt\n",
        "import os\n",
        "from sklearn.model_selection import train_test_split\n",
        "from sklearn.preprocessing import MinMaxScaler\n",
        "import tensorflow \n",
        "import statistics\n",
        "from tensorflow.keras.models import Sequential\n",
        "from tensorflow.keras.metrics import mean_squared_error, MeanSquaredError\n",
        "from tensorflow.keras.layers import Dense, Input, Conv2D, Flatten, Dropout\n",
        "from keras import callbacks\n",
        "\n",
        "from google.colab import drive\n",
        "drive.mount(\"/content/drive\")"
      ],
      "execution_count": 3,
      "outputs": [
        {
          "output_type": "stream",
          "name": "stdout",
          "text": [
            "Drive already mounted at /content/drive; to attempt to forcibly remount, call drive.mount(\"/content/drive\", force_remount=True).\n"
          ]
        }
      ]
    },
    {
      "cell_type": "code",
      "metadata": {
        "id": "eCX3XKGXoMRD"
      },
      "source": [
        "!unzip '/content/drive/My Drive/soybean_images.zip'"
      ],
      "execution_count": null,
      "outputs": []
    },
    {
      "cell_type": "code",
      "metadata": {
        "id": "JU9wEJmalptV"
      },
      "source": [
        "sample_dir = '/content/soybean_images/'\n",
        "\n",
        "images = []\n",
        "labels = []\n",
        "for f in os.listdir(sample_dir):\n",
        "  sample = np.load(sample_dir + str(f))\n",
        "\n",
        "  images.append(sample['image'])\n",
        "  labels.append(sample['y'])"
      ],
      "execution_count": 4,
      "outputs": []
    },
    {
      "cell_type": "code",
      "metadata": {
        "id": "4hVfL0r9n-sE",
        "colab": {
          "base_uri": "https://localhost:8080/"
        },
        "outputId": "ce6af71d-03d8-4a5c-abb4-cbf45744b857"
      },
      "source": [
        "print(np.asarray(images).shape)\n",
        "print(np.asarray(labels).shape)"
      ],
      "execution_count": 5,
      "outputs": [
        {
          "output_type": "stream",
          "name": "stdout",
          "text": [
            "(22986, 9, 32, 32)\n",
            "(22986,)\n"
          ]
        }
      ]
    },
    {
      "cell_type": "markdown",
      "metadata": {
        "id": "0XfXEynRtwbw"
      },
      "source": [
        "### Output:\n",
        "\n",
        "Numpy array containing the 22986 image samples.\n",
        "\n",
        "**Images:** [num_samples, channels, x_dim, y_dim]\n",
        "\n",
        "**Labels:** [num_samples,]\n"
      ]
    },
    {
      "cell_type": "code",
      "metadata": {
        "id": "GYTIH1SKrZ-I"
      },
      "source": [
        "X = np.asarray(images)\n",
        "y = labels"
      ],
      "execution_count": 6,
      "outputs": []
    },
    {
      "cell_type": "code",
      "metadata": {
        "colab": {
          "base_uri": "https://localhost:8080/"
        },
        "id": "TrQ3960ZTW57",
        "outputId": "12fd7fcd-d6e8-4521-a02e-c54c7950b60c"
      },
      "source": [
        "max_y = max(y)\n",
        "min_y = min(y) \n",
        "print(max_y)\n",
        "print(min_y)"
      ],
      "execution_count": 7,
      "outputs": [
        {
          "output_type": "stream",
          "name": "stdout",
          "text": [
            "82.3\n",
            "0.7\n"
          ]
        }
      ]
    },
    {
      "cell_type": "code",
      "metadata": {
        "colab": {
          "base_uri": "https://localhost:8080/"
        },
        "id": "Gwpf9Vshn0GK",
        "outputId": "905057bc-21a0-401e-9772-e5a6ccee132b"
      },
      "source": [
        "print(X.shape)\n",
        "print(X[0].shape)"
      ],
      "execution_count": 8,
      "outputs": [
        {
          "output_type": "stream",
          "name": "stdout",
          "text": [
            "(22986, 9, 32, 32)\n",
            "(9, 32, 32)\n"
          ]
        }
      ]
    },
    {
      "cell_type": "code",
      "metadata": {
        "id": "gPIm1ql2sUJh"
      },
      "source": [
        "scaler = MinMaxScaler()\n",
        "for sample in X:\n",
        "  for channel in sample:\n",
        "    A = channel.reshape([-1,1])\n",
        "    B = scaler.fit_transform(A)\n",
        "    channel = B.reshape(X.shape[2],X.shape[3])"
      ],
      "execution_count": 9,
      "outputs": []
    },
    {
      "cell_type": "markdown",
      "metadata": {
        "id": "wWr1yFNVVu9P"
      },
      "source": [
        "## **Train-Test-Validation Data Split**"
      ]
    },
    {
      "cell_type": "code",
      "metadata": {
        "id": "EJAg02kj-pu4"
      },
      "source": [
        "def split_data(X,y):\n",
        "\n",
        "    X_train, X_test, y_train, y_test = train_test_split(X, y, test_size = 0.2, random_state = 0)\n",
        "\n",
        "    X_train, X_val, y_train, y_val = train_test_split(X_train, y_train, test_size = 0.25, random_state = 0)\n",
        "    \n",
        "    X_train = np.asarray(X_train)\n",
        "    X_test = np.asarray(X_test)\n",
        "    X_val = np.asarray(X_val)\n",
        "    y_train = np.asarray(y_train)\n",
        "    y_val = np.asarray(y_val)\n",
        "    y_test = np.asarray(y_test)\n",
        "\n",
        "    return X_train, y_train, X_val, y_val, X_test, y_test"
      ],
      "execution_count": 10,
      "outputs": []
    },
    {
      "cell_type": "markdown",
      "metadata": {
        "id": "c1HpGmU8V0WX"
      },
      "source": [
        "## **Baseline Model Architectures in Keras**"
      ]
    },
    {
      "cell_type": "code",
      "metadata": {
        "id": "KRftA9f08hBY"
      },
      "source": [
        "def model(X,y,type):\n",
        "\n",
        "  if type == 'MLP':\n",
        "\n",
        "      # convert 2D arrays into 1D arrays\n",
        "      X = X.flatten().reshape(X.shape[0],X.shape[1]*X.shape[2]*X.shape[3])\n",
        "\n",
        "      X_train, y_train, X_val, y_val, X_test, y_test  = split_data(X,y)\n",
        "\n",
        "      # MLP a.k.a feed forward NN\n",
        "      model = Sequential()\n",
        "      model.add(Dense(128, input_shape=(9216,), activation='relu'))\n",
        "      model.add(Dense(64, activation='relu'))\n",
        "      model.add(Dense(1, kernel_initializer='normal'))\n",
        "\n",
        "      model.compile(optimizer='adam',loss='mean_squared_error',metrics=['mean_squared_error'])\n",
        "      history = model.fit(X_train,y_train,batch_size=64,epochs=10,validation_data=(X_val, y_val))\n",
        "\n",
        "      # predictions\n",
        "      predictions = model.predict(X_test)\n",
        "        \n",
        "      return history, predictions, y_test\n",
        "  \n",
        "  elif type == 'CNN':\n",
        "\n",
        "      X_train, y_train, X_val, y_val, X_test, y_test = split_data(X,y)\n",
        "\n",
        "      # CNN\n",
        "      model2 = Sequential()\n",
        "      model2.add(Conv2D(64, kernel_size=3, activation='relu', input_shape=(9,32,32)))\n",
        "      model2.add(Conv2D(32, kernel_size=3, activation='relu'))\n",
        "      model2.add(Flatten())\n",
        "      model2.add(Dense(1, kernel_initializer='normal'))\n",
        "\n",
        "      model2.compile(optimizer='adam',loss='mean_squared_error',metrics=['mean_squared_error'])\n",
        "      history = model2.fit(X_train,y_train,batch_size=64,epochs=10,validation_data=(X_val, y_val))\n",
        "\n",
        "      # predictions\n",
        "      predictions = model2.predict(X_test)\n",
        "        \n",
        "      return history, predictions, y_test\n",
        "      "
      ],
      "execution_count": null,
      "outputs": []
    },
    {
      "cell_type": "markdown",
      "metadata": {
        "id": "nJV_j-UDV58F"
      },
      "source": [
        "## **Metrics (MSE,RMSE,MAE)**"
      ]
    },
    {
      "cell_type": "code",
      "metadata": {
        "id": "zYwk39gdS15a"
      },
      "source": [
        "def metrics(predictions, y_test):\n",
        "    sum = 0\n",
        "    mae_sum = 0\n",
        "    for i in range(len(predictions)):\n",
        "        mae_sum += abs(y_test[i] - predictions[i])\n",
        "        error = y_test[i] - predictions[i]\n",
        "        error = error**2\n",
        "        sum += error\n",
        "\n",
        "    mse = sum/len(predictions)\n",
        "    rmse = np.sqrt(mse)\n",
        "    mae = mae_sum/len(predictions)\n",
        "    print(\"MSE: {}\".format(mse))    \n",
        "    print(\"RMSE:{}\".format(rmse))\n",
        "    print(\"MAE: {}\".format(mae))\n",
        "    print(\"NRMSE: {}\".format(rmse/(max_y-min_y)))"
      ],
      "execution_count": 11,
      "outputs": []
    },
    {
      "cell_type": "markdown",
      "metadata": {
        "id": "ThrtOCnitRdC"
      },
      "source": [
        "## **Train vs Validation MSE Plot**"
      ]
    },
    {
      "cell_type": "code",
      "metadata": {
        "id": "P0n9Wjv8ZNCr"
      },
      "source": [
        "def plot_error(model):\n",
        "    print(model.history.keys())\n",
        "    plt.plot(model.history['mean_squared_error'])\n",
        "    plt.plot(model.history['val_mean_squared_error'])\n",
        "    plt.title('Model MSE')\n",
        "    plt.ylabel('MSE')\n",
        "    plt.xlabel('epoch')\n",
        "    plt.legend(['train', 'validation'], loc='upper left')\n",
        "    plt.show()"
      ],
      "execution_count": 12,
      "outputs": []
    },
    {
      "cell_type": "markdown",
      "metadata": {
        "id": "NbRnnN0YVfSe"
      },
      "source": [
        "## **Baseline Multi-Layer Perceptron (MLP) Model**"
      ]
    },
    {
      "cell_type": "code",
      "metadata": {
        "colab": {
          "base_uri": "https://localhost:8080/"
        },
        "id": "bApORRsZ81gb",
        "outputId": "0a4522fc-3256-459e-89b2-1d97a036ad18"
      },
      "source": [
        "model,predictions,y_test = model(X,y,'MLP')\n",
        "print(\"--- MLP METRICS ---\")\n",
        "metrics(predictions,y_test)"
      ],
      "execution_count": null,
      "outputs": [
        {
          "output_type": "stream",
          "name": "stdout",
          "text": [
            "Epoch 1/10\n",
            "216/216 [==============================] - 4s 7ms/step - loss: 225.0743 - mean_squared_error: 225.0743 - val_loss: 65.0602 - val_mean_squared_error: 65.0602\n",
            "Epoch 2/10\n",
            "216/216 [==============================] - 1s 5ms/step - loss: 59.5555 - mean_squared_error: 59.5555 - val_loss: 54.7751 - val_mean_squared_error: 54.7751\n",
            "Epoch 3/10\n",
            "216/216 [==============================] - 1s 5ms/step - loss: 52.1037 - mean_squared_error: 52.1037 - val_loss: 50.2442 - val_mean_squared_error: 50.2442\n",
            "Epoch 4/10\n",
            "216/216 [==============================] - 1s 5ms/step - loss: 46.3006 - mean_squared_error: 46.3006 - val_loss: 46.3673 - val_mean_squared_error: 46.3673\n",
            "Epoch 5/10\n",
            "216/216 [==============================] - 1s 5ms/step - loss: 40.3218 - mean_squared_error: 40.3218 - val_loss: 40.8306 - val_mean_squared_error: 40.8306\n",
            "Epoch 6/10\n",
            "216/216 [==============================] - 1s 5ms/step - loss: 34.2988 - mean_squared_error: 34.2988 - val_loss: 37.0402 - val_mean_squared_error: 37.0402\n",
            "Epoch 7/10\n",
            "216/216 [==============================] - 1s 5ms/step - loss: 30.9715 - mean_squared_error: 30.9715 - val_loss: 36.8067 - val_mean_squared_error: 36.8067\n",
            "Epoch 8/10\n",
            "216/216 [==============================] - 1s 5ms/step - loss: 30.0834 - mean_squared_error: 30.0834 - val_loss: 34.9549 - val_mean_squared_error: 34.9549\n",
            "Epoch 9/10\n",
            "216/216 [==============================] - 1s 5ms/step - loss: 27.8305 - mean_squared_error: 27.8305 - val_loss: 34.8498 - val_mean_squared_error: 34.8498\n",
            "Epoch 10/10\n",
            "216/216 [==============================] - 1s 6ms/step - loss: 26.3197 - mean_squared_error: 26.3197 - val_loss: 37.1998 - val_mean_squared_error: 37.1998\n",
            "--- MLP METRICS ---\n",
            "MSE: [34.805153]\n",
            "RMSE:[5.899589]\n",
            "MAE: [4.4563823]\n",
            "NRMSE: [0.07229888]\n"
          ]
        }
      ]
    },
    {
      "cell_type": "code",
      "metadata": {
        "colab": {
          "base_uri": "https://localhost:8080/",
          "height": 312
        },
        "id": "7WIaPRGfXHTf",
        "outputId": "be3e7c79-7198-4cf2-9fb0-486cad665908"
      },
      "source": [
        "plot_error(model)"
      ],
      "execution_count": null,
      "outputs": [
        {
          "output_type": "stream",
          "name": "stdout",
          "text": [
            "dict_keys(['loss', 'mean_squared_error', 'val_loss', 'val_mean_squared_error'])\n"
          ]
        },
        {
          "output_type": "display_data",
          "data": {
            "image/png": "[encoded data removed]",
            "text/plain": [
              "<Figure size 432x288 with 1 Axes>"
            ]
          },
          "metadata": {
            "needs_background": "light"
          }
        }
      ]
    },
    {
      "cell_type": "markdown",
      "metadata": {
        "id": "dE2iDW5FVlKY"
      },
      "source": [
        "## **Baseline Convolutional Neural Network (CNN) Model**"
      ]
    },
    {
      "cell_type": "code",
      "metadata": {
        "colab": {
          "base_uri": "https://localhost:8080/"
        },
        "id": "dN0QV7wC_b7z",
        "outputId": "1d8d8dd6-06d4-47f7-e032-2aa766448865"
      },
      "source": [
        "cnn_model, cnn_predictions, y_test = model(X,y,'CNN')\n",
        "print(\"--- CNN METRICS ---\")\n",
        "metrics(cnn_predictions,y_test)"
      ],
      "execution_count": null,
      "outputs": [
        {
          "output_type": "stream",
          "name": "stdout",
          "text": [
            "Epoch 1/10\n",
            "216/216 [==============================] - 30s 11ms/step - loss: 182.6901 - mean_squared_error: 182.6901 - val_loss: 68.3153 - val_mean_squared_error: 68.3153\n",
            "Epoch 2/10\n",
            "216/216 [==============================] - 2s 9ms/step - loss: 61.8110 - mean_squared_error: 61.8110 - val_loss: 54.5810 - val_mean_squared_error: 54.5810\n",
            "Epoch 3/10\n",
            "216/216 [==============================] - 2s 9ms/step - loss: 52.1761 - mean_squared_error: 52.1761 - val_loss: 48.3378 - val_mean_squared_error: 48.3378\n",
            "Epoch 4/10\n",
            "216/216 [==============================] - 2s 9ms/step - loss: 48.0104 - mean_squared_error: 48.0104 - val_loss: 47.2723 - val_mean_squared_error: 47.2723\n",
            "Epoch 5/10\n",
            "216/216 [==============================] - 2s 9ms/step - loss: 43.6564 - mean_squared_error: 43.6564 - val_loss: 44.9337 - val_mean_squared_error: 44.9337\n",
            "Epoch 6/10\n",
            "216/216 [==============================] - 2s 9ms/step - loss: 40.9558 - mean_squared_error: 40.9558 - val_loss: 45.5616 - val_mean_squared_error: 45.5616\n",
            "Epoch 7/10\n",
            "216/216 [==============================] - 2s 9ms/step - loss: 39.5907 - mean_squared_error: 39.5907 - val_loss: 38.2576 - val_mean_squared_error: 38.2576\n",
            "Epoch 8/10\n",
            "216/216 [==============================] - 2s 9ms/step - loss: 37.8281 - mean_squared_error: 37.8281 - val_loss: 37.0278 - val_mean_squared_error: 37.0278\n",
            "Epoch 9/10\n",
            "216/216 [==============================] - 2s 9ms/step - loss: 37.4063 - mean_squared_error: 37.4063 - val_loss: 36.1980 - val_mean_squared_error: 36.1980\n",
            "Epoch 10/10\n",
            "216/216 [==============================] - 2s 9ms/step - loss: 35.5514 - mean_squared_error: 35.5514 - val_loss: 34.9430 - val_mean_squared_error: 34.9430\n",
            "--- CNN METRICS ---\n",
            "MSE: [34.016785]\n",
            "RMSE:[5.832391]\n",
            "MAE: [4.4510183]\n",
            "NRMSE: [0.07147538]\n"
          ]
        }
      ]
    },
    {
      "cell_type": "code",
      "metadata": {
        "colab": {
          "base_uri": "https://localhost:8080/",
          "height": 312
        },
        "id": "83Jr5UYxZYCE",
        "outputId": "14f27227-3233-405f-e68a-152172dc68a3"
      },
      "source": [
        "plot_error(cnn_model)"
      ],
      "execution_count": null,
      "outputs": [
        {
          "output_type": "stream",
          "name": "stdout",
          "text": [
            "dict_keys(['loss', 'mean_squared_error', 'val_loss', 'val_mean_squared_error'])\n"
          ]
        },
        {
          "output_type": "display_data",
          "data": {
            "image/png": "[encoded data removed]",
            "text/plain": [
              "<Figure size 432x288 with 1 Axes>"
            ]
          },
          "metadata": {
            "needs_background": "light"
          }
        }
      ]
    },
    {
      "cell_type": "markdown",
      "metadata": {
        "id": "2RBqOlnobh9j"
      },
      "source": [
        "# **Experimentation & Hyperparameter Tuning**"
      ]
    },
    {
      "cell_type": "markdown",
      "metadata": {
        "id": "POfbXC24bmQD"
      },
      "source": [
        "**Number of Layers**:- a very high number may introduce problems like over-fitting and vanishing and exploding gradient problems and a lower number may cause a model to have high bias. \n",
        "\n",
        "**Number of hidden units per layer**:-  must be chosen reasonably to find a sweet spot between high bias and variance. \n",
        "\n",
        "**Activation Function**:- The popular choices in this are ReLU, Sigmoid & Tanh\n",
        "\n",
        "**Optimizer**:- It is the algorithm used by the model to update weights of every layer after every iteration. Popular choices are SGD,RMSProp and Adam. SGD works well for shallow networks but cannot escape saddle points and local minima in such cases RMSProp could be a better choice, AdaDelta/AdaGrad for sparse data whereas Adam is a general favorite and could be used to achieve faster convergence.\n",
        "\n",
        "**Learning Rate**:- It is responsible for the core learning characteristic and must be chosen in such a way that it is not too high wherein we are unable to converge to minima and not too low such that we are unable to speed up the learning process. Recommended to try in powers of 10, specifically 0.001,0.01, 0.1,1.\n",
        "\n",
        "**Batch Size**:- It is indicative of number of patterns shown to the network before the weight matrix is updated. If batch size is less, patterns would be less repeating and hence the weights would be all over the place and convergence would become difficult. If batch size is high learning would become slow as only after many iterations will the batch size change. It is recommend to try out batch sizes in powers of 2 (for better memory optimization) based on the data-size.\n",
        "\n",
        "**Number of Epochs**:- The number of epochs is the number of times the entire training data is shown to the model.  High number of epochs may over-fit to the data and may have generalization problems on the test and validation set, also they could cause vanishing and exploding gradient problems. Lower number of epochs may limit the potential of the model. \n",
        "\n",
        "**Dropout**:- The Dropout layer  act as a regularizer to help us find the optimum bias-variance spot. It does so by removing certain connections every iteration therefore the hidden units cannot depend a lot on any particular feature. \n",
        "\n",
        "\n"
      ]
    },
    {
      "cell_type": "code",
      "metadata": {
        "id": "iRenu10ksWdt"
      },
      "source": [
        "!pip install -q -U keras-tuner"
      ],
      "execution_count": 13,
      "outputs": []
    },
    {
      "cell_type": "code",
      "metadata": {
        "id": "IYwSYE08xU3Z"
      },
      "source": [
        "import keras_tuner as kt\n",
        "import tensorflow as tf\n",
        "from tensorflow import keras"
      ],
      "execution_count": 14,
      "outputs": []
    },
    {
      "cell_type": "markdown",
      "metadata": {
        "id": "TqM7iFouqNlq"
      },
      "source": [
        "## **MLP Tuning**"
      ]
    },
    {
      "cell_type": "code",
      "metadata": {
        "id": "fmL-Gsb5xYnC"
      },
      "source": [
        "def MLP(hp):\n",
        "\n",
        "    model = Sequential()\n",
        "    hp_units = hp.Int('units', min_value=32, max_value=512, step=32)\n",
        "    model.add(Dense(units=hp_units, input_shape=(9216,), activation=hp.Choice('dense_activation',values=['relu', 'tanh', 'sigmoid'],default='relu')))\n",
        "    model.add(Dropout(rate=hp.Float('dropout_1',min_value=0.0,max_value=0.5,default=0.25,step=0.05)))\n",
        "    model.add(Dense(64, activation=hp.Choice('dense_activation',values=['relu', 'tanh', 'sigmoid'],default='relu')))\n",
        "    model.add(Dropout(rate=hp.Float('dropout_1',min_value=0.0,max_value=0.5,default=0.25,step=0.05)))\n",
        "    \n",
        "    for i in range(hp.Int('layers', 3, 6)):\n",
        "        model.add(tf.keras.layers.Dense(units=hp.Int('units_' + str(i), 50, 100, step=10),activation=hp.Choice('act_' + str(i), ['relu', 'sigmoid'])))\n",
        "        model.add(Dropout(rate=hp.Float('dropout_1',min_value=0.0,max_value=0.5,default=0.25,step=0.05)))\n",
        "    \n",
        "    model.add(Dense(1, kernel_initializer='normal'))\n",
        "\n",
        "    hp_learning_rate = hp.Choice('learning_rate', values=[1e-2, 1e-3, 1e-4])\n",
        "\n",
        "    model.compile(optimizer=keras.optimizers.Adam(learning_rate=hp_learning_rate),loss='mean_squared_error',metrics=['mean_squared_error'])\n",
        "\n",
        "    return model\n",
        "      "
      ],
      "execution_count": 17,
      "outputs": []
    },
    {
      "cell_type": "markdown",
      "metadata": {
        "id": "7DrH2JdXqRqJ"
      },
      "source": [
        "## **CNN Tuning**"
      ]
    },
    {
      "cell_type": "code",
      "metadata": {
        "id": "XF6KrjCvUcZ-"
      },
      "source": [
        "def CNN(hp):\n",
        "\n",
        "    model = keras.Sequential([\n",
        "    keras.layers.Conv2D(\n",
        "        filters=hp.Int('conv_1_filter', min_value=32, max_value=128, step=16),\n",
        "        kernel_size=hp.Choice('conv_1_kernel', values = [3,5]),\n",
        "        activation='relu',\n",
        "        input_shape=(9,32,32)\n",
        "    ),\n",
        "    keras.layers.Conv2D(\n",
        "        filters=hp.Int('conv_2_filter', min_value=32, max_value=64, step=16),\n",
        "        kernel_size=hp.Choice('conv_2_kernel', values = [3,5]),\n",
        "        activation='relu'\n",
        "    ),\n",
        "    keras.layers.Flatten(),\n",
        "    keras.layers.Dense(\n",
        "        units=hp.Int('dense_1_units', min_value=32, max_value=128, step=16),\n",
        "        activation='relu'\n",
        "    ),\n",
        "    keras.layers.Dense(1, kernel_initializer='normal')\n",
        "    ])\n",
        "  \n",
        "    hp_learning_rate = hp.Choice('learning_rate', values=[1e-2, 1e-3, 1e-4])\n",
        "\n",
        "    model.compile(optimizer=keras.optimizers.Adam(learning_rate=hp_learning_rate),loss='mean_squared_error',metrics=['mean_squared_error'])\n",
        "      \n",
        "    return model\n"
      ],
      "execution_count": 18,
      "outputs": []
    },
    {
      "cell_type": "code",
      "metadata": {
        "id": "VfkXtINOyk8j",
        "colab": {
          "base_uri": "https://localhost:8080/"
        },
        "outputId": "d8879412-d9c7-4405-ad43-74a5f11a8fa8"
      },
      "source": [
        "tuner = kt.Hyperband(MLP,\n",
        "                     objective='mean_squared_error',\n",
        "                     max_epochs=10,\n",
        "                     factor=3)\n",
        "\n",
        "tuner2 = kt.Hyperband(CNN,\n",
        "                     objective='mean_squared_error',\n",
        "                     max_epochs=10,\n",
        "                     factor=3,\n",
        "                      overwrite = False)"
      ],
      "execution_count": 19,
      "outputs": [
        {
          "output_type": "stream",
          "name": "stdout",
          "text": [
            "INFO:tensorflow:Reloading Oracle from existing project ./untitled_project/oracle.json\n",
            "INFO:tensorflow:Reloading Tuner from ./untitled_project/tuner0.json\n",
            "INFO:tensorflow:Reloading Oracle from existing project ./untitled_project/oracle.json\n",
            "INFO:tensorflow:Reloading Tuner from ./untitled_project/tuner0.json\n"
          ]
        }
      ]
    },
    {
      "cell_type": "code",
      "metadata": {
        "id": "0-fbqRT8yrZE"
      },
      "source": [
        "stop_early = tf.keras.callbacks.EarlyStopping(monitor='mean_squared_error', patience=5)"
      ],
      "execution_count": 20,
      "outputs": []
    },
    {
      "cell_type": "markdown",
      "metadata": {
        "id": "CCbNua9trek-"
      },
      "source": [
        "## **MLP - Hyperparameter Search**"
      ]
    },
    {
      "cell_type": "markdown",
      "metadata": {
        "id": "cmz1VsKLM1Yd"
      },
      "source": [
        "https://www.tensorflow.org/tutorials/keras/keras_tuner"
      ]
    },
    {
      "cell_type": "code",
      "metadata": {
        "colab": {
          "base_uri": "https://localhost:8080/"
        },
        "id": "5Z0JVyC_zsSd",
        "outputId": "35dc75eb-d99a-4ae9-e1bf-c469f1b8b309"
      },
      "source": [
        "X = X.flatten().reshape(X.shape[0],X.shape[1]*X.shape[2]*X.shape[3])\n",
        "X_train, y_train, X_val, y_val, X_test, y_test  = split_data(X,y)\n",
        "\n",
        "tuner.search(X_train, y_train, epochs=10, validation_data=(X_val, y_val), callbacks=[stop_early])\n",
        "\n",
        "# Get the optimal hyperparameters\n",
        "best_hps=tuner.get_best_hyperparameters(num_trials=1)[0]\n",
        "\n",
        "print(f\"\"\"\n",
        "The hyperparameter search is complete. The optimal number of units in the first densely-connected\n",
        "layer is {best_hps.get('units')} and the optimal learning rate for the optimizer\n",
        "is {best_hps.get('learning_rate')}.\n",
        "\"\"\")"
      ],
      "execution_count": null,
      "outputs": [
        {
          "output_type": "stream",
          "name": "stdout",
          "text": [
            "Trial 30 Complete [00h 00m 42s]\n",
            "mean_squared_error: 78.52790832519531\n",
            "\n",
            "Best mean_squared_error So Far: 49.81958770751953\n",
            "Total elapsed time: 00h 09m 19s\n",
            "INFO:tensorflow:Oracle triggered exit\n",
            "\n",
            "The hyperparameter search is complete. The optimal number of units in the first densely-connected\n",
            "layer is 512 and the optimal learning rate for the optimizer\n",
            "is 0.0001.\n",
            "\n"
          ]
        }
      ]
    },
    {
      "cell_type": "code",
      "metadata": {
        "colab": {
          "base_uri": "https://localhost:8080/"
        },
        "id": "z9f2Xke0cDKn",
        "outputId": "0c120ca5-be39-4bfb-aa60-b2b2bdc05a82"
      },
      "source": [
        "tuner.get_best_models()[0]"
      ],
      "execution_count": null,
      "outputs": [
        {
          "output_type": "execute_result",
          "data": {
            "text/plain": [
              "<keras.engine.sequential.Sequential at 0x7f97f475ebd0>"
            ]
          },
          "metadata": {},
          "execution_count": 25
        }
      ]
    },
    {
      "cell_type": "code",
      "metadata": {
        "id": "IJb9GZe9dZUI"
      },
      "source": [
        "tuner.results_summary()"
      ],
      "execution_count": null,
      "outputs": []
    },
    {
      "cell_type": "markdown",
      "metadata": {
        "id": "gi59WlCkdesa"
      },
      "source": [
        "Trial summary \\\\\n",
        "Hyperparameters: \\\\\n",
        "units: 512 \\\\\n",
        "dense_activation: tanh \\\\\n",
        "dropout_1: 0.1 \\\\\n",
        "layers: 5 \\\\\n",
        "units_0: 80 \\\\\n",
        "act_0: sigmoid \\\\\n",
        "units_1: 60 \\\\\n",
        "act_1: sigmoid \\\\\n",
        "units_2: 50 \\\\\n",
        "act_2: relu \\\\\n",
        "learning_rate: 0.0001 \\\\\n",
        "units_3: 70 \\\\\n",
        "act_3: relu \\\\\n",
        "units_4: 70 \\\\\n",
        "act_4: relu \\\\\n",
        "tuner/epochs: 10 \\\\\n",
        "tuner/initial_epoch: 4 \\\\\n",
        "tuner/bracket: 2 \\\\\n",
        "tuner/round: 2 \\\\\n",
        "tuner/trial_id: 5cad5bfcca47c4aeb67639301f6f2bb5 \\\\\n",
        "Score: 49.81958770751953"
      ]
    },
    {
      "cell_type": "code",
      "metadata": {
        "id": "Hn1Vx8EkeMjD"
      },
      "source": [
        "#bestmodel = tuner.get_best_models(num_models=1)"
      ],
      "execution_count": null,
      "outputs": []
    },
    {
      "cell_type": "code",
      "metadata": {
        "colab": {
          "base_uri": "https://localhost:8080/"
        },
        "id": "Q5ksMlUTz5V1",
        "outputId": "cf20bd37-8245-457a-931e-fcccea347970"
      },
      "source": [
        "# Build the model with the optimal hyperparameters and train it on the data for 10 epochs\n",
        "model = tuner.hypermodel.build(best_hps)\n",
        "history = model.fit(X_train, y_train, epochs=10, validation_data=(X_val, y_val))\n",
        "\n",
        "val_mse_per_epoch = history.history['val_mean_squared_error']\n",
        "best_epoch = val_mse_per_epoch.index(min(val_mse_per_epoch)) + 1\n",
        "print('Best epoch: %d' % (best_epoch,))"
      ],
      "execution_count": null,
      "outputs": [
        {
          "output_type": "stream",
          "name": "stdout",
          "text": [
            "Epoch 1/10\n",
            "431/431 [==============================] - 5s 9ms/step - loss: 969.0501 - mean_squared_error: 969.0501 - val_loss: 117.9749 - val_mean_squared_error: 117.9749\n",
            "Epoch 2/10\n",
            "431/431 [==============================] - 4s 8ms/step - loss: 108.0057 - mean_squared_error: 108.0057 - val_loss: 53.6469 - val_mean_squared_error: 53.6469\n",
            "Epoch 3/10\n",
            "431/431 [==============================] - 4s 8ms/step - loss: 67.8661 - mean_squared_error: 67.8661 - val_loss: 42.9567 - val_mean_squared_error: 42.9567\n",
            "Epoch 4/10\n",
            "431/431 [==============================] - 4s 8ms/step - loss: 60.9272 - mean_squared_error: 60.9272 - val_loss: 44.2688 - val_mean_squared_error: 44.2688\n",
            "Epoch 5/10\n",
            "431/431 [==============================] - 4s 8ms/step - loss: 54.4366 - mean_squared_error: 54.4366 - val_loss: 36.0495 - val_mean_squared_error: 36.0495\n",
            "Epoch 6/10\n",
            "431/431 [==============================] - 4s 8ms/step - loss: 52.2422 - mean_squared_error: 52.2422 - val_loss: 34.9527 - val_mean_squared_error: 34.9527\n",
            "Epoch 7/10\n",
            "431/431 [==============================] - 4s 8ms/step - loss: 49.7292 - mean_squared_error: 49.7292 - val_loss: 35.3006 - val_mean_squared_error: 35.3006\n",
            "Epoch 8/10\n",
            "431/431 [==============================] - 4s 8ms/step - loss: 47.9519 - mean_squared_error: 47.9519 - val_loss: 33.6252 - val_mean_squared_error: 33.6252\n",
            "Epoch 9/10\n",
            "431/431 [==============================] - 4s 8ms/step - loss: 45.9117 - mean_squared_error: 45.9117 - val_loss: 33.1249 - val_mean_squared_error: 33.1249\n",
            "Epoch 10/10\n",
            "431/431 [==============================] - 4s 8ms/step - loss: 44.6128 - mean_squared_error: 44.6128 - val_loss: 33.3375 - val_mean_squared_error: 33.3375\n",
            "Best epoch: 9\n"
          ]
        }
      ]
    },
    {
      "cell_type": "code",
      "metadata": {
        "colab": {
          "base_uri": "https://localhost:8080/"
        },
        "id": "fWewlKI2OH5N",
        "outputId": "77b39d80-2e6c-4c3f-9a53-7b7ed991c4cd"
      },
      "source": [
        "# predictions\n",
        "predictions = model.predict(X_test)\n",
        "metrics(predictions,y_test)"
      ],
      "execution_count": null,
      "outputs": [
        {
          "output_type": "stream",
          "name": "stdout",
          "text": [
            "MSE: [32.184464]\n",
            "RMSE:[5.6731353]\n",
            "MAE: [4.2657213]\n",
            "NRMSE: [0.06952371]\n"
          ]
        }
      ]
    },
    {
      "cell_type": "code",
      "metadata": {
        "colab": {
          "base_uri": "https://localhost:8080/",
          "height": 312
        },
        "id": "MRy1-XovN2c2",
        "outputId": "48c45f40-d63d-4458-a13c-692c0a228868"
      },
      "source": [
        "plot_error(history)"
      ],
      "execution_count": null,
      "outputs": [
        {
          "output_type": "stream",
          "name": "stdout",
          "text": [
            "dict_keys(['loss', 'mean_squared_error', 'val_loss', 'val_mean_squared_error'])\n"
          ]
        },
        {
          "output_type": "display_data",
          "data": {
            "image/png": "[encoded data removed]",
            "text/plain": [
              "<Figure size 432x288 with 1 Axes>"
            ]
          },
          "metadata": {
            "needs_background": "light"
          }
        }
      ]
    },
    {
      "cell_type": "markdown",
      "metadata": {
        "id": "X6TiKv2AP_uw"
      },
      "source": [
        "## **K-Fold Cross Validation - MLP**"
      ]
    },
    {
      "cell_type": "code",
      "metadata": {
        "id": "Le-FadaPOzRq"
      },
      "source": [
        "from sklearn.model_selection import KFold\n",
        "from sklearn.model_selection import cross_val_score"
      ],
      "execution_count": 18,
      "outputs": []
    },
    {
      "cell_type": "code",
      "metadata": {
        "id": "0MRF95HGQGVf"
      },
      "source": [
        "num_folds = 5\n",
        "cv = KFold(n_splits=num_folds, random_state=1, shuffle=True)"
      ],
      "execution_count": 19,
      "outputs": []
    },
    {
      "cell_type": "code",
      "metadata": {
        "id": "pBac7ZTVRBsy"
      },
      "source": [
        "X = np.asarray(images)\n",
        "X = X.flatten().reshape(X.shape[0],X.shape[1]*X.shape[2]*X.shape[3])\n",
        "y = np.asarray(labels)"
      ],
      "execution_count": null,
      "outputs": []
    },
    {
      "cell_type": "code",
      "metadata": {
        "colab": {
          "base_uri": "https://localhost:8080/"
        },
        "id": "KdElMS3dSVx-",
        "outputId": "91704fdb-0122-41e7-9496-52dc46bb2a85"
      },
      "source": [
        "fold_no = 1\n",
        "for train, test in cv.split(X, y):\n",
        "    print('------------------------------------------------------------------------')\n",
        "    print(f'Training for fold {fold_no} ...')\n",
        "\n",
        "    model = tuner.hypermodel.build(best_hps)\n",
        "\n",
        "    # Fit data to model\n",
        "    history = model.fit(X[train], y[train],\n",
        "              batch_size=32,\n",
        "              epochs=5)\n",
        "    fold_no += 1"
      ],
      "execution_count": null,
      "outputs": [
        {
          "output_type": "stream",
          "name": "stdout",
          "text": [
            "------------------------------------------------------------------------\n",
            "Training for fold 1 ...\n",
            "Epoch 1/5\n",
            "575/575 [==============================] - 5s 7ms/step - loss: 744.8950 - mean_squared_error: 744.8950\n",
            "Epoch 2/5\n",
            "575/575 [==============================] - 4s 7ms/step - loss: 78.4364 - mean_squared_error: 78.4364\n",
            "Epoch 3/5\n",
            "575/575 [==============================] - 4s 7ms/step - loss: 62.4217 - mean_squared_error: 62.4217\n",
            "Epoch 4/5\n",
            "575/575 [==============================] - 4s 7ms/step - loss: 56.5616 - mean_squared_error: 56.5616\n",
            "Epoch 5/5\n",
            "575/575 [==============================] - 4s 7ms/step - loss: 51.9927 - mean_squared_error: 51.9927\n",
            "------------------------------------------------------------------------\n",
            "Training for fold 2 ...\n",
            "Epoch 1/5\n",
            "575/575 [==============================] - 5s 7ms/step - loss: 771.1601 - mean_squared_error: 771.1601\n",
            "Epoch 2/5\n",
            "575/575 [==============================] - 4s 7ms/step - loss: 84.2223 - mean_squared_error: 84.2223\n",
            "Epoch 3/5\n",
            "575/575 [==============================] - 4s 7ms/step - loss: 61.8652 - mean_squared_error: 61.8652\n",
            "Epoch 4/5\n",
            "575/575 [==============================] - 4s 7ms/step - loss: 56.2967 - mean_squared_error: 56.2967\n",
            "Epoch 5/5\n",
            "575/575 [==============================] - 4s 7ms/step - loss: 53.2133 - mean_squared_error: 53.2133\n",
            "------------------------------------------------------------------------\n",
            "Training for fold 3 ...\n",
            "Epoch 1/5\n",
            "575/575 [==============================] - 5s 7ms/step - loss: 756.3104 - mean_squared_error: 756.3104\n",
            "Epoch 2/5\n",
            "575/575 [==============================] - 4s 7ms/step - loss: 83.8122 - mean_squared_error: 83.8122\n",
            "Epoch 3/5\n",
            "575/575 [==============================] - 4s 7ms/step - loss: 62.6574 - mean_squared_error: 62.6574\n",
            "Epoch 4/5\n",
            "575/575 [==============================] - 4s 7ms/step - loss: 56.5524 - mean_squared_error: 56.5524\n",
            "Epoch 5/5\n",
            "575/575 [==============================] - 4s 7ms/step - loss: 51.6000 - mean_squared_error: 51.6000\n",
            "------------------------------------------------------------------------\n",
            "Training for fold 4 ...\n",
            "Epoch 1/5\n",
            "575/575 [==============================] - 5s 7ms/step - loss: 722.3865 - mean_squared_error: 722.3865\n",
            "Epoch 2/5\n",
            "575/575 [==============================] - 4s 7ms/step - loss: 74.5939 - mean_squared_error: 74.5939\n",
            "Epoch 3/5\n",
            "575/575 [==============================] - 4s 7ms/step - loss: 59.4488 - mean_squared_error: 59.4488\n",
            "Epoch 4/5\n",
            "575/575 [==============================] - 4s 7ms/step - loss: 53.9918 - mean_squared_error: 53.9918\n",
            "Epoch 5/5\n",
            "575/575 [==============================] - 4s 7ms/step - loss: 50.3614 - mean_squared_error: 50.3614\n",
            "------------------------------------------------------------------------\n",
            "Training for fold 5 ...\n",
            "Epoch 1/5\n",
            "575/575 [==============================] - 5s 7ms/step - loss: 731.4350 - mean_squared_error: 731.4350\n",
            "Epoch 2/5\n",
            "575/575 [==============================] - 4s 7ms/step - loss: 71.6340 - mean_squared_error: 71.6340\n",
            "Epoch 3/5\n",
            "575/575 [==============================] - 4s 7ms/step - loss: 59.8601 - mean_squared_error: 59.8601\n",
            "Epoch 4/5\n",
            "575/575 [==============================] - 4s 7ms/step - loss: 54.8755 - mean_squared_error: 54.8755\n",
            "Epoch 5/5\n",
            "575/575 [==============================] - 4s 7ms/step - loss: 50.9576 - mean_squared_error: 50.9576\n"
          ]
        }
      ]
    },
    {
      "cell_type": "markdown",
      "metadata": {
        "id": "0LZAYjXIsCM5"
      },
      "source": [
        "## **CNN - Hyperparameter Search**"
      ]
    },
    {
      "cell_type": "code",
      "metadata": {
        "id": "NfsEcfBUsFWT",
        "colab": {
          "base_uri": "https://localhost:8080/",
          "height": 496
        },
        "outputId": "f0eff831-6c30-40b3-fa63-fc75239af138"
      },
      "source": [
        "X_train, y_train, X_val, y_val, X_test, y_test  = split_data(X,y)\n",
        "\n",
        "tuner2.search(X_train, y_train, epochs=10, validation_data=(X_val, y_val), callbacks=[stop_early])\n",
        "\n",
        "# Get the optimal hyperparameters\n",
        "best_hps=tuner2.get_best_hyperparameters(num_trials=1)[0]\n",
        "\n",
        "# print(f\"\"\"\n",
        "# The hyperparameter search is complete. The optimal number of units in the first densely-connected\n",
        "# layer is {best_hps.get('units')} and the optimal learning rate for the optimizer\n",
        "# is {best_hps.get('learning_rate')}.\n",
        "# \"\"\")"
      ],
      "execution_count": 24,
      "outputs": [
        {
          "output_type": "stream",
          "name": "stdout",
          "text": [
            "Trial 30 Complete [00h 01m 23s]\n",
            "mean_squared_error: 28.024879455566406\n",
            "\n",
            "Best mean_squared_error So Far: 28.024879455566406\n",
            "Total elapsed time: 00h 10m 55s\n",
            "INFO:tensorflow:Oracle triggered exit\n"
          ]
        },
        {
          "output_type": "stream",
          "name": "stderr",
          "text": [
            "ERROR:root:An unexpected error occurred while tokenizing input\n",
            "The following traceback may be corrupted or invalid\n",
            "The error message is: ('EOF in multi-line string', (1, 0))\n",
            "\n"
          ]
        },
        {
          "output_type": "error",
          "ename": "KeyError",
          "evalue": "ignored",
          "traceback": [
            "\u001b[0;31m---------------------------------------------------------------------------\u001b[0m",
            "\u001b[0;31mKeyError\u001b[0m                                  Traceback (most recent call last)",
            "\u001b[0;32m<ipython-input-24-b84efee274df>\u001b[0m in \u001b[0;36m<module>\u001b[0;34m()\u001b[0m\n\u001b[1;32m     10\u001b[0m \u001b[0mlayer\u001b[0m \u001b[0;32mis\u001b[0m \u001b[0;34m{\u001b[0m\u001b[0mbest_hps\u001b[0m\u001b[0;34m.\u001b[0m\u001b[0mget\u001b[0m\u001b[0;34m(\u001b[0m\u001b[0;34m'units'\u001b[0m\u001b[0;34m)\u001b[0m\u001b[0;34m}\u001b[0m \u001b[0;32mand\u001b[0m \u001b[0mthe\u001b[0m \u001b[0moptimal\u001b[0m \u001b[0mlearning\u001b[0m \u001b[0mrate\u001b[0m \u001b[0;32mfor\u001b[0m \u001b[0mthe\u001b[0m \u001b[0moptimizer\u001b[0m\u001b[0;34m\u001b[0m\u001b[0;34m\u001b[0m\u001b[0m\n\u001b[1;32m     11\u001b[0m \u001b[0;32mis\u001b[0m \u001b[0;34m{\u001b[0m\u001b[0mbest_hps\u001b[0m\u001b[0;34m.\u001b[0m\u001b[0mget\u001b[0m\u001b[0;34m(\u001b[0m\u001b[0;34m'learning_rate'\u001b[0m\u001b[0;34m)\u001b[0m\u001b[0;34m}\u001b[0m\u001b[0;34m.\u001b[0m\u001b[0;34m\u001b[0m\u001b[0;34m\u001b[0m\u001b[0m\n\u001b[0;32m---> 12\u001b[0;31m \"\"\")\n\u001b[0m",
            "\u001b[0;32m/usr/local/lib/python3.7/dist-packages/keras_tuner/engine/hyperparameters.py\u001b[0m in \u001b[0;36mget\u001b[0;34m(self, name)\u001b[0m\n\u001b[1;32m    739\u001b[0m             \u001b[0;32mraise\u001b[0m \u001b[0mValueError\u001b[0m\u001b[0;34m(\u001b[0m\u001b[0;34m\"{} is currently inactive.\"\u001b[0m\u001b[0;34m.\u001b[0m\u001b[0mformat\u001b[0m\u001b[0;34m(\u001b[0m\u001b[0mname\u001b[0m\u001b[0;34m)\u001b[0m\u001b[0;34m)\u001b[0m\u001b[0;34m\u001b[0m\u001b[0;34m\u001b[0m\u001b[0m\n\u001b[1;32m    740\u001b[0m         \u001b[0;32melse\u001b[0m\u001b[0;34m:\u001b[0m\u001b[0;34m\u001b[0m\u001b[0;34m\u001b[0m\u001b[0m\n\u001b[0;32m--> 741\u001b[0;31m             \u001b[0;32mraise\u001b[0m \u001b[0mKeyError\u001b[0m\u001b[0;34m(\u001b[0m\u001b[0;34m\"{} does not exist.\"\u001b[0m\u001b[0;34m.\u001b[0m\u001b[0mformat\u001b[0m\u001b[0;34m(\u001b[0m\u001b[0mname\u001b[0m\u001b[0;34m)\u001b[0m\u001b[0;34m)\u001b[0m\u001b[0;34m\u001b[0m\u001b[0;34m\u001b[0m\u001b[0m\n\u001b[0m\u001b[1;32m    742\u001b[0m \u001b[0;34m\u001b[0m\u001b[0m\n\u001b[1;32m    743\u001b[0m     \u001b[0;32mdef\u001b[0m \u001b[0m__getitem__\u001b[0m\u001b[0;34m(\u001b[0m\u001b[0mself\u001b[0m\u001b[0;34m,\u001b[0m \u001b[0mname\u001b[0m\u001b[0;34m)\u001b[0m\u001b[0;34m:\u001b[0m\u001b[0;34m\u001b[0m\u001b[0;34m\u001b[0m\u001b[0m\n",
            "\u001b[0;31mKeyError\u001b[0m: 'units does not exist.'"
          ]
        }
      ]
    },
    {
      "cell_type": "code",
      "metadata": {
        "id": "KarKVoU5sKGt",
        "colab": {
          "base_uri": "https://localhost:8080/"
        },
        "outputId": "8011f61b-7f6f-4aaa-f0fb-b47bd504393c"
      },
      "source": [
        "tuner2.results_summary()"
      ],
      "execution_count": 25,
      "outputs": [
        {
          "output_type": "stream",
          "name": "stdout",
          "text": [
            "Results summary\n",
            "Results in ./untitled_project\n",
            "Showing 10 best trials\n",
            "Objective(name='mean_squared_error', direction='min')\n",
            "Trial summary\n",
            "Hyperparameters:\n",
            "conv_1_filter: 112\n",
            "conv_1_kernel: 5\n",
            "conv_2_filter: 48\n",
            "conv_2_kernel: 5\n",
            "dense_1_units: 48\n",
            "learning_rate: 0.001\n",
            "tuner/epochs: 10\n",
            "tuner/initial_epoch: 0\n",
            "tuner/bracket: 0\n",
            "tuner/round: 0\n",
            "Score: 28.024879455566406\n",
            "Trial summary\n",
            "Hyperparameters:\n",
            "conv_1_filter: 80\n",
            "conv_1_kernel: 5\n",
            "conv_2_filter: 64\n",
            "conv_2_kernel: 5\n",
            "dense_1_units: 64\n",
            "learning_rate: 0.01\n",
            "tuner/epochs: 10\n",
            "tuner/initial_epoch: 0\n",
            "tuner/bracket: 0\n",
            "tuner/round: 0\n",
            "Score: 28.921207427978516\n",
            "Trial summary\n",
            "Hyperparameters:\n",
            "conv_1_filter: 128\n",
            "conv_1_kernel: 5\n",
            "conv_2_filter: 32\n",
            "conv_2_kernel: 5\n",
            "dense_1_units: 48\n",
            "learning_rate: 0.01\n",
            "tuner/epochs: 10\n",
            "tuner/initial_epoch: 4\n",
            "tuner/bracket: 2\n",
            "tuner/round: 2\n",
            "tuner/trial_id: 3a3831ef69d9c66e9e2f04407c4cd450\n",
            "Score: 30.27772331237793\n",
            "Trial summary\n",
            "Hyperparameters:\n",
            "conv_1_filter: 80\n",
            "conv_1_kernel: 5\n",
            "conv_2_filter: 32\n",
            "conv_2_kernel: 5\n",
            "dense_1_units: 80\n",
            "learning_rate: 0.01\n",
            "tuner/epochs: 10\n",
            "tuner/initial_epoch: 4\n",
            "tuner/bracket: 1\n",
            "tuner/round: 1\n",
            "tuner/trial_id: 35a8d1b324bf3346274a82fdd839c193\n",
            "Score: 33.263431549072266\n",
            "Trial summary\n",
            "Hyperparameters:\n",
            "conv_1_filter: 48\n",
            "conv_1_kernel: 3\n",
            "conv_2_filter: 48\n",
            "conv_2_kernel: 5\n",
            "dense_1_units: 112\n",
            "learning_rate: 0.001\n",
            "tuner/epochs: 10\n",
            "tuner/initial_epoch: 4\n",
            "tuner/bracket: 1\n",
            "tuner/round: 1\n",
            "tuner/trial_id: 74b15c864504fb88b40f74e4ed01919d\n",
            "Score: 35.719383239746094\n",
            "Trial summary\n",
            "Hyperparameters:\n",
            "conv_1_filter: 80\n",
            "conv_1_kernel: 5\n",
            "conv_2_filter: 32\n",
            "conv_2_kernel: 5\n",
            "dense_1_units: 80\n",
            "learning_rate: 0.01\n",
            "tuner/epochs: 4\n",
            "tuner/initial_epoch: 0\n",
            "tuner/bracket: 1\n",
            "tuner/round: 0\n",
            "Score: 37.91805648803711\n",
            "Trial summary\n",
            "Hyperparameters:\n",
            "conv_1_filter: 48\n",
            "conv_1_kernel: 3\n",
            "conv_2_filter: 48\n",
            "conv_2_kernel: 5\n",
            "dense_1_units: 112\n",
            "learning_rate: 0.001\n",
            "tuner/epochs: 4\n",
            "tuner/initial_epoch: 0\n",
            "tuner/bracket: 1\n",
            "tuner/round: 0\n",
            "Score: 41.69282150268555\n",
            "Trial summary\n",
            "Hyperparameters:\n",
            "conv_1_filter: 32\n",
            "conv_1_kernel: 3\n",
            "conv_2_filter: 64\n",
            "conv_2_kernel: 3\n",
            "dense_1_units: 96\n",
            "learning_rate: 0.01\n",
            "tuner/epochs: 2\n",
            "tuner/initial_epoch: 0\n",
            "tuner/bracket: 2\n",
            "tuner/round: 0\n",
            "Score: 42.687965393066406\n",
            "Trial summary\n",
            "Hyperparameters:\n",
            "conv_1_filter: 80\n",
            "conv_1_kernel: 5\n",
            "conv_2_filter: 48\n",
            "conv_2_kernel: 5\n",
            "dense_1_units: 64\n",
            "learning_rate: 0.001\n",
            "tuner/epochs: 4\n",
            "tuner/initial_epoch: 0\n",
            "tuner/bracket: 1\n",
            "tuner/round: 0\n",
            "Score: 43.849666595458984\n",
            "Trial summary\n",
            "Hyperparameters:\n",
            "conv_1_filter: 112\n",
            "conv_1_kernel: 3\n",
            "conv_2_filter: 48\n",
            "conv_2_kernel: 3\n",
            "dense_1_units: 112\n",
            "learning_rate: 0.01\n",
            "tuner/epochs: 10\n",
            "tuner/initial_epoch: 4\n",
            "tuner/bracket: 2\n",
            "tuner/round: 2\n",
            "tuner/trial_id: 5b24366aaf7b0c8e5459875d9c66521e\n",
            "Score: 44.03355407714844\n"
          ]
        }
      ]
    },
    {
      "cell_type": "markdown",
      "metadata": {
        "id": "HWcIAXdzWGFP"
      },
      "source": [
        "## **Define best CNN model**"
      ]
    },
    {
      "cell_type": "code",
      "metadata": {
        "id": "-aUGym_4VnD0"
      },
      "source": [
        "model = keras.Sequential([\n",
        "keras.layers.Conv2D(\n",
        "    filters=112,\n",
        "    kernel_size=5,\n",
        "    activation='relu',\n",
        "    input_shape=(9,32,32)\n",
        "),\n",
        "keras.layers.Conv2D(\n",
        "    filters=48,\n",
        "    kernel_size=5,\n",
        "    activation='relu'\n",
        "),\n",
        "keras.layers.Flatten(),\n",
        "keras.layers.Dense(\n",
        "    units=48,\n",
        "    activation='relu'\n",
        "),\n",
        "keras.layers.Dense(1, kernel_initializer='normal')\n",
        "])\n",
        "\n",
        "model.compile(optimizer=keras.optimizers.Adam(learning_rate=0.001),loss='mean_squared_error',metrics=['mean_squared_error'])\n"
      ],
      "execution_count": 15,
      "outputs": []
    },
    {
      "cell_type": "code",
      "metadata": {
        "id": "lLm_8V6WsOBu",
        "colab": {
          "base_uri": "https://localhost:8080/"
        },
        "outputId": "516b7614-e48e-4661-b68b-b942bfa8d0fe"
      },
      "source": [
        "# model = tuner2.hypermodel.build(best_hps)\n",
        "X_train, y_train, X_val, y_val, X_test, y_test  = split_data(X,y)\n",
        "\n",
        "history = model.fit(X_train, y_train, epochs=10, validation_data=(X_val, y_val))\n",
        "\n",
        "val_mse_per_epoch = history.history['val_mean_squared_error']\n",
        "best_epoch = val_mse_per_epoch.index(min(val_mse_per_epoch)) + 1\n",
        "print('Best epoch: %d' % (best_epoch,))"
      ],
      "execution_count": 27,
      "outputs": [
        {
          "output_type": "stream",
          "name": "stdout",
          "text": [
            "Epoch 1/10\n",
            "431/431 [==============================] - 35s 11ms/step - loss: 111.8309 - mean_squared_error: 111.8309 - val_loss: 52.9184 - val_mean_squared_error: 52.9184\n",
            "Epoch 2/10\n",
            "431/431 [==============================] - 4s 9ms/step - loss: 52.7150 - mean_squared_error: 52.7150 - val_loss: 54.4563 - val_mean_squared_error: 54.4563\n",
            "Epoch 3/10\n",
            "431/431 [==============================] - 4s 9ms/step - loss: 44.3685 - mean_squared_error: 44.3685 - val_loss: 47.7826 - val_mean_squared_error: 47.7826\n",
            "Epoch 4/10\n",
            "431/431 [==============================] - 4s 10ms/step - loss: 41.1019 - mean_squared_error: 41.1019 - val_loss: 44.0009 - val_mean_squared_error: 44.0009\n",
            "Epoch 5/10\n",
            "431/431 [==============================] - 4s 9ms/step - loss: 38.8694 - mean_squared_error: 38.8694 - val_loss: 42.9141 - val_mean_squared_error: 42.9141\n",
            "Epoch 6/10\n",
            "431/431 [==============================] - 4s 9ms/step - loss: 36.2576 - mean_squared_error: 36.2576 - val_loss: 42.8585 - val_mean_squared_error: 42.8585\n",
            "Epoch 7/10\n",
            "431/431 [==============================] - 4s 9ms/step - loss: 33.0055 - mean_squared_error: 33.0055 - val_loss: 35.3210 - val_mean_squared_error: 35.3210\n",
            "Epoch 8/10\n",
            "431/431 [==============================] - 4s 9ms/step - loss: 32.6418 - mean_squared_error: 32.6418 - val_loss: 32.8497 - val_mean_squared_error: 32.8497\n",
            "Epoch 9/10\n",
            "431/431 [==============================] - 4s 9ms/step - loss: 31.4991 - mean_squared_error: 31.4991 - val_loss: 38.0921 - val_mean_squared_error: 38.0921\n",
            "Epoch 10/10\n",
            "431/431 [==============================] - 4s 9ms/step - loss: 28.2504 - mean_squared_error: 28.2504 - val_loss: 32.9633 - val_mean_squared_error: 32.9633\n",
            "Best epoch: 8\n"
          ]
        }
      ]
    },
    {
      "cell_type": "code",
      "metadata": {
        "id": "sG18aMdksTUw",
        "colab": {
          "base_uri": "https://localhost:8080/"
        },
        "outputId": "d18a3966-a6d1-4268-832d-af1bcd4b66df"
      },
      "source": [
        "predictions = model.predict(X_test)\n",
        "metrics(predictions,y_test)"
      ],
      "execution_count": 28,
      "outputs": [
        {
          "output_type": "stream",
          "name": "stdout",
          "text": [
            "MSE: [31.926891]\n",
            "RMSE:[5.6503887]\n",
            "MAE: [4.341954]\n",
            "NRMSE: [0.06924496]\n"
          ]
        }
      ]
    },
    {
      "cell_type": "code",
      "metadata": {
        "id": "3OLIF7eHsWJt",
        "colab": {
          "base_uri": "https://localhost:8080/",
          "height": 312
        },
        "outputId": "832e8442-a43f-41e5-a4c3-238e8fc600e4"
      },
      "source": [
        "plot_error(history)"
      ],
      "execution_count": 29,
      "outputs": [
        {
          "output_type": "stream",
          "name": "stdout",
          "text": [
            "dict_keys(['loss', 'mean_squared_error', 'val_loss', 'val_mean_squared_error'])\n"
          ]
        },
        {
          "output_type": "display_data",
          "data": {
            "image/png": "[encoded data removed]",
            "text/plain": [
              "<Figure size 432x288 with 1 Axes>"
            ]
          },
          "metadata": {
            "needs_background": "light"
          }
        }
      ]
    },
    {
      "cell_type": "markdown",
      "metadata": {
        "id": "hZUfQWS7saEy"
      },
      "source": [
        "## **K-Fold Cross Validation - CNN**"
      ]
    },
    {
      "cell_type": "code",
      "metadata": {
        "id": "CLmKPbuEsf_r"
      },
      "source": [
        "X = np.asarray(images)\n",
        "y = np.asarray(labels)"
      ],
      "execution_count": 16,
      "outputs": []
    },
    {
      "cell_type": "code",
      "metadata": {
        "id": "shv9g6mnsrSf",
        "colab": {
          "base_uri": "https://localhost:8080/"
        },
        "outputId": "d91c993f-985b-4f61-f000-404dfd4b0ec1"
      },
      "source": [
        "fold_no = 1\n",
        "\n",
        "for train, test in cv.split(X, y):\n",
        "    print('------------------------------------------------------------------------')\n",
        "    print(f'Training for fold {fold_no} ...')\n",
        "\n",
        "    # Fit data to model\n",
        "    history = model.fit(X[train], y[train],\n",
        "              batch_size=32,\n",
        "              epochs=5)\n",
        "    fold_no += 1"
      ],
      "execution_count": 20,
      "outputs": [
        {
          "output_type": "stream",
          "name": "stdout",
          "text": [
            "------------------------------------------------------------------------\n",
            "Training for fold 1 ...\n",
            "Epoch 1/5\n",
            "575/575 [==============================] - 35s 9ms/step - loss: 98.6171 - mean_squared_error: 98.6171\n",
            "Epoch 2/5\n",
            "575/575 [==============================] - 4s 8ms/step - loss: 49.9329 - mean_squared_error: 49.9329\n",
            "Epoch 3/5\n",
            "575/575 [==============================] - 4s 8ms/step - loss: 42.8877 - mean_squared_error: 42.8877\n",
            "Epoch 4/5\n",
            "575/575 [==============================] - 4s 8ms/step - loss: 39.1949 - mean_squared_error: 39.1949\n",
            "Epoch 5/5\n",
            "575/575 [==============================] - 4s 8ms/step - loss: 35.6123 - mean_squared_error: 35.6123\n",
            "------------------------------------------------------------------------\n",
            "Training for fold 2 ...\n",
            "Epoch 1/5\n",
            "575/575 [==============================] - 5s 9ms/step - loss: 33.9257 - mean_squared_error: 33.9257\n",
            "Epoch 2/5\n",
            "575/575 [==============================] - 5s 8ms/step - loss: 31.1259 - mean_squared_error: 31.1259\n",
            "Epoch 3/5\n",
            "575/575 [==============================] - 5s 8ms/step - loss: 28.9699 - mean_squared_error: 28.9699\n",
            "Epoch 4/5\n",
            "575/575 [==============================] - 5s 8ms/step - loss: 27.9414 - mean_squared_error: 27.9414\n",
            "Epoch 5/5\n",
            "575/575 [==============================] - 5s 8ms/step - loss: 25.7117 - mean_squared_error: 25.7117\n",
            "------------------------------------------------------------------------\n",
            "Training for fold 3 ...\n",
            "Epoch 1/5\n",
            "575/575 [==============================] - 5s 8ms/step - loss: 25.2791 - mean_squared_error: 25.2791\n",
            "Epoch 2/5\n",
            "575/575 [==============================] - 5s 8ms/step - loss: 23.3269 - mean_squared_error: 23.3269\n",
            "Epoch 3/5\n",
            "575/575 [==============================] - 5s 8ms/step - loss: 21.8766 - mean_squared_error: 21.8766\n",
            "Epoch 4/5\n",
            "575/575 [==============================] - 5s 8ms/step - loss: 20.8483 - mean_squared_error: 20.8483\n",
            "Epoch 5/5\n",
            "575/575 [==============================] - 4s 8ms/step - loss: 19.3270 - mean_squared_error: 19.3270\n",
            "------------------------------------------------------------------------\n",
            "Training for fold 4 ...\n",
            "Epoch 1/5\n",
            "575/575 [==============================] - 4s 8ms/step - loss: 19.4836 - mean_squared_error: 19.4836\n",
            "Epoch 2/5\n",
            "575/575 [==============================] - 5s 8ms/step - loss: 18.0995 - mean_squared_error: 18.0995\n",
            "Epoch 3/5\n",
            "575/575 [==============================] - 4s 8ms/step - loss: 16.7593 - mean_squared_error: 16.7593\n",
            "Epoch 4/5\n",
            "575/575 [==============================] - 4s 8ms/step - loss: 15.9399 - mean_squared_error: 15.9399\n",
            "Epoch 5/5\n",
            "575/575 [==============================] - 4s 8ms/step - loss: 14.8878 - mean_squared_error: 14.8878\n",
            "------------------------------------------------------------------------\n",
            "Training for fold 5 ...\n",
            "Epoch 1/5\n",
            "575/575 [==============================] - 4s 8ms/step - loss: 15.6062 - mean_squared_error: 15.6062\n",
            "Epoch 2/5\n",
            "575/575 [==============================] - 4s 8ms/step - loss: 14.2711 - mean_squared_error: 14.2711\n",
            "Epoch 3/5\n",
            "575/575 [==============================] - 4s 8ms/step - loss: 13.3605 - mean_squared_error: 13.3605\n",
            "Epoch 4/5\n",
            "575/575 [==============================] - 4s 8ms/step - loss: 12.6908 - mean_squared_error: 12.6908\n",
            "Epoch 5/5\n",
            "575/575 [==============================] - 4s 8ms/step - loss: 11.4937 - mean_squared_error: 11.4937\n"
          ]
        }
      ]
    },
    {
      "cell_type": "code",
      "metadata": {
        "id": "n7X8_ISGe_wh"
      },
      "source": [
        ""
      ],
      "execution_count": null,
      "outputs": []
    }
  ]
}
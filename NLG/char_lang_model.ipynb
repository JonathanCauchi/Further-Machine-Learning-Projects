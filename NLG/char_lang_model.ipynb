{
  "nbformat": 4,
  "nbformat_minor": 0,
  "metadata": {
    "colab": {
      "name": "char_lang_model.ipynb",
      "version": "0.3.2",
      "provenance": [],
      "collapsed_sections": []
    },
    "kernelspec": {
      "name": "python3",
      "display_name": "Python 3"
    }
  },
  "cells": [
    {
      "metadata": {
        "id": "B39r8dxp7Wv_",
        "colab_type": "text"
      },
      "cell_type": "markdown",
      "source": [
        "Step0: Make the necessary imports"
      ]
    },
    {
      "metadata": {
        "id": "OrUdpX14LpBq",
        "colab_type": "code",
        "outputId": "4e81e199-88b8-4e55-aeb8-0075b6fb42a6",
        "colab": {
          "base_uri": "https://localhost:8080/",
          "height": 34
        }
      },
      "cell_type": "code",
      "source": [
        "from numpy import array\n",
        "from keras.models import Sequential\n",
        "from keras.layers import Dense\n",
        "from keras.layers import LSTM\n",
        "from keras.utils.vis_utils import plot_model\n",
        "from keras.utils import to_categorical\n",
        "from keras.preprocessing.sequence import pad_sequences"
      ],
      "execution_count": 0,
      "outputs": [
        {
          "output_type": "stream",
          "text": [
            "Using TensorFlow backend.\n"
          ],
          "name": "stderr"
        }
      ]
    },
    {
      "metadata": {
        "id": "qbfIKeoB7bVO",
        "colab_type": "text"
      },
      "cell_type": "markdown",
      "source": [
        "Code to upload files to Colab from your file system"
      ]
    },
    {
      "metadata": {
        "id": "1QdEg3uZa_Tc",
        "colab_type": "code",
        "colab": {}
      },
      "cell_type": "code",
      "source": [
        "from google.colab import files\n",
        "\n",
        "uploaded = files.upload()\n",
        "\n",
        "for fn in uploaded.keys():\n",
        "  print('User uploaded file \"{name}\" with length {length} bytes'.format(\n",
        "      name=fn, length=len(uploaded[fn])))"
      ],
      "execution_count": 0,
      "outputs": []
    },
    {
      "metadata": {
        "id": "J2JIIoko7k72",
        "colab_type": "text"
      },
      "cell_type": "markdown",
      "source": [
        "A utility function to read a file from the Colab file system"
      ]
    },
    {
      "metadata": {
        "id": "FOS9xy28a6cz",
        "colab_type": "code",
        "colab": {}
      },
      "cell_type": "code",
      "source": [
        "def read_file(filename):\n",
        "\t# open the file as read only\n",
        "\tfile = open(filename, 'r')\n",
        "\t# read all text\n",
        "\ttext = file.read()\n",
        "\t# close the file\n",
        "\tfile.close()\n",
        "\treturn text"
      ],
      "execution_count": 0,
      "outputs": []
    },
    {
      "metadata": {
        "id": "wOrwLVt47rrG",
        "colab_type": "text"
      },
      "cell_type": "markdown",
      "source": [
        "A utility function to return a rhyme text"
      ]
    },
    {
      "metadata": {
        "id": "2VwyWJKpKyCm",
        "colab_type": "code",
        "colab": {}
      },
      "cell_type": "code",
      "source": [
        "def read_rhyme():\n",
        "  text = '''Old MACDONALD had a farm\\n\n",
        "  E-I-E-I-O\\n\n",
        "  And on his farm he had a cow\\n\n",
        "  E-I-E-I-O\\n\n",
        "  With a moo moo here\\n\n",
        "  And a moo moo there\\n\n",
        "  Here a moo, there a moo\\n\n",
        "  Everywhere a moo moo\\n\n",
        "  Old MacDonald had a farm\\n\n",
        "  E-I-E-I-O\\n'''\n",
        "  return text"
      ],
      "execution_count": 0,
      "outputs": []
    },
    {
      "metadata": {
        "id": "nf5OFIUT72l2",
        "colab_type": "text"
      },
      "cell_type": "markdown",
      "source": [
        "Step 1 - Define your training data - this function creates character sequences of given length from given text"
      ]
    },
    {
      "metadata": {
        "id": "erJsFFaiK_dH",
        "colab_type": "code",
        "colab": {}
      },
      "cell_type": "code",
      "source": [
        "def create_char_sequences(text,length):\n",
        "  print(text)\n",
        "  # clean up extra white spaces and new lines\n",
        "  tokens = text.split()\n",
        "  text = ' '.join(tokens)\n",
        "  print(text)\n",
        "  # transform into character sequences\n",
        "  char_sequences = list()\n",
        "  for i in range(length, len(text)):\n",
        "    # select sequence of tokens\n",
        "    seq = text[i-length:i+1]\n",
        "    # store\n",
        "    char_sequences.append(seq)\n",
        "  print('Total Sequences: %d' % len(char_sequences))\n",
        "  return char_sequences"
      ],
      "execution_count": 0,
      "outputs": []
    },
    {
      "metadata": {
        "id": "uBSkH9rs8NAD",
        "colab_type": "text"
      },
      "cell_type": "markdown",
      "source": [
        "Step 1 - Define your training data - this function creates the character to index mapping which is used for encoding charcter sequences created above"
      ]
    },
    {
      "metadata": {
        "id": "2Gg2KyRELFFX",
        "colab_type": "code",
        "colab": {}
      },
      "cell_type": "code",
      "source": [
        "def define_mapping(text):\n",
        "  # define the mapping to encode characters to integers\n",
        "  chars = sorted(list(set(text)))\n",
        "  mapping = dict((c, i) for i, c in enumerate(chars))\n",
        "  return mapping"
      ],
      "execution_count": 0,
      "outputs": []
    },
    {
      "metadata": {
        "id": "hL7G8YLI8fA5",
        "colab_type": "text"
      },
      "cell_type": "markdown",
      "source": [
        "Step 1 - Define your training data - this function encodes character sequences to integer sequences"
      ]
    },
    {
      "metadata": {
        "id": "PTkZAPqFLJCI",
        "colab_type": "code",
        "colab": {}
      },
      "cell_type": "code",
      "source": [
        "def encode_char_sequences(text,mapping):\n",
        "  lines = text.split('\\n')\n",
        "  sequences = list()\n",
        "  # integer encode each line in lines and store in sequences\n",
        "  for line in lines:\n",
        "    encoded_seq = [mapping[char] for char in line]\n",
        "    sequences.append(encoded_seq)\n",
        "  return sequences"
      ],
      "execution_count": 0,
      "outputs": []
    },
    {
      "metadata": {
        "id": "yEw3hJEe8rK4",
        "colab_type": "text"
      },
      "cell_type": "markdown",
      "source": [
        "Step 1 - Define your training data"
      ]
    },
    {
      "metadata": {
        "id": "9pzguP70LRP_",
        "colab_type": "code",
        "colab": {}
      },
      "cell_type": "code",
      "source": [
        "def create_training_data(text,mapping,vocab_size):\n",
        "  # integer encode sequences of characters\n",
        "  sequences = encode_char_sequences(text,mapping)\n",
        "  # separate into input and output\n",
        "  sequences = array(sequences)\n",
        "  X, y = sequences[:,:-1], sequences[:,-1]\n",
        "  sequences = [to_categorical(x, num_classes=vocab_size) for x in X]\n",
        "  X = array(sequences)\n",
        "  y = to_categorical(y, num_classes=vocab_size)\n",
        "  return X,y"
      ],
      "execution_count": 0,
      "outputs": []
    },
    {
      "metadata": {
        "id": "2LOF8_iL8whY",
        "colab_type": "text"
      },
      "cell_type": "markdown",
      "source": [
        "Steps 2 & 3 - Define your model and configure the learning process"
      ]
    },
    {
      "metadata": {
        "id": "ru-_o9TyQXvf",
        "colab_type": "code",
        "colab": {}
      },
      "cell_type": "code",
      "source": [
        "def define_model(X,vocab_size):\n",
        "  model = Sequential()\n",
        "  model.add(LSTM(100,input_shape=(X.shape[1], X.shape[2])))\n",
        "  model.add(Dense(vocab_size,activation='softmax'))\n",
        "  # compile model\n",
        "  model.compile(loss='categorical_crossentropy',optimizer='adam', metrics=['accuracy'])\n",
        "  # summarize defined model\n",
        "  model.summary()\n",
        "  plot_model(model, to_file='model.png', show_shapes=True)\n",
        "  return model"
      ],
      "execution_count": 0,
      "outputs": []
    },
    {
      "metadata": {
        "id": "v8F0iCo49A-W",
        "colab_type": "text"
      },
      "cell_type": "markdown",
      "source": [
        "Step 4: Train your model and save the trained model"
      ]
    },
    {
      "metadata": {
        "id": "N0qlAtWUNL2Q",
        "colab_type": "code",
        "colab": {}
      },
      "cell_type": "code",
      "source": [
        "def train_model(model,X,y):\n",
        "  # fit model\n",
        "  model.fit(X, y, epochs=100, verbose=2)\n",
        "  # save the model to file\n",
        "  model.save('model.h5')"
      ],
      "execution_count": 0,
      "outputs": []
    },
    {
      "metadata": {
        "id": "gw-7SLp29Qn8",
        "colab_type": "text"
      },
      "cell_type": "markdown",
      "source": [
        "Step 5: Generate Text"
      ]
    },
    {
      "metadata": {
        "id": "0aypZDlhLZtn",
        "colab_type": "code",
        "colab": {}
      },
      "cell_type": "code",
      "source": [
        "def generate_text(model, mapping, seq_length, seed_text, n_chars):\n",
        "\tin_text = seed_text\n",
        "\t# generate a fixed number of characters\n",
        "\tfor _ in range(n_chars):\n",
        "\t\t# encode the characters as integers\n",
        "\t\tencoded = [mapping[char] for char in in_text]\n",
        "\t\t# truncate sequences to a fixed length\n",
        "\t\tencoded = pad_sequences([encoded], maxlen=seq_length, truncating='pre')\n",
        "\t\t# one hot encode\n",
        "\t\tencoded = to_categorical(encoded, num_classes=len(mapping))\n",
        "\t\t# predict character\n",
        "\t\tyhat = model.predict_classes(encoded, verbose=0)\n",
        "\t\t# reverse map integer to character\n",
        "\t\tout_char = ''\n",
        "\t\tfor char, index in mapping.items():\n",
        "\t\t\tif index == yhat:\n",
        "\t\t\t\tout_char = char\n",
        "\t\t\t\tbreak\n",
        "\t\t# append to input\n",
        "\t\tin_text += out_char\n",
        "\treturn in_text"
      ],
      "execution_count": 0,
      "outputs": []
    },
    {
      "metadata": {
        "id": "k3t2Ur2Z9ZaM",
        "colab_type": "text"
      },
      "cell_type": "markdown",
      "source": [
        "Step 5: Predict only one next character"
      ]
    },
    {
      "metadata": {
        "id": "_sCiqs5uWsJG",
        "colab_type": "code",
        "colab": {}
      },
      "cell_type": "code",
      "source": [
        "def predict_next_char(model,mapping,seq_length,seed_text):\n",
        "  #in_text = seed_text\n",
        "  # encode the characters as integers\n",
        "  encoded = [mapping[char] for char in in_text]\n",
        "  # truncate sequences to a fixed length\n",
        "  encoded = pad_sequences([encoded], maxlen=seq_length, truncating='pre')\n",
        "  # one hot encode\n",
        "  encoded = to_categorical(encoded, num_classes=len(mapping))\n",
        "  # predict character\n",
        "  yhat = model.predict_classes(encoded, verbose=0)\n",
        "  # reverse map integer to character\n",
        "  out_char = ''\n",
        "  for char, index in mapping.items():\n",
        "    if index == yhat:\n",
        "      out_char = char\n",
        "      break\n",
        "  return out_char"
      ],
      "execution_count": 0,
      "outputs": []
    },
    {
      "metadata": {
        "id": "0BBrzzCq9ozi",
        "colab_type": "text"
      },
      "cell_type": "markdown",
      "source": [
        "Main code that calls all the functions for different steps"
      ]
    },
    {
      "metadata": {
        "id": "urg71ve7LbFX",
        "colab_type": "code",
        "colab": {}
      },
      "cell_type": "code",
      "source": [
        "#read and prerocess (clean) text\n",
        "char_sequence_list=create_char_sequences(read_rhyme(),10)\n",
        "raw_text = '\\n'.join(char_sequence_list)\n",
        "#define the mapping from chars to integers\n",
        "mapping = define_mapping(raw_text)\n",
        "# vocabulary size\n",
        "vocab_size = len(mapping)\n",
        "print('Vocabulary Size: %d' % vocab_size)\n",
        "# create training data\n",
        "X,y=create_training_data(raw_text,mapping,vocab_size)\n",
        "#print(X.shape)\n",
        "#print(y.shape)\n",
        "# define model\n",
        "model = define_model(X,vocab_size)\n",
        "# train model\n",
        "train_model(model,X,y)\n",
        "# test start of rhyme\n",
        "print(generate_text(model, mapping, 10, 'Old MACDON', 50))\n",
        "# test mid-line\n",
        "print(generate_text(model, mapping, 10, 'With a moo', 50))\n",
        "# test not in original\n",
        "print(generate_text(model, mapping, 10, 'Hello worl', 50))\n",
        "#predict_next_char(model,mapping,10,'Old MACDON')"
      ],
      "execution_count": 0,
      "outputs": []
    }
  ]
}
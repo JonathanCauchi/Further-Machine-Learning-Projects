{
 "cells": [
  {
   "cell_type": "code",
   "execution_count": 23,
   "metadata": {},
   "outputs": [],
   "source": [
    "import pandas as pd\n",
    "import numpy as np\n",
    "import matplotlib.pyplot as plt"
   ]
  },
  {
   "cell_type": "markdown",
   "metadata": {},
   "source": [
    "### The purpose of Gradient Descent is to minimize the cost function and to improve the performance of a model. Gradient descent allows models to converge at a minimum value via iterative repeated steps. Gradient descent allows us to find the value that gives us the minimum output of that function. So overall, its an optimization algorithm"
   ]
  },
  {
   "cell_type": "markdown",
   "metadata": {},
   "source": [
    "### To apply Gradient Descent, we will need to follow these steps:\n",
    "* Obtain a function f(x) to minimize\n",
    "* Initialize a value of x\n",
    "* Specify learning rate α\n",
    "* Obtain derivate of x value\n",
    "* Descend by derivate of x * α\n",
    "* Update x value\n",
    "* If converges stop there, otherwise obtain next derivative value\n",
    "  "
   ]
  },
  {
   "cell_type": "markdown",
   "metadata": {},
   "source": [
    "### Now we will need some cost/loss function to minimize. In this case\n",
    "* f(x) = x^2 - 4x + 2\n",
    "* Its derivative is equal to\n",
    "    * dy/dx = 2x - 4 + 0\n",
    "    * x = 2"
   ]
  },
  {
   "cell_type": "markdown",
   "metadata": {},
   "source": [
    "### So lets set the function and plot it"
   ]
  },
  {
   "cell_type": "code",
   "execution_count": 31,
   "metadata": {},
   "outputs": [
    {
     "data": {
      "image/png": "[encoded data removed]",
      "text/plain": [
       "<Figure size 432x288 with 1 Axes>"
      ]
     },
     "metadata": {
      "needs_background": "light"
     },
     "output_type": "display_data"
    }
   ],
   "source": [
    "function = lambda x: (x ** 2)-(4*x)+2\n",
    "\n",
    "\n",
    "x = np.linspace(-1,3,500)\n",
    "\n",
    "#Plot the curve\n",
    "plt.plot(x, function(x))\n",
    "plt.show()\n",
    "\n",
    "## taking a look at the graph below, it should converge somewhere around at an X value of around 2.0 with some variance"
   ]
  },
  {
   "cell_type": "markdown",
   "metadata": {},
   "source": [
    "### Now lets obtain the derivative of a given value x\n"
   ]
  },
  {
   "cell_type": "code",
   "execution_count": 25,
   "metadata": {},
   "outputs": [],
   "source": [
    "def deriv(x):\n",
    "    x_deriv = (2*x) - 4 \n",
    "    return x_deriv"
   ]
  },
  {
   "cell_type": "markdown",
   "metadata": {},
   "source": [
    "### Now we need to define the step function, in this function will pass over the parameters of the initial and prev 'x' value, the learning rate and the precision.\n",
    "*  Arguments:\n",
    "    \n",
    "    new_x - Initial value of x that will get updated based on the learning rate\n",
    "    \n",
    "    prev_x - Previous value of x that is used to update the new value of 'x'\n",
    "    \n",
    "    precision - A precision that determines the stop of the stepwise descent \n",
    "    \n",
    "    lrate - Learning rate (size of each step)\n"
   ]
  },
  {
   "cell_type": "code",
   "execution_count": 40,
   "metadata": {},
   "outputs": [],
   "source": [
    "def step(new_x, prev_x, precision, lrate): # precision will be set to 0.0001, so when difference between 2 iterations is less than 0.0001, we will stop and confirm convergence\n",
    "    \n",
    "     # create empty lists where the updated values of x and y wil be appended during each iteration\n",
    "    \n",
    "    x_list, y_list = [new_x], [function(new_x)]\n",
    "    while abs(new_x - prev_x) > precision:\n",
    "        \n",
    "        # change the value of x\n",
    "        prev_x = new_x\n",
    "        # we concluded that we havnt reached convergence so we desire to continue descent\n",
    "        # to continue descent, we need to set new x value to previous value so that we can differentiate and obtain new x value\n",
    "        # then when we obtain new x value, we can check the precision between new and prev x values and see if it converge\n",
    "        \n",
    "        # get the derivation of the old value of x\n",
    "        d_x = - deriv(prev_x)\n",
    "        \n",
    "        # get your new value of x by adding the previous, the multiplication of the derivative and the learning rate\n",
    "        new_x = prev_x + (lrate * d_x)\n",
    "        \n",
    "        # append the new value of x to a list of all x-s for later visualization of path\n",
    "        x_list.append(new_x)\n",
    "        \n",
    "        # append the new value of y to a list of all y-s for later visualization of path\n",
    "        y_list.append(function(new_x))\n",
    "\n",
    "    print (\"Local minimum occurs at: \"+ str(new_x))\n",
    "    print (\"Number of steps: \" + str(len(x_list)))\n",
    "    \n",
    "    \n",
    "    plt.subplot(1,2,2)\n",
    "    plt.scatter(x_list,y_list,c=\"g\")\n",
    "    plt.plot(x_list,y_list,c=\"g\")\n",
    "    plt.plot(x,function(x), c=\"r\")\n",
    "    plt.title(\"Gradient descent\")\n",
    "    plt.show()\n",
    "\n",
    "    plt.subplot(1,2,1)\n",
    "    plt.scatter(x_list,y_list,c=\"g\")\n",
    "    plt.plot(x_list,y_list,c=\"g\")\n",
    "    plt.plot(x,function(x), c=\"r\")\n",
    "    plt.xlim([1.0,2.1])\n",
    "    plt.title(\"Zoomed in Gradient descent\")\n",
    "    plt.show()\n",
    "    "
   ]
  },
  {
   "cell_type": "markdown",
   "metadata": {},
   "source": [
    "### Lets pass the parameters now\n"
   ]
  },
  {
   "cell_type": "code",
   "execution_count": 41,
   "metadata": {},
   "outputs": [
    {
     "name": "stdout",
     "output_type": "stream",
     "text": [
      "Local minimum occurs at: 1.9991404955442829\n",
      "Number of steps: 68\n"
     ]
    },
    {
     "data": {
      "image/png": "[encoded data removed]",
      "text/plain": [
       "<Figure size 432x288 with 1 Axes>"
      ]
     },
     "metadata": {
      "needs_background": "light"
     },
     "output_type": "display_data"
    },
    {
     "data": {
      "image/png": "[encoded data removed]",
      "text/plain": [
       "<Figure size 432x288 with 1 Axes>"
      ]
     },
     "metadata": {
      "needs_background": "light"
     },
     "output_type": "display_data"
    }
   ],
   "source": [
    "step(1,0,0.0001,0.05) \n",
    "\n",
    "## it is good to experiment with different learning rates to see how it affects the local minimum"
   ]
  },
  {
   "cell_type": "code",
   "execution_count": null,
   "metadata": {},
   "outputs": [],
   "source": []
  }
 ],
 "metadata": {
  "kernelspec": {
   "display_name": "Python 3",
   "language": "python",
   "name": "python3"
  },
  "language_info": {
   "codemirror_mode": {
    "name": "ipython",
    "version": 3
   },
   "file_extension": ".py",
   "mimetype": "text/x-python",
   "name": "python",
   "nbconvert_exporter": "python",
   "pygments_lexer": "ipython3",
   "version": "3.7.3"
  }
 },
 "nbformat": 4,
 "nbformat_minor": 2
}
